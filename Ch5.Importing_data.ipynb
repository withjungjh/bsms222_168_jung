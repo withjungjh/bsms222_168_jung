{
 "cells": [
  {
   "cell_type": "markdown",
   "metadata": {},
   "source": [
    "# Chapter 5 Importing data\n",
    "\n",
    "We have been using data sets already stored as R objects. A data scientist will rarely have such luck and will have to import data into R from either a file, a database, or other sources. Currently, one of the most common ways of storing and sharing data for analysis is through electronic spreadsheets. A spreadsheet stores data in rows and columns. It is basically a file version of a data frame. When saving such a table to a computer file, one needs a way to define when a new row or column ends and the other begins. This in turn defines the cells in which single values are stored.\n",
    "\n",
    "When creating spreadsheets with text files, like the ones created with a simple text editor, a new row is defined with return and columns are separated with some predefined special character. The most common characters are comma (`,`), semicolon (`;`), space ( ), and tab (a preset number of spaces or `\\t`). Here is an example of what a comma separated file looks like if we open it with a basic text editor:\n",
    "\n",
    "The first row contains column names rather than data. We call this a _header_ , and when we read-in data from a spreadsheet it is important to know if the file has a header or not. Most reading functions assume there is a header. To know if the file has a header, it helps to look at the file before trying to read it. This can be done with a text editor or with RStudio. In RStudio, we can do this by either opening the file in the editor or navigating to the file location, double clicking on the file, and hitting _View File_.\n",
    "\n",
    "We start this chapter by describing the difference between text (ASCII), Unicode, and binary files and how this affects how we import them. We then explain the concepts of file paths and working directories, which are essential to understand how to import data effectively. We then introduce the `readr` and `readxl` package and the functions that are available to import spreadsheets into R. Finally, we provide some recommendations on how to store and organize data in files. More complex challenges such as extracting data from web pages or PDF documents are left for the Data Wrangling part of the book.\n",
    "\n"
   ]
  },
  {
   "cell_type": "markdown",
   "metadata": {},
   "source": [
    "## 5.1 Paths and the working directory\n",
    "\n",
    "The first step when importing data from a spreadsheet is to locate the file containing the data. Although we do not recommend it, you can use an approach similar to what you do to open files in Microsoft Excel by clicking on the RStudio “File” menu, clicking “Import Dataset”, then clicking through folders until you find the file. We want to be able to write code rather than use the point-and-click approach. The keys and concepts we need to learn to do this are described in detail in the Productivity Tools part of this book. Here we provide an overview of the very basics.\n",
    "\n",
    "The main challenge in this first step is that we need to let the R functions doing the importing know where to look for the file containing the data. The simplest way to do this is to have a copy of the file in the folder in which the importing functions look by default. Once we do this, all we have to supply to the importing function is the filename.\n",
    "\n",
    "A spreadsheet containing the US murders data is included as part of the dslabs package. Finding this file is not straightforward, but the following lines of code copy the file to the folder in which R looks in by default. We explain how these lines work below."
   ]
  },
  {
   "cell_type": "code",
   "execution_count": 21,
   "metadata": {},
   "outputs": [
    {
     "data": {
      "text/html": [
       "FALSE"
      ],
      "text/latex": [
       "FALSE"
      ],
      "text/markdown": [
       "FALSE"
      ],
      "text/plain": [
       "[1] FALSE"
      ]
     },
     "metadata": {},
     "output_type": "display_data"
    }
   ],
   "source": [
    "filename <- \"murders.csv\"\n",
    "dir <- system.file(\"extdata\", package = \"dslabs\")\n",
    "fullpath <- file.path(dir, filename)\n",
    "file.copy(fullpath, \"murders.csv\")"
   ]
  },
  {
   "cell_type": "markdown",
   "metadata": {},
   "source": [
    "This code does not read the data into R, it just copies a file. But once the file is copied, we can import the data with a simple line of code. Here we use the `read_csv` function from the __readr__ package, which is part of the tidyverse."
   ]
  },
  {
   "cell_type": "code",
   "execution_count": 30,
   "metadata": {},
   "outputs": [
    {
     "name": "stderr",
     "output_type": "stream",
     "text": [
      "Parsed with column specification:\n",
      "cols(\n",
      "  state = \u001b[31mcol_character()\u001b[39m,\n",
      "  abb = \u001b[31mcol_character()\u001b[39m,\n",
      "  region = \u001b[31mcol_character()\u001b[39m,\n",
      "  population = \u001b[32mcol_double()\u001b[39m,\n",
      "  total = \u001b[32mcol_double()\u001b[39m\n",
      ")\n",
      "\n"
     ]
    }
   ],
   "source": [
    "library(tidyverse)\n",
    "dat <- read_csv(filename)"
   ]
  },
  {
   "cell_type": "markdown",
   "metadata": {},
   "source": [
    "The data is imported and stored in `dat`. The rest of this section defines some important concepts and provides an overview of how we write code that tells R how to find the files we want to import. Chapter 38 provides more details on this topic."
   ]
  },
  {
   "cell_type": "markdown",
   "metadata": {},
   "source": [
    "### 5.1.1 The filesystem\n",
    "\n",
    "You can think of your computer's filesystme as a series of nested folder, each containing other folders and files. Data scientists refer to folders as _directories_. We refer to the folder that contains all other folders as the _root directory_. We refer to the directory in which we are currently located as the _working directory_. The working directory therefore changes as you move through folders: think of it as your current location.\n",
    "\n",
    "\n",
    "\n",
    "\n"
   ]
  },
  {
   "cell_type": "markdown",
   "metadata": {},
   "source": [
    "### 5.1.2 Relative and full paths\n",
    "\n",
    "The _path_ of a file is a list of directory names that can be thought of as instructions on what folders to click on, and in what order, to find the file. If these instructions are for finding the file from the root directory we refer to it as the _full path_. If the instructions are for finding the file starting in the working directory we refer to it as a _relative path_. Section 38.3 provides more details on this topic.\n",
    "\n",
    "To see an example of a full path on your system type the following:\n",
    "\n"
   ]
  },
  {
   "cell_type": "code",
   "execution_count": 5,
   "metadata": {},
   "outputs": [
    {
     "data": {
      "text/html": [
       "'C:/Program Files/R/R-4.0.2/library/dslabs'"
      ],
      "text/latex": [
       "'C:/Program Files/R/R-4.0.2/library/dslabs'"
      ],
      "text/markdown": [
       "'C:/Program Files/R/R-4.0.2/library/dslabs'"
      ],
      "text/plain": [
       "[1] \"C:/Program Files/R/R-4.0.2/library/dslabs\""
      ]
     },
     "metadata": {},
     "output_type": "display_data"
    }
   ],
   "source": [
    "system.file(package = 'dslabs')"
   ]
  },
  {
   "cell_type": "markdown",
   "metadata": {},
   "source": [
    "The strings separated by slashes are the directory names. The first slash represents the root directory and we know this is a full path because it starts with a slash. If the first directory name appears without a slash in front, then the path is assumed to be relative. We can use the function `list.files` to see examples of relative paths."
   ]
  },
  {
   "cell_type": "code",
   "execution_count": 6,
   "metadata": {},
   "outputs": [
    {
     "data": {
      "text/html": [
       "<style>\n",
       ".list-inline {list-style: none; margin:0; padding: 0}\n",
       ".list-inline>li {display: inline-block}\n",
       ".list-inline>li:not(:last-child)::after {content: \"\\00b7\"; padding: 0 .5ex}\n",
       "</style>\n",
       "<ol class=list-inline><li>'data'</li><li>'DESCRIPTION'</li><li>'extdata'</li><li>'help'</li><li>'html'</li><li>'INDEX'</li><li>'MD5'</li><li>'Meta'</li><li>'NAMESPACE'</li><li>'R'</li><li>'script'</li></ol>\n"
      ],
      "text/latex": [
       "\\begin{enumerate*}\n",
       "\\item 'data'\n",
       "\\item 'DESCRIPTION'\n",
       "\\item 'extdata'\n",
       "\\item 'help'\n",
       "\\item 'html'\n",
       "\\item 'INDEX'\n",
       "\\item 'MD5'\n",
       "\\item 'Meta'\n",
       "\\item 'NAMESPACE'\n",
       "\\item 'R'\n",
       "\\item 'script'\n",
       "\\end{enumerate*}\n"
      ],
      "text/markdown": [
       "1. 'data'\n",
       "2. 'DESCRIPTION'\n",
       "3. 'extdata'\n",
       "4. 'help'\n",
       "5. 'html'\n",
       "6. 'INDEX'\n",
       "7. 'MD5'\n",
       "8. 'Meta'\n",
       "9. 'NAMESPACE'\n",
       "10. 'R'\n",
       "11. 'script'\n",
       "\n",
       "\n"
      ],
      "text/plain": [
       " [1] \"data\"        \"DESCRIPTION\" \"extdata\"     \"help\"        \"html\"       \n",
       " [6] \"INDEX\"       \"MD5\"         \"Meta\"        \"NAMESPACE\"   \"R\"          \n",
       "[11] \"script\"     "
      ]
     },
     "metadata": {},
     "output_type": "display_data"
    }
   ],
   "source": [
    "dir <- system.file(package = 'dslabs')\n",
    "list.files(path = dir)"
   ]
  },
  {
   "cell_type": "markdown",
   "metadata": {},
   "source": [
    "These relative paths give us the location of the files or directories if we start in the directory with the full path. For example, the full path to the `help` directory in the example above is `/Library/Frameworks/R.framework/Versions/3.5/Resources/library/dslabs/help`."
   ]
  },
  {
   "cell_type": "markdown",
   "metadata": {},
   "source": [
    "__Note__: You will probably not make much use of the `system.file` function in your day-to-day data analysis work. We introduce it in this section because it facilitates the sharing of spreadsheets by including them in the __dslabs__ package. You will rarely have the luxury of data being included in packages you already have installed. However, you will frequently need to navigate full and relative paths and import spreadsheet formatted data."
   ]
  },
  {
   "cell_type": "markdown",
   "metadata": {},
   "source": [
    "### 5.1.3 The working directory\n",
    "\n",
    "We highly recommend only writing relative paths in your code. The reason is that full paths are unique to your computer and you want your code to be portable. You can get the full path of your working directory without writing out explicitly by using the `getwd` function."
   ]
  },
  {
   "cell_type": "code",
   "execution_count": 7,
   "metadata": {},
   "outputs": [],
   "source": [
    "wd <- getwd()"
   ]
  },
  {
   "cell_type": "markdown",
   "metadata": {},
   "source": [
    "If you need to change your working directory, you can use the function `setwd` or you can change it through RStudio by clicking on \"Session\"."
   ]
  },
  {
   "cell_type": "markdown",
   "metadata": {},
   "source": [
    "### 5.1.4 Generating path names\n",
    "\n",
    "Another example of obtaining a full path without writing out explicitly was given above when we created the object `fullpath` like this:"
   ]
  },
  {
   "cell_type": "code",
   "execution_count": 8,
   "metadata": {},
   "outputs": [],
   "source": [
    "filename <- \"murders.csv\"\n",
    "dir <- system.file(\"extdata\", package = \"dslabs\")\n",
    "fullpath <- file.path(dir, filename)"
   ]
  },
  {
   "cell_type": "markdown",
   "metadata": {},
   "source": [
    "The function `system.file` provides the full path of the folder containing all the files and directories relevant to the package specified by the `package` argument. By exploring the directories in `dir` we find that the `extdata` contains the file we want:\n"
   ]
  },
  {
   "cell_type": "code",
   "execution_count": 9,
   "metadata": {},
   "outputs": [
    {
     "data": {
      "text/html": [
       "TRUE"
      ],
      "text/latex": [
       "TRUE"
      ],
      "text/markdown": [
       "TRUE"
      ],
      "text/plain": [
       "[1] TRUE"
      ]
     },
     "metadata": {},
     "output_type": "display_data"
    }
   ],
   "source": [
    "dir <- system.file(package = 'dslabs')\n",
    "filename %in% list.files(file.path(dir, 'extdata'))"
   ]
  },
  {
   "cell_type": "markdown",
   "metadata": {},
   "source": [
    "The `system.file` function permits us to provide a subdirectory as a first argument, so we can obtain the fullpath of the `extdata` directory like this:"
   ]
  },
  {
   "cell_type": "code",
   "execution_count": 10,
   "metadata": {},
   "outputs": [],
   "source": [
    "dir <- system.file(\"extdata\", package = \"dslabs\")"
   ]
  },
  {
   "cell_type": "markdown",
   "metadata": {},
   "source": [
    "The function `file.path` is used to combine directory names to produce the full path of the file we want to import."
   ]
  },
  {
   "cell_type": "code",
   "execution_count": 11,
   "metadata": {},
   "outputs": [],
   "source": [
    "fullpath <- file.path(dir, filename)"
   ]
  },
  {
   "cell_type": "markdown",
   "metadata": {},
   "source": [
    "### 5.1.5 Copying files using paths\n",
    "\n",
    "The final line of code we used to copy the file into our home directory used the function `file.copy`. This function takes two arguments: the file to copy and the name to give it in the new directory."
   ]
  },
  {
   "cell_type": "code",
   "execution_count": 12,
   "metadata": {},
   "outputs": [
    {
     "data": {
      "text/html": [
       "FALSE"
      ],
      "text/latex": [
       "FALSE"
      ],
      "text/markdown": [
       "FALSE"
      ],
      "text/plain": [
       "[1] FALSE"
      ]
     },
     "metadata": {},
     "output_type": "display_data"
    }
   ],
   "source": [
    "file.copy(fullpath, \"murders.csv\")"
   ]
  },
  {
   "cell_type": "markdown",
   "metadata": {},
   "source": [
    "\n",
    "If a file is copied successfully, the `file.copy` function returns `TRUE`. Note that we are giving the file the same name, `murders.csv`, but we could have named it anything. Also note that by not starting the string with a slash, R assumes this is a relative path and copies the file to the working directory.\n",
    "\n",
    "You should be able to see the file in your working directory and can check by using:"
   ]
  },
  {
   "cell_type": "code",
   "execution_count": 13,
   "metadata": {},
   "outputs": [
    {
     "data": {
      "text/html": [
       "<style>\n",
       ".list-inline {list-style: none; margin:0; padding: 0}\n",
       ".list-inline>li {display: inline-block}\n",
       ".list-inline>li:not(:last-child)::after {content: \"\\00b7\"; padding: 0 .5ex}\n",
       "</style>\n",
       "<ol class=list-inline><li>'09-21_class_practice.ipynb'</li><li>'09-23class.R'</li><li>'Assignment0_2018250168 정진환 .docx'</li><li>'Ch3.Programming'</li><li>'Ch3.Rmd'</li><li>'ch4.ipynb'</li><li>'Ch4_tidyverse.pdf'</li><li>'gencode.v35.basic.annotation.gtf.gz'</li><li>'murders.csv'</li><li>'table.chr3_22_X.txt.gz'</li><li>'Untitled.ipynb'</li></ol>\n"
      ],
      "text/latex": [
       "\\begin{enumerate*}\n",
       "\\item '09-21\\_class\\_practice.ipynb'\n",
       "\\item '09-23class.R'\n",
       "\\item 'Assignment0\\_2018250168 정진환 .docx'\n",
       "\\item 'Ch3.Programming'\n",
       "\\item 'Ch3.Rmd'\n",
       "\\item 'ch4.ipynb'\n",
       "\\item 'Ch4\\_tidyverse.pdf'\n",
       "\\item 'gencode.v35.basic.annotation.gtf.gz'\n",
       "\\item 'murders.csv'\n",
       "\\item 'table.chr3\\_22\\_X.txt.gz'\n",
       "\\item 'Untitled.ipynb'\n",
       "\\end{enumerate*}\n"
      ],
      "text/markdown": [
       "1. '09-21_class_practice.ipynb'\n",
       "2. '09-23class.R'\n",
       "3. 'Assignment0_2018250168 정진환 .docx'\n",
       "4. 'Ch3.Programming'\n",
       "5. 'Ch3.Rmd'\n",
       "6. 'ch4.ipynb'\n",
       "7. 'Ch4_tidyverse.pdf'\n",
       "8. 'gencode.v35.basic.annotation.gtf.gz'\n",
       "9. 'murders.csv'\n",
       "10. 'table.chr3_22_X.txt.gz'\n",
       "11. 'Untitled.ipynb'\n",
       "\n",
       "\n"
      ],
      "text/plain": [
       " [1] \"09-21_class_practice.ipynb\"          \"09-23class.R\"                       \n",
       " [3] \"Assignment0_2018250168 정진환 .docx\" \"Ch3.Programming\"                    \n",
       " [5] \"Ch3.Rmd\"                             \"ch4.ipynb\"                          \n",
       " [7] \"Ch4_tidyverse.pdf\"                   \"gencode.v35.basic.annotation.gtf.gz\"\n",
       " [9] \"murders.csv\"                         \"table.chr3_22_X.txt.gz\"             \n",
       "[11] \"Untitled.ipynb\"                     "
      ]
     },
     "metadata": {},
     "output_type": "display_data"
    }
   ],
   "source": [
    "list.files()"
   ]
  },
  {
   "cell_type": "markdown",
   "metadata": {},
   "source": [
    "## The readr and readxl packages\n",
    "\n",
    "In this section we introduce the main tidyverse data importing functions. We will use the `murders.csv` file provided by the __dslabs__ package as an example. To simplify the illustration we will copy the file to our working directory using the following code:"
   ]
  },
  {
   "cell_type": "code",
   "execution_count": null,
   "metadata": {},
   "outputs": [],
   "source": [
    "filename <- 'murders.csv'\n",
    "dir <- system.file(\"extdata\", package = \"dslabs\")\n",
    "fullpath <- file.path(dir, filename)\n",
    "file.copy(fullpath, \"murders.csv\")"
   ]
  },
  {
   "cell_type": "markdown",
   "metadata": {},
   "source": [
    "### 5.2.1 readr\n",
    "\n",
    "The __readr__ library includes functions for reading data stored in text file spreadsheets into R. __readr__ is part of the __tidyverse__ package, or you can load it directly:"
   ]
  },
  {
   "cell_type": "code",
   "execution_count": 15,
   "metadata": {},
   "outputs": [],
   "source": [
    "library(readr)"
   ]
  },
  {
   "cell_type": "markdown",
   "metadata": {},
   "source": [
    "The following functions are available to read-in spreadsheets:\n",
    "\n",
    "|Function|Format|Typical suffix|\n",
    "|:-------|:-----|:-------------|\n",
    "|read_table|white space separated values|txt|\n",
    "|read_csv|comma separated values|csv|\n",
    "|read_csv|semicolon separated values|csv|\n",
    "|read_tsv|tab delimited separated values|tsv|\n",
    "|read_delim|general text file format, must define delimiter|txt|\n",
    "\n",
    "Although the suffix usually tells us what type of file it is, there is no guarantee that these always match. We can open the file to take a look or use the function `read_lines` to look at a few lines:"
   ]
  },
  {
   "cell_type": "code",
   "execution_count": 16,
   "metadata": {},
   "outputs": [
    {
     "data": {
      "text/html": [
       "<style>\n",
       ".list-inline {list-style: none; margin:0; padding: 0}\n",
       ".list-inline>li {display: inline-block}\n",
       ".list-inline>li:not(:last-child)::after {content: \"\\00b7\"; padding: 0 .5ex}\n",
       "</style>\n",
       "<ol class=list-inline><li>'state,abb,region,population,total'</li><li>'Alabama,AL,South,4779736,135'</li><li>'Alaska,AK,West,710231,19'</li></ol>\n"
      ],
      "text/latex": [
       "\\begin{enumerate*}\n",
       "\\item 'state,abb,region,population,total'\n",
       "\\item 'Alabama,AL,South,4779736,135'\n",
       "\\item 'Alaska,AK,West,710231,19'\n",
       "\\end{enumerate*}\n"
      ],
      "text/markdown": [
       "1. 'state,abb,region,population,total'\n",
       "2. 'Alabama,AL,South,4779736,135'\n",
       "3. 'Alaska,AK,West,710231,19'\n",
       "\n",
       "\n"
      ],
      "text/plain": [
       "[1] \"state,abb,region,population,total\" \"Alabama,AL,South,4779736,135\"     \n",
       "[3] \"Alaska,AK,West,710231,19\"         "
      ]
     },
     "metadata": {},
     "output_type": "display_data"
    }
   ],
   "source": [
    "read_lines(\"murders.csv\",n_max = 3)"
   ]
  },
  {
   "cell_type": "markdown",
   "metadata": {},
   "source": [
    "This also shows that there is a header. Now we are ready to read-in the data into R. From the .csv suffix and the peek at the file, we know to use `read_csv`:"
   ]
  },
  {
   "cell_type": "code",
   "execution_count": 17,
   "metadata": {},
   "outputs": [
    {
     "name": "stderr",
     "output_type": "stream",
     "text": [
      "Parsed with column specification:\n",
      "cols(\n",
      "  state = \u001b[31mcol_character()\u001b[39m,\n",
      "  abb = \u001b[31mcol_character()\u001b[39m,\n",
      "  region = \u001b[31mcol_character()\u001b[39m,\n",
      "  population = \u001b[32mcol_double()\u001b[39m,\n",
      "  total = \u001b[32mcol_double()\u001b[39m\n",
      ")\n",
      "\n"
     ]
    }
   ],
   "source": [
    "dat <- read_csv(filename)"
   ]
  },
  {
   "cell_type": "markdown",
   "metadata": {},
   "source": [
    "Note that we receive a message letting us know what data types were used for each column. Also note that `dat` is a `tibble`, not just a data frame. This is because `read_csv` is a tidyverse parser. We can confirm that the data has in fact been read-in with:"
   ]
  },
  {
   "cell_type": "code",
   "execution_count": 18,
   "metadata": {},
   "outputs": [
    {
     "ename": "ERROR",
     "evalue": "Error in View(dat): 'View()' not yet supported in the Jupyter R kernel\n",
     "output_type": "error",
     "traceback": [
      "Error in View(dat): 'View()' not yet supported in the Jupyter R kernel\nTraceback:\n",
      "1. View(dat)",
      "2. stop(sQuote(\"View()\"), \" not yet supported in the Jupyter R kernel\")"
     ]
    }
   ],
   "source": [
    "View(dat)"
   ]
  },
  {
   "cell_type": "markdown",
   "metadata": {},
   "source": [
    "Finally, note that we can also use the full path for the file:"
   ]
  },
  {
   "cell_type": "code",
   "execution_count": 19,
   "metadata": {},
   "outputs": [
    {
     "name": "stderr",
     "output_type": "stream",
     "text": [
      "Parsed with column specification:\n",
      "cols(\n",
      "  state = \u001b[31mcol_character()\u001b[39m,\n",
      "  abb = \u001b[31mcol_character()\u001b[39m,\n",
      "  region = \u001b[31mcol_character()\u001b[39m,\n",
      "  population = \u001b[32mcol_double()\u001b[39m,\n",
      "  total = \u001b[32mcol_double()\u001b[39m\n",
      ")\n",
      "\n"
     ]
    }
   ],
   "source": [
    "dat <- read_csv(fullpath)"
   ]
  },
  {
   "cell_type": "markdown",
   "metadata": {},
   "source": [
    "### 5..2.2 readxl\n",
    "\n",
    "You can load the __readxl__ package using"
   ]
  },
  {
   "cell_type": "code",
   "execution_count": 20,
   "metadata": {},
   "outputs": [],
   "source": [
    "library(readxl)"
   ]
  },
  {
   "cell_type": "markdown",
   "metadata": {},
   "source": [
    "The package provides functions to read-in Microsoft Excel format:\n"
   ]
  },
  {
   "cell_type": "markdown",
   "metadata": {},
   "source": [
    "|Function|Format|Typical suffix|\n",
    "|:-|:-|:-|\n",
    "|read_excel|auto detect the format|xls, xlsx|\n",
    "|read_xls|original format|xls|\n",
    "|read_xlsx|new format|xlsx|"
   ]
  },
  {
   "cell_type": "markdown",
   "metadata": {},
   "source": [
    "The Microsoft Excel formats permit you to have more than one spreadsheet in one file. These are referred to as _sheets_. The functions listed above read the first sheet by default, but we can also read the others. The `excel_sheets` function gives us the names of all the sheets in an Excel file. These names can then be passed to the `sheet` argument in the three functions above to read sheets other than the first."
   ]
  },
  {
   "cell_type": "markdown",
   "metadata": {},
   "source": [
    "## 5.3 Exercises\n",
    "\n",
    "1. Use the `read_csv` function to read each of the files that the following code saves in the `files` object:"
   ]
  },
  {
   "cell_type": "code",
   "execution_count": 4,
   "metadata": {},
   "outputs": [
    {
     "data": {
      "text/html": [
       "<style>\n",
       ".list-inline {list-style: none; margin:0; padding: 0}\n",
       ".list-inline>li {display: inline-block}\n",
       ".list-inline>li:not(:last-child)::after {content: \"\\00b7\"; padding: 0 .5ex}\n",
       "</style>\n",
       "<ol class=list-inline><li>'2010_bigfive_regents.xls'</li><li>'carbon_emissions.csv'</li><li>'fertility-two-countries-example.csv'</li><li>'HRlist2.txt'</li><li>'life-expectancy-and-fertility-two-countries-example.csv'</li><li>'murders.csv'</li><li>'olive.csv'</li><li>'RD-Mortality-Report_2015-18-180531.pdf'</li><li>'ssa-death-probability.csv'</li></ol>\n"
      ],
      "text/latex": [
       "\\begin{enumerate*}\n",
       "\\item '2010\\_bigfive\\_regents.xls'\n",
       "\\item 'carbon\\_emissions.csv'\n",
       "\\item 'fertility-two-countries-example.csv'\n",
       "\\item 'HRlist2.txt'\n",
       "\\item 'life-expectancy-and-fertility-two-countries-example.csv'\n",
       "\\item 'murders.csv'\n",
       "\\item 'olive.csv'\n",
       "\\item 'RD-Mortality-Report\\_2015-18-180531.pdf'\n",
       "\\item 'ssa-death-probability.csv'\n",
       "\\end{enumerate*}\n"
      ],
      "text/markdown": [
       "1. '2010_bigfive_regents.xls'\n",
       "2. 'carbon_emissions.csv'\n",
       "3. 'fertility-two-countries-example.csv'\n",
       "4. 'HRlist2.txt'\n",
       "5. 'life-expectancy-and-fertility-two-countries-example.csv'\n",
       "6. 'murders.csv'\n",
       "7. 'olive.csv'\n",
       "8. 'RD-Mortality-Report_2015-18-180531.pdf'\n",
       "9. 'ssa-death-probability.csv'\n",
       "\n",
       "\n"
      ],
      "text/plain": [
       "[1] \"2010_bigfive_regents.xls\"                               \n",
       "[2] \"carbon_emissions.csv\"                                   \n",
       "[3] \"fertility-two-countries-example.csv\"                    \n",
       "[4] \"HRlist2.txt\"                                            \n",
       "[5] \"life-expectancy-and-fertility-two-countries-example.csv\"\n",
       "[6] \"murders.csv\"                                            \n",
       "[7] \"olive.csv\"                                              \n",
       "[8] \"RD-Mortality-Report_2015-18-180531.pdf\"                 \n",
       "[9] \"ssa-death-probability.csv\"                              "
      ]
     },
     "metadata": {},
     "output_type": "display_data"
    }
   ],
   "source": [
    "path <- system.file(\"extdata\", package = \"dslabs\")\n",
    "files <- list.files(path)\n",
    "files"
   ]
  },
  {
   "cell_type": "code",
   "execution_count": 5,
   "metadata": {},
   "outputs": [
    {
     "name": "stderr",
     "output_type": "stream",
     "text": [
      "Parsed with column specification:\n",
      "cols(\n",
      "  `<d0><cf>\u0011<U+0871>\u001a<e1>` = \u001b[31mcol_character()\u001b[39m\n",
      ")\n",
      "\n",
      "Warning message:\n",
      "\"159 parsing failures.\n",
      "row                          col  expected        actual                                                                         file\n",
      "  1 <d0><cf>\u0011<U+0871>\u001a<e1>           embedded null 'C:/Program Files/R/R-4.0.2/library/dslabs/extdata/2010_bigfive_regents.xls'\n",
      "  2 <d0><cf>\u0011<U+0871>\u001a<e1>           embedded null 'C:/Program Files/R/R-4.0.2/library/dslabs/extdata/2010_bigfive_regents.xls'\n",
      "  2 NA                           1 columns 3 columns     'C:/Program Files/R/R-4.0.2/library/dslabs/extdata/2010_bigfive_regents.xls'\n",
      "  3 <d0><cf>\u0011<U+0871>\u001a<e1>           embedded null 'C:/Program Files/R/R-4.0.2/library/dslabs/extdata/2010_bigfive_regents.xls'\n",
      "  3 NA                           1 columns 19 columns    'C:/Program Files/R/R-4.0.2/library/dslabs/extdata/2010_bigfive_regents.xls'\n",
      "... ............................ ......... ............. ............................................................................\n",
      "See problems(...) for more details.\n",
      "\"\n",
      "Parsed with column specification:\n",
      "cols(\n",
      "  Year = \u001b[32mcol_double()\u001b[39m,\n",
      "  `Total carbon emissions from fossil fuel consumption and cement production (million metric tons of C)` = \u001b[32mcol_double()\u001b[39m\n",
      ")\n",
      "\n",
      "Parsed with column specification:\n",
      "cols(\n",
      "  .default = col_double(),\n",
      "  country = \u001b[31mcol_character()\u001b[39m\n",
      ")\n",
      "\n",
      "See spec(...) for full column specifications.\n",
      "\n",
      "Parsed with column specification:\n",
      "cols(\n",
      "  `Sun 4.8 5840 G2` = \u001b[31mcol_character()\u001b[39m\n",
      ")\n",
      "\n",
      "Parsed with column specification:\n",
      "cols(\n",
      "  .default = col_double(),\n",
      "  country = \u001b[31mcol_character()\u001b[39m\n",
      ")\n",
      "\n",
      "See spec(...) for full column specifications.\n",
      "\n",
      "Parsed with column specification:\n",
      "cols(\n",
      "  state = \u001b[31mcol_character()\u001b[39m,\n",
      "  abb = \u001b[31mcol_character()\u001b[39m,\n",
      "  region = \u001b[31mcol_character()\u001b[39m,\n",
      "  population = \u001b[32mcol_double()\u001b[39m,\n",
      "  total = \u001b[32mcol_double()\u001b[39m\n",
      ")\n",
      "\n",
      "Warning message:\n",
      "\"Missing column names filled in: 'X1' [1]\"\n",
      "Parsed with column specification:\n",
      "cols(\n",
      "  X1 = \u001b[32mcol_double()\u001b[39m,\n",
      "  Region = \u001b[31mcol_character()\u001b[39m,\n",
      "  Area = \u001b[32mcol_double()\u001b[39m,\n",
      "  palmitic = \u001b[32mcol_double()\u001b[39m,\n",
      "  palmitoleic = \u001b[32mcol_double()\u001b[39m,\n",
      "  stearic = \u001b[32mcol_double()\u001b[39m,\n",
      "  oleic = \u001b[32mcol_double()\u001b[39m,\n",
      "  linoleic = \u001b[32mcol_double()\u001b[39m,\n",
      "  linolenic = \u001b[32mcol_double()\u001b[39m,\n",
      "  arachidic = \u001b[32mcol_double()\u001b[39m,\n",
      "  eicosenoic = \u001b[32mcol_double()\u001b[39m\n",
      ")\n",
      "\n",
      "Warning message:\n",
      "\"572 parsing failures.\n",
      "row col   expected     actual                                                          file\n",
      "  1  -- 11 columns 12 columns 'C:/Program Files/R/R-4.0.2/library/dslabs/extdata/olive.csv'\n",
      "  2  -- 11 columns 12 columns 'C:/Program Files/R/R-4.0.2/library/dslabs/extdata/olive.csv'\n",
      "  3  -- 11 columns 12 columns 'C:/Program Files/R/R-4.0.2/library/dslabs/extdata/olive.csv'\n",
      "  4  -- 11 columns 12 columns 'C:/Program Files/R/R-4.0.2/library/dslabs/extdata/olive.csv'\n",
      "  5  -- 11 columns 12 columns 'C:/Program Files/R/R-4.0.2/library/dslabs/extdata/olive.csv'\n",
      "... ... .......... .......... .............................................................\n",
      "See problems(...) for more details.\n",
      "\"\n",
      "Parsed with column specification:\n",
      "cols(\n",
      "  `%PDF-1.5` = \u001b[31mcol_character()\u001b[39m\n",
      ")\n",
      "\n",
      "Warning message:\n",
      "\"1726 parsing failures.\n",
      "row      col  expected        actual                                                                                       file\n",
      "  9 %PDF-1.5           embedded null 'C:/Program Files/R/R-4.0.2/library/dslabs/extdata/RD-Mortality-Report_2015-18-180531.pdf'\n",
      " 17 %PDF-1.5           embedded null 'C:/Program Files/R/R-4.0.2/library/dslabs/extdata/RD-Mortality-Report_2015-18-180531.pdf'\n",
      " 17 NA       1 columns 2 columns     'C:/Program Files/R/R-4.0.2/library/dslabs/extdata/RD-Mortality-Report_2015-18-180531.pdf'\n",
      " 21 NA       1 columns 2 columns     'C:/Program Files/R/R-4.0.2/library/dslabs/extdata/RD-Mortality-Report_2015-18-180531.pdf'\n",
      " 23 NA       1 columns 2 columns     'C:/Program Files/R/R-4.0.2/library/dslabs/extdata/RD-Mortality-Report_2015-18-180531.pdf'\n",
      "... ........ ......... ............. ..........................................................................................\n",
      "See problems(...) for more details.\n",
      "\"\n",
      "Parsed with column specification:\n",
      "cols(\n",
      "  Age = \u001b[32mcol_double()\u001b[39m,\n",
      "  Sex = \u001b[31mcol_character()\u001b[39m,\n",
      "  DeathProb = \u001b[32mcol_double()\u001b[39m,\n",
      "  NumberOfLives = \u001b[32mcol_number()\u001b[39m,\n",
      "  LifeExp = \u001b[32mcol_double()\u001b[39m\n",
      ")\n",
      "\n"
     ]
    }
   ],
   "source": [
    "for(i in files){\n",
    "    fullpath <- file.path(path, i)\n",
    "    read_csv(fullpath)\n",
    "}"
   ]
  },
  {
   "cell_type": "markdown",
   "metadata": {},
   "source": [
    "2. Note that the last one, the `olive` file, gives us a warning. This is because the first line of the file is missing the header for the first column.\n",
    "\n",
    "Read the help file for `read_csv` to figure out how to read in the file without reading this header. If you skip the header, you should not get this warning. Save the result to an object called `dat`."
   ]
  },
  {
   "cell_type": "code",
   "execution_count": 9,
   "metadata": {},
   "outputs": [
    {
     "name": "stderr",
     "output_type": "stream",
     "text": [
      "Parsed with column specification:\n",
      "cols(\n",
      "  X1 = \u001b[32mcol_double()\u001b[39m,\n",
      "  X2 = \u001b[31mcol_character()\u001b[39m,\n",
      "  X3 = \u001b[31mcol_character()\u001b[39m,\n",
      "  X4 = \u001b[31mcol_character()\u001b[39m,\n",
      "  X5 = \u001b[31mcol_character()\u001b[39m,\n",
      "  X6 = \u001b[31mcol_character()\u001b[39m,\n",
      "  X7 = \u001b[31mcol_character()\u001b[39m,\n",
      "  X8 = \u001b[31mcol_character()\u001b[39m,\n",
      "  X9 = \u001b[31mcol_character()\u001b[39m,\n",
      "  X10 = \u001b[31mcol_character()\u001b[39m,\n",
      "  X11 = \u001b[31mcol_character()\u001b[39m\n",
      ")\n",
      "\n",
      "Warning message:\n",
      "\"572 parsing failures.\n",
      "row col   expected     actual                                                          file\n",
      "  2  -- 11 columns 12 columns 'C:/Program Files/R/R-4.0.2/library/dslabs/extdata/olive.csv'\n",
      "  3  -- 11 columns 12 columns 'C:/Program Files/R/R-4.0.2/library/dslabs/extdata/olive.csv'\n",
      "  4  -- 11 columns 12 columns 'C:/Program Files/R/R-4.0.2/library/dslabs/extdata/olive.csv'\n",
      "  5  -- 11 columns 12 columns 'C:/Program Files/R/R-4.0.2/library/dslabs/extdata/olive.csv'\n",
      "  6  -- 11 columns 12 columns 'C:/Program Files/R/R-4.0.2/library/dslabs/extdata/olive.csv'\n",
      "... ... .......... .......... .............................................................\n",
      "See problems(...) for more details.\n",
      "\"\n"
     ]
    }
   ],
   "source": [
    "filename <- \"olive.csv\"\n",
    "fullpath <- file.path(path, filename)\n",
    "dat <- read_csv(fullpath, col_names = FALSE)"
   ]
  },
  {
   "cell_type": "markdown",
   "metadata": {},
   "source": [
    "3. A problem with the previous approach is that we don’t know what the columns represent. Type:"
   ]
  },
  {
   "cell_type": "code",
   "execution_count": 10,
   "metadata": {},
   "outputs": [
    {
     "data": {
      "text/html": [
       "<style>\n",
       ".list-inline {list-style: none; margin:0; padding: 0}\n",
       ".list-inline>li {display: inline-block}\n",
       ".list-inline>li:not(:last-child)::after {content: \"\\00b7\"; padding: 0 .5ex}\n",
       "</style>\n",
       "<ol class=list-inline><li>'X1'</li><li>'X2'</li><li>'X3'</li><li>'X4'</li><li>'X5'</li><li>'X6'</li><li>'X7'</li><li>'X8'</li><li>'X9'</li><li>'X10'</li><li>'X11'</li></ol>\n"
      ],
      "text/latex": [
       "\\begin{enumerate*}\n",
       "\\item 'X1'\n",
       "\\item 'X2'\n",
       "\\item 'X3'\n",
       "\\item 'X4'\n",
       "\\item 'X5'\n",
       "\\item 'X6'\n",
       "\\item 'X7'\n",
       "\\item 'X8'\n",
       "\\item 'X9'\n",
       "\\item 'X10'\n",
       "\\item 'X11'\n",
       "\\end{enumerate*}\n"
      ],
      "text/markdown": [
       "1. 'X1'\n",
       "2. 'X2'\n",
       "3. 'X3'\n",
       "4. 'X4'\n",
       "5. 'X5'\n",
       "6. 'X6'\n",
       "7. 'X7'\n",
       "8. 'X8'\n",
       "9. 'X9'\n",
       "10. 'X10'\n",
       "11. 'X11'\n",
       "\n",
       "\n"
      ],
      "text/plain": [
       " [1] \"X1\"  \"X2\"  \"X3\"  \"X4\"  \"X5\"  \"X6\"  \"X7\"  \"X8\"  \"X9\"  \"X10\" \"X11\""
      ]
     },
     "metadata": {},
     "output_type": "display_data"
    }
   ],
   "source": [
    "names(dat)"
   ]
  },
  {
   "cell_type": "markdown",
   "metadata": {},
   "source": [
    "to see that the names are not infomative.\n",
    "\n",
    "Use the `readLines` function to read in just the first line (we later learn how to extract values from the output)."
   ]
  },
  {
   "cell_type": "code",
   "execution_count": 12,
   "metadata": {},
   "outputs": [
    {
     "data": {
      "text/html": [
       "',Region,Area,palmitic,palmitoleic,stearic,oleic,linoleic,linolenic,arachidic,eicosenoic'"
      ],
      "text/latex": [
       "',Region,Area,palmitic,palmitoleic,stearic,oleic,linoleic,linolenic,arachidic,eicosenoic'"
      ],
      "text/markdown": [
       "',Region,Area,palmitic,palmitoleic,stearic,oleic,linoleic,linolenic,arachidic,eicosenoic'"
      ],
      "text/plain": [
       "[1] \",Region,Area,palmitic,palmitoleic,stearic,oleic,linoleic,linolenic,arachidic,eicosenoic\""
      ]
     },
     "metadata": {},
     "output_type": "display_data"
    }
   ],
   "source": [
    "read_lines(fullpath, n_max = 1)"
   ]
  },
  {
   "cell_type": "markdown",
   "metadata": {},
   "source": [
    "## 5.4 Downloading files\n",
    "\n",
    "Another common place for data to reside is on the internet. When these data are in files, we can download them and then import them or even read them directly from the web. For example, we note that because our dslabs package is on GitHub, the file we downloaded with the package has a url:"
   ]
  },
  {
   "cell_type": "code",
   "execution_count": 13,
   "metadata": {},
   "outputs": [],
   "source": [
    "url <- \"https://raw.githubusercontent.com/rafalab/dslabs/master/inst/\n",
    "extdata/murders.csv\""
   ]
  },
  {
   "cell_type": "markdown",
   "metadata": {},
   "source": [
    "The `read_csv` file can read these files directly:"
   ]
  },
  {
   "cell_type": "code",
   "execution_count": 14,
   "metadata": {},
   "outputs": [],
   "source": [
    "dat <- read_csv(url)"
   ]
  },
  {
   "cell_type": "markdown",
   "metadata": {},
   "source": [
    "If you want to have a local copy of the file, you can use the `download.file` function:"
   ]
  },
  {
   "cell_type": "code",
   "execution_count": 15,
   "metadata": {},
   "outputs": [],
   "source": [
    "download.file(url, \"murders.csv\")"
   ]
  },
  {
   "cell_type": "markdown",
   "metadata": {},
   "source": [
    "This will download the file and save it on your system with the name `murders.csv`. You can use any name here, no necessarily `murders.csv`. Note that when using `download.file` you should be careful as __it will overwrite existing files without warning__.\n",
    "\n",
    "Two functions that are sometimes useful when downloading data from the internet are `tempdir` and `tempfile`. The first creates a directory with a random name that is very likely to be unique. Similarly, `tempfile` creates a character string, not a file, that is likely to be a unique filename. So you can run a command like this which erases the temporary file once it imports the data:"
   ]
  },
  {
   "cell_type": "code",
   "execution_count": 17,
   "metadata": {},
   "outputs": [
    {
     "name": "stderr",
     "output_type": "stream",
     "text": [
      "Parsed with column specification:\n",
      "cols(\n",
      "  state = \u001b[31mcol_character()\u001b[39m,\n",
      "  abb = \u001b[31mcol_character()\u001b[39m,\n",
      "  region = \u001b[31mcol_character()\u001b[39m,\n",
      "  population = \u001b[32mcol_double()\u001b[39m,\n",
      "  total = \u001b[32mcol_double()\u001b[39m\n",
      ")\n",
      "\n"
     ]
    },
    {
     "data": {
      "text/html": [
       "TRUE"
      ],
      "text/latex": [
       "TRUE"
      ],
      "text/markdown": [
       "TRUE"
      ],
      "text/plain": [
       "[1] TRUE"
      ]
     },
     "metadata": {},
     "output_type": "display_data"
    }
   ],
   "source": [
    "tmp_filename <- tempfile()\n",
    "download.file(url, tmp_filename)\n",
    "dat <- read_csv(tmp_filename)\n",
    "file.remove(tmp_filename)"
   ]
  },
  {
   "cell_type": "markdown",
   "metadata": {},
   "source": [
    "## R-base importing functions\n",
    "\n",
    "R-base also provides import functions. These have similar names to those in the __tidyverse__, for example `read.table`, `read.csv` and `read.delim`. However, there are a couple of important differences. To show this we read-in the data with an R-base function:"
   ]
  },
  {
   "cell_type": "code",
   "execution_count": 22,
   "metadata": {},
   "outputs": [],
   "source": [
    "dat2 <- read.csv(filename)"
   ]
  },
  {
   "cell_type": "markdown",
   "metadata": {},
   "source": [
    "An important difference is that the characters are converted to factors: (__In updated R verson 4.0.2, there is no such a problem__)"
   ]
  },
  {
   "cell_type": "code",
   "execution_count": null,
   "metadata": {},
   "outputs": [],
   "source": []
  },
  {
   "cell_type": "code",
   "execution_count": 24,
   "metadata": {},
   "outputs": [
    {
     "name": "stdout",
     "output_type": "stream",
     "text": [
      "'data.frame':\t51 obs. of  5 variables:\n",
      " $ state     : chr  \"Alabama\" \"Alaska\" \"Arizona\" \"Arkansas\" ...\n",
      " $ abb       : chr  \"AL\" \"AK\" \"AZ\" \"AR\" ...\n",
      " $ region    : chr  \"South\" \"West\" \"West\" \"South\" ...\n",
      " $ population: int  4779736 710231 6392017 2915918 37253956 5029196 3574097 897934 601723 19687653 ...\n",
      " $ total     : int  135 19 232 93 1257 65 97 38 99 669 ...\n"
     ]
    }
   ],
   "source": [
    "str(dat2)"
   ]
  },
  {
   "cell_type": "markdown",
   "metadata": {},
   "source": [
    "This can be avoided by setting the argument `stringAsFactors` to `FALSE`."
   ]
  },
  {
   "cell_type": "code",
   "execution_count": 27,
   "metadata": {},
   "outputs": [
    {
     "name": "stdout",
     "output_type": "stream",
     "text": [
      "'data.frame':\t51 obs. of  5 variables:\n",
      " $ state     : chr  \"Alabama\" \"Alaska\" \"Arizona\" \"Arkansas\" ...\n",
      " $ abb       : chr  \"AL\" \"AK\" \"AZ\" \"AR\" ...\n",
      " $ region    : chr  \"South\" \"West\" \"West\" \"South\" ...\n",
      " $ population: int  4779736 710231 6392017 2915918 37253956 5029196 3574097 897934 601723 19687653 ...\n",
      " $ total     : int  135 19 232 93 1257 65 97 38 99 669 ...\n"
     ]
    }
   ],
   "source": [
    "dat <- read.csv(\"murders.csv\", stringsAsFactors = FALSE)\n",
    "str(dat)"
   ]
  },
  {
   "cell_type": "markdown",
   "metadata": {},
   "source": [
    "In our experience this can be a cause for confusion since a variable that was saved as characters in file is converted to factors regardless of what the variable represents. In fact, we __highly__ recommend setting `stringsAsFactors=FALSE` to be your default approach when using the R-base parsers. You can easily convert the desired columns to factors after importing data."
   ]
  },
  {
   "cell_type": "markdown",
   "metadata": {},
   "source": [
    "### 5.5.1 `scan`\n",
    "\n",
    "When reading in spreadsheets many things can go wrong. The file might have a multiline header, be missing cells, or it might use an unexpected encoding17. We recommend you read this post about common issues found here: https://www.joelonsoftware.com/2003/10/08/the-absolute-minimum-every-software-developer-absolutely-positively-must-know-about-unicode-and-character-sets-no-excuses/.\n",
    "\n",
    "With experience you will learn how to deal with different challenges. Carefully reading the help files for the functions discussed here will be useful. With scan you can read-in each cell of a file. Here is an example:"
   ]
  },
  {
   "cell_type": "code",
   "execution_count": 29,
   "metadata": {},
   "outputs": [
    {
     "data": {
      "text/html": [
       "<style>\n",
       ".list-inline {list-style: none; margin:0; padding: 0}\n",
       ".list-inline>li {display: inline-block}\n",
       ".list-inline>li:not(:last-child)::after {content: \"\\00b7\"; padding: 0 .5ex}\n",
       "</style>\n",
       "<ol class=list-inline><li>'state'</li><li>'abb'</li><li>'region'</li><li>'population'</li><li>'total'</li><li>'Alabama'</li><li>'AL'</li><li>'South'</li><li>'4779736'</li><li>'135'</li></ol>\n"
      ],
      "text/latex": [
       "\\begin{enumerate*}\n",
       "\\item 'state'\n",
       "\\item 'abb'\n",
       "\\item 'region'\n",
       "\\item 'population'\n",
       "\\item 'total'\n",
       "\\item 'Alabama'\n",
       "\\item 'AL'\n",
       "\\item 'South'\n",
       "\\item '4779736'\n",
       "\\item '135'\n",
       "\\end{enumerate*}\n"
      ],
      "text/markdown": [
       "1. 'state'\n",
       "2. 'abb'\n",
       "3. 'region'\n",
       "4. 'population'\n",
       "5. 'total'\n",
       "6. 'Alabama'\n",
       "7. 'AL'\n",
       "8. 'South'\n",
       "9. '4779736'\n",
       "10. '135'\n",
       "\n",
       "\n"
      ],
      "text/plain": [
       " [1] \"state\"      \"abb\"        \"region\"     \"population\" \"total\"     \n",
       " [6] \"Alabama\"    \"AL\"         \"South\"      \"4779736\"    \"135\"       "
      ]
     },
     "metadata": {},
     "output_type": "display_data"
    }
   ],
   "source": [
    "path <- system.file(\"extdata\", package = \"dslabs\")\n",
    "filename <- \"murders.csv\"\n",
    "x <- scan(file.path(path, filename), sep=\",\", what = \"c\")\n",
    "x[1:10]"
   ]
  },
  {
   "cell_type": "markdown",
   "metadata": {},
   "source": [
    "Note that the tidyverse provides `read_lines`, a similarly useful function."
   ]
  },
  {
   "cell_type": "markdown",
   "metadata": {},
   "source": [
    "## 5.6 Text versus binary files\n",
    "\n",
    "For data science purposes, files can generally be classified into two categories: text files (also known as ASCII files) and binary files. You have already worked with text files. All your R scripts are text files and so are the R markdown files used to create this book. The csv tables you have read are also text files. One big advantage of these files is that we can easily “look” at them without having to purchase any kind of special software or follow complicated instructions. Any text editor can be used to examine a text file, including freely available editors such as RStudio, Notepad, textEdit, vi, emacs, nano, and pico. To see this, try opening a csv file using the “Open file” RStudio tool. You should be able to see the content right on your editor. However, if you try to open, say, an Excel xls file, jpg or png file, you will not be able to see anything immediately useful. These are binary files. Excel files are actually compressed folders with several text files inside. But the main distinction here is that text files can be easily examined.\n",
    "\n",
    "Although R includes tools for reading widely used binary files, such as xls files, in general you will want to find data sets stored in text files. Similarly, when sharing data you want to make it available as text files as long as storage is not an issue (binary files are much more efficient at saving space on your disk). In general, plain-text formats make it easier to share data since commercial software is not required for working with the data.\n",
    "\n",
    "Extracting data from a spreadsheet stored as a text file is perhaps the easiest way to bring data from a file to an R session. Unfortunately, spreadsheets are not always available and the fact that you can look at text files does not necessarily imply that extracting data from them will be straightforward. In the Data Wrangling part of the book we learn to extract data from more complex text files such as html files."
   ]
  },
  {
   "cell_type": "markdown",
   "metadata": {},
   "source": [
    "## 5.7 Unicode versus ASCII\n",
    "\n",
    "A pitfall in data science is assuming a file is an ASCII text file when, in fact, it is something else that can look a lot like an ASCII text file: a Unicode text file.\n",
    "\n",
    "To understand the difference between these, remember that everything on a computer needs to eventually be converted to 0s and 1s. ASCII is an _encoding_ that maps characters to numbers. ASCII uses 7 bits (0s and 1s) which results in  $2^7 = 128$ unique items, enough to encode all the characters on an English language keyboard. However, other languages use characters not included in this encoding. For example, the é in México is not encoded by ASCII. For this reason, a new encoding, using more than 7 bits, was defined: Unicode. When using Unicode, one can chose between 8, 16, and 32 bits abbreviated UTF-8, UTF-16, and UTF-32 respectively. RStudio actually defaults to UTF-8 encoding.\n",
    "\n",
    "Although we do not go into the details of how to deal with the different encodings here, it is important that you know these different encodings exist so that you can better diagnose a problem if you encounter it. One way problems manifest themselves is when you see “weird looking” characters you were not expecting. This StackOverflow discussion is an example: https://stackoverflow.com/questions/18789330/r-on-windows-character-encoding-hell."
   ]
  },
  {
   "cell_type": "markdown",
   "metadata": {},
   "source": [
    "## 5.8 Organizing data with spreadsheets\n",
    "\n",
    "Although this book focuses almost exclusively on data analysis, data management is also an important part of data science. As explained in the introduction, we do not cover this topic. However, quite often data analysts needs to collect data, or work with others collecting data, in a way that is most conveniently stored in a spreadsheet. Although filling out a spreadsheet by hand is a practice we highly discourage, we instead recommend the process be automatized as much as possible, sometimes you just have to do it. Therefore, in this section, we provide recommendations on how to organize data in a spreadsheet. Although there are R packages designed to read Microsoft Excel spreadsheets, we generally want to avoid this format. Instead, we recommend Google Sheets as a free software tool. Below we summarize the recommendations made in paper by Karl Broman and Woo. Please read the paper for important details."
   ]
  },
  {
   "cell_type": "markdown",
   "metadata": {},
   "source": [
    "* __Be consistent__ - Before you commence entering data, have a plan. Once you have a plan, be consistent and stick to it\n",
    "\n",
    "* __Choose Good Names for Things__ - You want the names you pick for objects, files, and directories to be memorable, easy to spell, and descriptive. This is actually a hard balance to achieve and it does require time and thought. One important rule to follow is __do not use spaces__, use underscores `_` or dashes instead `-`. Also, avoid symbols; stick to letters and numbers.\n",
    "\n",
    "* __Write Datas as YYYY-MM-DD__ - To avoid confunsion, we strongly recommend using this global ISO 8601 standard.\n",
    "\n",
    "* __No Empty Cells__ - Fill in all cells and use some common code for missing data.\n",
    "\n",
    "* __Put Just One Thing in a Cell__ - It is better to add columns to store the extra information rather than having more tahn one piece of information in one cell.\n",
    "\n",
    "* __Make It a Rectangle__ - The spreadsheet should be a rectangle.\n",
    "\n",
    "* __Create a Data Dictionary__ - If you need to explain things, such as what the columns are or what the labels used for categorical variables are, do this in a seperate file.\n",
    "\n",
    "* __No Calculations in the Raw Data Files__ - Excel permits you to perform calulations. Do not make this part of your spreadsheet. Code for calculations should be in a script.\n",
    "\n",
    "* __Do Not Use Font Color or Highlighting as Data__ - Most import functions are not able to import this information. Encode this information as a variable instead.\n",
    "\n",
    "* __Make Backups__ - Make regular backups of your data.\n",
    "\n",
    "* __Use Data Validation to Avoid Error__ - Leverage the tools in your spreadsheet software so that the process is as error-free and repetitive-stree-injury-free as possible.\n",
    "\n",
    "* __Save the Data as Text Files__ - Save files for sharing in comma or tab delimited format."
   ]
  },
  {
   "cell_type": "markdown",
   "metadata": {},
   "source": [
    "## 5.9 Exercises\n",
    "\n",
    "1. Pick a measurement you can take on a regular basis. For example, your daily weight or how long it takes you to run 5 miles. Keep a spreadsheet that includes the date, the hour, the measurement, and any other informative variable you think is worth keeping. Do this for 2 weeks. Then make a plot."
   ]
  },
  {
   "cell_type": "code",
   "execution_count": 50,
   "metadata": {},
   "outputs": [
    {
     "data": {
      "text/html": [
       "<style>\n",
       ".list-inline {list-style: none; margin:0; padding: 0}\n",
       ".list-inline>li {display: inline-block}\n",
       ".list-inline>li:not(:last-child)::after {content: \"\\00b7\"; padding: 0 .5ex}\n",
       "</style>\n",
       "<ol class=list-inline><li>'date,good,soso,bad'</li><li>'2020.9.11,9.25,0,8.75'</li><li>'2020.9.12,13.75,1,2.5'</li><li>'2020.9.13,4.25,1,7.5'</li><li>'2020.9.14,9.75,1.75,6.25'</li><li>'2020.9.15,3.25,1,12.5'</li><li>'2020.9.16,11,1,7'</li><li>'2020.9.17,11,2.75,3.75'</li><li>'2020.9.18,8.5,1,4.25'</li><li>'2020.9.19,7.25,2.25,7'</li></ol>\n"
      ],
      "text/latex": [
       "\\begin{enumerate*}\n",
       "\\item 'date,good,soso,bad'\n",
       "\\item '2020.9.11,9.25,0,8.75'\n",
       "\\item '2020.9.12,13.75,1,2.5'\n",
       "\\item '2020.9.13,4.25,1,7.5'\n",
       "\\item '2020.9.14,9.75,1.75,6.25'\n",
       "\\item '2020.9.15,3.25,1,12.5'\n",
       "\\item '2020.9.16,11,1,7'\n",
       "\\item '2020.9.17,11,2.75,3.75'\n",
       "\\item '2020.9.18,8.5,1,4.25'\n",
       "\\item '2020.9.19,7.25,2.25,7'\n",
       "\\end{enumerate*}\n"
      ],
      "text/markdown": [
       "1. 'date,good,soso,bad'\n",
       "2. '2020.9.11,9.25,0,8.75'\n",
       "3. '2020.9.12,13.75,1,2.5'\n",
       "4. '2020.9.13,4.25,1,7.5'\n",
       "5. '2020.9.14,9.75,1.75,6.25'\n",
       "6. '2020.9.15,3.25,1,12.5'\n",
       "7. '2020.9.16,11,1,7'\n",
       "8. '2020.9.17,11,2.75,3.75'\n",
       "9. '2020.9.18,8.5,1,4.25'\n",
       "10. '2020.9.19,7.25,2.25,7'\n",
       "\n",
       "\n"
      ],
      "text/plain": [
       " [1] \"date,good,soso,bad\"       \"2020.9.11,9.25,0,8.75\"   \n",
       " [3] \"2020.9.12,13.75,1,2.5\"    \"2020.9.13,4.25,1,7.5\"    \n",
       " [5] \"2020.9.14,9.75,1.75,6.25\" \"2020.9.15,3.25,1,12.5\"   \n",
       " [7] \"2020.9.16,11,1,7\"         \"2020.9.17,11,2.75,3.75\"  \n",
       " [9] \"2020.9.18,8.5,1,4.25\"     \"2020.9.19,7.25,2.25,7\"   "
      ]
     },
     "metadata": {},
     "output_type": "display_data"
    },
    {
     "name": "stderr",
     "output_type": "stream",
     "text": [
      "Parsed with column specification:\n",
      "cols(\n",
      "  date = \u001b[31mcol_character()\u001b[39m,\n",
      "  good = \u001b[32mcol_double()\u001b[39m,\n",
      "  soso = \u001b[32mcol_double()\u001b[39m,\n",
      "  bad = \u001b[32mcol_double()\u001b[39m\n",
      ")\n",
      "\n"
     ]
    },
    {
     "data": {
      "text/html": [
       "<table>\n",
       "<caption>A spec_tbl_df: 14 × 5</caption>\n",
       "<thead>\n",
       "\t<tr><th scope=col>date</th><th scope=col>good</th><th scope=col>soso</th><th scope=col>bad</th><th scope=col>per_good</th></tr>\n",
       "\t<tr><th scope=col>&lt;chr&gt;</th><th scope=col>&lt;dbl&gt;</th><th scope=col>&lt;dbl&gt;</th><th scope=col>&lt;dbl&gt;</th><th scope=col>&lt;dbl&gt;</th></tr>\n",
       "</thead>\n",
       "<tbody>\n",
       "\t<tr><td>2020.9.11</td><td> 9.25</td><td>0.00</td><td> 8.75</td><td>51.38889</td></tr>\n",
       "\t<tr><td>2020.9.12</td><td>13.75</td><td>1.00</td><td> 2.50</td><td>79.71014</td></tr>\n",
       "\t<tr><td>2020.9.13</td><td> 4.25</td><td>1.00</td><td> 7.50</td><td>33.33333</td></tr>\n",
       "\t<tr><td>2020.9.14</td><td> 9.75</td><td>1.75</td><td> 6.25</td><td>54.92958</td></tr>\n",
       "\t<tr><td>2020.9.15</td><td> 3.25</td><td>1.00</td><td>12.50</td><td>19.40299</td></tr>\n",
       "\t<tr><td>2020.9.16</td><td>11.00</td><td>1.00</td><td> 7.00</td><td>57.89474</td></tr>\n",
       "\t<tr><td>2020.9.17</td><td>11.00</td><td>2.75</td><td> 3.75</td><td>62.85714</td></tr>\n",
       "\t<tr><td>2020.9.18</td><td> 8.50</td><td>1.00</td><td> 4.25</td><td>61.81818</td></tr>\n",
       "\t<tr><td>2020.9.19</td><td> 7.25</td><td>2.25</td><td> 7.00</td><td>43.93939</td></tr>\n",
       "\t<tr><td>2020.9.20</td><td> 7.50</td><td>0.75</td><td> 8.00</td><td>46.15385</td></tr>\n",
       "\t<tr><td>2020.9.21</td><td>16.00</td><td>0.75</td><td> 0.00</td><td>95.52239</td></tr>\n",
       "\t<tr><td>2020.9.22</td><td>13.50</td><td>2.50</td><td> 1.50</td><td>77.14286</td></tr>\n",
       "\t<tr><td>2020.9.23</td><td>11.25</td><td>3.00</td><td> 3.50</td><td>63.38028</td></tr>\n",
       "\t<tr><td>2020.9.24</td><td> 4.75</td><td>2.25</td><td> 9.50</td><td>28.78788</td></tr>\n",
       "</tbody>\n",
       "</table>\n"
      ],
      "text/latex": [
       "A spec\\_tbl\\_df: 14 × 5\n",
       "\\begin{tabular}{lllll}\n",
       " date & good & soso & bad & per\\_good\\\\\n",
       " <chr> & <dbl> & <dbl> & <dbl> & <dbl>\\\\\n",
       "\\hline\n",
       "\t 2020.9.11 &  9.25 & 0.00 &  8.75 & 51.38889\\\\\n",
       "\t 2020.9.12 & 13.75 & 1.00 &  2.50 & 79.71014\\\\\n",
       "\t 2020.9.13 &  4.25 & 1.00 &  7.50 & 33.33333\\\\\n",
       "\t 2020.9.14 &  9.75 & 1.75 &  6.25 & 54.92958\\\\\n",
       "\t 2020.9.15 &  3.25 & 1.00 & 12.50 & 19.40299\\\\\n",
       "\t 2020.9.16 & 11.00 & 1.00 &  7.00 & 57.89474\\\\\n",
       "\t 2020.9.17 & 11.00 & 2.75 &  3.75 & 62.85714\\\\\n",
       "\t 2020.9.18 &  8.50 & 1.00 &  4.25 & 61.81818\\\\\n",
       "\t 2020.9.19 &  7.25 & 2.25 &  7.00 & 43.93939\\\\\n",
       "\t 2020.9.20 &  7.50 & 0.75 &  8.00 & 46.15385\\\\\n",
       "\t 2020.9.21 & 16.00 & 0.75 &  0.00 & 95.52239\\\\\n",
       "\t 2020.9.22 & 13.50 & 2.50 &  1.50 & 77.14286\\\\\n",
       "\t 2020.9.23 & 11.25 & 3.00 &  3.50 & 63.38028\\\\\n",
       "\t 2020.9.24 &  4.75 & 2.25 &  9.50 & 28.78788\\\\\n",
       "\\end{tabular}\n"
      ],
      "text/markdown": [
       "\n",
       "A spec_tbl_df: 14 × 5\n",
       "\n",
       "| date &lt;chr&gt; | good &lt;dbl&gt; | soso &lt;dbl&gt; | bad &lt;dbl&gt; | per_good &lt;dbl&gt; |\n",
       "|---|---|---|---|---|\n",
       "| 2020.9.11 |  9.25 | 0.00 |  8.75 | 51.38889 |\n",
       "| 2020.9.12 | 13.75 | 1.00 |  2.50 | 79.71014 |\n",
       "| 2020.9.13 |  4.25 | 1.00 |  7.50 | 33.33333 |\n",
       "| 2020.9.14 |  9.75 | 1.75 |  6.25 | 54.92958 |\n",
       "| 2020.9.15 |  3.25 | 1.00 | 12.50 | 19.40299 |\n",
       "| 2020.9.16 | 11.00 | 1.00 |  7.00 | 57.89474 |\n",
       "| 2020.9.17 | 11.00 | 2.75 |  3.75 | 62.85714 |\n",
       "| 2020.9.18 |  8.50 | 1.00 |  4.25 | 61.81818 |\n",
       "| 2020.9.19 |  7.25 | 2.25 |  7.00 | 43.93939 |\n",
       "| 2020.9.20 |  7.50 | 0.75 |  8.00 | 46.15385 |\n",
       "| 2020.9.21 | 16.00 | 0.75 |  0.00 | 95.52239 |\n",
       "| 2020.9.22 | 13.50 | 2.50 |  1.50 | 77.14286 |\n",
       "| 2020.9.23 | 11.25 | 3.00 |  3.50 | 63.38028 |\n",
       "| 2020.9.24 |  4.75 | 2.25 |  9.50 | 28.78788 |\n",
       "\n"
      ],
      "text/plain": [
       "   date      good  soso bad   per_good\n",
       "1  2020.9.11  9.25 0.00  8.75 51.38889\n",
       "2  2020.9.12 13.75 1.00  2.50 79.71014\n",
       "3  2020.9.13  4.25 1.00  7.50 33.33333\n",
       "4  2020.9.14  9.75 1.75  6.25 54.92958\n",
       "5  2020.9.15  3.25 1.00 12.50 19.40299\n",
       "6  2020.9.16 11.00 1.00  7.00 57.89474\n",
       "7  2020.9.17 11.00 2.75  3.75 62.85714\n",
       "8  2020.9.18  8.50 1.00  4.25 61.81818\n",
       "9  2020.9.19  7.25 2.25  7.00 43.93939\n",
       "10 2020.9.20  7.50 0.75  8.00 46.15385\n",
       "11 2020.9.21 16.00 0.75  0.00 95.52239\n",
       "12 2020.9.22 13.50 2.50  1.50 77.14286\n",
       "13 2020.9.23 11.25 3.00  3.50 63.38028\n",
       "14 2020.9.24  4.75 2.25  9.50 28.78788"
      ]
     },
     "metadata": {},
     "output_type": "display_data"
    }
   ],
   "source": [
    "read_lines(\"2WeekDailyReport.csv\", n_max = 10)\n",
    "dat <- read_csv(\"2WeekDailyReport.csv\")\n",
    "a <- dat %>% mutate(per_good = good / (good + soso + bad) *100)\n",
    "a\n"
   ]
  },
  {
   "cell_type": "code",
   "execution_count": 55,
   "metadata": {},
   "outputs": [
    {
     "data": {
      "image/png": "[encoded data removed]",
      "text/plain": [
       "plot without title"
      ]
     },
     "metadata": {
      "image/png": {
       "height": 420,
       "width": 420
      }
     },
     "output_type": "display_data"
    }
   ],
   "source": [
    "date <- 11:24\n",
    "ratio_of_focusing <- a$per_good\n",
    "plot(date, ratio_of_focusing, type = \"b\")"
   ]
  }
 ],
 "metadata": {
  "kernelspec": {
   "display_name": "R",
   "language": "R",
   "name": "ir"
  },
  "language_info": {
   "codemirror_mode": "r",
   "file_extension": ".r",
   "mimetype": "text/x-r-source",
   "name": "R",
   "pygments_lexer": "r",
   "version": "4.0.2"
  }
 },
 "nbformat": 4,
 "nbformat_minor": 2
}
