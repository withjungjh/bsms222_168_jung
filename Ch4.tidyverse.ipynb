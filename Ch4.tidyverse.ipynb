{
 "cells": [
  {
   "cell_type": "markdown",
   "metadata": {},
   "source": [
    "# Chapter 4 The tidyverse\n",
    "\n",
    "Up to now we have been manipulating vectors by reordering and subsetting them through indexing. However, once we start more advanced analyses, the preferred unit for data storage is not the vector but the _data frame_. In this chapter we learn to work directly with data frames, which greatly facilitate the organization of information. We will be using data frames for the majority of this book. We will focus on a specific data format referred to as _tidy_ and on specific collection of packages that are particularly helpful for working with _tidy_ data referred to as the _tidyverse_.\n",
    "\n",
    "We can load all the tidyverse packages at once by installing and loading the __tidyverse__ package:"
   ]
  },
  {
   "cell_type": "code",
   "execution_count": 7,
   "metadata": {},
   "outputs": [
    {
     "name": "stdout",
     "output_type": "stream",
     "text": [
      "package 'tidyverse' successfully unpacked and MD5 sums checked\n",
      "\n",
      "The downloaded binary packages are in\n",
      "\tC:\\Users\\withj\\AppData\\Local\\Temp\\RtmpmeGtXS\\downloaded_packages\n"
     ]
    },
    {
     "name": "stderr",
     "output_type": "stream",
     "text": [
      "-- \u001b[1mAttaching packages\u001b[22m --------------------------------------- tidyverse 1.3.0 --\n",
      "\n",
      "\u001b[32m√\u001b[39m \u001b[34mggplot2\u001b[39m 3.3.2     \u001b[32m√\u001b[39m \u001b[34mpurrr  \u001b[39m 0.3.4\n",
      "\u001b[32m√\u001b[39m \u001b[34mtibble \u001b[39m 3.0.3     \u001b[32m√\u001b[39m \u001b[34mdplyr  \u001b[39m 1.0.2\n",
      "\u001b[32m√\u001b[39m \u001b[34mtidyr  \u001b[39m 1.1.2     \u001b[32m√\u001b[39m \u001b[34mstringr\u001b[39m 1.4.0\n",
      "\u001b[32m√\u001b[39m \u001b[34mreadr  \u001b[39m 1.3.1     \u001b[32m√\u001b[39m \u001b[34mforcats\u001b[39m 0.5.0\n",
      "\n",
      "-- \u001b[1mConflicts\u001b[22m ------------------------------------------ tidyverse_conflicts() --\n",
      "\u001b[31mx\u001b[39m \u001b[34mdplyr\u001b[39m::\u001b[32mfilter()\u001b[39m masks \u001b[34mstats\u001b[39m::filter()\n",
      "\u001b[31mx\u001b[39m \u001b[34mdplyr\u001b[39m::\u001b[32mlag()\u001b[39m    masks \u001b[34mstats\u001b[39m::lag()\n",
      "\n"
     ]
    }
   ],
   "source": [
    "install.packages(\"tidyverse\")\n",
    "library(tidyverse)"
   ]
  },
  {
   "cell_type": "markdown",
   "metadata": {},
   "source": [
    "We will learn how to implement the tidyverse approach throughout the book, but before delving into the details, in this chapter we introduce some of the most widely used tidyverse functionality, starting with the __dplyr__ package for manipulating data frames and the __purrr__ package for working with functions. Note that the tidyverse also includes a graphing package, __ggplot2__, which we introduce later in Chapter 7 in the Data Visualization part of the book; the readr package discussed in Chapter 5; and many others. In this chapter, we first introduce the concept of _tidy_ data and then demonstrate how we use the tidyverse to work with data frames in this format."
   ]
  },
  {
   "cell_type": "markdown",
   "metadata": {},
   "source": [
    "## 4.1 Tidy data\n",
    "\n",
    "We say that a data table is in _tidy_ format if each row represents one observation and columns represent the different variables available for each of these observations. The `murders` dataset is an example of a tidy data frame."
   ]
  },
  {
   "cell_type": "code",
   "execution_count": 1,
   "metadata": {
    "_kg_hide-input": true
   },
   "outputs": [
    {
     "data": {
      "text/html": [
       "<table>\n",
       "<caption>A data.frame: 6 × 5</caption>\n",
       "<thead>\n",
       "\t<tr><th></th><th scope=col>state</th><th scope=col>abb</th><th scope=col>region</th><th scope=col>population</th><th scope=col>total</th></tr>\n",
       "\t<tr><th></th><th scope=col>&lt;chr&gt;</th><th scope=col>&lt;chr&gt;</th><th scope=col>&lt;fct&gt;</th><th scope=col>&lt;dbl&gt;</th><th scope=col>&lt;dbl&gt;</th></tr>\n",
       "</thead>\n",
       "<tbody>\n",
       "\t<tr><th scope=row>1</th><td>Alabama   </td><td>AL</td><td>South</td><td> 4779736</td><td> 135</td></tr>\n",
       "\t<tr><th scope=row>2</th><td>Alaska    </td><td>AK</td><td>West </td><td>  710231</td><td>  19</td></tr>\n",
       "\t<tr><th scope=row>3</th><td>Arizona   </td><td>AZ</td><td>West </td><td> 6392017</td><td> 232</td></tr>\n",
       "\t<tr><th scope=row>4</th><td>Arkansas  </td><td>AR</td><td>South</td><td> 2915918</td><td>  93</td></tr>\n",
       "\t<tr><th scope=row>5</th><td>California</td><td>CA</td><td>West </td><td>37253956</td><td>1257</td></tr>\n",
       "\t<tr><th scope=row>6</th><td>Colorado  </td><td>CO</td><td>West </td><td> 5029196</td><td>  65</td></tr>\n",
       "</tbody>\n",
       "</table>\n"
      ],
      "text/latex": [
       "A data.frame: 6 × 5\n",
       "\\begin{tabular}{r|lllll}\n",
       "  & state & abb & region & population & total\\\\\n",
       "  & <chr> & <chr> & <fct> & <dbl> & <dbl>\\\\\n",
       "\\hline\n",
       "\t1 & Alabama    & AL & South &  4779736 &  135\\\\\n",
       "\t2 & Alaska     & AK & West  &   710231 &   19\\\\\n",
       "\t3 & Arizona    & AZ & West  &  6392017 &  232\\\\\n",
       "\t4 & Arkansas   & AR & South &  2915918 &   93\\\\\n",
       "\t5 & California & CA & West  & 37253956 & 1257\\\\\n",
       "\t6 & Colorado   & CO & West  &  5029196 &   65\\\\\n",
       "\\end{tabular}\n"
      ],
      "text/markdown": [
       "\n",
       "A data.frame: 6 × 5\n",
       "\n",
       "| <!--/--> | state &lt;chr&gt; | abb &lt;chr&gt; | region &lt;fct&gt; | population &lt;dbl&gt; | total &lt;dbl&gt; |\n",
       "|---|---|---|---|---|---|\n",
       "| 1 | Alabama    | AL | South |  4779736 |  135 |\n",
       "| 2 | Alaska     | AK | West  |   710231 |   19 |\n",
       "| 3 | Arizona    | AZ | West  |  6392017 |  232 |\n",
       "| 4 | Arkansas   | AR | South |  2915918 |   93 |\n",
       "| 5 | California | CA | West  | 37253956 | 1257 |\n",
       "| 6 | Colorado   | CO | West  |  5029196 |   65 |\n",
       "\n"
      ],
      "text/plain": [
       "  state      abb region population total\n",
       "1 Alabama    AL  South   4779736    135 \n",
       "2 Alaska     AK  West     710231     19 \n",
       "3 Arizona    AZ  West    6392017    232 \n",
       "4 Arkansas   AR  South   2915918     93 \n",
       "5 California CA  West   37253956   1257 \n",
       "6 Colorado   CO  West    5029196     65 "
      ]
     },
     "metadata": {},
     "output_type": "display_data"
    }
   ],
   "source": [
    "library(dslabs)\n",
    "data(murders)\n",
    "head(murders)"
   ]
  },
  {
   "cell_type": "markdown",
   "metadata": {},
   "source": [
    "Each row represent a state with each of the five columns providing a different variable related to these states: name, abbreviation, region, population, and total murders.\n",
    "\n",
    "To see how the same information can be provided in different formats, consider the following example:"
   ]
  },
  {
   "cell_type": "code",
   "execution_count": null,
   "metadata": {},
   "outputs": [],
   "source": [
    "#>       country year fertility\n",
    "#> 1     Germany 1960      2.41\n",
    "#> 2 South Korea 1960      6.16\n",
    "#> 3     Germany 1961      2.44\n",
    "#> 4 South Korea 1961      5.99\n",
    "#> 5     Germany 1962      2.47\n",
    "#> 6 South Korea 1962      5.79"
   ]
  },
  {
   "cell_type": "markdown",
   "metadata": {},
   "source": [
    "This tidy dataset provides fertility rates for two countries across the years. This is a tidy dataset because each row presents one observation with the three variables being country, year, and fertility rate. However, this dataset originally came in another format and was reshaped for the __dslabs__ package. Originally, the data was in the following format:"
   ]
  },
  {
   "cell_type": "code",
   "execution_count": null,
   "metadata": {},
   "outputs": [],
   "source": [
    "#>       country 1960 1961 1962\n",
    "#> 1     Germany 2.41 2.44 2.47\n",
    "#> 2 South Korea 6.16 5.99 5.79"
   ]
  },
  {
   "cell_type": "markdown",
   "metadata": {},
   "source": [
    "The same information is provided, but there are two important differences in the format: 1) each row includes several observations and 2) one of the variables, year, is stored in the header. For the tidyverse packages to be optimally used, data need to be reshaped into `tidy` format, which you will learn to do in the Data Wrangling part of the book. Until then, we will use example datasets that are already in tidy format.\n",
    "\n",
    "Although not immediately obvious, as you go through the book you will start to appreciate the advantages of working in a framework in which functions use tidy formats for both inputs and outputs. You will see how this permits the data analyst to focus on more important aspects of the analysis rather than the format of the data."
   ]
  },
  {
   "cell_type": "markdown",
   "metadata": {},
   "source": [
    "## 4.2 Exercises\n",
    "\n",
    "1. Examine the built-in dataset co2. Which of the following is true:\n",
    "\n",
    " a. `co2` is tidy data: it has one year for each row.\n",
    " \n",
    " b. `co2` is not tidy: we need at least one column with a character vector.\n",
    " \n",
    " c. `co2` is not tidy: it is a matrix instead of a data frame.\n",
    " \n",
    " d. `co2` is not tidy: to be tidy we would have to wrangle it to have three columns (year, month and value), then each co2 observation would have a row.\n"
   ]
  },
  {
   "cell_type": "code",
   "execution_count": 2,
   "metadata": {},
   "outputs": [
    {
     "data": {
      "text/html": [
       "<style>\n",
       ".list-inline {list-style: none; margin:0; padding: 0}\n",
       ".list-inline>li {display: inline-block}\n",
       ".list-inline>li:not(:last-child)::after {content: \"\\00b7\"; padding: 0 .5ex}\n",
       "</style>\n",
       "<ol class=list-inline><li>315.42</li><li>316.31</li><li>316.5</li><li>317.56</li><li>318.13</li><li>318</li></ol>\n"
      ],
      "text/latex": [
       "\\begin{enumerate*}\n",
       "\\item 315.42\n",
       "\\item 316.31\n",
       "\\item 316.5\n",
       "\\item 317.56\n",
       "\\item 318.13\n",
       "\\item 318\n",
       "\\end{enumerate*}\n"
      ],
      "text/markdown": [
       "1. 315.42\n",
       "2. 316.31\n",
       "3. 316.5\n",
       "4. 317.56\n",
       "5. 318.13\n",
       "6. 318\n",
       "\n",
       "\n"
      ],
      "text/plain": [
       "[1] 315.42 316.31 316.50 317.56 318.13 318.00"
      ]
     },
     "metadata": {},
     "output_type": "display_data"
    }
   ],
   "source": [
    "head(co2)"
   ]
  },
  {
   "cell_type": "markdown",
   "metadata": {},
   "source": [
    "Answer: d"
   ]
  },
  {
   "cell_type": "markdown",
   "metadata": {},
   "source": [
    "2. Examine the built-in dataset ChickWeight. Which of the following is true:\n",
    "\n",
    " a. `ChickWeight` is not tidy: each chick has more than one row.\n",
    "\n",
    " b. `ChickWeight` is tidy: each observation (a weight) is represented by one row. The chick from which this measurement came is one of the variables.\n",
    "\n",
    " c. `ChickWeight` is not tidy: we are missing the year column.\n",
    " \n",
    " d. `ChickWeight` is tidy: it is stored in a data frame.\n"
   ]
  },
  {
   "cell_type": "code",
   "execution_count": 3,
   "metadata": {},
   "outputs": [
    {
     "data": {
      "text/html": [
       "<table>\n",
       "<caption>A nfnGroupedData: 6 × 4</caption>\n",
       "<thead>\n",
       "\t<tr><th></th><th scope=col>weight</th><th scope=col>Time</th><th scope=col>Chick</th><th scope=col>Diet</th></tr>\n",
       "\t<tr><th></th><th scope=col>&lt;dbl&gt;</th><th scope=col>&lt;dbl&gt;</th><th scope=col>&lt;ord&gt;</th><th scope=col>&lt;fct&gt;</th></tr>\n",
       "</thead>\n",
       "<tbody>\n",
       "\t<tr><th scope=row>1</th><td>42</td><td> 0</td><td>1</td><td>1</td></tr>\n",
       "\t<tr><th scope=row>2</th><td>51</td><td> 2</td><td>1</td><td>1</td></tr>\n",
       "\t<tr><th scope=row>3</th><td>59</td><td> 4</td><td>1</td><td>1</td></tr>\n",
       "\t<tr><th scope=row>4</th><td>64</td><td> 6</td><td>1</td><td>1</td></tr>\n",
       "\t<tr><th scope=row>5</th><td>76</td><td> 8</td><td>1</td><td>1</td></tr>\n",
       "\t<tr><th scope=row>6</th><td>93</td><td>10</td><td>1</td><td>1</td></tr>\n",
       "</tbody>\n",
       "</table>\n"
      ],
      "text/latex": [
       "A nfnGroupedData: 6 × 4\n",
       "\\begin{tabular}{r|llll}\n",
       "  & weight & Time & Chick & Diet\\\\\n",
       "  & <dbl> & <dbl> & <ord> & <fct>\\\\\n",
       "\\hline\n",
       "\t1 & 42 &  0 & 1 & 1\\\\\n",
       "\t2 & 51 &  2 & 1 & 1\\\\\n",
       "\t3 & 59 &  4 & 1 & 1\\\\\n",
       "\t4 & 64 &  6 & 1 & 1\\\\\n",
       "\t5 & 76 &  8 & 1 & 1\\\\\n",
       "\t6 & 93 & 10 & 1 & 1\\\\\n",
       "\\end{tabular}\n"
      ],
      "text/markdown": [
       "\n",
       "A nfnGroupedData: 6 × 4\n",
       "\n",
       "| <!--/--> | weight &lt;dbl&gt; | Time &lt;dbl&gt; | Chick &lt;ord&gt; | Diet &lt;fct&gt; |\n",
       "|---|---|---|---|---|\n",
       "| 1 | 42 |  0 | 1 | 1 |\n",
       "| 2 | 51 |  2 | 1 | 1 |\n",
       "| 3 | 59 |  4 | 1 | 1 |\n",
       "| 4 | 64 |  6 | 1 | 1 |\n",
       "| 5 | 76 |  8 | 1 | 1 |\n",
       "| 6 | 93 | 10 | 1 | 1 |\n",
       "\n"
      ],
      "text/plain": [
       "  weight Time Chick Diet\n",
       "1 42      0   1     1   \n",
       "2 51      2   1     1   \n",
       "3 59      4   1     1   \n",
       "4 64      6   1     1   \n",
       "5 76      8   1     1   \n",
       "6 93     10   1     1   "
      ]
     },
     "metadata": {},
     "output_type": "display_data"
    }
   ],
   "source": [
    "head(ChickWeight)"
   ]
  },
  {
   "cell_type": "markdown",
   "metadata": {},
   "source": [
    "Answer: b"
   ]
  },
  {
   "cell_type": "markdown",
   "metadata": {},
   "source": [
    "3. Examine the built-in dataset BOD. Which of the following is true:\n",
    "\n",
    " a. `BOD` is not tidy: it only has six rows.\n",
    " \n",
    " b. `BOD` is not tidy: the first column is just an index.\n",
    " \n",
    " c. `BOD` is tidy: each row is an observation with two values \n",
    "(time and demand)\n",
    "\n",
    " d. `BOD` is tidy: all small datasets are tidy by definition.\n"
   ]
  },
  {
   "cell_type": "code",
   "execution_count": 4,
   "metadata": {},
   "outputs": [
    {
     "data": {
      "text/html": [
       "<table>\n",
       "<caption>A data.frame: 6 × 2</caption>\n",
       "<thead>\n",
       "\t<tr><th></th><th scope=col>Time</th><th scope=col>demand</th></tr>\n",
       "\t<tr><th></th><th scope=col>&lt;dbl&gt;</th><th scope=col>&lt;dbl&gt;</th></tr>\n",
       "</thead>\n",
       "<tbody>\n",
       "\t<tr><th scope=row>1</th><td>1</td><td> 8.3</td></tr>\n",
       "\t<tr><th scope=row>2</th><td>2</td><td>10.3</td></tr>\n",
       "\t<tr><th scope=row>3</th><td>3</td><td>19.0</td></tr>\n",
       "\t<tr><th scope=row>4</th><td>4</td><td>16.0</td></tr>\n",
       "\t<tr><th scope=row>5</th><td>5</td><td>15.6</td></tr>\n",
       "\t<tr><th scope=row>6</th><td>7</td><td>19.8</td></tr>\n",
       "</tbody>\n",
       "</table>\n"
      ],
      "text/latex": [
       "A data.frame: 6 × 2\n",
       "\\begin{tabular}{r|ll}\n",
       "  & Time & demand\\\\\n",
       "  & <dbl> & <dbl>\\\\\n",
       "\\hline\n",
       "\t1 & 1 &  8.3\\\\\n",
       "\t2 & 2 & 10.3\\\\\n",
       "\t3 & 3 & 19.0\\\\\n",
       "\t4 & 4 & 16.0\\\\\n",
       "\t5 & 5 & 15.6\\\\\n",
       "\t6 & 7 & 19.8\\\\\n",
       "\\end{tabular}\n"
      ],
      "text/markdown": [
       "\n",
       "A data.frame: 6 × 2\n",
       "\n",
       "| <!--/--> | Time &lt;dbl&gt; | demand &lt;dbl&gt; |\n",
       "|---|---|---|\n",
       "| 1 | 1 |  8.3 |\n",
       "| 2 | 2 | 10.3 |\n",
       "| 3 | 3 | 19.0 |\n",
       "| 4 | 4 | 16.0 |\n",
       "| 5 | 5 | 15.6 |\n",
       "| 6 | 7 | 19.8 |\n",
       "\n"
      ],
      "text/plain": [
       "  Time demand\n",
       "1 1     8.3  \n",
       "2 2    10.3  \n",
       "3 3    19.0  \n",
       "4 4    16.0  \n",
       "5 5    15.6  \n",
       "6 7    19.8  "
      ]
     },
     "metadata": {},
     "output_type": "display_data"
    }
   ],
   "source": [
    "head(BOD)"
   ]
  },
  {
   "cell_type": "markdown",
   "metadata": {},
   "source": [
    "Answer: c"
   ]
  },
  {
   "cell_type": "markdown",
   "metadata": {},
   "source": [
    "4. Which of the following built-in datasets is tidy (you can pick more than one):\n",
    "\n",
    " a. `BJsales`\n",
    "\n",
    " b. `EuStockMarkets`\n",
    "\n",
    " c. `DNase`\n",
    "\n",
    " d. `Formaldehyde`\n",
    "\n",
    " e. `Orange`\n",
    "\n",
    " f. `UCBAdmissions`"
   ]
  },
  {
   "cell_type": "code",
   "execution_count": 5,
   "metadata": {},
   "outputs": [
    {
     "data": {
      "text/html": [
       "<style>\n",
       ".list-inline {list-style: none; margin:0; padding: 0}\n",
       ".list-inline>li {display: inline-block}\n",
       ".list-inline>li:not(:last-child)::after {content: \"\\00b7\"; padding: 0 .5ex}\n",
       "</style>\n",
       "<ol class=list-inline><li>200.1</li><li>199.5</li><li>199.4</li><li>198.9</li><li>199</li><li>200.2</li></ol>\n"
      ],
      "text/latex": [
       "\\begin{enumerate*}\n",
       "\\item 200.1\n",
       "\\item 199.5\n",
       "\\item 199.4\n",
       "\\item 198.9\n",
       "\\item 199\n",
       "\\item 200.2\n",
       "\\end{enumerate*}\n"
      ],
      "text/markdown": [
       "1. 200.1\n",
       "2. 199.5\n",
       "3. 199.4\n",
       "4. 198.9\n",
       "5. 199\n",
       "6. 200.2\n",
       "\n",
       "\n"
      ],
      "text/plain": [
       "[1] 200.1 199.5 199.4 198.9 199.0 200.2"
      ]
     },
     "metadata": {},
     "output_type": "display_data"
    },
    {
     "data": {
      "text/html": [
       "<table>\n",
       "<caption>A matrix: 6 × 4 of type dbl</caption>\n",
       "<thead>\n",
       "\t<tr><th scope=col>DAX</th><th scope=col>SMI</th><th scope=col>CAC</th><th scope=col>FTSE</th></tr>\n",
       "</thead>\n",
       "<tbody>\n",
       "\t<tr><td>1628.75</td><td>1678.1</td><td>1772.8</td><td>2443.6</td></tr>\n",
       "\t<tr><td>1613.63</td><td>1688.5</td><td>1750.5</td><td>2460.2</td></tr>\n",
       "\t<tr><td>1606.51</td><td>1678.6</td><td>1718.0</td><td>2448.2</td></tr>\n",
       "\t<tr><td>1621.04</td><td>1684.1</td><td>1708.1</td><td>2470.4</td></tr>\n",
       "\t<tr><td>1618.16</td><td>1686.6</td><td>1723.1</td><td>2484.7</td></tr>\n",
       "\t<tr><td>1610.61</td><td>1671.6</td><td>1714.3</td><td>2466.8</td></tr>\n",
       "</tbody>\n",
       "</table>\n"
      ],
      "text/latex": [
       "A matrix: 6 × 4 of type dbl\n",
       "\\begin{tabular}{llll}\n",
       " DAX & SMI & CAC & FTSE\\\\\n",
       "\\hline\n",
       "\t 1628.75 & 1678.1 & 1772.8 & 2443.6\\\\\n",
       "\t 1613.63 & 1688.5 & 1750.5 & 2460.2\\\\\n",
       "\t 1606.51 & 1678.6 & 1718.0 & 2448.2\\\\\n",
       "\t 1621.04 & 1684.1 & 1708.1 & 2470.4\\\\\n",
       "\t 1618.16 & 1686.6 & 1723.1 & 2484.7\\\\\n",
       "\t 1610.61 & 1671.6 & 1714.3 & 2466.8\\\\\n",
       "\\end{tabular}\n"
      ],
      "text/markdown": [
       "\n",
       "A matrix: 6 × 4 of type dbl\n",
       "\n",
       "| DAX | SMI | CAC | FTSE |\n",
       "|---|---|---|---|\n",
       "| 1628.75 | 1678.1 | 1772.8 | 2443.6 |\n",
       "| 1613.63 | 1688.5 | 1750.5 | 2460.2 |\n",
       "| 1606.51 | 1678.6 | 1718.0 | 2448.2 |\n",
       "| 1621.04 | 1684.1 | 1708.1 | 2470.4 |\n",
       "| 1618.16 | 1686.6 | 1723.1 | 2484.7 |\n",
       "| 1610.61 | 1671.6 | 1714.3 | 2466.8 |\n",
       "\n"
      ],
      "text/plain": [
       "     DAX     SMI    CAC    FTSE  \n",
       "[1,] 1628.75 1678.1 1772.8 2443.6\n",
       "[2,] 1613.63 1688.5 1750.5 2460.2\n",
       "[3,] 1606.51 1678.6 1718.0 2448.2\n",
       "[4,] 1621.04 1684.1 1708.1 2470.4\n",
       "[5,] 1618.16 1686.6 1723.1 2484.7\n",
       "[6,] 1610.61 1671.6 1714.3 2466.8"
      ]
     },
     "metadata": {},
     "output_type": "display_data"
    },
    {
     "data": {
      "text/html": [
       "<table>\n",
       "<caption>A nfnGroupedData: 6 × 3</caption>\n",
       "<thead>\n",
       "\t<tr><th></th><th scope=col>Run</th><th scope=col>conc</th><th scope=col>density</th></tr>\n",
       "\t<tr><th></th><th scope=col>&lt;ord&gt;</th><th scope=col>&lt;dbl&gt;</th><th scope=col>&lt;dbl&gt;</th></tr>\n",
       "</thead>\n",
       "<tbody>\n",
       "\t<tr><th scope=row>1</th><td>1</td><td>0.04882812</td><td>0.017</td></tr>\n",
       "\t<tr><th scope=row>2</th><td>1</td><td>0.04882812</td><td>0.018</td></tr>\n",
       "\t<tr><th scope=row>3</th><td>1</td><td>0.19531250</td><td>0.121</td></tr>\n",
       "\t<tr><th scope=row>4</th><td>1</td><td>0.19531250</td><td>0.124</td></tr>\n",
       "\t<tr><th scope=row>5</th><td>1</td><td>0.39062500</td><td>0.206</td></tr>\n",
       "\t<tr><th scope=row>6</th><td>1</td><td>0.39062500</td><td>0.215</td></tr>\n",
       "</tbody>\n",
       "</table>\n"
      ],
      "text/latex": [
       "A nfnGroupedData: 6 × 3\n",
       "\\begin{tabular}{r|lll}\n",
       "  & Run & conc & density\\\\\n",
       "  & <ord> & <dbl> & <dbl>\\\\\n",
       "\\hline\n",
       "\t1 & 1 & 0.04882812 & 0.017\\\\\n",
       "\t2 & 1 & 0.04882812 & 0.018\\\\\n",
       "\t3 & 1 & 0.19531250 & 0.121\\\\\n",
       "\t4 & 1 & 0.19531250 & 0.124\\\\\n",
       "\t5 & 1 & 0.39062500 & 0.206\\\\\n",
       "\t6 & 1 & 0.39062500 & 0.215\\\\\n",
       "\\end{tabular}\n"
      ],
      "text/markdown": [
       "\n",
       "A nfnGroupedData: 6 × 3\n",
       "\n",
       "| <!--/--> | Run &lt;ord&gt; | conc &lt;dbl&gt; | density &lt;dbl&gt; |\n",
       "|---|---|---|---|\n",
       "| 1 | 1 | 0.04882812 | 0.017 |\n",
       "| 2 | 1 | 0.04882812 | 0.018 |\n",
       "| 3 | 1 | 0.19531250 | 0.121 |\n",
       "| 4 | 1 | 0.19531250 | 0.124 |\n",
       "| 5 | 1 | 0.39062500 | 0.206 |\n",
       "| 6 | 1 | 0.39062500 | 0.215 |\n",
       "\n"
      ],
      "text/plain": [
       "  Run conc       density\n",
       "1 1   0.04882812 0.017  \n",
       "2 1   0.04882812 0.018  \n",
       "3 1   0.19531250 0.121  \n",
       "4 1   0.19531250 0.124  \n",
       "5 1   0.39062500 0.206  \n",
       "6 1   0.39062500 0.215  "
      ]
     },
     "metadata": {},
     "output_type": "display_data"
    },
    {
     "data": {
      "text/html": [
       "<table>\n",
       "<caption>A data.frame: 6 × 2</caption>\n",
       "<thead>\n",
       "\t<tr><th></th><th scope=col>carb</th><th scope=col>optden</th></tr>\n",
       "\t<tr><th></th><th scope=col>&lt;dbl&gt;</th><th scope=col>&lt;dbl&gt;</th></tr>\n",
       "</thead>\n",
       "<tbody>\n",
       "\t<tr><th scope=row>1</th><td>0.1</td><td>0.086</td></tr>\n",
       "\t<tr><th scope=row>2</th><td>0.3</td><td>0.269</td></tr>\n",
       "\t<tr><th scope=row>3</th><td>0.5</td><td>0.446</td></tr>\n",
       "\t<tr><th scope=row>4</th><td>0.6</td><td>0.538</td></tr>\n",
       "\t<tr><th scope=row>5</th><td>0.7</td><td>0.626</td></tr>\n",
       "\t<tr><th scope=row>6</th><td>0.9</td><td>0.782</td></tr>\n",
       "</tbody>\n",
       "</table>\n"
      ],
      "text/latex": [
       "A data.frame: 6 × 2\n",
       "\\begin{tabular}{r|ll}\n",
       "  & carb & optden\\\\\n",
       "  & <dbl> & <dbl>\\\\\n",
       "\\hline\n",
       "\t1 & 0.1 & 0.086\\\\\n",
       "\t2 & 0.3 & 0.269\\\\\n",
       "\t3 & 0.5 & 0.446\\\\\n",
       "\t4 & 0.6 & 0.538\\\\\n",
       "\t5 & 0.7 & 0.626\\\\\n",
       "\t6 & 0.9 & 0.782\\\\\n",
       "\\end{tabular}\n"
      ],
      "text/markdown": [
       "\n",
       "A data.frame: 6 × 2\n",
       "\n",
       "| <!--/--> | carb &lt;dbl&gt; | optden &lt;dbl&gt; |\n",
       "|---|---|---|\n",
       "| 1 | 0.1 | 0.086 |\n",
       "| 2 | 0.3 | 0.269 |\n",
       "| 3 | 0.5 | 0.446 |\n",
       "| 4 | 0.6 | 0.538 |\n",
       "| 5 | 0.7 | 0.626 |\n",
       "| 6 | 0.9 | 0.782 |\n",
       "\n"
      ],
      "text/plain": [
       "  carb optden\n",
       "1 0.1  0.086 \n",
       "2 0.3  0.269 \n",
       "3 0.5  0.446 \n",
       "4 0.6  0.538 \n",
       "5 0.7  0.626 \n",
       "6 0.9  0.782 "
      ]
     },
     "metadata": {},
     "output_type": "display_data"
    },
    {
     "data": {
      "text/html": [
       "<table>\n",
       "<caption>A nfnGroupedData: 6 × 3</caption>\n",
       "<thead>\n",
       "\t<tr><th></th><th scope=col>Tree</th><th scope=col>age</th><th scope=col>circumference</th></tr>\n",
       "\t<tr><th></th><th scope=col>&lt;ord&gt;</th><th scope=col>&lt;dbl&gt;</th><th scope=col>&lt;dbl&gt;</th></tr>\n",
       "</thead>\n",
       "<tbody>\n",
       "\t<tr><th scope=row>1</th><td>1</td><td> 118</td><td> 30</td></tr>\n",
       "\t<tr><th scope=row>2</th><td>1</td><td> 484</td><td> 58</td></tr>\n",
       "\t<tr><th scope=row>3</th><td>1</td><td> 664</td><td> 87</td></tr>\n",
       "\t<tr><th scope=row>4</th><td>1</td><td>1004</td><td>115</td></tr>\n",
       "\t<tr><th scope=row>5</th><td>1</td><td>1231</td><td>120</td></tr>\n",
       "\t<tr><th scope=row>6</th><td>1</td><td>1372</td><td>142</td></tr>\n",
       "</tbody>\n",
       "</table>\n"
      ],
      "text/latex": [
       "A nfnGroupedData: 6 × 3\n",
       "\\begin{tabular}{r|lll}\n",
       "  & Tree & age & circumference\\\\\n",
       "  & <ord> & <dbl> & <dbl>\\\\\n",
       "\\hline\n",
       "\t1 & 1 &  118 &  30\\\\\n",
       "\t2 & 1 &  484 &  58\\\\\n",
       "\t3 & 1 &  664 &  87\\\\\n",
       "\t4 & 1 & 1004 & 115\\\\\n",
       "\t5 & 1 & 1231 & 120\\\\\n",
       "\t6 & 1 & 1372 & 142\\\\\n",
       "\\end{tabular}\n"
      ],
      "text/markdown": [
       "\n",
       "A nfnGroupedData: 6 × 3\n",
       "\n",
       "| <!--/--> | Tree &lt;ord&gt; | age &lt;dbl&gt; | circumference &lt;dbl&gt; |\n",
       "|---|---|---|---|\n",
       "| 1 | 1 |  118 |  30 |\n",
       "| 2 | 1 |  484 |  58 |\n",
       "| 3 | 1 |  664 |  87 |\n",
       "| 4 | 1 | 1004 | 115 |\n",
       "| 5 | 1 | 1231 | 120 |\n",
       "| 6 | 1 | 1372 | 142 |\n",
       "\n"
      ],
      "text/plain": [
       "  Tree age  circumference\n",
       "1 1     118  30          \n",
       "2 1     484  58          \n",
       "3 1     664  87          \n",
       "4 1    1004 115          \n",
       "5 1    1231 120          \n",
       "6 1    1372 142          "
      ]
     },
     "metadata": {},
     "output_type": "display_data"
    },
    {
     "data": {
      "text/plain": [
       ", , Dept = A\n",
       "\n",
       "          Gender\n",
       "Admit      Male Female\n",
       "  Admitted  512     89\n",
       "  Rejected  313     19\n",
       "\n",
       ", , Dept = B\n",
       "\n",
       "          Gender\n",
       "Admit      Male Female\n",
       "  Admitted  353     17\n",
       "  Rejected  207      8\n",
       "\n",
       ", , Dept = C\n",
       "\n",
       "          Gender\n",
       "Admit      Male Female\n",
       "  Admitted  120    202\n",
       "  Rejected  205    391\n",
       "\n",
       ", , Dept = D\n",
       "\n",
       "          Gender\n",
       "Admit      Male Female\n",
       "  Admitted  138    131\n",
       "  Rejected  279    244\n",
       "\n",
       ", , Dept = E\n",
       "\n",
       "          Gender\n",
       "Admit      Male Female\n",
       "  Admitted   53     94\n",
       "  Rejected  138    299\n",
       "\n",
       ", , Dept = F\n",
       "\n",
       "          Gender\n",
       "Admit      Male Female\n",
       "  Admitted   22     24\n",
       "  Rejected  351    317\n"
      ]
     },
     "metadata": {},
     "output_type": "display_data"
    }
   ],
   "source": [
    "head(BJsales)\n",
    "head(EuStockMarkets)\n",
    "head(DNase)\n",
    "head(Formaldehyde)\n",
    "head(Orange)\n",
    "head(UCBAdmissions)\n"
   ]
  },
  {
   "cell_type": "markdown",
   "metadata": {},
   "source": [
    "* Answer: b, c, d, e"
   ]
  },
  {
   "cell_type": "markdown",
   "metadata": {},
   "source": [
    "## 4.3 Manipulating data frames\n",
    "\n",
    "The __dplyr__ package from the __tidyverse__ introduces functions that perform some of the most common operations when working with data frames and uses names for these functions that are relatively easy to remember. For instance, to change the data table by adding a new column, we use `mutate`. To filter the data table to a subset of rows, we use `filter`. Finally, to subset the data by selecting specific columns, we use `select`.\n"
   ]
  },
  {
   "cell_type": "markdown",
   "metadata": {},
   "source": [
    "### 4.3.1 Adding a column with `mutate`\n",
    "\n",
    "We want all the necessary information for our analysis to be included in the data table. So the first task is to add the murder rates to our murders data frame. The function `mutate` takes the data frame as a first argument and the name and values of the variable as a second argument using the convention `name = values`. So, to add murder rates, we use:"
   ]
  },
  {
   "cell_type": "code",
   "execution_count": 8,
   "metadata": {},
   "outputs": [],
   "source": [
    "library(dslabs)\n",
    "data(\"murders\")\n",
    "murders <- mutate(murders, rate = total / population * 100000)"
   ]
  },
  {
   "cell_type": "markdown",
   "metadata": {},
   "source": [
    "Notice that here we used `total` and `population` inside the function, which are objects that are __not__ defined in our workspace. But why don’t we get an error?\n",
    "\n",
    "This is one of __dplyr__’s main features. Functions in this package, such as `mutate`, know to look for variables in the data frame provided in the first argument. In the call to mutate above, `total` will have the values in `murders$total`. This approach makes the code much more readable.\n",
    "\n",
    "We can see that the new column is added:"
   ]
  },
  {
   "cell_type": "code",
   "execution_count": 9,
   "metadata": {},
   "outputs": [
    {
     "data": {
      "text/html": [
       "<table>\n",
       "<caption>A data.frame: 6 × 6</caption>\n",
       "<thead>\n",
       "\t<tr><th></th><th scope=col>state</th><th scope=col>abb</th><th scope=col>region</th><th scope=col>population</th><th scope=col>total</th><th scope=col>rate</th></tr>\n",
       "\t<tr><th></th><th scope=col>&lt;chr&gt;</th><th scope=col>&lt;chr&gt;</th><th scope=col>&lt;fct&gt;</th><th scope=col>&lt;dbl&gt;</th><th scope=col>&lt;dbl&gt;</th><th scope=col>&lt;dbl&gt;</th></tr>\n",
       "</thead>\n",
       "<tbody>\n",
       "\t<tr><th scope=row>1</th><td>Alabama   </td><td>AL</td><td>South</td><td> 4779736</td><td> 135</td><td>2.824424</td></tr>\n",
       "\t<tr><th scope=row>2</th><td>Alaska    </td><td>AK</td><td>West </td><td>  710231</td><td>  19</td><td>2.675186</td></tr>\n",
       "\t<tr><th scope=row>3</th><td>Arizona   </td><td>AZ</td><td>West </td><td> 6392017</td><td> 232</td><td>3.629527</td></tr>\n",
       "\t<tr><th scope=row>4</th><td>Arkansas  </td><td>AR</td><td>South</td><td> 2915918</td><td>  93</td><td>3.189390</td></tr>\n",
       "\t<tr><th scope=row>5</th><td>California</td><td>CA</td><td>West </td><td>37253956</td><td>1257</td><td>3.374138</td></tr>\n",
       "\t<tr><th scope=row>6</th><td>Colorado  </td><td>CO</td><td>West </td><td> 5029196</td><td>  65</td><td>1.292453</td></tr>\n",
       "</tbody>\n",
       "</table>\n"
      ],
      "text/latex": [
       "A data.frame: 6 × 6\n",
       "\\begin{tabular}{r|llllll}\n",
       "  & state & abb & region & population & total & rate\\\\\n",
       "  & <chr> & <chr> & <fct> & <dbl> & <dbl> & <dbl>\\\\\n",
       "\\hline\n",
       "\t1 & Alabama    & AL & South &  4779736 &  135 & 2.824424\\\\\n",
       "\t2 & Alaska     & AK & West  &   710231 &   19 & 2.675186\\\\\n",
       "\t3 & Arizona    & AZ & West  &  6392017 &  232 & 3.629527\\\\\n",
       "\t4 & Arkansas   & AR & South &  2915918 &   93 & 3.189390\\\\\n",
       "\t5 & California & CA & West  & 37253956 & 1257 & 3.374138\\\\\n",
       "\t6 & Colorado   & CO & West  &  5029196 &   65 & 1.292453\\\\\n",
       "\\end{tabular}\n"
      ],
      "text/markdown": [
       "\n",
       "A data.frame: 6 × 6\n",
       "\n",
       "| <!--/--> | state &lt;chr&gt; | abb &lt;chr&gt; | region &lt;fct&gt; | population &lt;dbl&gt; | total &lt;dbl&gt; | rate &lt;dbl&gt; |\n",
       "|---|---|---|---|---|---|---|\n",
       "| 1 | Alabama    | AL | South |  4779736 |  135 | 2.824424 |\n",
       "| 2 | Alaska     | AK | West  |   710231 |   19 | 2.675186 |\n",
       "| 3 | Arizona    | AZ | West  |  6392017 |  232 | 3.629527 |\n",
       "| 4 | Arkansas   | AR | South |  2915918 |   93 | 3.189390 |\n",
       "| 5 | California | CA | West  | 37253956 | 1257 | 3.374138 |\n",
       "| 6 | Colorado   | CO | West  |  5029196 |   65 | 1.292453 |\n",
       "\n"
      ],
      "text/plain": [
       "  state      abb region population total rate    \n",
       "1 Alabama    AL  South   4779736    135  2.824424\n",
       "2 Alaska     AK  West     710231     19  2.675186\n",
       "3 Arizona    AZ  West    6392017    232  3.629527\n",
       "4 Arkansas   AR  South   2915918     93  3.189390\n",
       "5 California CA  West   37253956   1257  3.374138\n",
       "6 Colorado   CO  West    5029196     65  1.292453"
      ]
     },
     "metadata": {},
     "output_type": "display_data"
    }
   ],
   "source": [
    "head(murders)"
   ]
  },
  {
   "cell_type": "markdown",
   "metadata": {},
   "source": [
    "Although we have overwritten the original `murders` object, this does not change the object that loaded with `data(murders)`. If we load the murders data again, the original will overwrite our mutated version."
   ]
  },
  {
   "cell_type": "markdown",
   "metadata": {},
   "source": [
    "### 4.3.2 Subsetting with `filter`\n",
    "\n",
    "Now suppose that we want to filter the data table to only show the entries for which the murder rate is lower than 0.71. To do this we use the `filter` function, which takes the data table as the first argument and then the conditional statement as the second. Like `mutate`, we can use the unquoted variable names from `murders` inside the function and it will know we mean the columns and not objects in the workspace."
   ]
  },
  {
   "cell_type": "code",
   "execution_count": 10,
   "metadata": {},
   "outputs": [
    {
     "data": {
      "text/html": [
       "<table>\n",
       "<caption>A data.frame: 5 × 6</caption>\n",
       "<thead>\n",
       "\t<tr><th scope=col>state</th><th scope=col>abb</th><th scope=col>region</th><th scope=col>population</th><th scope=col>total</th><th scope=col>rate</th></tr>\n",
       "\t<tr><th scope=col>&lt;chr&gt;</th><th scope=col>&lt;chr&gt;</th><th scope=col>&lt;fct&gt;</th><th scope=col>&lt;dbl&gt;</th><th scope=col>&lt;dbl&gt;</th><th scope=col>&lt;dbl&gt;</th></tr>\n",
       "</thead>\n",
       "<tbody>\n",
       "\t<tr><td>Hawaii       </td><td>HI</td><td>West         </td><td>1360301</td><td> 7</td><td>0.5145920</td></tr>\n",
       "\t<tr><td>Iowa         </td><td>IA</td><td>North Central</td><td>3046355</td><td>21</td><td>0.6893484</td></tr>\n",
       "\t<tr><td>New Hampshire</td><td>NH</td><td>Northeast    </td><td>1316470</td><td> 5</td><td>0.3798036</td></tr>\n",
       "\t<tr><td>North Dakota </td><td>ND</td><td>North Central</td><td> 672591</td><td> 4</td><td>0.5947151</td></tr>\n",
       "\t<tr><td>Vermont      </td><td>VT</td><td>Northeast    </td><td> 625741</td><td> 2</td><td>0.3196211</td></tr>\n",
       "</tbody>\n",
       "</table>\n"
      ],
      "text/latex": [
       "A data.frame: 5 × 6\n",
       "\\begin{tabular}{llllll}\n",
       " state & abb & region & population & total & rate\\\\\n",
       " <chr> & <chr> & <fct> & <dbl> & <dbl> & <dbl>\\\\\n",
       "\\hline\n",
       "\t Hawaii        & HI & West          & 1360301 &  7 & 0.5145920\\\\\n",
       "\t Iowa          & IA & North Central & 3046355 & 21 & 0.6893484\\\\\n",
       "\t New Hampshire & NH & Northeast     & 1316470 &  5 & 0.3798036\\\\\n",
       "\t North Dakota  & ND & North Central &  672591 &  4 & 0.5947151\\\\\n",
       "\t Vermont       & VT & Northeast     &  625741 &  2 & 0.3196211\\\\\n",
       "\\end{tabular}\n"
      ],
      "text/markdown": [
       "\n",
       "A data.frame: 5 × 6\n",
       "\n",
       "| state &lt;chr&gt; | abb &lt;chr&gt; | region &lt;fct&gt; | population &lt;dbl&gt; | total &lt;dbl&gt; | rate &lt;dbl&gt; |\n",
       "|---|---|---|---|---|---|\n",
       "| Hawaii        | HI | West          | 1360301 |  7 | 0.5145920 |\n",
       "| Iowa          | IA | North Central | 3046355 | 21 | 0.6893484 |\n",
       "| New Hampshire | NH | Northeast     | 1316470 |  5 | 0.3798036 |\n",
       "| North Dakota  | ND | North Central |  672591 |  4 | 0.5947151 |\n",
       "| Vermont       | VT | Northeast     |  625741 |  2 | 0.3196211 |\n",
       "\n"
      ],
      "text/plain": [
       "  state         abb region        population total rate     \n",
       "1 Hawaii        HI  West          1360301     7    0.5145920\n",
       "2 Iowa          IA  North Central 3046355    21    0.6893484\n",
       "3 New Hampshire NH  Northeast     1316470     5    0.3798036\n",
       "4 North Dakota  ND  North Central  672591     4    0.5947151\n",
       "5 Vermont       VT  Northeast      625741     2    0.3196211"
      ]
     },
     "metadata": {},
     "output_type": "display_data"
    }
   ],
   "source": [
    "filter(murders, rate <= 0.71)"
   ]
  },
  {
   "cell_type": "markdown",
   "metadata": {},
   "source": [
    "### 4.3.3 Selecting columns with `select`\n",
    "\n",
    "Although our data table only has six columns, some data tables include hundreds. If we want to view just a few, we can use the __dplyr__ `select` function. In the code below we select three columns, assign this to a new object and then filter the new object:"
   ]
  },
  {
   "cell_type": "code",
   "execution_count": 11,
   "metadata": {},
   "outputs": [
    {
     "data": {
      "text/html": [
       "<table>\n",
       "<caption>A data.frame: 5 × 3</caption>\n",
       "<thead>\n",
       "\t<tr><th scope=col>state</th><th scope=col>region</th><th scope=col>rate</th></tr>\n",
       "\t<tr><th scope=col>&lt;chr&gt;</th><th scope=col>&lt;fct&gt;</th><th scope=col>&lt;dbl&gt;</th></tr>\n",
       "</thead>\n",
       "<tbody>\n",
       "\t<tr><td>Hawaii       </td><td>West         </td><td>0.5145920</td></tr>\n",
       "\t<tr><td>Iowa         </td><td>North Central</td><td>0.6893484</td></tr>\n",
       "\t<tr><td>New Hampshire</td><td>Northeast    </td><td>0.3798036</td></tr>\n",
       "\t<tr><td>North Dakota </td><td>North Central</td><td>0.5947151</td></tr>\n",
       "\t<tr><td>Vermont      </td><td>Northeast    </td><td>0.3196211</td></tr>\n",
       "</tbody>\n",
       "</table>\n"
      ],
      "text/latex": [
       "A data.frame: 5 × 3\n",
       "\\begin{tabular}{lll}\n",
       " state & region & rate\\\\\n",
       " <chr> & <fct> & <dbl>\\\\\n",
       "\\hline\n",
       "\t Hawaii        & West          & 0.5145920\\\\\n",
       "\t Iowa          & North Central & 0.6893484\\\\\n",
       "\t New Hampshire & Northeast     & 0.3798036\\\\\n",
       "\t North Dakota  & North Central & 0.5947151\\\\\n",
       "\t Vermont       & Northeast     & 0.3196211\\\\\n",
       "\\end{tabular}\n"
      ],
      "text/markdown": [
       "\n",
       "A data.frame: 5 × 3\n",
       "\n",
       "| state &lt;chr&gt; | region &lt;fct&gt; | rate &lt;dbl&gt; |\n",
       "|---|---|---|\n",
       "| Hawaii        | West          | 0.5145920 |\n",
       "| Iowa          | North Central | 0.6893484 |\n",
       "| New Hampshire | Northeast     | 0.3798036 |\n",
       "| North Dakota  | North Central | 0.5947151 |\n",
       "| Vermont       | Northeast     | 0.3196211 |\n",
       "\n"
      ],
      "text/plain": [
       "  state         region        rate     \n",
       "1 Hawaii        West          0.5145920\n",
       "2 Iowa          North Central 0.6893484\n",
       "3 New Hampshire Northeast     0.3798036\n",
       "4 North Dakota  North Central 0.5947151\n",
       "5 Vermont       Northeast     0.3196211"
      ]
     },
     "metadata": {},
     "output_type": "display_data"
    }
   ],
   "source": [
    "new_table <- select(murders, state, region, rate)\n",
    "filter(new_table, rate <= 0.71)"
   ]
  },
  {
   "cell_type": "markdown",
   "metadata": {},
   "source": [
    "In the call to `select`, the first argument `murders` is an object, but `state`, `region`, and `rate` are variable names."
   ]
  },
  {
   "cell_type": "markdown",
   "metadata": {},
   "source": [
    "## 4.4 Exercises"
   ]
  },
  {
   "cell_type": "markdown",
   "metadata": {},
   "source": [
    " 1. Load the dplyr package and the murders dataset."
   ]
  },
  {
   "cell_type": "code",
   "execution_count": 12,
   "metadata": {},
   "outputs": [],
   "source": [
    "library(dplyr)\n",
    "library(dslabs)\n",
    "data(murders)"
   ]
  },
  {
   "cell_type": "markdown",
   "metadata": {},
   "source": [
    "You can add columns using the __dplyr__ function `mutate`. This function is aware of the column names and inside the function you can call them unquoted:"
   ]
  },
  {
   "cell_type": "code",
   "execution_count": 13,
   "metadata": {},
   "outputs": [],
   "source": [
    "murders <- mutate(murders, population_in_million = population / 10^6)"
   ]
  },
  {
   "cell_type": "markdown",
   "metadata": {},
   "source": [
    "We can write `population` rather than `murders$population`. The function mutate knows we are grabbing columns from `murders`.\n",
    "\n",
    "Use the function `mutate` to add a murders column named rate with the per 100,000 murder rate as in the example code above. Make sure you redefine `murders` as done in the example code above ( murders <- [your code]) so we can keep using this variable."
   ]
  },
  {
   "cell_type": "code",
   "execution_count": 14,
   "metadata": {},
   "outputs": [
    {
     "data": {
      "text/html": [
       "<table>\n",
       "<caption>A data.frame: 2 × 7</caption>\n",
       "<thead>\n",
       "\t<tr><th></th><th scope=col>state</th><th scope=col>abb</th><th scope=col>region</th><th scope=col>population</th><th scope=col>total</th><th scope=col>population_in_million</th><th scope=col>rate</th></tr>\n",
       "\t<tr><th></th><th scope=col>&lt;chr&gt;</th><th scope=col>&lt;chr&gt;</th><th scope=col>&lt;fct&gt;</th><th scope=col>&lt;dbl&gt;</th><th scope=col>&lt;dbl&gt;</th><th scope=col>&lt;dbl&gt;</th><th scope=col>&lt;dbl&gt;</th></tr>\n",
       "</thead>\n",
       "<tbody>\n",
       "\t<tr><th scope=row>1</th><td>Alabama</td><td>AL</td><td>South</td><td>4779736</td><td>135</td><td>4.779736</td><td>2.824424</td></tr>\n",
       "\t<tr><th scope=row>2</th><td>Alaska </td><td>AK</td><td>West </td><td> 710231</td><td> 19</td><td>0.710231</td><td>2.675186</td></tr>\n",
       "</tbody>\n",
       "</table>\n"
      ],
      "text/latex": [
       "A data.frame: 2 × 7\n",
       "\\begin{tabular}{r|lllllll}\n",
       "  & state & abb & region & population & total & population\\_in\\_million & rate\\\\\n",
       "  & <chr> & <chr> & <fct> & <dbl> & <dbl> & <dbl> & <dbl>\\\\\n",
       "\\hline\n",
       "\t1 & Alabama & AL & South & 4779736 & 135 & 4.779736 & 2.824424\\\\\n",
       "\t2 & Alaska  & AK & West  &  710231 &  19 & 0.710231 & 2.675186\\\\\n",
       "\\end{tabular}\n"
      ],
      "text/markdown": [
       "\n",
       "A data.frame: 2 × 7\n",
       "\n",
       "| <!--/--> | state &lt;chr&gt; | abb &lt;chr&gt; | region &lt;fct&gt; | population &lt;dbl&gt; | total &lt;dbl&gt; | population_in_million &lt;dbl&gt; | rate &lt;dbl&gt; |\n",
       "|---|---|---|---|---|---|---|---|\n",
       "| 1 | Alabama | AL | South | 4779736 | 135 | 4.779736 | 2.824424 |\n",
       "| 2 | Alaska  | AK | West  |  710231 |  19 | 0.710231 | 2.675186 |\n",
       "\n"
      ],
      "text/plain": [
       "  state   abb region population total population_in_million rate    \n",
       "1 Alabama AL  South  4779736    135   4.779736              2.824424\n",
       "2 Alaska  AK  West    710231     19   0.710231              2.675186"
      ]
     },
     "metadata": {},
     "output_type": "display_data"
    }
   ],
   "source": [
    "murders <- mutate(murders, rate = total / population * 100000)\n",
    "head(murders, 2)"
   ]
  },
  {
   "cell_type": "markdown",
   "metadata": {},
   "source": [
    "2. If `rank(x)` gives you the ranks of x from lowest to highest, `rank(-x)` gives you the ranks from highest to lowest. Use the function `mutate` to add a column rank containing the rank, from highest to lowest murder rate. Make sure you redefine `murders` so we can keep using this variable."
   ]
  },
  {
   "cell_type": "code",
   "execution_count": 15,
   "metadata": {},
   "outputs": [
    {
     "data": {
      "text/html": [
       "<table>\n",
       "<caption>A data.frame: 6 × 8</caption>\n",
       "<thead>\n",
       "\t<tr><th></th><th scope=col>state</th><th scope=col>abb</th><th scope=col>region</th><th scope=col>population</th><th scope=col>total</th><th scope=col>population_in_million</th><th scope=col>rate</th><th scope=col>rank</th></tr>\n",
       "\t<tr><th></th><th scope=col>&lt;chr&gt;</th><th scope=col>&lt;chr&gt;</th><th scope=col>&lt;fct&gt;</th><th scope=col>&lt;dbl&gt;</th><th scope=col>&lt;dbl&gt;</th><th scope=col>&lt;dbl&gt;</th><th scope=col>&lt;dbl&gt;</th><th scope=col>&lt;dbl&gt;</th></tr>\n",
       "</thead>\n",
       "<tbody>\n",
       "\t<tr><th scope=row>1</th><td>Alabama   </td><td>AL</td><td>South</td><td> 4779736</td><td> 135</td><td> 4.779736</td><td>2.824424</td><td>23</td></tr>\n",
       "\t<tr><th scope=row>2</th><td>Alaska    </td><td>AK</td><td>West </td><td>  710231</td><td>  19</td><td> 0.710231</td><td>2.675186</td><td>27</td></tr>\n",
       "\t<tr><th scope=row>3</th><td>Arizona   </td><td>AZ</td><td>West </td><td> 6392017</td><td> 232</td><td> 6.392017</td><td>3.629527</td><td>10</td></tr>\n",
       "\t<tr><th scope=row>4</th><td>Arkansas  </td><td>AR</td><td>South</td><td> 2915918</td><td>  93</td><td> 2.915918</td><td>3.189390</td><td>17</td></tr>\n",
       "\t<tr><th scope=row>5</th><td>California</td><td>CA</td><td>West </td><td>37253956</td><td>1257</td><td>37.253956</td><td>3.374138</td><td>14</td></tr>\n",
       "\t<tr><th scope=row>6</th><td>Colorado  </td><td>CO</td><td>West </td><td> 5029196</td><td>  65</td><td> 5.029196</td><td>1.292453</td><td>38</td></tr>\n",
       "</tbody>\n",
       "</table>\n"
      ],
      "text/latex": [
       "A data.frame: 6 × 8\n",
       "\\begin{tabular}{r|llllllll}\n",
       "  & state & abb & region & population & total & population\\_in\\_million & rate & rank\\\\\n",
       "  & <chr> & <chr> & <fct> & <dbl> & <dbl> & <dbl> & <dbl> & <dbl>\\\\\n",
       "\\hline\n",
       "\t1 & Alabama    & AL & South &  4779736 &  135 &  4.779736 & 2.824424 & 23\\\\\n",
       "\t2 & Alaska     & AK & West  &   710231 &   19 &  0.710231 & 2.675186 & 27\\\\\n",
       "\t3 & Arizona    & AZ & West  &  6392017 &  232 &  6.392017 & 3.629527 & 10\\\\\n",
       "\t4 & Arkansas   & AR & South &  2915918 &   93 &  2.915918 & 3.189390 & 17\\\\\n",
       "\t5 & California & CA & West  & 37253956 & 1257 & 37.253956 & 3.374138 & 14\\\\\n",
       "\t6 & Colorado   & CO & West  &  5029196 &   65 &  5.029196 & 1.292453 & 38\\\\\n",
       "\\end{tabular}\n"
      ],
      "text/markdown": [
       "\n",
       "A data.frame: 6 × 8\n",
       "\n",
       "| <!--/--> | state &lt;chr&gt; | abb &lt;chr&gt; | region &lt;fct&gt; | population &lt;dbl&gt; | total &lt;dbl&gt; | population_in_million &lt;dbl&gt; | rate &lt;dbl&gt; | rank &lt;dbl&gt; |\n",
       "|---|---|---|---|---|---|---|---|---|\n",
       "| 1 | Alabama    | AL | South |  4779736 |  135 |  4.779736 | 2.824424 | 23 |\n",
       "| 2 | Alaska     | AK | West  |   710231 |   19 |  0.710231 | 2.675186 | 27 |\n",
       "| 3 | Arizona    | AZ | West  |  6392017 |  232 |  6.392017 | 3.629527 | 10 |\n",
       "| 4 | Arkansas   | AR | South |  2915918 |   93 |  2.915918 | 3.189390 | 17 |\n",
       "| 5 | California | CA | West  | 37253956 | 1257 | 37.253956 | 3.374138 | 14 |\n",
       "| 6 | Colorado   | CO | West  |  5029196 |   65 |  5.029196 | 1.292453 | 38 |\n",
       "\n"
      ],
      "text/plain": [
       "  state      abb region population total population_in_million rate     rank\n",
       "1 Alabama    AL  South   4779736    135   4.779736             2.824424 23  \n",
       "2 Alaska     AK  West     710231     19   0.710231             2.675186 27  \n",
       "3 Arizona    AZ  West    6392017    232   6.392017             3.629527 10  \n",
       "4 Arkansas   AR  South   2915918     93   2.915918             3.189390 17  \n",
       "5 California CA  West   37253956   1257  37.253956             3.374138 14  \n",
       "6 Colorado   CO  West    5029196     65   5.029196             1.292453 38  "
      ]
     },
     "metadata": {},
     "output_type": "display_data"
    }
   ],
   "source": [
    "murders <- mutate(murders, rank = rank(-rate))\n",
    "head(murders)"
   ]
  },
  {
   "cell_type": "markdown",
   "metadata": {},
   "source": [
    "3. With __dplyr__, we can use `select` to show only certain columns. For example, with this code we would only show the states and population sizes:"
   ]
  },
  {
   "cell_type": "code",
   "execution_count": 16,
   "metadata": {},
   "outputs": [
    {
     "data": {
      "text/html": [
       "<table>\n",
       "<caption>A data.frame: 6 × 2</caption>\n",
       "<thead>\n",
       "\t<tr><th></th><th scope=col>state</th><th scope=col>population</th></tr>\n",
       "\t<tr><th></th><th scope=col>&lt;chr&gt;</th><th scope=col>&lt;dbl&gt;</th></tr>\n",
       "</thead>\n",
       "<tbody>\n",
       "\t<tr><th scope=row>1</th><td>Alabama   </td><td> 4779736</td></tr>\n",
       "\t<tr><th scope=row>2</th><td>Alaska    </td><td>  710231</td></tr>\n",
       "\t<tr><th scope=row>3</th><td>Arizona   </td><td> 6392017</td></tr>\n",
       "\t<tr><th scope=row>4</th><td>Arkansas  </td><td> 2915918</td></tr>\n",
       "\t<tr><th scope=row>5</th><td>California</td><td>37253956</td></tr>\n",
       "\t<tr><th scope=row>6</th><td>Colorado  </td><td> 5029196</td></tr>\n",
       "</tbody>\n",
       "</table>\n"
      ],
      "text/latex": [
       "A data.frame: 6 × 2\n",
       "\\begin{tabular}{r|ll}\n",
       "  & state & population\\\\\n",
       "  & <chr> & <dbl>\\\\\n",
       "\\hline\n",
       "\t1 & Alabama    &  4779736\\\\\n",
       "\t2 & Alaska     &   710231\\\\\n",
       "\t3 & Arizona    &  6392017\\\\\n",
       "\t4 & Arkansas   &  2915918\\\\\n",
       "\t5 & California & 37253956\\\\\n",
       "\t6 & Colorado   &  5029196\\\\\n",
       "\\end{tabular}\n"
      ],
      "text/markdown": [
       "\n",
       "A data.frame: 6 × 2\n",
       "\n",
       "| <!--/--> | state &lt;chr&gt; | population &lt;dbl&gt; |\n",
       "|---|---|---|\n",
       "| 1 | Alabama    |  4779736 |\n",
       "| 2 | Alaska     |   710231 |\n",
       "| 3 | Arizona    |  6392017 |\n",
       "| 4 | Arkansas   |  2915918 |\n",
       "| 5 | California | 37253956 |\n",
       "| 6 | Colorado   |  5029196 |\n",
       "\n"
      ],
      "text/plain": [
       "  state      population\n",
       "1 Alabama     4779736  \n",
       "2 Alaska       710231  \n",
       "3 Arizona     6392017  \n",
       "4 Arkansas    2915918  \n",
       "5 California 37253956  \n",
       "6 Colorado    5029196  "
      ]
     },
     "metadata": {},
     "output_type": "display_data"
    }
   ],
   "source": [
    "select(murders, state, population) %>% head()"
   ]
  },
  {
   "cell_type": "markdown",
   "metadata": {},
   "source": [
    "Use `select` to show the state names and abbreviations in `murders`. Do not redefine `murders`, just show the results."
   ]
  },
  {
   "cell_type": "code",
   "execution_count": 17,
   "metadata": {},
   "outputs": [
    {
     "data": {
      "text/html": [
       "<table>\n",
       "<caption>A data.frame: 6 × 2</caption>\n",
       "<thead>\n",
       "\t<tr><th></th><th scope=col>state</th><th scope=col>abb</th></tr>\n",
       "\t<tr><th></th><th scope=col>&lt;chr&gt;</th><th scope=col>&lt;chr&gt;</th></tr>\n",
       "</thead>\n",
       "<tbody>\n",
       "\t<tr><th scope=row>1</th><td>Alabama   </td><td>AL</td></tr>\n",
       "\t<tr><th scope=row>2</th><td>Alaska    </td><td>AK</td></tr>\n",
       "\t<tr><th scope=row>3</th><td>Arizona   </td><td>AZ</td></tr>\n",
       "\t<tr><th scope=row>4</th><td>Arkansas  </td><td>AR</td></tr>\n",
       "\t<tr><th scope=row>5</th><td>California</td><td>CA</td></tr>\n",
       "\t<tr><th scope=row>6</th><td>Colorado  </td><td>CO</td></tr>\n",
       "</tbody>\n",
       "</table>\n"
      ],
      "text/latex": [
       "A data.frame: 6 × 2\n",
       "\\begin{tabular}{r|ll}\n",
       "  & state & abb\\\\\n",
       "  & <chr> & <chr>\\\\\n",
       "\\hline\n",
       "\t1 & Alabama    & AL\\\\\n",
       "\t2 & Alaska     & AK\\\\\n",
       "\t3 & Arizona    & AZ\\\\\n",
       "\t4 & Arkansas   & AR\\\\\n",
       "\t5 & California & CA\\\\\n",
       "\t6 & Colorado   & CO\\\\\n",
       "\\end{tabular}\n"
      ],
      "text/markdown": [
       "\n",
       "A data.frame: 6 × 2\n",
       "\n",
       "| <!--/--> | state &lt;chr&gt; | abb &lt;chr&gt; |\n",
       "|---|---|---|\n",
       "| 1 | Alabama    | AL |\n",
       "| 2 | Alaska     | AK |\n",
       "| 3 | Arizona    | AZ |\n",
       "| 4 | Arkansas   | AR |\n",
       "| 5 | California | CA |\n",
       "| 6 | Colorado   | CO |\n",
       "\n"
      ],
      "text/plain": [
       "  state      abb\n",
       "1 Alabama    AL \n",
       "2 Alaska     AK \n",
       "3 Arizona    AZ \n",
       "4 Arkansas   AR \n",
       "5 California CA \n",
       "6 Colorado   CO "
      ]
     },
     "metadata": {},
     "output_type": "display_data"
    }
   ],
   "source": [
    "select(murders, state, abb) %>% head()"
   ]
  },
  {
   "cell_type": "markdown",
   "metadata": {},
   "source": [
    "4. The dplyr function filter is used to choose specific rows of the data frame to keep. Unlike select which is for columns, filter is for rows. For example, you can show just the New York row like this:"
   ]
  },
  {
   "cell_type": "code",
   "execution_count": 18,
   "metadata": {},
   "outputs": [
    {
     "data": {
      "text/html": [
       "<table>\n",
       "<caption>A data.frame: 1 × 8</caption>\n",
       "<thead>\n",
       "\t<tr><th scope=col>state</th><th scope=col>abb</th><th scope=col>region</th><th scope=col>population</th><th scope=col>total</th><th scope=col>population_in_million</th><th scope=col>rate</th><th scope=col>rank</th></tr>\n",
       "\t<tr><th scope=col>&lt;chr&gt;</th><th scope=col>&lt;chr&gt;</th><th scope=col>&lt;fct&gt;</th><th scope=col>&lt;dbl&gt;</th><th scope=col>&lt;dbl&gt;</th><th scope=col>&lt;dbl&gt;</th><th scope=col>&lt;dbl&gt;</th><th scope=col>&lt;dbl&gt;</th></tr>\n",
       "</thead>\n",
       "<tbody>\n",
       "\t<tr><td>New York</td><td>NY</td><td>Northeast</td><td>19378102</td><td>517</td><td>19.3781</td><td>2.66796</td><td>29</td></tr>\n",
       "</tbody>\n",
       "</table>\n"
      ],
      "text/latex": [
       "A data.frame: 1 × 8\n",
       "\\begin{tabular}{llllllll}\n",
       " state & abb & region & population & total & population\\_in\\_million & rate & rank\\\\\n",
       " <chr> & <chr> & <fct> & <dbl> & <dbl> & <dbl> & <dbl> & <dbl>\\\\\n",
       "\\hline\n",
       "\t New York & NY & Northeast & 19378102 & 517 & 19.3781 & 2.66796 & 29\\\\\n",
       "\\end{tabular}\n"
      ],
      "text/markdown": [
       "\n",
       "A data.frame: 1 × 8\n",
       "\n",
       "| state &lt;chr&gt; | abb &lt;chr&gt; | region &lt;fct&gt; | population &lt;dbl&gt; | total &lt;dbl&gt; | population_in_million &lt;dbl&gt; | rate &lt;dbl&gt; | rank &lt;dbl&gt; |\n",
       "|---|---|---|---|---|---|---|---|\n",
       "| New York | NY | Northeast | 19378102 | 517 | 19.3781 | 2.66796 | 29 |\n",
       "\n"
      ],
      "text/plain": [
       "  state    abb region    population total population_in_million rate    rank\n",
       "1 New York NY  Northeast 19378102   517   19.3781               2.66796 29  "
      ]
     },
     "metadata": {},
     "output_type": "display_data"
    }
   ],
   "source": [
    "filter(murders, state == \"New York\")"
   ]
  },
  {
   "cell_type": "markdown",
   "metadata": {},
   "source": [
    "You can use other logical vectors to filter rows.\n",
    "\n",
    "Use `filter` to show the top 5 states with the highest murder rates. After we add murder rate and rank, do not change the murders dataset, just show the result. Remember that you can filter based on the `rank` column."
   ]
  },
  {
   "cell_type": "code",
   "execution_count": 19,
   "metadata": {},
   "outputs": [
    {
     "data": {
      "text/html": [
       "<table>\n",
       "<caption>A data.frame: 5 × 3</caption>\n",
       "<thead>\n",
       "\t<tr><th scope=col>state</th><th scope=col>rate</th><th scope=col>rank</th></tr>\n",
       "\t<tr><th scope=col>&lt;chr&gt;</th><th scope=col>&lt;dbl&gt;</th><th scope=col>&lt;dbl&gt;</th></tr>\n",
       "</thead>\n",
       "<tbody>\n",
       "\t<tr><td>District of Columbia</td><td>16.452753</td><td>1</td></tr>\n",
       "\t<tr><td>Louisiana           </td><td> 7.742581</td><td>2</td></tr>\n",
       "\t<tr><td>Maryland            </td><td> 5.074866</td><td>4</td></tr>\n",
       "\t<tr><td>Missouri            </td><td> 5.359892</td><td>3</td></tr>\n",
       "\t<tr><td>South Carolina      </td><td> 4.475323</td><td>5</td></tr>\n",
       "</tbody>\n",
       "</table>\n"
      ],
      "text/latex": [
       "A data.frame: 5 × 3\n",
       "\\begin{tabular}{lll}\n",
       " state & rate & rank\\\\\n",
       " <chr> & <dbl> & <dbl>\\\\\n",
       "\\hline\n",
       "\t District of Columbia & 16.452753 & 1\\\\\n",
       "\t Louisiana            &  7.742581 & 2\\\\\n",
       "\t Maryland             &  5.074866 & 4\\\\\n",
       "\t Missouri             &  5.359892 & 3\\\\\n",
       "\t South Carolina       &  4.475323 & 5\\\\\n",
       "\\end{tabular}\n"
      ],
      "text/markdown": [
       "\n",
       "A data.frame: 5 × 3\n",
       "\n",
       "| state &lt;chr&gt; | rate &lt;dbl&gt; | rank &lt;dbl&gt; |\n",
       "|---|---|---|\n",
       "| District of Columbia | 16.452753 | 1 |\n",
       "| Louisiana            |  7.742581 | 2 |\n",
       "| Maryland             |  5.074866 | 4 |\n",
       "| Missouri             |  5.359892 | 3 |\n",
       "| South Carolina       |  4.475323 | 5 |\n",
       "\n"
      ],
      "text/plain": [
       "  state                rate      rank\n",
       "1 District of Columbia 16.452753 1   \n",
       "2 Louisiana             7.742581 2   \n",
       "3 Maryland              5.074866 4   \n",
       "4 Missouri              5.359892 3   \n",
       "5 South Carolina        4.475323 5   "
      ]
     },
     "metadata": {},
     "output_type": "display_data"
    }
   ],
   "source": [
    "a <- select(murders, state, rate, rank)\n",
    "filter(a, rank <= 5)"
   ]
  },
  {
   "cell_type": "markdown",
   "metadata": {},
   "source": [
    "5. We can remove rows using the `!=` operator. For example, to remove Florida, we would do this:"
   ]
  },
  {
   "cell_type": "code",
   "execution_count": 20,
   "metadata": {},
   "outputs": [],
   "source": [
    "no_florida <- filter(murders, state != \"Florida\" )"
   ]
  },
  {
   "cell_type": "markdown",
   "metadata": {},
   "source": [
    "Create a new data frame called `no_south` that removes states from the South region. How many states are in this category? You can use the function nrow for this."
   ]
  },
  {
   "cell_type": "code",
   "execution_count": 21,
   "metadata": {},
   "outputs": [
    {
     "data": {
      "text/html": [
       "34"
      ],
      "text/latex": [
       "34"
      ],
      "text/markdown": [
       "34"
      ],
      "text/plain": [
       "[1] 34"
      ]
     },
     "metadata": {},
     "output_type": "display_data"
    }
   ],
   "source": [
    "no_south <- filter(murders, region != \"South\")\n",
    "nrow(no_south)"
   ]
  },
  {
   "cell_type": "markdown",
   "metadata": {},
   "source": [
    "6. We can also use `%in%` to filter with __dplyr__. You can therefore see the data from New York and Texas like this:"
   ]
  },
  {
   "cell_type": "code",
   "execution_count": 22,
   "metadata": {},
   "outputs": [
    {
     "data": {
      "text/html": [
       "<table>\n",
       "<caption>A data.frame: 2 × 8</caption>\n",
       "<thead>\n",
       "\t<tr><th scope=col>state</th><th scope=col>abb</th><th scope=col>region</th><th scope=col>population</th><th scope=col>total</th><th scope=col>population_in_million</th><th scope=col>rate</th><th scope=col>rank</th></tr>\n",
       "\t<tr><th scope=col>&lt;chr&gt;</th><th scope=col>&lt;chr&gt;</th><th scope=col>&lt;fct&gt;</th><th scope=col>&lt;dbl&gt;</th><th scope=col>&lt;dbl&gt;</th><th scope=col>&lt;dbl&gt;</th><th scope=col>&lt;dbl&gt;</th><th scope=col>&lt;dbl&gt;</th></tr>\n",
       "</thead>\n",
       "<tbody>\n",
       "\t<tr><td>New York</td><td>NY</td><td>Northeast</td><td>19378102</td><td>517</td><td>19.37810</td><td>2.66796</td><td>29</td></tr>\n",
       "\t<tr><td>Texas   </td><td>TX</td><td>South    </td><td>25145561</td><td>805</td><td>25.14556</td><td>3.20136</td><td>16</td></tr>\n",
       "</tbody>\n",
       "</table>\n"
      ],
      "text/latex": [
       "A data.frame: 2 × 8\n",
       "\\begin{tabular}{llllllll}\n",
       " state & abb & region & population & total & population\\_in\\_million & rate & rank\\\\\n",
       " <chr> & <chr> & <fct> & <dbl> & <dbl> & <dbl> & <dbl> & <dbl>\\\\\n",
       "\\hline\n",
       "\t New York & NY & Northeast & 19378102 & 517 & 19.37810 & 2.66796 & 29\\\\\n",
       "\t Texas    & TX & South     & 25145561 & 805 & 25.14556 & 3.20136 & 16\\\\\n",
       "\\end{tabular}\n"
      ],
      "text/markdown": [
       "\n",
       "A data.frame: 2 × 8\n",
       "\n",
       "| state &lt;chr&gt; | abb &lt;chr&gt; | region &lt;fct&gt; | population &lt;dbl&gt; | total &lt;dbl&gt; | population_in_million &lt;dbl&gt; | rate &lt;dbl&gt; | rank &lt;dbl&gt; |\n",
       "|---|---|---|---|---|---|---|---|\n",
       "| New York | NY | Northeast | 19378102 | 517 | 19.37810 | 2.66796 | 29 |\n",
       "| Texas    | TX | South     | 25145561 | 805 | 25.14556 | 3.20136 | 16 |\n",
       "\n"
      ],
      "text/plain": [
       "  state    abb region    population total population_in_million rate    rank\n",
       "1 New York NY  Northeast 19378102   517   19.37810              2.66796 29  \n",
       "2 Texas    TX  South     25145561   805   25.14556              3.20136 16  "
      ]
     },
     "metadata": {},
     "output_type": "display_data"
    }
   ],
   "source": [
    "filter(murders, state %in% c(\"New York\", \"Texas\"))"
   ]
  },
  {
   "cell_type": "markdown",
   "metadata": {},
   "source": [
    "Create a new data frame called `murders_nw` with only the states from the Northeast and the West. How many states are in this category?"
   ]
  },
  {
   "cell_type": "code",
   "execution_count": 23,
   "metadata": {},
   "outputs": [
    {
     "data": {
      "text/html": [
       "22"
      ],
      "text/latex": [
       "22"
      ],
      "text/markdown": [
       "22"
      ],
      "text/plain": [
       "[1] 22"
      ]
     },
     "metadata": {},
     "output_type": "display_data"
    }
   ],
   "source": [
    "murders_nw <- filter(murders, region %in% c(\"Northeast\", \"West\"))\n",
    "nrow(murders_nw)"
   ]
  },
  {
   "cell_type": "markdown",
   "metadata": {},
   "source": [
    "7. Suppose you want to live in the Northeast or West and want the murder rate to be less than 1. We want to see the data for the states satisfying these options. Note that you can use logical operators with `filter`. Here is an example in which we filter to keep only small states in the Northeast region."
   ]
  },
  {
   "cell_type": "code",
   "execution_count": 24,
   "metadata": {},
   "outputs": [
    {
     "data": {
      "text/html": [
       "<table>\n",
       "<caption>A data.frame: 0 × 8</caption>\n",
       "<thead>\n",
       "\t<tr><th scope=col>state</th><th scope=col>abb</th><th scope=col>region</th><th scope=col>population</th><th scope=col>total</th><th scope=col>population_in_million</th><th scope=col>rate</th><th scope=col>rank</th></tr>\n",
       "\t<tr><th scope=col>&lt;chr&gt;</th><th scope=col>&lt;chr&gt;</th><th scope=col>&lt;fct&gt;</th><th scope=col>&lt;dbl&gt;</th><th scope=col>&lt;dbl&gt;</th><th scope=col>&lt;dbl&gt;</th><th scope=col>&lt;dbl&gt;</th><th scope=col>&lt;dbl&gt;</th></tr>\n",
       "</thead>\n",
       "<tbody>\n",
       "</tbody>\n",
       "</table>\n"
      ],
      "text/latex": [
       "A data.frame: 0 × 8\n",
       "\\begin{tabular}{llllllll}\n",
       " state & abb & region & population & total & population\\_in\\_million & rate & rank\\\\\n",
       " <chr> & <chr> & <fct> & <dbl> & <dbl> & <dbl> & <dbl> & <dbl>\\\\\n",
       "\\hline\n",
       "\\end{tabular}\n"
      ],
      "text/markdown": [
       "\n",
       "A data.frame: 0 × 8\n",
       "\n",
       "| state &lt;chr&gt; | abb &lt;chr&gt; | region &lt;fct&gt; | population &lt;dbl&gt; | total &lt;dbl&gt; | population_in_million &lt;dbl&gt; | rate &lt;dbl&gt; | rank &lt;dbl&gt; |\n",
       "|---|---|---|---|---|---|---|---|\n",
       "\n"
      ],
      "text/plain": [
       "     state abb region population total population_in_million rate rank"
      ]
     },
     "metadata": {},
     "output_type": "display_data"
    }
   ],
   "source": [
    "filter(murders, population <5000000 & region == \"Nortrheast\")"
   ]
  },
  {
   "cell_type": "markdown",
   "metadata": {},
   "source": [
    "Make sure `murders` has been defined with `rate` and `rank` and still has all states. Create a table called `my_states` that contains rows for states satisfying both the conditions: it is in the Northeast or West and the murder rate is less than 1. Use `select` to show only the state name, the rate, and the rank."
   ]
  },
  {
   "cell_type": "code",
   "execution_count": 25,
   "metadata": {},
   "outputs": [
    {
     "data": {
      "text/html": [
       "<table>\n",
       "<caption>A data.frame: 8 × 3</caption>\n",
       "<thead>\n",
       "\t<tr><th scope=col>state</th><th scope=col>rate</th><th scope=col>rank</th></tr>\n",
       "\t<tr><th scope=col>&lt;chr&gt;</th><th scope=col>&lt;dbl&gt;</th><th scope=col>&lt;dbl&gt;</th></tr>\n",
       "</thead>\n",
       "<tbody>\n",
       "\t<tr><td>Hawaii       </td><td>0.5145920</td><td>49</td></tr>\n",
       "\t<tr><td>Idaho        </td><td>0.7655102</td><td>46</td></tr>\n",
       "\t<tr><td>Maine        </td><td>0.8280881</td><td>44</td></tr>\n",
       "\t<tr><td>New Hampshire</td><td>0.3798036</td><td>50</td></tr>\n",
       "\t<tr><td>Oregon       </td><td>0.9396843</td><td>42</td></tr>\n",
       "\t<tr><td>Utah         </td><td>0.7959810</td><td>45</td></tr>\n",
       "\t<tr><td>Vermont      </td><td>0.3196211</td><td>51</td></tr>\n",
       "\t<tr><td>Wyoming      </td><td>0.8871131</td><td>43</td></tr>\n",
       "</tbody>\n",
       "</table>\n"
      ],
      "text/latex": [
       "A data.frame: 8 × 3\n",
       "\\begin{tabular}{lll}\n",
       " state & rate & rank\\\\\n",
       " <chr> & <dbl> & <dbl>\\\\\n",
       "\\hline\n",
       "\t Hawaii        & 0.5145920 & 49\\\\\n",
       "\t Idaho         & 0.7655102 & 46\\\\\n",
       "\t Maine         & 0.8280881 & 44\\\\\n",
       "\t New Hampshire & 0.3798036 & 50\\\\\n",
       "\t Oregon        & 0.9396843 & 42\\\\\n",
       "\t Utah          & 0.7959810 & 45\\\\\n",
       "\t Vermont       & 0.3196211 & 51\\\\\n",
       "\t Wyoming       & 0.8871131 & 43\\\\\n",
       "\\end{tabular}\n"
      ],
      "text/markdown": [
       "\n",
       "A data.frame: 8 × 3\n",
       "\n",
       "| state &lt;chr&gt; | rate &lt;dbl&gt; | rank &lt;dbl&gt; |\n",
       "|---|---|---|\n",
       "| Hawaii        | 0.5145920 | 49 |\n",
       "| Idaho         | 0.7655102 | 46 |\n",
       "| Maine         | 0.8280881 | 44 |\n",
       "| New Hampshire | 0.3798036 | 50 |\n",
       "| Oregon        | 0.9396843 | 42 |\n",
       "| Utah          | 0.7959810 | 45 |\n",
       "| Vermont       | 0.3196211 | 51 |\n",
       "| Wyoming       | 0.8871131 | 43 |\n",
       "\n"
      ],
      "text/plain": [
       "  state         rate      rank\n",
       "1 Hawaii        0.5145920 49  \n",
       "2 Idaho         0.7655102 46  \n",
       "3 Maine         0.8280881 44  \n",
       "4 New Hampshire 0.3798036 50  \n",
       "5 Oregon        0.9396843 42  \n",
       "6 Utah          0.7959810 45  \n",
       "7 Vermont       0.3196211 51  \n",
       "8 Wyoming       0.8871131 43  "
      ]
     },
     "metadata": {},
     "output_type": "display_data"
    }
   ],
   "source": [
    "my_state <- filter(murders, region %in% c(\"Northeast\", \"West\") & rate < 1)\n",
    "select(my_state, state, rate, rank)"
   ]
  },
  {
   "cell_type": "markdown",
   "metadata": {},
   "source": [
    "### 4.5 The pipe: `%>%`\n",
    "\n",
    "With __dplyr__ we cna perfomr a series of operations, for example `select` and then `filter`, by sending the result of one funciton to another using what is called the _pipe operator_. `%>%`. Some details are included below.\n",
    "\n",
    "We wrote code above to show three variables (state, region, rate) for states that have murder rates below 0.71. To do this, we defined the intermediate object `new_table`. In __dplyr__ we can write code that looks more like a description of what we want to do without intermediate objects:\n",
    "\n",
    "$$ origianl \\ data → select → filter$$\n",
    "\n",
    "For such an operation, we can use the pipe `%>%`. The code looks like this:"
   ]
  },
  {
   "cell_type": "code",
   "execution_count": 26,
   "metadata": {},
   "outputs": [
    {
     "data": {
      "text/html": [
       "<table>\n",
       "<caption>A data.frame: 5 × 3</caption>\n",
       "<thead>\n",
       "\t<tr><th scope=col>state</th><th scope=col>region</th><th scope=col>rate</th></tr>\n",
       "\t<tr><th scope=col>&lt;chr&gt;</th><th scope=col>&lt;fct&gt;</th><th scope=col>&lt;dbl&gt;</th></tr>\n",
       "</thead>\n",
       "<tbody>\n",
       "\t<tr><td>Hawaii       </td><td>West         </td><td>0.5145920</td></tr>\n",
       "\t<tr><td>Iowa         </td><td>North Central</td><td>0.6893484</td></tr>\n",
       "\t<tr><td>New Hampshire</td><td>Northeast    </td><td>0.3798036</td></tr>\n",
       "\t<tr><td>North Dakota </td><td>North Central</td><td>0.5947151</td></tr>\n",
       "\t<tr><td>Vermont      </td><td>Northeast    </td><td>0.3196211</td></tr>\n",
       "</tbody>\n",
       "</table>\n"
      ],
      "text/latex": [
       "A data.frame: 5 × 3\n",
       "\\begin{tabular}{lll}\n",
       " state & region & rate\\\\\n",
       " <chr> & <fct> & <dbl>\\\\\n",
       "\\hline\n",
       "\t Hawaii        & West          & 0.5145920\\\\\n",
       "\t Iowa          & North Central & 0.6893484\\\\\n",
       "\t New Hampshire & Northeast     & 0.3798036\\\\\n",
       "\t North Dakota  & North Central & 0.5947151\\\\\n",
       "\t Vermont       & Northeast     & 0.3196211\\\\\n",
       "\\end{tabular}\n"
      ],
      "text/markdown": [
       "\n",
       "A data.frame: 5 × 3\n",
       "\n",
       "| state &lt;chr&gt; | region &lt;fct&gt; | rate &lt;dbl&gt; |\n",
       "|---|---|---|\n",
       "| Hawaii        | West          | 0.5145920 |\n",
       "| Iowa          | North Central | 0.6893484 |\n",
       "| New Hampshire | Northeast     | 0.3798036 |\n",
       "| North Dakota  | North Central | 0.5947151 |\n",
       "| Vermont       | Northeast     | 0.3196211 |\n",
       "\n"
      ],
      "text/plain": [
       "  state         region        rate     \n",
       "1 Hawaii        West          0.5145920\n",
       "2 Iowa          North Central 0.6893484\n",
       "3 New Hampshire Northeast     0.3798036\n",
       "4 North Dakota  North Central 0.5947151\n",
       "5 Vermont       Northeast     0.3196211"
      ]
     },
     "metadata": {},
     "output_type": "display_data"
    }
   ],
   "source": [
    "murders %>% select(state, region, rate) %>% filter(rate <= 0.71)"
   ]
  },
  {
   "cell_type": "markdown",
   "metadata": {},
   "source": [
    "This line of code is equivalent to the two lines of code above. What is going on here?\n",
    "\n",
    "In general, the pipe _sends_ the result of the left side of the pipe to be the first argument of the functino on the right side of the pipe. Here is a very simple example:"
   ]
  },
  {
   "cell_type": "code",
   "execution_count": 27,
   "metadata": {},
   "outputs": [
    {
     "data": {
      "text/html": [
       "4"
      ],
      "text/latex": [
       "4"
      ],
      "text/markdown": [
       "4"
      ],
      "text/plain": [
       "[1] 4"
      ]
     },
     "metadata": {},
     "output_type": "display_data"
    }
   ],
   "source": [
    "16 %>% sqrt()"
   ]
  },
  {
   "cell_type": "markdown",
   "metadata": {},
   "source": [
    "We can continue to pipe values along:"
   ]
  },
  {
   "cell_type": "code",
   "execution_count": 28,
   "metadata": {},
   "outputs": [
    {
     "data": {
      "text/html": [
       "2"
      ],
      "text/latex": [
       "2"
      ],
      "text/markdown": [
       "2"
      ],
      "text/plain": [
       "[1] 2"
      ]
     },
     "metadata": {},
     "output_type": "display_data"
    }
   ],
   "source": [
    "16 %>% sqrt() %>% log2()"
   ]
  },
  {
   "cell_type": "markdown",
   "metadata": {},
   "source": [
    "The above statement is equivalent to `log2(sqrt(16))`.\n",
    "\n",
    "Remember that the pipe send value to the first argument, so we can define other arguments as if the first argument is already defined:"
   ]
  },
  {
   "cell_type": "code",
   "execution_count": 29,
   "metadata": {},
   "outputs": [
    {
     "data": {
      "text/html": [
       "2"
      ],
      "text/latex": [
       "2"
      ],
      "text/markdown": [
       "2"
      ],
      "text/plain": [
       "[1] 2"
      ]
     },
     "metadata": {},
     "output_type": "display_data"
    }
   ],
   "source": [
    "16 %>% sqrt() %>% log(base = 2)"
   ]
  },
  {
   "cell_type": "markdown",
   "metadata": {},
   "source": [
    "Therefore, when we using the pipe with data frames and __dplyr__, we no longer to need to specify the required first argument sine the __dplyr__ functions we have described all take the data as the first argument. In the code we wrote:"
   ]
  },
  {
   "cell_type": "code",
   "execution_count": 30,
   "metadata": {},
   "outputs": [
    {
     "data": {
      "text/html": [
       "<table>\n",
       "<caption>A data.frame: 5 × 3</caption>\n",
       "<thead>\n",
       "\t<tr><th scope=col>state</th><th scope=col>region</th><th scope=col>rate</th></tr>\n",
       "\t<tr><th scope=col>&lt;chr&gt;</th><th scope=col>&lt;fct&gt;</th><th scope=col>&lt;dbl&gt;</th></tr>\n",
       "</thead>\n",
       "<tbody>\n",
       "\t<tr><td>Hawaii       </td><td>West         </td><td>0.5145920</td></tr>\n",
       "\t<tr><td>Iowa         </td><td>North Central</td><td>0.6893484</td></tr>\n",
       "\t<tr><td>New Hampshire</td><td>Northeast    </td><td>0.3798036</td></tr>\n",
       "\t<tr><td>North Dakota </td><td>North Central</td><td>0.5947151</td></tr>\n",
       "\t<tr><td>Vermont      </td><td>Northeast    </td><td>0.3196211</td></tr>\n",
       "</tbody>\n",
       "</table>\n"
      ],
      "text/latex": [
       "A data.frame: 5 × 3\n",
       "\\begin{tabular}{lll}\n",
       " state & region & rate\\\\\n",
       " <chr> & <fct> & <dbl>\\\\\n",
       "\\hline\n",
       "\t Hawaii        & West          & 0.5145920\\\\\n",
       "\t Iowa          & North Central & 0.6893484\\\\\n",
       "\t New Hampshire & Northeast     & 0.3798036\\\\\n",
       "\t North Dakota  & North Central & 0.5947151\\\\\n",
       "\t Vermont       & Northeast     & 0.3196211\\\\\n",
       "\\end{tabular}\n"
      ],
      "text/markdown": [
       "\n",
       "A data.frame: 5 × 3\n",
       "\n",
       "| state &lt;chr&gt; | region &lt;fct&gt; | rate &lt;dbl&gt; |\n",
       "|---|---|---|\n",
       "| Hawaii        | West          | 0.5145920 |\n",
       "| Iowa          | North Central | 0.6893484 |\n",
       "| New Hampshire | Northeast     | 0.3798036 |\n",
       "| North Dakota  | North Central | 0.5947151 |\n",
       "| Vermont       | Northeast     | 0.3196211 |\n",
       "\n"
      ],
      "text/plain": [
       "  state         region        rate     \n",
       "1 Hawaii        West          0.5145920\n",
       "2 Iowa          North Central 0.6893484\n",
       "3 New Hampshire Northeast     0.3798036\n",
       "4 North Dakota  North Central 0.5947151\n",
       "5 Vermont       Northeast     0.3196211"
      ]
     },
     "metadata": {},
     "output_type": "display_data"
    }
   ],
   "source": [
    "murders %>% select(state, region, rate) %>% filter(rate <= 0.71)"
   ]
  },
  {
   "cell_type": "markdown",
   "metadata": {},
   "source": [
    "`murders` is the first argument of the `select` function, and the new data frame (formerly `new_table`) is the first argument of the `filter` function.\n",
    "\n",
    "Note that the pipe works well with functions where the first argument is the input data. Functions in __tidyverse__ packages like __dplyr__ have this format and can be used easily with the pipe."
   ]
  },
  {
   "cell_type": "markdown",
   "metadata": {},
   "source": [
    "## 4.6 Exercises\n",
    "\n",
    "\n",
    "1. The pipe `%>%` can be used to perform operations sequentially  without having to define intermediate objects. Start by redefining murder to include rate and rank."
   ]
  },
  {
   "cell_type": "code",
   "execution_count": 31,
   "metadata": {},
   "outputs": [],
   "source": [
    "data(murders)\n",
    "murders <- mutate(murders, rate = total / population * 100000, rank = rank(-rate))"
   ]
  },
  {
   "cell_type": "markdown",
   "metadata": {},
   "source": [
    "In the solution to the previous exercise, we did the following:"
   ]
  },
  {
   "cell_type": "code",
   "execution_count": 32,
   "metadata": {},
   "outputs": [
    {
     "data": {
      "text/html": [
       "<table>\n",
       "<caption>A data.frame: 8 × 3</caption>\n",
       "<thead>\n",
       "\t<tr><th scope=col>state</th><th scope=col>rate</th><th scope=col>rank</th></tr>\n",
       "\t<tr><th scope=col>&lt;chr&gt;</th><th scope=col>&lt;dbl&gt;</th><th scope=col>&lt;dbl&gt;</th></tr>\n",
       "</thead>\n",
       "<tbody>\n",
       "\t<tr><td>Hawaii       </td><td>0.5145920</td><td>49</td></tr>\n",
       "\t<tr><td>Idaho        </td><td>0.7655102</td><td>46</td></tr>\n",
       "\t<tr><td>Maine        </td><td>0.8280881</td><td>44</td></tr>\n",
       "\t<tr><td>New Hampshire</td><td>0.3798036</td><td>50</td></tr>\n",
       "\t<tr><td>Oregon       </td><td>0.9396843</td><td>42</td></tr>\n",
       "\t<tr><td>Utah         </td><td>0.7959810</td><td>45</td></tr>\n",
       "\t<tr><td>Vermont      </td><td>0.3196211</td><td>51</td></tr>\n",
       "\t<tr><td>Wyoming      </td><td>0.8871131</td><td>43</td></tr>\n",
       "</tbody>\n",
       "</table>\n"
      ],
      "text/latex": [
       "A data.frame: 8 × 3\n",
       "\\begin{tabular}{lll}\n",
       " state & rate & rank\\\\\n",
       " <chr> & <dbl> & <dbl>\\\\\n",
       "\\hline\n",
       "\t Hawaii        & 0.5145920 & 49\\\\\n",
       "\t Idaho         & 0.7655102 & 46\\\\\n",
       "\t Maine         & 0.8280881 & 44\\\\\n",
       "\t New Hampshire & 0.3798036 & 50\\\\\n",
       "\t Oregon        & 0.9396843 & 42\\\\\n",
       "\t Utah          & 0.7959810 & 45\\\\\n",
       "\t Vermont       & 0.3196211 & 51\\\\\n",
       "\t Wyoming       & 0.8871131 & 43\\\\\n",
       "\\end{tabular}\n"
      ],
      "text/markdown": [
       "\n",
       "A data.frame: 8 × 3\n",
       "\n",
       "| state &lt;chr&gt; | rate &lt;dbl&gt; | rank &lt;dbl&gt; |\n",
       "|---|---|---|\n",
       "| Hawaii        | 0.5145920 | 49 |\n",
       "| Idaho         | 0.7655102 | 46 |\n",
       "| Maine         | 0.8280881 | 44 |\n",
       "| New Hampshire | 0.3798036 | 50 |\n",
       "| Oregon        | 0.9396843 | 42 |\n",
       "| Utah          | 0.7959810 | 45 |\n",
       "| Vermont       | 0.3196211 | 51 |\n",
       "| Wyoming       | 0.8871131 | 43 |\n",
       "\n"
      ],
      "text/plain": [
       "  state         rate      rank\n",
       "1 Hawaii        0.5145920 49  \n",
       "2 Idaho         0.7655102 46  \n",
       "3 Maine         0.8280881 44  \n",
       "4 New Hampshire 0.3798036 50  \n",
       "5 Oregon        0.9396843 42  \n",
       "6 Utah          0.7959810 45  \n",
       "7 Vermont       0.3196211 51  \n",
       "8 Wyoming       0.8871131 43  "
      ]
     },
     "metadata": {},
     "output_type": "display_data"
    }
   ],
   "source": [
    "my_state <- filter(murders, region %in% c(\"Northeast\", \"West\") & rate < 1)\n",
    "select(my_state, state, rate, rank)"
   ]
  },
  {
   "cell_type": "markdown",
   "metadata": {},
   "source": [
    "The pipe `%>%` permits us to perform both operations sequentially without having to define an intermediate variable `my_state`. We therefore could have mutated and selected in the same line like this:"
   ]
  },
  {
   "cell_type": "code",
   "execution_count": 138,
   "metadata": {},
   "outputs": [
    {
     "data": {
      "text/html": [
       "<table>\n",
       "<caption>A data.frame: 6 × 3</caption>\n",
       "<thead>\n",
       "\t<tr><th></th><th scope=col>state</th><th scope=col>rate</th><th scope=col>rank</th></tr>\n",
       "\t<tr><th></th><th scope=col>&lt;chr&gt;</th><th scope=col>&lt;dbl&gt;</th><th scope=col>&lt;dbl&gt;</th></tr>\n",
       "</thead>\n",
       "<tbody>\n",
       "\t<tr><th scope=row>1</th><td>Alabama   </td><td>2.824424</td><td>23</td></tr>\n",
       "\t<tr><th scope=row>2</th><td>Alaska    </td><td>2.675186</td><td>27</td></tr>\n",
       "\t<tr><th scope=row>3</th><td>Arizona   </td><td>3.629527</td><td>10</td></tr>\n",
       "\t<tr><th scope=row>4</th><td>Arkansas  </td><td>3.189390</td><td>17</td></tr>\n",
       "\t<tr><th scope=row>5</th><td>California</td><td>3.374138</td><td>14</td></tr>\n",
       "\t<tr><th scope=row>6</th><td>Colorado  </td><td>1.292453</td><td>38</td></tr>\n",
       "</tbody>\n",
       "</table>\n"
      ],
      "text/latex": [
       "A data.frame: 6 × 3\n",
       "\\begin{tabular}{r|lll}\n",
       "  & state & rate & rank\\\\\n",
       "  & <chr> & <dbl> & <dbl>\\\\\n",
       "\\hline\n",
       "\t1 & Alabama    & 2.824424 & 23\\\\\n",
       "\t2 & Alaska     & 2.675186 & 27\\\\\n",
       "\t3 & Arizona    & 3.629527 & 10\\\\\n",
       "\t4 & Arkansas   & 3.189390 & 17\\\\\n",
       "\t5 & California & 3.374138 & 14\\\\\n",
       "\t6 & Colorado   & 1.292453 & 38\\\\\n",
       "\\end{tabular}\n"
      ],
      "text/markdown": [
       "\n",
       "A data.frame: 6 × 3\n",
       "\n",
       "| <!--/--> | state &lt;chr&gt; | rate &lt;dbl&gt; | rank &lt;dbl&gt; |\n",
       "|---|---|---|---|\n",
       "| 1 | Alabama    | 2.824424 | 23 |\n",
       "| 2 | Alaska     | 2.675186 | 27 |\n",
       "| 3 | Arizona    | 3.629527 | 10 |\n",
       "| 4 | Arkansas   | 3.189390 | 17 |\n",
       "| 5 | California | 3.374138 | 14 |\n",
       "| 6 | Colorado   | 1.292453 | 38 |\n",
       "\n"
      ],
      "text/plain": [
       "  state      rate     rank\n",
       "1 Alabama    2.824424 23  \n",
       "2 Alaska     2.675186 27  \n",
       "3 Arizona    3.629527 10  \n",
       "4 Arkansas   3.189390 17  \n",
       "5 California 3.374138 14  \n",
       "6 Colorado   1.292453 38  "
      ]
     },
     "metadata": {},
     "output_type": "display_data"
    }
   ],
   "source": [
    "mutate(murders, rate = total /population * 100000, rank = rank(-rate)) %>% select(state, rate, rank) %>% head()"
   ]
  },
  {
   "cell_type": "markdown",
   "metadata": {},
   "source": [
    "Notice that `select` no longer have a data frame as the first argument. The first argument is assumed to be the result of the operation conducted right before the `%>%`.\n",
    "\n",
    "Repeat the previous exercise, but now instead of creating a new object, show the result and only include the state, rate and rank columns.Use a pipe `%>%` to do this in just one line."
   ]
  },
  {
   "cell_type": "code",
   "execution_count": 140,
   "metadata": {},
   "outputs": [
    {
     "data": {
      "text/html": [
       "<table>\n",
       "<caption>A data.frame: 6 × 3</caption>\n",
       "<thead>\n",
       "\t<tr><th></th><th scope=col>state</th><th scope=col>rate</th><th scope=col>rank</th></tr>\n",
       "\t<tr><th></th><th scope=col>&lt;chr&gt;</th><th scope=col>&lt;dbl&gt;</th><th scope=col>&lt;dbl&gt;</th></tr>\n",
       "</thead>\n",
       "<tbody>\n",
       "\t<tr><th scope=row>1</th><td>Alaska     </td><td>2.675186</td><td>27</td></tr>\n",
       "\t<tr><th scope=row>2</th><td>Arizona    </td><td>3.629527</td><td>10</td></tr>\n",
       "\t<tr><th scope=row>3</th><td>California </td><td>3.374138</td><td>14</td></tr>\n",
       "\t<tr><th scope=row>4</th><td>Colorado   </td><td>1.292453</td><td>38</td></tr>\n",
       "\t<tr><th scope=row>5</th><td>Connecticut</td><td>2.713972</td><td>25</td></tr>\n",
       "\t<tr><th scope=row>6</th><td>Hawaii     </td><td>0.514592</td><td>49</td></tr>\n",
       "</tbody>\n",
       "</table>\n"
      ],
      "text/latex": [
       "A data.frame: 6 × 3\n",
       "\\begin{tabular}{r|lll}\n",
       "  & state & rate & rank\\\\\n",
       "  & <chr> & <dbl> & <dbl>\\\\\n",
       "\\hline\n",
       "\t1 & Alaska      & 2.675186 & 27\\\\\n",
       "\t2 & Arizona     & 3.629527 & 10\\\\\n",
       "\t3 & California  & 3.374138 & 14\\\\\n",
       "\t4 & Colorado    & 1.292453 & 38\\\\\n",
       "\t5 & Connecticut & 2.713972 & 25\\\\\n",
       "\t6 & Hawaii      & 0.514592 & 49\\\\\n",
       "\\end{tabular}\n"
      ],
      "text/markdown": [
       "\n",
       "A data.frame: 6 × 3\n",
       "\n",
       "| <!--/--> | state &lt;chr&gt; | rate &lt;dbl&gt; | rank &lt;dbl&gt; |\n",
       "|---|---|---|---|\n",
       "| 1 | Alaska      | 2.675186 | 27 |\n",
       "| 2 | Arizona     | 3.629527 | 10 |\n",
       "| 3 | California  | 3.374138 | 14 |\n",
       "| 4 | Colorado    | 1.292453 | 38 |\n",
       "| 5 | Connecticut | 2.713972 | 25 |\n",
       "| 6 | Hawaii      | 0.514592 | 49 |\n",
       "\n"
      ],
      "text/plain": [
       "  state       rate     rank\n",
       "1 Alaska      2.675186 27  \n",
       "2 Arizona     3.629527 10  \n",
       "3 California  3.374138 14  \n",
       "4 Colorado    1.292453 38  \n",
       "5 Connecticut 2.713972 25  \n",
       "6 Hawaii      0.514592 49  "
      ]
     },
     "metadata": {},
     "output_type": "display_data"
    }
   ],
   "source": [
    "data(murders)\n",
    "mutate(murders, rate = total / population *100000, rank = rank(-rate)) %>% \n",
    "    filter(region %in% c(\"Northeast\", \"West\"))%>% \n",
    "    select(state, rate, rank)%>% \n",
    "    head()"
   ]
  },
  {
   "cell_type": "markdown",
   "metadata": {},
   "source": [
    "2. Reset `murders` to the original table by using `data(murders)`. Use a pipe to create a new data frame called `my_states` that considers only states in the Northeast or West which have a murder rate lower than 1, and contains only the state, rate and rank columns. The pipe should also have four components separated by three %>%. The code should look something like this:"
   ]
  },
  {
   "cell_type": "code",
   "execution_count": null,
   "metadata": {},
   "outputs": [],
   "source": [
    "#my_states <- murders %>%\n",
    "#  mutate SOMETHING %>% \n",
    "#  filter SOMETHING %>% \n",
    "#  select SOMETHING"
   ]
  },
  {
   "cell_type": "code",
   "execution_count": 35,
   "metadata": {},
   "outputs": [
    {
     "data": {
      "text/html": [
       "<table>\n",
       "<caption>A data.frame: 8 × 3</caption>\n",
       "<thead>\n",
       "\t<tr><th scope=col>state</th><th scope=col>rate</th><th scope=col>rank</th></tr>\n",
       "\t<tr><th scope=col>&lt;chr&gt;</th><th scope=col>&lt;dbl&gt;</th><th scope=col>&lt;dbl&gt;</th></tr>\n",
       "</thead>\n",
       "<tbody>\n",
       "\t<tr><td>Hawaii       </td><td>0.5145920</td><td>49</td></tr>\n",
       "\t<tr><td>Idaho        </td><td>0.7655102</td><td>46</td></tr>\n",
       "\t<tr><td>Maine        </td><td>0.8280881</td><td>44</td></tr>\n",
       "\t<tr><td>New Hampshire</td><td>0.3798036</td><td>50</td></tr>\n",
       "\t<tr><td>Oregon       </td><td>0.9396843</td><td>42</td></tr>\n",
       "\t<tr><td>Utah         </td><td>0.7959810</td><td>45</td></tr>\n",
       "\t<tr><td>Vermont      </td><td>0.3196211</td><td>51</td></tr>\n",
       "\t<tr><td>Wyoming      </td><td>0.8871131</td><td>43</td></tr>\n",
       "</tbody>\n",
       "</table>\n"
      ],
      "text/latex": [
       "A data.frame: 8 × 3\n",
       "\\begin{tabular}{lll}\n",
       " state & rate & rank\\\\\n",
       " <chr> & <dbl> & <dbl>\\\\\n",
       "\\hline\n",
       "\t Hawaii        & 0.5145920 & 49\\\\\n",
       "\t Idaho         & 0.7655102 & 46\\\\\n",
       "\t Maine         & 0.8280881 & 44\\\\\n",
       "\t New Hampshire & 0.3798036 & 50\\\\\n",
       "\t Oregon        & 0.9396843 & 42\\\\\n",
       "\t Utah          & 0.7959810 & 45\\\\\n",
       "\t Vermont       & 0.3196211 & 51\\\\\n",
       "\t Wyoming       & 0.8871131 & 43\\\\\n",
       "\\end{tabular}\n"
      ],
      "text/markdown": [
       "\n",
       "A data.frame: 8 × 3\n",
       "\n",
       "| state &lt;chr&gt; | rate &lt;dbl&gt; | rank &lt;dbl&gt; |\n",
       "|---|---|---|\n",
       "| Hawaii        | 0.5145920 | 49 |\n",
       "| Idaho         | 0.7655102 | 46 |\n",
       "| Maine         | 0.8280881 | 44 |\n",
       "| New Hampshire | 0.3798036 | 50 |\n",
       "| Oregon        | 0.9396843 | 42 |\n",
       "| Utah          | 0.7959810 | 45 |\n",
       "| Vermont       | 0.3196211 | 51 |\n",
       "| Wyoming       | 0.8871131 | 43 |\n",
       "\n"
      ],
      "text/plain": [
       "  state         rate      rank\n",
       "1 Hawaii        0.5145920 49  \n",
       "2 Idaho         0.7655102 46  \n",
       "3 Maine         0.8280881 44  \n",
       "4 New Hampshire 0.3798036 50  \n",
       "5 Oregon        0.9396843 42  \n",
       "6 Utah          0.7959810 45  \n",
       "7 Vermont       0.3196211 51  \n",
       "8 Wyoming       0.8871131 43  "
      ]
     },
     "metadata": {},
     "output_type": "display_data"
    }
   ],
   "source": [
    "data(murders)\n",
    "my_states <- murders %>%\n",
    "mutate(rate = total / population * 100000, rank = rank(-rate)) %>%\n",
    "filter(region %in% c(\"Northeast\", \"West\") & rate < 1) %>%\n",
    "select(state, rate, rank)\n",
    "my_states"
   ]
  },
  {
   "cell_type": "markdown",
   "metadata": {},
   "source": [
    "## 4.7 Summarizing data\n",
    "\n",
    "An important part of exploratory data analysis is summarizing data. The average and standard deviation are two examples of widely used summary statistics. More informative summaries can often be achieved by first splitting data into groups. In this section, we cover two new __dplyr__ verbs that make these computations easier: `summarize` and `group_by`. We learn to access resulting values using the `pull` function.\n",
    "\n",
    "### 4.7.1 `summarize`\n",
    "\n",
    "The `summarize` function in __dplyr__ provides a way to compute summary statistics with intuitive and readable code. We start with a simple example based on heights. The `heights` dataset includes heights and sex reported by students in an in-class survey."
   ]
  },
  {
   "cell_type": "code",
   "execution_count": 2,
   "metadata": {},
   "outputs": [
    {
     "name": "stderr",
     "output_type": "stream",
     "text": [
      "-- \u001b[1mAttaching packages\u001b[22m --------------------------------------- tidyverse 1.3.0 --\n",
      "\n",
      "\u001b[32m√\u001b[39m \u001b[34mggplot2\u001b[39m 3.3.2     \u001b[32m√\u001b[39m \u001b[34mpurrr  \u001b[39m 0.3.4\n",
      "\u001b[32m√\u001b[39m \u001b[34mtibble \u001b[39m 3.0.3     \u001b[32m√\u001b[39m \u001b[34mdplyr  \u001b[39m 1.0.2\n",
      "\u001b[32m√\u001b[39m \u001b[34mtidyr  \u001b[39m 1.1.2     \u001b[32m√\u001b[39m \u001b[34mstringr\u001b[39m 1.4.0\n",
      "\u001b[32m√\u001b[39m \u001b[34mreadr  \u001b[39m 1.3.1     \u001b[32m√\u001b[39m \u001b[34mforcats\u001b[39m 0.5.0\n",
      "\n",
      "-- \u001b[1mConflicts\u001b[22m ------------------------------------------ tidyverse_conflicts() --\n",
      "\u001b[31mx\u001b[39m \u001b[34mdplyr\u001b[39m::\u001b[32mfilter()\u001b[39m masks \u001b[34mstats\u001b[39m::filter()\n",
      "\u001b[31mx\u001b[39m \u001b[34mdplyr\u001b[39m::\u001b[32mlag()\u001b[39m    masks \u001b[34mstats\u001b[39m::lag()\n",
      "\n"
     ]
    }
   ],
   "source": [
    "library(tidyverse)\n",
    "library(dplyr)\n",
    "library(dslabs)\n",
    "data(heights)"
   ]
  },
  {
   "cell_type": "markdown",
   "metadata": {},
   "source": [
    "The following code computes the average and standard deviation for females:"
   ]
  },
  {
   "cell_type": "code",
   "execution_count": 3,
   "metadata": {},
   "outputs": [
    {
     "data": {
      "text/html": [
       "<table>\n",
       "<caption>A data.frame: 1 × 2</caption>\n",
       "<thead>\n",
       "\t<tr><th scope=col>average</th><th scope=col>standard_deviation</th></tr>\n",
       "\t<tr><th scope=col>&lt;dbl&gt;</th><th scope=col>&lt;dbl&gt;</th></tr>\n",
       "</thead>\n",
       "<tbody>\n",
       "\t<tr><td>64.93942</td><td>3.760656</td></tr>\n",
       "</tbody>\n",
       "</table>\n"
      ],
      "text/latex": [
       "A data.frame: 1 × 2\n",
       "\\begin{tabular}{ll}\n",
       " average & standard\\_deviation\\\\\n",
       " <dbl> & <dbl>\\\\\n",
       "\\hline\n",
       "\t 64.93942 & 3.760656\\\\\n",
       "\\end{tabular}\n"
      ],
      "text/markdown": [
       "\n",
       "A data.frame: 1 × 2\n",
       "\n",
       "| average &lt;dbl&gt; | standard_deviation &lt;dbl&gt; |\n",
       "|---|---|\n",
       "| 64.93942 | 3.760656 |\n",
       "\n"
      ],
      "text/plain": [
       "  average  standard_deviation\n",
       "1 64.93942 3.760656          "
      ]
     },
     "metadata": {},
     "output_type": "display_data"
    }
   ],
   "source": [
    "s <- heights %>%\n",
    "    filter(sex == \"Female\") %>%\n",
    "    summarize(average = mean(height), standard_deviation = sd(height))\n",
    "s"
   ]
  },
  {
   "cell_type": "markdown",
   "metadata": {},
   "source": [
    "This takes our original data table as input, filters it to keep only females, and then produces a new summarized table with just the average and the standard deviation of heights. We get to choose the names of the columns of the resulting table. For example, above we decided to use `average` and `standard_deviation`, but we could have used other names just the same.\n",
    "\n"
   ]
  },
  {
   "cell_type": "markdown",
   "metadata": {},
   "source": [
    "Because the resulting table stored in `s` is a data frame, we can access the components with the accessor `$`:"
   ]
  },
  {
   "cell_type": "code",
   "execution_count": 4,
   "metadata": {},
   "outputs": [
    {
     "data": {
      "text/html": [
       "64.9394242506451"
      ],
      "text/latex": [
       "64.9394242506451"
      ],
      "text/markdown": [
       "64.9394242506451"
      ],
      "text/plain": [
       "[1] 64.93942"
      ]
     },
     "metadata": {},
     "output_type": "display_data"
    },
    {
     "data": {
      "text/html": [
       "3.76065612429516"
      ],
      "text/latex": [
       "3.76065612429516"
      ],
      "text/markdown": [
       "3.76065612429516"
      ],
      "text/plain": [
       "[1] 3.760656"
      ]
     },
     "metadata": {},
     "output_type": "display_data"
    }
   ],
   "source": [
    "s$average\n",
    "s$standard_deviation"
   ]
  },
  {
   "cell_type": "markdown",
   "metadata": {},
   "source": [
    "As with most other __dplyr__ functions, `summarize` is aware of the variable names and we can use them directly. So when inside the call to the `summarize` function we write `mean(height)`, the function is accessing the column with the name “height” and then computing the average of the resulting numeric vector. We can compute any other summary that operates on vectors and returns a single value. For example, we can add the median, minimum, and maximum heights like this:"
   ]
  },
  {
   "cell_type": "code",
   "execution_count": 6,
   "metadata": {},
   "outputs": [
    {
     "data": {
      "text/html": [
       "<table>\n",
       "<caption>A data.frame: 1 × 3</caption>\n",
       "<thead>\n",
       "\t<tr><th scope=col>median</th><th scope=col>minimum</th><th scope=col>maximum</th></tr>\n",
       "\t<tr><th scope=col>&lt;dbl&gt;</th><th scope=col>&lt;dbl&gt;</th><th scope=col>&lt;dbl&gt;</th></tr>\n",
       "</thead>\n",
       "<tbody>\n",
       "\t<tr><td>64.98031</td><td>51</td><td>79</td></tr>\n",
       "</tbody>\n",
       "</table>\n"
      ],
      "text/latex": [
       "A data.frame: 1 × 3\n",
       "\\begin{tabular}{lll}\n",
       " median & minimum & maximum\\\\\n",
       " <dbl> & <dbl> & <dbl>\\\\\n",
       "\\hline\n",
       "\t 64.98031 & 51 & 79\\\\\n",
       "\\end{tabular}\n"
      ],
      "text/markdown": [
       "\n",
       "A data.frame: 1 × 3\n",
       "\n",
       "| median &lt;dbl&gt; | minimum &lt;dbl&gt; | maximum &lt;dbl&gt; |\n",
       "|---|---|---|\n",
       "| 64.98031 | 51 | 79 |\n",
       "\n"
      ],
      "text/plain": [
       "  median   minimum maximum\n",
       "1 64.98031 51      79     "
      ]
     },
     "metadata": {},
     "output_type": "display_data"
    }
   ],
   "source": [
    "heights %>%\n",
    "    filter(sex == \"Female\") %>%\n",
    "    summarize(median = median(height), minimum = min(height), maximum = max(height))"
   ]
  },
  {
   "cell_type": "markdown",
   "metadata": {},
   "source": [
    "We can obtain these three values with just one line using the `quantile` function: for example, `quantile(x, c(0,0.5,1))` returns the min (0th percentile), median (50th percentile), and max (100th percentile) of the vector `x`. However, if we attempt to use a function like this that returns two or more values inside `summarize`:"
   ]
  },
  {
   "cell_type": "code",
   "execution_count": 7,
   "metadata": {},
   "outputs": [
    {
     "data": {
      "text/html": [
       "<table>\n",
       "<caption>A data.frame: 3 × 1</caption>\n",
       "<thead>\n",
       "\t<tr><th scope=col>range</th></tr>\n",
       "\t<tr><th scope=col>&lt;dbl&gt;</th></tr>\n",
       "</thead>\n",
       "<tbody>\n",
       "\t<tr><td>51.00000</td></tr>\n",
       "\t<tr><td>64.98031</td></tr>\n",
       "\t<tr><td>79.00000</td></tr>\n",
       "</tbody>\n",
       "</table>\n"
      ],
      "text/latex": [
       "A data.frame: 3 × 1\n",
       "\\begin{tabular}{l}\n",
       " range\\\\\n",
       " <dbl>\\\\\n",
       "\\hline\n",
       "\t 51.00000\\\\\n",
       "\t 64.98031\\\\\n",
       "\t 79.00000\\\\\n",
       "\\end{tabular}\n"
      ],
      "text/markdown": [
       "\n",
       "A data.frame: 3 × 1\n",
       "\n",
       "| range &lt;dbl&gt; |\n",
       "|---|\n",
       "| 51.00000 |\n",
       "| 64.98031 |\n",
       "| 79.00000 |\n",
       "\n"
      ],
      "text/plain": [
       "  range   \n",
       "1 51.00000\n",
       "2 64.98031\n",
       "3 79.00000"
      ]
     },
     "metadata": {},
     "output_type": "display_data"
    }
   ],
   "source": [
    "heights %>% \n",
    "    filter(sex == \"Female\") %>%\n",
    "    summarize(range = quantile(height, c(0, 0.5, 1)))"
   ]
  },
  {
   "cell_type": "markdown",
   "metadata": {},
   "source": [
    "we will receive an error: `Error: expecting result of length one, got : 2`. With the function `summarize`, we can only call functions that return a single value. In Section 4.12, we will learn how to deal with functions that return more than one value. __Note: R version is updated and this error does not come out.__\n",
    "\n",
    "For another example of how we can use the `summarize` function, let’s compute the average murder rate for the United States. Remember our data table includes total murders and population size for each state and we have already used __dplyr__ to add a murder rate column:"
   ]
  },
  {
   "cell_type": "code",
   "execution_count": 8,
   "metadata": {},
   "outputs": [],
   "source": [
    "murders <- murders %>% mutate(rate = total/population*100000)"
   ]
  },
  {
   "cell_type": "markdown",
   "metadata": {},
   "source": [
    "Remember that the US murder rate is __not__ the average of the state murder rates:"
   ]
  },
  {
   "cell_type": "code",
   "execution_count": 9,
   "metadata": {},
   "outputs": [
    {
     "data": {
      "text/html": [
       "<table>\n",
       "<caption>A data.frame: 1 × 1</caption>\n",
       "<thead>\n",
       "\t<tr><th scope=col>mean(rate)</th></tr>\n",
       "\t<tr><th scope=col>&lt;dbl&gt;</th></tr>\n",
       "</thead>\n",
       "<tbody>\n",
       "\t<tr><td>2.779125</td></tr>\n",
       "</tbody>\n",
       "</table>\n"
      ],
      "text/latex": [
       "A data.frame: 1 × 1\n",
       "\\begin{tabular}{l}\n",
       " mean(rate)\\\\\n",
       " <dbl>\\\\\n",
       "\\hline\n",
       "\t 2.779125\\\\\n",
       "\\end{tabular}\n"
      ],
      "text/markdown": [
       "\n",
       "A data.frame: 1 × 1\n",
       "\n",
       "| mean(rate) &lt;dbl&gt; |\n",
       "|---|\n",
       "| 2.779125 |\n",
       "\n"
      ],
      "text/plain": [
       "  mean(rate)\n",
       "1 2.779125  "
      ]
     },
     "metadata": {},
     "output_type": "display_data"
    }
   ],
   "source": [
    "summarize(murders, mean(rate))"
   ]
  },
  {
   "cell_type": "markdown",
   "metadata": {},
   "source": [
    "This is because in the computation above the small states are given the same weight as the large ones. The US murder rate is the total number of murders in the US divided by the total US population. So the correct computation is:"
   ]
  },
  {
   "cell_type": "code",
   "execution_count": 10,
   "metadata": {},
   "outputs": [
    {
     "data": {
      "text/html": [
       "<table>\n",
       "<caption>A data.frame: 1 × 1</caption>\n",
       "<thead>\n",
       "\t<tr><th scope=col>rate</th></tr>\n",
       "\t<tr><th scope=col>&lt;dbl&gt;</th></tr>\n",
       "</thead>\n",
       "<tbody>\n",
       "\t<tr><td>3.034555</td></tr>\n",
       "</tbody>\n",
       "</table>\n"
      ],
      "text/latex": [
       "A data.frame: 1 × 1\n",
       "\\begin{tabular}{l}\n",
       " rate\\\\\n",
       " <dbl>\\\\\n",
       "\\hline\n",
       "\t 3.034555\\\\\n",
       "\\end{tabular}\n"
      ],
      "text/markdown": [
       "\n",
       "A data.frame: 1 × 1\n",
       "\n",
       "| rate &lt;dbl&gt; |\n",
       "|---|\n",
       "| 3.034555 |\n",
       "\n"
      ],
      "text/plain": [
       "  rate    \n",
       "1 3.034555"
      ]
     },
     "metadata": {},
     "output_type": "display_data"
    }
   ],
   "source": [
    "us_murder_rate <- murders %>%\n",
    "    summarize(rate = sum(total)/sum(population)*100000)\n",
    "us_murder_rate"
   ]
  },
  {
   "cell_type": "markdown",
   "metadata": {},
   "source": [
    "This computation counts larger states proportionally to their size which results in a larger value."
   ]
  },
  {
   "cell_type": "markdown",
   "metadata": {},
   "source": [
    "### 4.7.2 `pull`\n",
    "\n",
    "THe `us_murder_rate` object defined above represents just one number. Yet we are storing it in a data frame:"
   ]
  },
  {
   "cell_type": "code",
   "execution_count": 11,
   "metadata": {},
   "outputs": [
    {
     "data": {
      "text/html": [
       "'data.frame'"
      ],
      "text/latex": [
       "'data.frame'"
      ],
      "text/markdown": [
       "'data.frame'"
      ],
      "text/plain": [
       "[1] \"data.frame\""
      ]
     },
     "metadata": {},
     "output_type": "display_data"
    }
   ],
   "source": [
    "class(us_murder_rate)"
   ]
  },
  {
   "cell_type": "markdown",
   "metadata": {},
   "source": [
    "since, as most __dplyr__ functions, `summarize` always returns a data frame.\n",
    "\n",
    "This might be problematic if we want to use this result with functions that require a numeric value. Here we show a useful trick for accessing values stored in data when using pipes: when a data object is piped that object and its columns can be accessed using the `pull` function. To understand what we mean take a look at this line of code:"
   ]
  },
  {
   "cell_type": "code",
   "execution_count": 12,
   "metadata": {},
   "outputs": [
    {
     "data": {
      "text/html": [
       "3.03455486317059"
      ],
      "text/latex": [
       "3.03455486317059"
      ],
      "text/markdown": [
       "3.03455486317059"
      ],
      "text/plain": [
       "[1] 3.034555"
      ]
     },
     "metadata": {},
     "output_type": "display_data"
    }
   ],
   "source": [
    "us_murder_rate %>% pull(rate)"
   ]
  },
  {
   "cell_type": "markdown",
   "metadata": {},
   "source": [
    "This returns the value in the rate column of `us_murder_rate` making it equivalent to `us_murder_rate$rate`.\n",
    "\n",
    "To get a number from the original data table with one line of code we can type:"
   ]
  },
  {
   "cell_type": "code",
   "execution_count": 13,
   "metadata": {},
   "outputs": [
    {
     "data": {
      "text/html": [
       "3.03455486317059"
      ],
      "text/latex": [
       "3.03455486317059"
      ],
      "text/markdown": [
       "3.03455486317059"
      ],
      "text/plain": [
       "[1] 3.034555"
      ]
     },
     "metadata": {},
     "output_type": "display_data"
    }
   ],
   "source": [
    "us_murder_rate <- murders %>%\n",
    "    summarize(rate = sum(total) / sum(population) * 100000) %>%\n",
    "    pull(rate)\n",
    "us_murder_rate"
   ]
  },
  {
   "cell_type": "markdown",
   "metadata": {},
   "source": [
    "which is now a numeric:"
   ]
  },
  {
   "cell_type": "code",
   "execution_count": 14,
   "metadata": {},
   "outputs": [
    {
     "data": {
      "text/html": [
       "'numeric'"
      ],
      "text/latex": [
       "'numeric'"
      ],
      "text/markdown": [
       "'numeric'"
      ],
      "text/plain": [
       "[1] \"numeric\""
      ]
     },
     "metadata": {},
     "output_type": "display_data"
    }
   ],
   "source": [
    "class(us_murder_rate)"
   ]
  },
  {
   "cell_type": "markdown",
   "metadata": {},
   "source": [
    "### 4.7.3 Group then summarize with `group_by`\n",
    "\n",
    "A common operation in data exploration is to first split data into groups and then compute summaries for each group. For example, we may want to compute the average and standard deviation for men’s and women’s heights separately. The `group_by` function helps us do this.\n",
    "\n",
    "If we type this:"
   ]
  },
  {
   "cell_type": "code",
   "execution_count": 141,
   "metadata": {},
   "outputs": [
    {
     "data": {
      "text/html": [
       "<table>\n",
       "<caption>A grouped_df: 6 × 2</caption>\n",
       "<thead>\n",
       "\t<tr><th scope=col>sex</th><th scope=col>height</th></tr>\n",
       "\t<tr><th scope=col>&lt;fct&gt;</th><th scope=col>&lt;dbl&gt;</th></tr>\n",
       "</thead>\n",
       "<tbody>\n",
       "\t<tr><td>Male  </td><td>75</td></tr>\n",
       "\t<tr><td>Male  </td><td>70</td></tr>\n",
       "\t<tr><td>Male  </td><td>68</td></tr>\n",
       "\t<tr><td>Male  </td><td>74</td></tr>\n",
       "\t<tr><td>Male  </td><td>61</td></tr>\n",
       "\t<tr><td>Female</td><td>65</td></tr>\n",
       "</tbody>\n",
       "</table>\n"
      ],
      "text/latex": [
       "A grouped\\_df: 6 × 2\n",
       "\\begin{tabular}{ll}\n",
       " sex & height\\\\\n",
       " <fct> & <dbl>\\\\\n",
       "\\hline\n",
       "\t Male   & 75\\\\\n",
       "\t Male   & 70\\\\\n",
       "\t Male   & 68\\\\\n",
       "\t Male   & 74\\\\\n",
       "\t Male   & 61\\\\\n",
       "\t Female & 65\\\\\n",
       "\\end{tabular}\n"
      ],
      "text/markdown": [
       "\n",
       "A grouped_df: 6 × 2\n",
       "\n",
       "| sex &lt;fct&gt; | height &lt;dbl&gt; |\n",
       "|---|---|\n",
       "| Male   | 75 |\n",
       "| Male   | 70 |\n",
       "| Male   | 68 |\n",
       "| Male   | 74 |\n",
       "| Male   | 61 |\n",
       "| Female | 65 |\n",
       "\n"
      ],
      "text/plain": [
       "  sex    height\n",
       "1 Male   75    \n",
       "2 Male   70    \n",
       "3 Male   68    \n",
       "4 Male   74    \n",
       "5 Male   61    \n",
       "6 Female 65    "
      ]
     },
     "metadata": {},
     "output_type": "display_data"
    }
   ],
   "source": [
    "heights %>% group_by(sex) %>% head()"
   ]
  },
  {
   "cell_type": "markdown",
   "metadata": {},
   "source": [
    "The result does not look very different from `heights`, except we see `Groups: sex [2]` when we print the object. Although not immediately obvious from its appearance, this is now a special data frame called a _grouped data frame_ , and __dplyr__ functions, in particular `summarize`, will behave differently when acting on this object. Conceptually, you can think of this table as many tables, with the same columns but not necessarily the same number of rows, stacked together in one object. When we summarize the data after grouping, this is what happens:"
   ]
  },
  {
   "cell_type": "code",
   "execution_count": 17,
   "metadata": {},
   "outputs": [
    {
     "name": "stderr",
     "output_type": "stream",
     "text": [
      "`summarise()` ungrouping output (override with `.groups` argument)\n",
      "\n"
     ]
    },
    {
     "data": {
      "text/html": [
       "<table>\n",
       "<caption>A tibble: 2 × 3</caption>\n",
       "<thead>\n",
       "\t<tr><th scope=col>sex</th><th scope=col>average</th><th scope=col>standard_deviation</th></tr>\n",
       "\t<tr><th scope=col>&lt;fct&gt;</th><th scope=col>&lt;dbl&gt;</th><th scope=col>&lt;dbl&gt;</th></tr>\n",
       "</thead>\n",
       "<tbody>\n",
       "\t<tr><td>Female</td><td>64.93942</td><td>3.760656</td></tr>\n",
       "\t<tr><td>Male  </td><td>69.31475</td><td>3.611024</td></tr>\n",
       "</tbody>\n",
       "</table>\n"
      ],
      "text/latex": [
       "A tibble: 2 × 3\n",
       "\\begin{tabular}{lll}\n",
       " sex & average & standard\\_deviation\\\\\n",
       " <fct> & <dbl> & <dbl>\\\\\n",
       "\\hline\n",
       "\t Female & 64.93942 & 3.760656\\\\\n",
       "\t Male   & 69.31475 & 3.611024\\\\\n",
       "\\end{tabular}\n"
      ],
      "text/markdown": [
       "\n",
       "A tibble: 2 × 3\n",
       "\n",
       "| sex &lt;fct&gt; | average &lt;dbl&gt; | standard_deviation &lt;dbl&gt; |\n",
       "|---|---|---|\n",
       "| Female | 64.93942 | 3.760656 |\n",
       "| Male   | 69.31475 | 3.611024 |\n",
       "\n"
      ],
      "text/plain": [
       "  sex    average  standard_deviation\n",
       "1 Female 64.93942 3.760656          \n",
       "2 Male   69.31475 3.611024          "
      ]
     },
     "metadata": {},
     "output_type": "display_data"
    }
   ],
   "source": [
    "heights %>%\n",
    "    group_by(sex) %>%\n",
    "    summarize(average = mean(height), standard_deviation = sd(height))"
   ]
  },
  {
   "cell_type": "markdown",
   "metadata": {},
   "source": [
    "The `summarize` function applies the summarization to each group separately.\n",
    "\n",
    "For another example, let’s compute the median murder rate in the four regions of the country:"
   ]
  },
  {
   "cell_type": "code",
   "execution_count": 18,
   "metadata": {},
   "outputs": [
    {
     "name": "stderr",
     "output_type": "stream",
     "text": [
      "`summarise()` ungrouping output (override with `.groups` argument)\n",
      "\n"
     ]
    },
    {
     "data": {
      "text/html": [
       "<table>\n",
       "<caption>A tibble: 4 × 2</caption>\n",
       "<thead>\n",
       "\t<tr><th scope=col>region</th><th scope=col>median_rate</th></tr>\n",
       "\t<tr><th scope=col>&lt;fct&gt;</th><th scope=col>&lt;dbl&gt;</th></tr>\n",
       "</thead>\n",
       "<tbody>\n",
       "\t<tr><td>Northeast    </td><td>1.802179</td></tr>\n",
       "\t<tr><td>South        </td><td>3.398069</td></tr>\n",
       "\t<tr><td>North Central</td><td>1.971105</td></tr>\n",
       "\t<tr><td>West         </td><td>1.292453</td></tr>\n",
       "</tbody>\n",
       "</table>\n"
      ],
      "text/latex": [
       "A tibble: 4 × 2\n",
       "\\begin{tabular}{ll}\n",
       " region & median\\_rate\\\\\n",
       " <fct> & <dbl>\\\\\n",
       "\\hline\n",
       "\t Northeast     & 1.802179\\\\\n",
       "\t South         & 3.398069\\\\\n",
       "\t North Central & 1.971105\\\\\n",
       "\t West          & 1.292453\\\\\n",
       "\\end{tabular}\n"
      ],
      "text/markdown": [
       "\n",
       "A tibble: 4 × 2\n",
       "\n",
       "| region &lt;fct&gt; | median_rate &lt;dbl&gt; |\n",
       "|---|---|\n",
       "| Northeast     | 1.802179 |\n",
       "| South         | 3.398069 |\n",
       "| North Central | 1.971105 |\n",
       "| West          | 1.292453 |\n",
       "\n"
      ],
      "text/plain": [
       "  region        median_rate\n",
       "1 Northeast     1.802179   \n",
       "2 South         3.398069   \n",
       "3 North Central 1.971105   \n",
       "4 West          1.292453   "
      ]
     },
     "metadata": {},
     "output_type": "display_data"
    }
   ],
   "source": [
    "murders %>%\n",
    "    group_by(region) %>%\n",
    "    summarize(median_rate = median(rate))"
   ]
  },
  {
   "cell_type": "markdown",
   "metadata": {},
   "source": [
    "## 4.8 Sorting data frames\n",
    "\n",
    "When examining a dataset, it is often convenient to sort the table by the different columns. We know about the `order` and `sort` function, but for ordering entire tables, the __dplyr__ function `arrange` is useful. For example, here we order the states by population size:"
   ]
  },
  {
   "cell_type": "code",
   "execution_count": 19,
   "metadata": {},
   "outputs": [
    {
     "data": {
      "text/html": [
       "<table>\n",
       "<caption>A data.frame: 6 × 6</caption>\n",
       "<thead>\n",
       "\t<tr><th></th><th scope=col>state</th><th scope=col>abb</th><th scope=col>region</th><th scope=col>population</th><th scope=col>total</th><th scope=col>rate</th></tr>\n",
       "\t<tr><th></th><th scope=col>&lt;chr&gt;</th><th scope=col>&lt;chr&gt;</th><th scope=col>&lt;fct&gt;</th><th scope=col>&lt;dbl&gt;</th><th scope=col>&lt;dbl&gt;</th><th scope=col>&lt;dbl&gt;</th></tr>\n",
       "</thead>\n",
       "<tbody>\n",
       "\t<tr><th scope=row>1</th><td>Wyoming             </td><td>WY</td><td>West         </td><td>563626</td><td> 5</td><td> 0.8871131</td></tr>\n",
       "\t<tr><th scope=row>2</th><td>District of Columbia</td><td>DC</td><td>South        </td><td>601723</td><td>99</td><td>16.4527532</td></tr>\n",
       "\t<tr><th scope=row>3</th><td>Vermont             </td><td>VT</td><td>Northeast    </td><td>625741</td><td> 2</td><td> 0.3196211</td></tr>\n",
       "\t<tr><th scope=row>4</th><td>North Dakota        </td><td>ND</td><td>North Central</td><td>672591</td><td> 4</td><td> 0.5947151</td></tr>\n",
       "\t<tr><th scope=row>5</th><td>Alaska              </td><td>AK</td><td>West         </td><td>710231</td><td>19</td><td> 2.6751860</td></tr>\n",
       "\t<tr><th scope=row>6</th><td>South Dakota        </td><td>SD</td><td>North Central</td><td>814180</td><td> 8</td><td> 0.9825837</td></tr>\n",
       "</tbody>\n",
       "</table>\n"
      ],
      "text/latex": [
       "A data.frame: 6 × 6\n",
       "\\begin{tabular}{r|llllll}\n",
       "  & state & abb & region & population & total & rate\\\\\n",
       "  & <chr> & <chr> & <fct> & <dbl> & <dbl> & <dbl>\\\\\n",
       "\\hline\n",
       "\t1 & Wyoming              & WY & West          & 563626 &  5 &  0.8871131\\\\\n",
       "\t2 & District of Columbia & DC & South         & 601723 & 99 & 16.4527532\\\\\n",
       "\t3 & Vermont              & VT & Northeast     & 625741 &  2 &  0.3196211\\\\\n",
       "\t4 & North Dakota         & ND & North Central & 672591 &  4 &  0.5947151\\\\\n",
       "\t5 & Alaska               & AK & West          & 710231 & 19 &  2.6751860\\\\\n",
       "\t6 & South Dakota         & SD & North Central & 814180 &  8 &  0.9825837\\\\\n",
       "\\end{tabular}\n"
      ],
      "text/markdown": [
       "\n",
       "A data.frame: 6 × 6\n",
       "\n",
       "| <!--/--> | state &lt;chr&gt; | abb &lt;chr&gt; | region &lt;fct&gt; | population &lt;dbl&gt; | total &lt;dbl&gt; | rate &lt;dbl&gt; |\n",
       "|---|---|---|---|---|---|---|\n",
       "| 1 | Wyoming              | WY | West          | 563626 |  5 |  0.8871131 |\n",
       "| 2 | District of Columbia | DC | South         | 601723 | 99 | 16.4527532 |\n",
       "| 3 | Vermont              | VT | Northeast     | 625741 |  2 |  0.3196211 |\n",
       "| 4 | North Dakota         | ND | North Central | 672591 |  4 |  0.5947151 |\n",
       "| 5 | Alaska               | AK | West          | 710231 | 19 |  2.6751860 |\n",
       "| 6 | South Dakota         | SD | North Central | 814180 |  8 |  0.9825837 |\n",
       "\n"
      ],
      "text/plain": [
       "  state                abb region        population total rate      \n",
       "1 Wyoming              WY  West          563626      5     0.8871131\n",
       "2 District of Columbia DC  South         601723     99    16.4527532\n",
       "3 Vermont              VT  Northeast     625741      2     0.3196211\n",
       "4 North Dakota         ND  North Central 672591      4     0.5947151\n",
       "5 Alaska               AK  West          710231     19     2.6751860\n",
       "6 South Dakota         SD  North Central 814180      8     0.9825837"
      ]
     },
     "metadata": {},
     "output_type": "display_data"
    }
   ],
   "source": [
    "murders %>% \n",
    "    arrange(population) %>%\n",
    "    head()"
   ]
  },
  {
   "cell_type": "markdown",
   "metadata": {},
   "source": [
    "With `arrange` we get to decide which column to sort by. To see the states by murder rate, from lowest to highest, we arrange by `rate` instead:"
   ]
  },
  {
   "cell_type": "code",
   "execution_count": 20,
   "metadata": {},
   "outputs": [
    {
     "data": {
      "text/html": [
       "<table>\n",
       "<caption>A data.frame: 6 × 6</caption>\n",
       "<thead>\n",
       "\t<tr><th></th><th scope=col>state</th><th scope=col>abb</th><th scope=col>region</th><th scope=col>population</th><th scope=col>total</th><th scope=col>rate</th></tr>\n",
       "\t<tr><th></th><th scope=col>&lt;chr&gt;</th><th scope=col>&lt;chr&gt;</th><th scope=col>&lt;fct&gt;</th><th scope=col>&lt;dbl&gt;</th><th scope=col>&lt;dbl&gt;</th><th scope=col>&lt;dbl&gt;</th></tr>\n",
       "</thead>\n",
       "<tbody>\n",
       "\t<tr><th scope=row>1</th><td>Vermont      </td><td>VT</td><td>Northeast    </td><td> 625741</td><td> 2</td><td>0.3196211</td></tr>\n",
       "\t<tr><th scope=row>2</th><td>New Hampshire</td><td>NH</td><td>Northeast    </td><td>1316470</td><td> 5</td><td>0.3798036</td></tr>\n",
       "\t<tr><th scope=row>3</th><td>Hawaii       </td><td>HI</td><td>West         </td><td>1360301</td><td> 7</td><td>0.5145920</td></tr>\n",
       "\t<tr><th scope=row>4</th><td>North Dakota </td><td>ND</td><td>North Central</td><td> 672591</td><td> 4</td><td>0.5947151</td></tr>\n",
       "\t<tr><th scope=row>5</th><td>Iowa         </td><td>IA</td><td>North Central</td><td>3046355</td><td>21</td><td>0.6893484</td></tr>\n",
       "\t<tr><th scope=row>6</th><td>Idaho        </td><td>ID</td><td>West         </td><td>1567582</td><td>12</td><td>0.7655102</td></tr>\n",
       "</tbody>\n",
       "</table>\n"
      ],
      "text/latex": [
       "A data.frame: 6 × 6\n",
       "\\begin{tabular}{r|llllll}\n",
       "  & state & abb & region & population & total & rate\\\\\n",
       "  & <chr> & <chr> & <fct> & <dbl> & <dbl> & <dbl>\\\\\n",
       "\\hline\n",
       "\t1 & Vermont       & VT & Northeast     &  625741 &  2 & 0.3196211\\\\\n",
       "\t2 & New Hampshire & NH & Northeast     & 1316470 &  5 & 0.3798036\\\\\n",
       "\t3 & Hawaii        & HI & West          & 1360301 &  7 & 0.5145920\\\\\n",
       "\t4 & North Dakota  & ND & North Central &  672591 &  4 & 0.5947151\\\\\n",
       "\t5 & Iowa          & IA & North Central & 3046355 & 21 & 0.6893484\\\\\n",
       "\t6 & Idaho         & ID & West          & 1567582 & 12 & 0.7655102\\\\\n",
       "\\end{tabular}\n"
      ],
      "text/markdown": [
       "\n",
       "A data.frame: 6 × 6\n",
       "\n",
       "| <!--/--> | state &lt;chr&gt; | abb &lt;chr&gt; | region &lt;fct&gt; | population &lt;dbl&gt; | total &lt;dbl&gt; | rate &lt;dbl&gt; |\n",
       "|---|---|---|---|---|---|---|\n",
       "| 1 | Vermont       | VT | Northeast     |  625741 |  2 | 0.3196211 |\n",
       "| 2 | New Hampshire | NH | Northeast     | 1316470 |  5 | 0.3798036 |\n",
       "| 3 | Hawaii        | HI | West          | 1360301 |  7 | 0.5145920 |\n",
       "| 4 | North Dakota  | ND | North Central |  672591 |  4 | 0.5947151 |\n",
       "| 5 | Iowa          | IA | North Central | 3046355 | 21 | 0.6893484 |\n",
       "| 6 | Idaho         | ID | West          | 1567582 | 12 | 0.7655102 |\n",
       "\n"
      ],
      "text/plain": [
       "  state         abb region        population total rate     \n",
       "1 Vermont       VT  Northeast      625741     2    0.3196211\n",
       "2 New Hampshire NH  Northeast     1316470     5    0.3798036\n",
       "3 Hawaii        HI  West          1360301     7    0.5145920\n",
       "4 North Dakota  ND  North Central  672591     4    0.5947151\n",
       "5 Iowa          IA  North Central 3046355    21    0.6893484\n",
       "6 Idaho         ID  West          1567582    12    0.7655102"
      ]
     },
     "metadata": {},
     "output_type": "display_data"
    }
   ],
   "source": [
    "murders %>%\n",
    "    arrange(rate) %>%\n",
    "    head()"
   ]
  },
  {
   "cell_type": "markdown",
   "metadata": {},
   "source": [
    "Note that the default behavior is to order in ascending order. In __dplyr__, the function `desc` transforms a vector so that it is in descending order. To sort the table in descending order, we can type:"
   ]
  },
  {
   "cell_type": "code",
   "execution_count": 22,
   "metadata": {},
   "outputs": [
    {
     "data": {
      "text/html": [
       "<table>\n",
       "<caption>A data.frame: 6 × 6</caption>\n",
       "<thead>\n",
       "\t<tr><th></th><th scope=col>state</th><th scope=col>abb</th><th scope=col>region</th><th scope=col>population</th><th scope=col>total</th><th scope=col>rate</th></tr>\n",
       "\t<tr><th></th><th scope=col>&lt;chr&gt;</th><th scope=col>&lt;chr&gt;</th><th scope=col>&lt;fct&gt;</th><th scope=col>&lt;dbl&gt;</th><th scope=col>&lt;dbl&gt;</th><th scope=col>&lt;dbl&gt;</th></tr>\n",
       "</thead>\n",
       "<tbody>\n",
       "\t<tr><th scope=row>1</th><td>District of Columbia</td><td>DC</td><td>South        </td><td> 601723</td><td> 99</td><td>16.452753</td></tr>\n",
       "\t<tr><th scope=row>2</th><td>Louisiana           </td><td>LA</td><td>South        </td><td>4533372</td><td>351</td><td> 7.742581</td></tr>\n",
       "\t<tr><th scope=row>3</th><td>Missouri            </td><td>MO</td><td>North Central</td><td>5988927</td><td>321</td><td> 5.359892</td></tr>\n",
       "\t<tr><th scope=row>4</th><td>Maryland            </td><td>MD</td><td>South        </td><td>5773552</td><td>293</td><td> 5.074866</td></tr>\n",
       "\t<tr><th scope=row>5</th><td>South Carolina      </td><td>SC</td><td>South        </td><td>4625364</td><td>207</td><td> 4.475323</td></tr>\n",
       "\t<tr><th scope=row>6</th><td>Delaware            </td><td>DE</td><td>South        </td><td> 897934</td><td> 38</td><td> 4.231937</td></tr>\n",
       "</tbody>\n",
       "</table>\n"
      ],
      "text/latex": [
       "A data.frame: 6 × 6\n",
       "\\begin{tabular}{r|llllll}\n",
       "  & state & abb & region & population & total & rate\\\\\n",
       "  & <chr> & <chr> & <fct> & <dbl> & <dbl> & <dbl>\\\\\n",
       "\\hline\n",
       "\t1 & District of Columbia & DC & South         &  601723 &  99 & 16.452753\\\\\n",
       "\t2 & Louisiana            & LA & South         & 4533372 & 351 &  7.742581\\\\\n",
       "\t3 & Missouri             & MO & North Central & 5988927 & 321 &  5.359892\\\\\n",
       "\t4 & Maryland             & MD & South         & 5773552 & 293 &  5.074866\\\\\n",
       "\t5 & South Carolina       & SC & South         & 4625364 & 207 &  4.475323\\\\\n",
       "\t6 & Delaware             & DE & South         &  897934 &  38 &  4.231937\\\\\n",
       "\\end{tabular}\n"
      ],
      "text/markdown": [
       "\n",
       "A data.frame: 6 × 6\n",
       "\n",
       "| <!--/--> | state &lt;chr&gt; | abb &lt;chr&gt; | region &lt;fct&gt; | population &lt;dbl&gt; | total &lt;dbl&gt; | rate &lt;dbl&gt; |\n",
       "|---|---|---|---|---|---|---|\n",
       "| 1 | District of Columbia | DC | South         |  601723 |  99 | 16.452753 |\n",
       "| 2 | Louisiana            | LA | South         | 4533372 | 351 |  7.742581 |\n",
       "| 3 | Missouri             | MO | North Central | 5988927 | 321 |  5.359892 |\n",
       "| 4 | Maryland             | MD | South         | 5773552 | 293 |  5.074866 |\n",
       "| 5 | South Carolina       | SC | South         | 4625364 | 207 |  4.475323 |\n",
       "| 6 | Delaware             | DE | South         |  897934 |  38 |  4.231937 |\n",
       "\n"
      ],
      "text/plain": [
       "  state                abb region        population total rate     \n",
       "1 District of Columbia DC  South          601723     99   16.452753\n",
       "2 Louisiana            LA  South         4533372    351    7.742581\n",
       "3 Missouri             MO  North Central 5988927    321    5.359892\n",
       "4 Maryland             MD  South         5773552    293    5.074866\n",
       "5 South Carolina       SC  South         4625364    207    4.475323\n",
       "6 Delaware             DE  South          897934     38    4.231937"
      ]
     },
     "metadata": {},
     "output_type": "display_data"
    }
   ],
   "source": [
    "murders %>%\n",
    "    arrange(desc(rate)) %>%\n",
    "    head()"
   ]
  },
  {
   "cell_type": "markdown",
   "metadata": {},
   "source": [
    "### 4.8.1 Nested sorting\n",
    "\n",
    "If we are ordering by a column with ties, we can use a second column to break the tie. Similarly, a third column can be used to break ties between first and second and so on. Here we order by `region`, then within region we order by murder rate:"
   ]
  },
  {
   "cell_type": "code",
   "execution_count": 23,
   "metadata": {},
   "outputs": [
    {
     "data": {
      "text/html": [
       "<table>\n",
       "<caption>A data.frame: 6 × 6</caption>\n",
       "<thead>\n",
       "\t<tr><th></th><th scope=col>state</th><th scope=col>abb</th><th scope=col>region</th><th scope=col>population</th><th scope=col>total</th><th scope=col>rate</th></tr>\n",
       "\t<tr><th></th><th scope=col>&lt;chr&gt;</th><th scope=col>&lt;chr&gt;</th><th scope=col>&lt;fct&gt;</th><th scope=col>&lt;dbl&gt;</th><th scope=col>&lt;dbl&gt;</th><th scope=col>&lt;dbl&gt;</th></tr>\n",
       "</thead>\n",
       "<tbody>\n",
       "\t<tr><th scope=row>1</th><td>Vermont      </td><td>VT</td><td>Northeast</td><td>  625741</td><td>  2</td><td>0.3196211</td></tr>\n",
       "\t<tr><th scope=row>2</th><td>New Hampshire</td><td>NH</td><td>Northeast</td><td> 1316470</td><td>  5</td><td>0.3798036</td></tr>\n",
       "\t<tr><th scope=row>3</th><td>Maine        </td><td>ME</td><td>Northeast</td><td> 1328361</td><td> 11</td><td>0.8280881</td></tr>\n",
       "\t<tr><th scope=row>4</th><td>Rhode Island </td><td>RI</td><td>Northeast</td><td> 1052567</td><td> 16</td><td>1.5200933</td></tr>\n",
       "\t<tr><th scope=row>5</th><td>Massachusetts</td><td>MA</td><td>Northeast</td><td> 6547629</td><td>118</td><td>1.8021791</td></tr>\n",
       "\t<tr><th scope=row>6</th><td>New York     </td><td>NY</td><td>Northeast</td><td>19378102</td><td>517</td><td>2.6679599</td></tr>\n",
       "</tbody>\n",
       "</table>\n"
      ],
      "text/latex": [
       "A data.frame: 6 × 6\n",
       "\\begin{tabular}{r|llllll}\n",
       "  & state & abb & region & population & total & rate\\\\\n",
       "  & <chr> & <chr> & <fct> & <dbl> & <dbl> & <dbl>\\\\\n",
       "\\hline\n",
       "\t1 & Vermont       & VT & Northeast &   625741 &   2 & 0.3196211\\\\\n",
       "\t2 & New Hampshire & NH & Northeast &  1316470 &   5 & 0.3798036\\\\\n",
       "\t3 & Maine         & ME & Northeast &  1328361 &  11 & 0.8280881\\\\\n",
       "\t4 & Rhode Island  & RI & Northeast &  1052567 &  16 & 1.5200933\\\\\n",
       "\t5 & Massachusetts & MA & Northeast &  6547629 & 118 & 1.8021791\\\\\n",
       "\t6 & New York      & NY & Northeast & 19378102 & 517 & 2.6679599\\\\\n",
       "\\end{tabular}\n"
      ],
      "text/markdown": [
       "\n",
       "A data.frame: 6 × 6\n",
       "\n",
       "| <!--/--> | state &lt;chr&gt; | abb &lt;chr&gt; | region &lt;fct&gt; | population &lt;dbl&gt; | total &lt;dbl&gt; | rate &lt;dbl&gt; |\n",
       "|---|---|---|---|---|---|---|\n",
       "| 1 | Vermont       | VT | Northeast |   625741 |   2 | 0.3196211 |\n",
       "| 2 | New Hampshire | NH | Northeast |  1316470 |   5 | 0.3798036 |\n",
       "| 3 | Maine         | ME | Northeast |  1328361 |  11 | 0.8280881 |\n",
       "| 4 | Rhode Island  | RI | Northeast |  1052567 |  16 | 1.5200933 |\n",
       "| 5 | Massachusetts | MA | Northeast |  6547629 | 118 | 1.8021791 |\n",
       "| 6 | New York      | NY | Northeast | 19378102 | 517 | 2.6679599 |\n",
       "\n"
      ],
      "text/plain": [
       "  state         abb region    population total rate     \n",
       "1 Vermont       VT  Northeast   625741     2   0.3196211\n",
       "2 New Hampshire NH  Northeast  1316470     5   0.3798036\n",
       "3 Maine         ME  Northeast  1328361    11   0.8280881\n",
       "4 Rhode Island  RI  Northeast  1052567    16   1.5200933\n",
       "5 Massachusetts MA  Northeast  6547629   118   1.8021791\n",
       "6 New York      NY  Northeast 19378102   517   2.6679599"
      ]
     },
     "metadata": {},
     "output_type": "display_data"
    }
   ],
   "source": [
    "murders %>%\n",
    "    arrange(region, rate) %>%\n",
    "    head()"
   ]
  },
  {
   "cell_type": "markdown",
   "metadata": {},
   "source": [
    "### 4.8.2 The top $n$\n",
    "\n",
    "In the code above, we have used the function `head` to avoid having the page fill up with the entire dataset. If we want to see a larger proportion, we can use the `top_n` function. This function takes a data frame as it’s first argument, the number of rows to show in the second, and the variable to filter by in the third. Here is an example of how to see the top 5 rows:"
   ]
  },
  {
   "cell_type": "code",
   "execution_count": 24,
   "metadata": {},
   "outputs": [
    {
     "data": {
      "text/html": [
       "<table>\n",
       "<caption>A data.frame: 5 × 6</caption>\n",
       "<thead>\n",
       "\t<tr><th scope=col>state</th><th scope=col>abb</th><th scope=col>region</th><th scope=col>population</th><th scope=col>total</th><th scope=col>rate</th></tr>\n",
       "\t<tr><th scope=col>&lt;chr&gt;</th><th scope=col>&lt;chr&gt;</th><th scope=col>&lt;fct&gt;</th><th scope=col>&lt;dbl&gt;</th><th scope=col>&lt;dbl&gt;</th><th scope=col>&lt;dbl&gt;</th></tr>\n",
       "</thead>\n",
       "<tbody>\n",
       "\t<tr><td>District of Columbia</td><td>DC</td><td>South        </td><td> 601723</td><td> 99</td><td>16.452753</td></tr>\n",
       "\t<tr><td>Louisiana           </td><td>LA</td><td>South        </td><td>4533372</td><td>351</td><td> 7.742581</td></tr>\n",
       "\t<tr><td>Maryland            </td><td>MD</td><td>South        </td><td>5773552</td><td>293</td><td> 5.074866</td></tr>\n",
       "\t<tr><td>Missouri            </td><td>MO</td><td>North Central</td><td>5988927</td><td>321</td><td> 5.359892</td></tr>\n",
       "\t<tr><td>South Carolina      </td><td>SC</td><td>South        </td><td>4625364</td><td>207</td><td> 4.475323</td></tr>\n",
       "</tbody>\n",
       "</table>\n"
      ],
      "text/latex": [
       "A data.frame: 5 × 6\n",
       "\\begin{tabular}{llllll}\n",
       " state & abb & region & population & total & rate\\\\\n",
       " <chr> & <chr> & <fct> & <dbl> & <dbl> & <dbl>\\\\\n",
       "\\hline\n",
       "\t District of Columbia & DC & South         &  601723 &  99 & 16.452753\\\\\n",
       "\t Louisiana            & LA & South         & 4533372 & 351 &  7.742581\\\\\n",
       "\t Maryland             & MD & South         & 5773552 & 293 &  5.074866\\\\\n",
       "\t Missouri             & MO & North Central & 5988927 & 321 &  5.359892\\\\\n",
       "\t South Carolina       & SC & South         & 4625364 & 207 &  4.475323\\\\\n",
       "\\end{tabular}\n"
      ],
      "text/markdown": [
       "\n",
       "A data.frame: 5 × 6\n",
       "\n",
       "| state &lt;chr&gt; | abb &lt;chr&gt; | region &lt;fct&gt; | population &lt;dbl&gt; | total &lt;dbl&gt; | rate &lt;dbl&gt; |\n",
       "|---|---|---|---|---|---|\n",
       "| District of Columbia | DC | South         |  601723 |  99 | 16.452753 |\n",
       "| Louisiana            | LA | South         | 4533372 | 351 |  7.742581 |\n",
       "| Maryland             | MD | South         | 5773552 | 293 |  5.074866 |\n",
       "| Missouri             | MO | North Central | 5988927 | 321 |  5.359892 |\n",
       "| South Carolina       | SC | South         | 4625364 | 207 |  4.475323 |\n",
       "\n"
      ],
      "text/plain": [
       "  state                abb region        population total rate     \n",
       "1 District of Columbia DC  South          601723     99   16.452753\n",
       "2 Louisiana            LA  South         4533372    351    7.742581\n",
       "3 Maryland             MD  South         5773552    293    5.074866\n",
       "4 Missouri             MO  North Central 5988927    321    5.359892\n",
       "5 South Carolina       SC  South         4625364    207    4.475323"
      ]
     },
     "metadata": {},
     "output_type": "display_data"
    }
   ],
   "source": [
    "murders %>% top_n(5, rate)"
   ]
  },
  {
   "cell_type": "markdown",
   "metadata": {},
   "source": [
    "Note that rows are not sorted by `rate`, only filtered. If we want to sort, we need to use `arrange`. Note that if the third argument is left blank, `top_n` filters by the last column."
   ]
  },
  {
   "cell_type": "markdown",
   "metadata": {},
   "source": [
    "## 4.9 Exercises\n",
    "\n",
    "For these exercises, we will be using the data from the survey collected by the United States National Center for Health Statistics (NCHS). This center has conducted a series of health and nutrition surveys since the 1960’s. Starting in 1999, about 5,000 individuals of all ages have been interviewed every year and they complete the health examination component of the survey. Part of the data is made available via the __NHANES__ package. Once you install the `NHANES` package, you can load the data like this:"
   ]
  },
  {
   "cell_type": "code",
   "execution_count": 26,
   "metadata": {},
   "outputs": [
    {
     "name": "stdout",
     "output_type": "stream",
     "text": [
      "package 'NHANES' successfully unpacked and MD5 sums checked\n",
      "\n",
      "The downloaded binary packages are in\n",
      "\tC:\\Users\\withj\\AppData\\Local\\Temp\\Rtmpy2r2Rj\\downloaded_packages\n"
     ]
    }
   ],
   "source": [
    "install.packages(\"NHANES\")\n",
    "library(NHANES)\n",
    "data(NHANES)"
   ]
  },
  {
   "cell_type": "markdown",
   "metadata": {},
   "source": [
    "The __NHANES__ data has many missing values. The `mean` and `sd` functions in R will return `NA` if any of the entries of the input vector is an `NA`. Here is an example:"
   ]
  },
  {
   "cell_type": "code",
   "execution_count": 27,
   "metadata": {},
   "outputs": [
    {
     "data": {
      "text/html": [
       "&lt;NA&gt;"
      ],
      "text/latex": [
       "<NA>"
      ],
      "text/markdown": [
       "&lt;NA&gt;"
      ],
      "text/plain": [
       "[1] NA"
      ]
     },
     "metadata": {},
     "output_type": "display_data"
    },
    {
     "data": {
      "text/html": [
       "&lt;NA&gt;"
      ],
      "text/latex": [
       "<NA>"
      ],
      "text/markdown": [
       "&lt;NA&gt;"
      ],
      "text/plain": [
       "[1] NA"
      ]
     },
     "metadata": {},
     "output_type": "display_data"
    }
   ],
   "source": [
    "library(dslabs)\n",
    "data(na_example)\n",
    "mean(na_example)\n",
    "sd(na_example)"
   ]
  },
  {
   "cell_type": "markdown",
   "metadata": {},
   "source": [
    "To ignore the `NA`s we can use the `na.rm` argument:"
   ]
  },
  {
   "cell_type": "code",
   "execution_count": 28,
   "metadata": {},
   "outputs": [
    {
     "data": {
      "text/html": [
       "2.30175438596491"
      ],
      "text/latex": [
       "2.30175438596491"
      ],
      "text/markdown": [
       "2.30175438596491"
      ],
      "text/plain": [
       "[1] 2.301754"
      ]
     },
     "metadata": {},
     "output_type": "display_data"
    },
    {
     "data": {
      "text/html": [
       "1.22338043224169"
      ],
      "text/latex": [
       "1.22338043224169"
      ],
      "text/markdown": [
       "1.22338043224169"
      ],
      "text/plain": [
       "[1] 1.22338"
      ]
     },
     "metadata": {},
     "output_type": "display_data"
    }
   ],
   "source": [
    "mean(na_example, na.rm = TRUE)\n",
    "sd(na_example, na.rm = TRUE)"
   ]
  },
  {
   "cell_type": "markdown",
   "metadata": {},
   "source": [
    "Let’s now explore the NHANES data.\n",
    "\n",
    "1. We will provide some basic facts about blood pressure. First let’s select a group to set the standard. We will use 20-to-29-year-old females. `AgeDecade` is a categorical variable with these ages. Note that the category is coded like \" 20-29\", with a space in front! What is the average and standard deviation of systolic blood pressure as saved in the `BPSysAve` variable? Save it to a variable called `ref`.\n",
    "\n",
    "Hint: Use `filter` and `summarize` and use the `na.rm = TRUE` argument when computing the average and standard deviation. You can also filter the NA values using `filter`."
   ]
  },
  {
   "cell_type": "code",
   "execution_count": 37,
   "metadata": {},
   "outputs": [
    {
     "data": {
      "text/html": [
       "<table>\n",
       "<caption>A tibble: 1 × 2</caption>\n",
       "<thead>\n",
       "\t<tr><th scope=col>average</th><th scope=col>standard_deviation</th></tr>\n",
       "\t<tr><th scope=col>&lt;dbl&gt;</th><th scope=col>&lt;dbl&gt;</th></tr>\n",
       "</thead>\n",
       "<tbody>\n",
       "\t<tr><td>108.4224</td><td>10.14668</td></tr>\n",
       "</tbody>\n",
       "</table>\n"
      ],
      "text/latex": [
       "A tibble: 1 × 2\n",
       "\\begin{tabular}{ll}\n",
       " average & standard\\_deviation\\\\\n",
       " <dbl> & <dbl>\\\\\n",
       "\\hline\n",
       "\t 108.4224 & 10.14668\\\\\n",
       "\\end{tabular}\n"
      ],
      "text/markdown": [
       "\n",
       "A tibble: 1 × 2\n",
       "\n",
       "| average &lt;dbl&gt; | standard_deviation &lt;dbl&gt; |\n",
       "|---|---|\n",
       "| 108.4224 | 10.14668 |\n",
       "\n"
      ],
      "text/plain": [
       "  average  standard_deviation\n",
       "1 108.4224 10.14668          "
      ]
     },
     "metadata": {},
     "output_type": "display_data"
    }
   ],
   "source": [
    "ref <- NHANES %>%\n",
    "    filter(Gender == \"female\", AgeDecade == \" 20-29\") %>%\n",
    "    summarize(average = mean(BPSysAve, na.rm = TRUE), standard_deviation = sd(BPSysAve, na.rm = TRUE))\n",
    "ref"
   ]
  },
  {
   "cell_type": "markdown",
   "metadata": {},
   "source": [
    "2. Using a pipe, assign the average to a numeric variable `ref_avg`. Hint: Use the code similar to above and then `pull`."
   ]
  },
  {
   "cell_type": "code",
   "execution_count": 38,
   "metadata": {},
   "outputs": [
    {
     "data": {
      "text/html": [
       "108.42242703533"
      ],
      "text/latex": [
       "108.42242703533"
      ],
      "text/markdown": [
       "108.42242703533"
      ],
      "text/plain": [
       "[1] 108.4224"
      ]
     },
     "metadata": {},
     "output_type": "display_data"
    }
   ],
   "source": [
    "ref_avg <- ref %>% pull(average)\n",
    "ref_avg\n",
    "    "
   ]
  },
  {
   "cell_type": "markdown",
   "metadata": {},
   "source": [
    "3. Now report the min and max values for the same group."
   ]
  },
  {
   "cell_type": "code",
   "execution_count": 39,
   "metadata": {},
   "outputs": [
    {
     "data": {
      "text/html": [
       "<table>\n",
       "<caption>A tibble: 1 × 2</caption>\n",
       "<thead>\n",
       "\t<tr><th scope=col>minimum</th><th scope=col>maximum</th></tr>\n",
       "\t<tr><th scope=col>&lt;int&gt;</th><th scope=col>&lt;int&gt;</th></tr>\n",
       "</thead>\n",
       "<tbody>\n",
       "\t<tr><td>84</td><td>179</td></tr>\n",
       "</tbody>\n",
       "</table>\n"
      ],
      "text/latex": [
       "A tibble: 1 × 2\n",
       "\\begin{tabular}{ll}\n",
       " minimum & maximum\\\\\n",
       " <int> & <int>\\\\\n",
       "\\hline\n",
       "\t 84 & 179\\\\\n",
       "\\end{tabular}\n"
      ],
      "text/markdown": [
       "\n",
       "A tibble: 1 × 2\n",
       "\n",
       "| minimum &lt;int&gt; | maximum &lt;int&gt; |\n",
       "|---|---|\n",
       "| 84 | 179 |\n",
       "\n"
      ],
      "text/plain": [
       "  minimum maximum\n",
       "1 84      179    "
      ]
     },
     "metadata": {},
     "output_type": "display_data"
    }
   ],
   "source": [
    "NHANES %>%\n",
    "    filter(Gender == \"female\", AgeDecade == \" 20-29\") %>%\n",
    "    summarize(minimum = min(BPSysAve, na.rm = TRUE), maximum = max(BPSysAve, na.rm = TRUE))"
   ]
  },
  {
   "cell_type": "markdown",
   "metadata": {},
   "source": [
    "4. Compute the average and standard deviation for females, but for each age group separately rather than a selected decade as in question 1. Note that the age groups are defined by AgeDecade. Hint: rather than filtering by age and gender, filter by Gender and then use group_by."
   ]
  },
  {
   "cell_type": "code",
   "execution_count": 41,
   "metadata": {},
   "outputs": [
    {
     "name": "stderr",
     "output_type": "stream",
     "text": [
      "`summarise()` ungrouping output (override with `.groups` argument)\n",
      "\n"
     ]
    },
    {
     "data": {
      "text/html": [
       "<table>\n",
       "<caption>A tibble: 9 × 3</caption>\n",
       "<thead>\n",
       "\t<tr><th scope=col>AgeDecade</th><th scope=col>average</th><th scope=col>standard_deviation</th></tr>\n",
       "\t<tr><th scope=col>&lt;fct&gt;</th><th scope=col>&lt;dbl&gt;</th><th scope=col>&lt;dbl&gt;</th></tr>\n",
       "</thead>\n",
       "<tbody>\n",
       "\t<tr><td> 0-9  </td><td> 99.95041</td><td> 9.071798</td></tr>\n",
       "\t<tr><td> 10-19</td><td>104.27466</td><td> 9.461431</td></tr>\n",
       "\t<tr><td> 20-29</td><td>108.42243</td><td>10.146681</td></tr>\n",
       "\t<tr><td> 30-39</td><td>111.25512</td><td>12.314790</td></tr>\n",
       "\t<tr><td> 40-49</td><td>115.49385</td><td>14.530054</td></tr>\n",
       "\t<tr><td> 50-59</td><td>121.84245</td><td>16.179333</td></tr>\n",
       "\t<tr><td> 60-69</td><td>127.17787</td><td>17.125713</td></tr>\n",
       "\t<tr><td> 70+  </td><td>133.51652</td><td>19.841781</td></tr>\n",
       "\t<tr><td>NA    </td><td>141.54839</td><td>22.908521</td></tr>\n",
       "</tbody>\n",
       "</table>\n"
      ],
      "text/latex": [
       "A tibble: 9 × 3\n",
       "\\begin{tabular}{lll}\n",
       " AgeDecade & average & standard\\_deviation\\\\\n",
       " <fct> & <dbl> & <dbl>\\\\\n",
       "\\hline\n",
       "\t  0-9   &  99.95041 &  9.071798\\\\\n",
       "\t  10-19 & 104.27466 &  9.461431\\\\\n",
       "\t  20-29 & 108.42243 & 10.146681\\\\\n",
       "\t  30-39 & 111.25512 & 12.314790\\\\\n",
       "\t  40-49 & 115.49385 & 14.530054\\\\\n",
       "\t  50-59 & 121.84245 & 16.179333\\\\\n",
       "\t  60-69 & 127.17787 & 17.125713\\\\\n",
       "\t  70+   & 133.51652 & 19.841781\\\\\n",
       "\t NA     & 141.54839 & 22.908521\\\\\n",
       "\\end{tabular}\n"
      ],
      "text/markdown": [
       "\n",
       "A tibble: 9 × 3\n",
       "\n",
       "| AgeDecade &lt;fct&gt; | average &lt;dbl&gt; | standard_deviation &lt;dbl&gt; |\n",
       "|---|---|---|\n",
       "|  0-9   |  99.95041 |  9.071798 |\n",
       "|  10-19 | 104.27466 |  9.461431 |\n",
       "|  20-29 | 108.42243 | 10.146681 |\n",
       "|  30-39 | 111.25512 | 12.314790 |\n",
       "|  40-49 | 115.49385 | 14.530054 |\n",
       "|  50-59 | 121.84245 | 16.179333 |\n",
       "|  60-69 | 127.17787 | 17.125713 |\n",
       "|  70+   | 133.51652 | 19.841781 |\n",
       "| NA     | 141.54839 | 22.908521 |\n",
       "\n"
      ],
      "text/plain": [
       "  AgeDecade average   standard_deviation\n",
       "1  0-9       99.95041  9.071798         \n",
       "2  10-19    104.27466  9.461431         \n",
       "3  20-29    108.42243 10.146681         \n",
       "4  30-39    111.25512 12.314790         \n",
       "5  40-49    115.49385 14.530054         \n",
       "6  50-59    121.84245 16.179333         \n",
       "7  60-69    127.17787 17.125713         \n",
       "8  70+      133.51652 19.841781         \n",
       "9 NA        141.54839 22.908521         "
      ]
     },
     "metadata": {},
     "output_type": "display_data"
    }
   ],
   "source": [
    "NHANES %>%\n",
    "    filter(Gender == \"female\") %>%\n",
    "    group_by(AgeDecade) %>%\n",
    "    summarize(average = mean(BPSysAve, na.rm = TRUE), standard_deviation = sd(BPSysAve, na.rm = TRUE))"
   ]
  },
  {
   "cell_type": "markdown",
   "metadata": {},
   "source": [
    "5. Repeat exercise 4 for males."
   ]
  },
  {
   "cell_type": "code",
   "execution_count": 42,
   "metadata": {},
   "outputs": [
    {
     "name": "stderr",
     "output_type": "stream",
     "text": [
      "`summarise()` ungrouping output (override with `.groups` argument)\n",
      "\n"
     ]
    },
    {
     "data": {
      "text/html": [
       "<table>\n",
       "<caption>A tibble: 9 × 3</caption>\n",
       "<thead>\n",
       "\t<tr><th scope=col>AgeDecade</th><th scope=col>average</th><th scope=col>standard_deviation</th></tr>\n",
       "\t<tr><th scope=col>&lt;fct&gt;</th><th scope=col>&lt;dbl&gt;</th><th scope=col>&lt;dbl&gt;</th></tr>\n",
       "</thead>\n",
       "<tbody>\n",
       "\t<tr><td> 0-9  </td><td> 97.41912</td><td> 8.317367</td></tr>\n",
       "\t<tr><td> 10-19</td><td>109.59789</td><td>11.227769</td></tr>\n",
       "\t<tr><td> 20-29</td><td>117.85084</td><td>11.274795</td></tr>\n",
       "\t<tr><td> 30-39</td><td>119.40063</td><td>12.306656</td></tr>\n",
       "\t<tr><td> 40-49</td><td>120.78390</td><td>13.968338</td></tr>\n",
       "\t<tr><td> 50-59</td><td>125.75000</td><td>17.760536</td></tr>\n",
       "\t<tr><td> 60-69</td><td>126.88578</td><td>17.478117</td></tr>\n",
       "\t<tr><td> 70+  </td><td>130.20172</td><td>18.657475</td></tr>\n",
       "\t<tr><td>NA    </td><td>136.40000</td><td>23.534731</td></tr>\n",
       "</tbody>\n",
       "</table>\n"
      ],
      "text/latex": [
       "A tibble: 9 × 3\n",
       "\\begin{tabular}{lll}\n",
       " AgeDecade & average & standard\\_deviation\\\\\n",
       " <fct> & <dbl> & <dbl>\\\\\n",
       "\\hline\n",
       "\t  0-9   &  97.41912 &  8.317367\\\\\n",
       "\t  10-19 & 109.59789 & 11.227769\\\\\n",
       "\t  20-29 & 117.85084 & 11.274795\\\\\n",
       "\t  30-39 & 119.40063 & 12.306656\\\\\n",
       "\t  40-49 & 120.78390 & 13.968338\\\\\n",
       "\t  50-59 & 125.75000 & 17.760536\\\\\n",
       "\t  60-69 & 126.88578 & 17.478117\\\\\n",
       "\t  70+   & 130.20172 & 18.657475\\\\\n",
       "\t NA     & 136.40000 & 23.534731\\\\\n",
       "\\end{tabular}\n"
      ],
      "text/markdown": [
       "\n",
       "A tibble: 9 × 3\n",
       "\n",
       "| AgeDecade &lt;fct&gt; | average &lt;dbl&gt; | standard_deviation &lt;dbl&gt; |\n",
       "|---|---|---|\n",
       "|  0-9   |  97.41912 |  8.317367 |\n",
       "|  10-19 | 109.59789 | 11.227769 |\n",
       "|  20-29 | 117.85084 | 11.274795 |\n",
       "|  30-39 | 119.40063 | 12.306656 |\n",
       "|  40-49 | 120.78390 | 13.968338 |\n",
       "|  50-59 | 125.75000 | 17.760536 |\n",
       "|  60-69 | 126.88578 | 17.478117 |\n",
       "|  70+   | 130.20172 | 18.657475 |\n",
       "| NA     | 136.40000 | 23.534731 |\n",
       "\n"
      ],
      "text/plain": [
       "  AgeDecade average   standard_deviation\n",
       "1  0-9       97.41912  8.317367         \n",
       "2  10-19    109.59789 11.227769         \n",
       "3  20-29    117.85084 11.274795         \n",
       "4  30-39    119.40063 12.306656         \n",
       "5  40-49    120.78390 13.968338         \n",
       "6  50-59    125.75000 17.760536         \n",
       "7  60-69    126.88578 17.478117         \n",
       "8  70+      130.20172 18.657475         \n",
       "9 NA        136.40000 23.534731         "
      ]
     },
     "metadata": {},
     "output_type": "display_data"
    }
   ],
   "source": [
    "NHANES %>%\n",
    "    filter(Gender == \"male\") %>% \n",
    "    group_by(AgeDecade) %>%\n",
    "    summarize(average = mean(BPSysAve, na.rm = TRUE), standard_deviation = sd(BPSysAve, na.rm = TRUE))"
   ]
  },
  {
   "cell_type": "markdown",
   "metadata": {},
   "source": [
    "6. We can actually combine both summaries for exercises 4 and 5 into one line of code. This is because `group_by` permits us to group by more than one variable. Obtain one big summary table using `group_by(AgeDecade, Gender)`."
   ]
  },
  {
   "cell_type": "code",
   "execution_count": 43,
   "metadata": {},
   "outputs": [
    {
     "name": "stderr",
     "output_type": "stream",
     "text": [
      "`summarise()` regrouping output by 'AgeDecade' (override with `.groups` argument)\n",
      "\n"
     ]
    },
    {
     "data": {
      "text/html": [
       "<table>\n",
       "<caption>A grouped_df: 18 × 4</caption>\n",
       "<thead>\n",
       "\t<tr><th scope=col>AgeDecade</th><th scope=col>Gender</th><th scope=col>average</th><th scope=col>standard_deviation</th></tr>\n",
       "\t<tr><th scope=col>&lt;fct&gt;</th><th scope=col>&lt;fct&gt;</th><th scope=col>&lt;dbl&gt;</th><th scope=col>&lt;dbl&gt;</th></tr>\n",
       "</thead>\n",
       "<tbody>\n",
       "\t<tr><td> 0-9  </td><td>female</td><td> 99.95041</td><td> 9.071798</td></tr>\n",
       "\t<tr><td> 0-9  </td><td>male  </td><td> 97.41912</td><td> 8.317367</td></tr>\n",
       "\t<tr><td> 10-19</td><td>female</td><td>104.27466</td><td> 9.461431</td></tr>\n",
       "\t<tr><td> 10-19</td><td>male  </td><td>109.59789</td><td>11.227769</td></tr>\n",
       "\t<tr><td> 20-29</td><td>female</td><td>108.42243</td><td>10.146681</td></tr>\n",
       "\t<tr><td> 20-29</td><td>male  </td><td>117.85084</td><td>11.274795</td></tr>\n",
       "\t<tr><td> 30-39</td><td>female</td><td>111.25512</td><td>12.314790</td></tr>\n",
       "\t<tr><td> 30-39</td><td>male  </td><td>119.40063</td><td>12.306656</td></tr>\n",
       "\t<tr><td> 40-49</td><td>female</td><td>115.49385</td><td>14.530054</td></tr>\n",
       "\t<tr><td> 40-49</td><td>male  </td><td>120.78390</td><td>13.968338</td></tr>\n",
       "\t<tr><td> 50-59</td><td>female</td><td>121.84245</td><td>16.179333</td></tr>\n",
       "\t<tr><td> 50-59</td><td>male  </td><td>125.75000</td><td>17.760536</td></tr>\n",
       "\t<tr><td> 60-69</td><td>female</td><td>127.17787</td><td>17.125713</td></tr>\n",
       "\t<tr><td> 60-69</td><td>male  </td><td>126.88578</td><td>17.478117</td></tr>\n",
       "\t<tr><td> 70+  </td><td>female</td><td>133.51652</td><td>19.841781</td></tr>\n",
       "\t<tr><td> 70+  </td><td>male  </td><td>130.20172</td><td>18.657475</td></tr>\n",
       "\t<tr><td>NA    </td><td>female</td><td>141.54839</td><td>22.908521</td></tr>\n",
       "\t<tr><td>NA    </td><td>male  </td><td>136.40000</td><td>23.534731</td></tr>\n",
       "</tbody>\n",
       "</table>\n"
      ],
      "text/latex": [
       "A grouped\\_df: 18 × 4\n",
       "\\begin{tabular}{llll}\n",
       " AgeDecade & Gender & average & standard\\_deviation\\\\\n",
       " <fct> & <fct> & <dbl> & <dbl>\\\\\n",
       "\\hline\n",
       "\t  0-9   & female &  99.95041 &  9.071798\\\\\n",
       "\t  0-9   & male   &  97.41912 &  8.317367\\\\\n",
       "\t  10-19 & female & 104.27466 &  9.461431\\\\\n",
       "\t  10-19 & male   & 109.59789 & 11.227769\\\\\n",
       "\t  20-29 & female & 108.42243 & 10.146681\\\\\n",
       "\t  20-29 & male   & 117.85084 & 11.274795\\\\\n",
       "\t  30-39 & female & 111.25512 & 12.314790\\\\\n",
       "\t  30-39 & male   & 119.40063 & 12.306656\\\\\n",
       "\t  40-49 & female & 115.49385 & 14.530054\\\\\n",
       "\t  40-49 & male   & 120.78390 & 13.968338\\\\\n",
       "\t  50-59 & female & 121.84245 & 16.179333\\\\\n",
       "\t  50-59 & male   & 125.75000 & 17.760536\\\\\n",
       "\t  60-69 & female & 127.17787 & 17.125713\\\\\n",
       "\t  60-69 & male   & 126.88578 & 17.478117\\\\\n",
       "\t  70+   & female & 133.51652 & 19.841781\\\\\n",
       "\t  70+   & male   & 130.20172 & 18.657475\\\\\n",
       "\t NA     & female & 141.54839 & 22.908521\\\\\n",
       "\t NA     & male   & 136.40000 & 23.534731\\\\\n",
       "\\end{tabular}\n"
      ],
      "text/markdown": [
       "\n",
       "A grouped_df: 18 × 4\n",
       "\n",
       "| AgeDecade &lt;fct&gt; | Gender &lt;fct&gt; | average &lt;dbl&gt; | standard_deviation &lt;dbl&gt; |\n",
       "|---|---|---|---|\n",
       "|  0-9   | female |  99.95041 |  9.071798 |\n",
       "|  0-9   | male   |  97.41912 |  8.317367 |\n",
       "|  10-19 | female | 104.27466 |  9.461431 |\n",
       "|  10-19 | male   | 109.59789 | 11.227769 |\n",
       "|  20-29 | female | 108.42243 | 10.146681 |\n",
       "|  20-29 | male   | 117.85084 | 11.274795 |\n",
       "|  30-39 | female | 111.25512 | 12.314790 |\n",
       "|  30-39 | male   | 119.40063 | 12.306656 |\n",
       "|  40-49 | female | 115.49385 | 14.530054 |\n",
       "|  40-49 | male   | 120.78390 | 13.968338 |\n",
       "|  50-59 | female | 121.84245 | 16.179333 |\n",
       "|  50-59 | male   | 125.75000 | 17.760536 |\n",
       "|  60-69 | female | 127.17787 | 17.125713 |\n",
       "|  60-69 | male   | 126.88578 | 17.478117 |\n",
       "|  70+   | female | 133.51652 | 19.841781 |\n",
       "|  70+   | male   | 130.20172 | 18.657475 |\n",
       "| NA     | female | 141.54839 | 22.908521 |\n",
       "| NA     | male   | 136.40000 | 23.534731 |\n",
       "\n"
      ],
      "text/plain": [
       "   AgeDecade Gender average   standard_deviation\n",
       "1   0-9      female  99.95041  9.071798         \n",
       "2   0-9      male    97.41912  8.317367         \n",
       "3   10-19    female 104.27466  9.461431         \n",
       "4   10-19    male   109.59789 11.227769         \n",
       "5   20-29    female 108.42243 10.146681         \n",
       "6   20-29    male   117.85084 11.274795         \n",
       "7   30-39    female 111.25512 12.314790         \n",
       "8   30-39    male   119.40063 12.306656         \n",
       "9   40-49    female 115.49385 14.530054         \n",
       "10  40-49    male   120.78390 13.968338         \n",
       "11  50-59    female 121.84245 16.179333         \n",
       "12  50-59    male   125.75000 17.760536         \n",
       "13  60-69    female 127.17787 17.125713         \n",
       "14  60-69    male   126.88578 17.478117         \n",
       "15  70+      female 133.51652 19.841781         \n",
       "16  70+      male   130.20172 18.657475         \n",
       "17 NA        female 141.54839 22.908521         \n",
       "18 NA        male   136.40000 23.534731         "
      ]
     },
     "metadata": {},
     "output_type": "display_data"
    }
   ],
   "source": [
    "NHANES %>%\n",
    "    group_by(AgeDecade, Gender) %>%\n",
    "    summarize(average = mean(BPSysAve, na.rm = TRUE), standard_deviation = sd(BPSysAve, na.rm = TRUE))"
   ]
  },
  {
   "cell_type": "markdown",
   "metadata": {},
   "source": [
    "7. For males between the ages of 40-49, compare systolic blood pressure across race as reported in the `Race1` variable. Order the resulting table from lowest to highest average systolic blood pressure."
   ]
  },
  {
   "cell_type": "code",
   "execution_count": 45,
   "metadata": {},
   "outputs": [
    {
     "name": "stderr",
     "output_type": "stream",
     "text": [
      "`summarise()` ungrouping output (override with `.groups` argument)\n",
      "\n"
     ]
    },
    {
     "data": {
      "text/html": [
       "<table>\n",
       "<caption>A tibble: 5 × 3</caption>\n",
       "<thead>\n",
       "\t<tr><th scope=col>Race1</th><th scope=col>average</th><th scope=col>standard_deviation</th></tr>\n",
       "\t<tr><th scope=col>&lt;fct&gt;</th><th scope=col>&lt;dbl&gt;</th><th scope=col>&lt;dbl&gt;</th></tr>\n",
       "</thead>\n",
       "<tbody>\n",
       "\t<tr><td>White   </td><td>119.9188</td><td>13.42355</td></tr>\n",
       "\t<tr><td>Other   </td><td>120.4000</td><td>16.20241</td></tr>\n",
       "\t<tr><td>Hispanic</td><td>121.6098</td><td>11.06770</td></tr>\n",
       "\t<tr><td>Mexican </td><td>121.8500</td><td>13.93756</td></tr>\n",
       "\t<tr><td>Black   </td><td>125.8387</td><td>17.06707</td></tr>\n",
       "</tbody>\n",
       "</table>\n"
      ],
      "text/latex": [
       "A tibble: 5 × 3\n",
       "\\begin{tabular}{lll}\n",
       " Race1 & average & standard\\_deviation\\\\\n",
       " <fct> & <dbl> & <dbl>\\\\\n",
       "\\hline\n",
       "\t White    & 119.9188 & 13.42355\\\\\n",
       "\t Other    & 120.4000 & 16.20241\\\\\n",
       "\t Hispanic & 121.6098 & 11.06770\\\\\n",
       "\t Mexican  & 121.8500 & 13.93756\\\\\n",
       "\t Black    & 125.8387 & 17.06707\\\\\n",
       "\\end{tabular}\n"
      ],
      "text/markdown": [
       "\n",
       "A tibble: 5 × 3\n",
       "\n",
       "| Race1 &lt;fct&gt; | average &lt;dbl&gt; | standard_deviation &lt;dbl&gt; |\n",
       "|---|---|---|\n",
       "| White    | 119.9188 | 13.42355 |\n",
       "| Other    | 120.4000 | 16.20241 |\n",
       "| Hispanic | 121.6098 | 11.06770 |\n",
       "| Mexican  | 121.8500 | 13.93756 |\n",
       "| Black    | 125.8387 | 17.06707 |\n",
       "\n"
      ],
      "text/plain": [
       "  Race1    average  standard_deviation\n",
       "1 White    119.9188 13.42355          \n",
       "2 Other    120.4000 16.20241          \n",
       "3 Hispanic 121.6098 11.06770          \n",
       "4 Mexican  121.8500 13.93756          \n",
       "5 Black    125.8387 17.06707          "
      ]
     },
     "metadata": {},
     "output_type": "display_data"
    }
   ],
   "source": [
    "NHANES %>%\n",
    "    filter(Gender == \"male\", AgeDecade == \" 40-49\") %>%\n",
    "    group_by(Race1) %>%\n",
    "    summarize(average = mean(BPSysAve, na.rm = TRUE), standard_deviation = sd(BPSysAve, na.rm = TRUE)) %>%\n",
    "    arrange(average)"
   ]
  },
  {
   "cell_type": "markdown",
   "metadata": {},
   "source": [
    "## 4.10 Tibbles\n",
    "\n",
    "Tidy data must be stored in data frames. We introduced the data frame in Section 2.4.1 and have been using the `murders` data frame throughout the book. In Section 4.7.3 we introduced the `group_by` function, which permits stratifying data before computing summary statistics. But where is the group information stored in the data frame?"
   ]
  },
  {
   "cell_type": "code",
   "execution_count": 47,
   "metadata": {},
   "outputs": [
    {
     "data": {
      "text/html": [
       "<table>\n",
       "<caption>A grouped_df: 3 × 6</caption>\n",
       "<thead>\n",
       "\t<tr><th scope=col>state</th><th scope=col>abb</th><th scope=col>region</th><th scope=col>population</th><th scope=col>total</th><th scope=col>rate</th></tr>\n",
       "\t<tr><th scope=col>&lt;chr&gt;</th><th scope=col>&lt;chr&gt;</th><th scope=col>&lt;fct&gt;</th><th scope=col>&lt;dbl&gt;</th><th scope=col>&lt;dbl&gt;</th><th scope=col>&lt;dbl&gt;</th></tr>\n",
       "</thead>\n",
       "<tbody>\n",
       "\t<tr><td>Alabama</td><td>AL</td><td>South</td><td>4779736</td><td>135</td><td>2.824424</td></tr>\n",
       "\t<tr><td>Alaska </td><td>AK</td><td>West </td><td> 710231</td><td> 19</td><td>2.675186</td></tr>\n",
       "\t<tr><td>Arizona</td><td>AZ</td><td>West </td><td>6392017</td><td>232</td><td>3.629527</td></tr>\n",
       "</tbody>\n",
       "</table>\n"
      ],
      "text/latex": [
       "A grouped\\_df: 3 × 6\n",
       "\\begin{tabular}{llllll}\n",
       " state & abb & region & population & total & rate\\\\\n",
       " <chr> & <chr> & <fct> & <dbl> & <dbl> & <dbl>\\\\\n",
       "\\hline\n",
       "\t Alabama & AL & South & 4779736 & 135 & 2.824424\\\\\n",
       "\t Alaska  & AK & West  &  710231 &  19 & 2.675186\\\\\n",
       "\t Arizona & AZ & West  & 6392017 & 232 & 3.629527\\\\\n",
       "\\end{tabular}\n"
      ],
      "text/markdown": [
       "\n",
       "A grouped_df: 3 × 6\n",
       "\n",
       "| state &lt;chr&gt; | abb &lt;chr&gt; | region &lt;fct&gt; | population &lt;dbl&gt; | total &lt;dbl&gt; | rate &lt;dbl&gt; |\n",
       "|---|---|---|---|---|---|\n",
       "| Alabama | AL | South | 4779736 | 135 | 2.824424 |\n",
       "| Alaska  | AK | West  |  710231 |  19 | 2.675186 |\n",
       "| Arizona | AZ | West  | 6392017 | 232 | 3.629527 |\n",
       "\n"
      ],
      "text/plain": [
       "  state   abb region population total rate    \n",
       "1 Alabama AL  South  4779736    135   2.824424\n",
       "2 Alaska  AK  West    710231     19   2.675186\n",
       "3 Arizona AZ  West   6392017    232   3.629527"
      ]
     },
     "metadata": {},
     "output_type": "display_data"
    }
   ],
   "source": [
    "murders %>% group_by(region) %>% head(3)"
   ]
  },
  {
   "cell_type": "markdown",
   "metadata": {},
   "source": [
    "Notice that there are no columns with this information. But, if you look closely at the output above, you see the line `A tibble` followd by dimensions. We can learn the class of the returned object using:"
   ]
  },
  {
   "cell_type": "code",
   "execution_count": 48,
   "metadata": {},
   "outputs": [
    {
     "data": {
      "text/html": [
       "<style>\n",
       ".list-inline {list-style: none; margin:0; padding: 0}\n",
       ".list-inline>li {display: inline-block}\n",
       ".list-inline>li:not(:last-child)::after {content: \"\\00b7\"; padding: 0 .5ex}\n",
       "</style>\n",
       "<ol class=list-inline><li>'grouped_df'</li><li>'tbl_df'</li><li>'tbl'</li><li>'data.frame'</li></ol>\n"
      ],
      "text/latex": [
       "\\begin{enumerate*}\n",
       "\\item 'grouped\\_df'\n",
       "\\item 'tbl\\_df'\n",
       "\\item 'tbl'\n",
       "\\item 'data.frame'\n",
       "\\end{enumerate*}\n"
      ],
      "text/markdown": [
       "1. 'grouped_df'\n",
       "2. 'tbl_df'\n",
       "3. 'tbl'\n",
       "4. 'data.frame'\n",
       "\n",
       "\n"
      ],
      "text/plain": [
       "[1] \"grouped_df\" \"tbl_df\"     \"tbl\"        \"data.frame\""
      ]
     },
     "metadata": {},
     "output_type": "display_data"
    }
   ],
   "source": [
    "murders %>% group_by(region) %>% class()"
   ]
  },
  {
   "cell_type": "markdown",
   "metadata": {},
   "source": [
    "The `tbl`, pronounced tibble, is a special kind of data frame. The functions `group_by` and summarize always return this type of data frame. The `group_by` function returns a special kind of `tbl`, the grouped_df. We will say more about these later. For consistency, the __dplyr__ manipulation verbs (`select`, `filter`, `mutate`, and `arrange`) preserve the class of the input: if they receive a regular data frame they return a regular data frame, while if they receive a tibble they return a tibble. But tibbles are the preferred format in the tidyverse and as a result tidyverse functions that produce a data frame from scratch return a tibble. For example, in Chapter 5 we will see that tidyverse functions used to import data create tibbles.\n",
    "\n",
    "Tibbles are very similar to data frames. In fact, you can think of them as a modern version of data frames. Nonetheless there are three important differences which we describe next."
   ]
  },
  {
   "cell_type": "markdown",
   "metadata": {},
   "source": [
    "### 4.10.1 Tibbles display better\n",
    "\n",
    "The print method for tibbles is more readable than that of a data frame. To see this, compare the outputs of typing `murders` and the output of murders if we convert it to a tibble. We can do this using `as_tibble(murders)`. If using RStudio, output for a tibble adjusts to your window size. To see this, change the width of your R console and notice how more/less columns are shown."
   ]
  },
  {
   "cell_type": "markdown",
   "metadata": {},
   "source": [
    "### 4.10.2 Subsets of tibbles are tibbles\n",
    "\n",
    "If you subset the columns of a data frame, you may get back an object that is not a data frame, such as a vector or scalar. For example:"
   ]
  },
  {
   "cell_type": "code",
   "execution_count": 49,
   "metadata": {},
   "outputs": [
    {
     "data": {
      "text/html": [
       "'numeric'"
      ],
      "text/latex": [
       "'numeric'"
      ],
      "text/markdown": [
       "'numeric'"
      ],
      "text/plain": [
       "[1] \"numeric\""
      ]
     },
     "metadata": {},
     "output_type": "display_data"
    }
   ],
   "source": [
    "class(murders[,4])"
   ]
  },
  {
   "cell_type": "markdown",
   "metadata": {},
   "source": [
    "is not a data frame. With tibbles this does not happen:"
   ]
  },
  {
   "cell_type": "code",
   "execution_count": 50,
   "metadata": {},
   "outputs": [
    {
     "data": {
      "text/html": [
       "<style>\n",
       ".list-inline {list-style: none; margin:0; padding: 0}\n",
       ".list-inline>li {display: inline-block}\n",
       ".list-inline>li:not(:last-child)::after {content: \"\\00b7\"; padding: 0 .5ex}\n",
       "</style>\n",
       "<ol class=list-inline><li>'tbl_df'</li><li>'tbl'</li><li>'data.frame'</li></ol>\n"
      ],
      "text/latex": [
       "\\begin{enumerate*}\n",
       "\\item 'tbl\\_df'\n",
       "\\item 'tbl'\n",
       "\\item 'data.frame'\n",
       "\\end{enumerate*}\n"
      ],
      "text/markdown": [
       "1. 'tbl_df'\n",
       "2. 'tbl'\n",
       "3. 'data.frame'\n",
       "\n",
       "\n"
      ],
      "text/plain": [
       "[1] \"tbl_df\"     \"tbl\"        \"data.frame\""
      ]
     },
     "metadata": {},
     "output_type": "display_data"
    }
   ],
   "source": [
    "class(as_tibble(murders)[,4])"
   ]
  },
  {
   "cell_type": "markdown",
   "metadata": {},
   "source": [
    "This is useful in the tidyverse since functions require data frames as input.\n",
    "\n",
    "With tibbles, if you want to access the vector that defines a column, and not get back a data frame, you need to use the accessor `$`:"
   ]
  },
  {
   "cell_type": "code",
   "execution_count": 51,
   "metadata": {},
   "outputs": [
    {
     "data": {
      "text/html": [
       "'numeric'"
      ],
      "text/latex": [
       "'numeric'"
      ],
      "text/markdown": [
       "'numeric'"
      ],
      "text/plain": [
       "[1] \"numeric\""
      ]
     },
     "metadata": {},
     "output_type": "display_data"
    }
   ],
   "source": [
    "class(as_tibble(murders)$population)"
   ]
  },
  {
   "cell_type": "markdown",
   "metadata": {},
   "source": [
    "A related feature is that tibbles will give you a warning if you try to access a column that does not exist. If we accidentally write `Population` instead of `population` this:"
   ]
  },
  {
   "cell_type": "code",
   "execution_count": 53,
   "metadata": {},
   "outputs": [
    {
     "data": {
      "text/plain": [
       "NULL"
      ]
     },
     "metadata": {},
     "output_type": "display_data"
    }
   ],
   "source": [
    "murders$Population"
   ]
  },
  {
   "cell_type": "markdown",
   "metadata": {},
   "source": [
    "returns a `NULL` with no warning, which can make it harder to debug. In contrast, if we try this with a tibble we get an informative warning:"
   ]
  },
  {
   "cell_type": "code",
   "execution_count": 54,
   "metadata": {},
   "outputs": [
    {
     "name": "stderr",
     "output_type": "stream",
     "text": [
      "Warning message:\n",
      "\"Unknown or uninitialised column: `Population`.\"\n"
     ]
    },
    {
     "data": {
      "text/plain": [
       "NULL"
      ]
     },
     "metadata": {},
     "output_type": "display_data"
    }
   ],
   "source": [
    "as_tibble(murders)$Population"
   ]
  },
  {
   "cell_type": "markdown",
   "metadata": {},
   "source": [
    "### 4.10.3 Tibbles can have complex entries\n",
    "\n",
    "While data frame columns need to be vectors of numbers, strings, or logical values, tibbles can have more complex objects, such as lists or functions. Also, we can create tibbles with functions:"
   ]
  },
  {
   "cell_type": "code",
   "execution_count": 55,
   "metadata": {},
   "outputs": [
    {
     "data": {
      "text/html": [
       "<table>\n",
       "<caption>A tibble: 3 × 2</caption>\n",
       "<thead>\n",
       "\t<tr><th scope=col>id</th><th scope=col>func</th></tr>\n",
       "\t<tr><th scope=col>&lt;dbl&gt;</th><th scope=col>&lt;list&gt;</th></tr>\n",
       "</thead>\n",
       "<tbody>\n",
       "\t<tr><td>1</td><td>function (x, ...) , UseMethod(\"mean\")</td></tr>\n",
       "\t<tr><td>2</td><td>function (x, na.rm = FALSE, ...) , UseMethod(\"median\")</td></tr>\n",
       "\t<tr><td>3</td><td>function (x, na.rm = FALSE) , sqrt(var(if (is.vector(x) || is.factor(x)) x else as.double(x), ,     na.rm = na.rm))</td></tr>\n",
       "</tbody>\n",
       "</table>\n"
      ],
      "text/latex": [
       "A tibble: 3 × 2\n",
       "\\begin{tabular}{ll}\n",
       " id & func\\\\\n",
       " <dbl> & <list>\\\\\n",
       "\\hline\n",
       "\t 1 & function (x, ...) , UseMethod(\"mean\")\\\\\n",
       "\t 2 & function (x, na.rm = FALSE, ...) , UseMethod(\"median\")\\\\\n",
       "\t 3 & function (x, na.rm = FALSE) , sqrt(var(if (is.vector(x) \\textbar{}\\textbar{} is.factor(x)) x else as.double(x), ,     na.rm = na.rm))\\\\\n",
       "\\end{tabular}\n"
      ],
      "text/markdown": [
       "\n",
       "A tibble: 3 × 2\n",
       "\n",
       "| id &lt;dbl&gt; | func &lt;list&gt; |\n",
       "|---|---|\n",
       "| 1 | function (x, ...) , UseMethod(\"mean\") |\n",
       "| 2 | function (x, na.rm = FALSE, ...) , UseMethod(\"median\") |\n",
       "| 3 | function (x, na.rm = FALSE) , sqrt(var(if (is.vector(x) || is.factor(x)) x else as.double(x), ,     na.rm = na.rm)) |\n",
       "\n"
      ],
      "text/plain": [
       "  id\n",
       "1 1 \n",
       "2 2 \n",
       "3 3 \n",
       "  func                                                                                                               \n",
       "1 function (x, ...) , UseMethod(\"mean\")                                                                              \n",
       "2 function (x, na.rm = FALSE, ...) , UseMethod(\"median\")                                                             \n",
       "3 function (x, na.rm = FALSE) , sqrt(var(if (is.vector(x) || is.factor(x)) x else as.double(x), ,     na.rm = na.rm))"
      ]
     },
     "metadata": {},
     "output_type": "display_data"
    }
   ],
   "source": [
    "tibble(id = c(1, 2, 3), func = c(mean, median, sd))"
   ]
  },
  {
   "cell_type": "markdown",
   "metadata": {},
   "source": [
    "### 4.10.4 Tibbles can be grouped\n",
    "\n",
    "The function `group_by` returns a special kind of tibble: a grouped tibble. This class stores information that lets you know which rows are in which groups. The tidyverse functions, in particular the `summarize` function, are aware of the group information."
   ]
  },
  {
   "cell_type": "markdown",
   "metadata": {},
   "source": [
    "### 4.10.5 Create a tibble using `tibble` instead of `data.frame`\n",
    "\n",
    "It is sometimes useful for us to create our own data frames. To create a data frame in the tibble format, you can do this by using the `tibble` function."
   ]
  },
  {
   "cell_type": "code",
   "execution_count": 56,
   "metadata": {},
   "outputs": [],
   "source": [
    "grades <- tibble(names = c(\"John\", \"Juan\", \"Jean\", \"Yao\"),\n",
    "                exam_1 = c(95, 80, 90, 85),\n",
    "                exam_2 = c(90, 85, 85, 90))"
   ]
  },
  {
   "cell_type": "markdown",
   "metadata": {},
   "source": [
    "Note that base R (without packages loaded) has a function with a very similar name, `data.frame`, that can be used to create a regular data frame rather than a tibble. One other important difference is that by default `data.frame` coerces characters into factors without providing a warning or message:"
   ]
  },
  {
   "cell_type": "code",
   "execution_count": 58,
   "metadata": {},
   "outputs": [
    {
     "data": {
      "text/html": [
       "'character'"
      ],
      "text/latex": [
       "'character'"
      ],
      "text/markdown": [
       "'character'"
      ],
      "text/plain": [
       "[1] \"character\""
      ]
     },
     "metadata": {},
     "output_type": "display_data"
    }
   ],
   "source": [
    "grades <- data.frame(names = c('John', 'Juan', 'Jean', 'Yao'),\n",
    "                    exam_1 = c(95,80,90,85),\n",
    "                    exam_2 = c(90,85,85,90))\n",
    "class(grades$names)"
   ]
  },
  {
   "cell_type": "markdown",
   "metadata": {},
   "source": [
    "To avoid this, we use the rather cumbersome argument `stringAsFactors`:"
   ]
  },
  {
   "cell_type": "code",
   "execution_count": 59,
   "metadata": {},
   "outputs": [
    {
     "data": {
      "text/html": [
       "'character'"
      ],
      "text/latex": [
       "'character'"
      ],
      "text/markdown": [
       "'character'"
      ],
      "text/plain": [
       "[1] \"character\""
      ]
     },
     "metadata": {},
     "output_type": "display_data"
    }
   ],
   "source": [
    "grades <- data.frame(names = c('John', 'Juan', 'Jean', 'Yao'),\n",
    "                    exam_1 = c(95,80,90,85),\n",
    "                    exam_2 = c(90,85,85,90),\n",
    "                    stringAsFactors = FALSE)\n",
    "class(grades$names)"
   ]
  },
  {
   "cell_type": "markdown",
   "metadata": {},
   "source": [
    "To convert a regular data frame to a tibble, you can use the `as_tibble` function."
   ]
  },
  {
   "cell_type": "code",
   "execution_count": 60,
   "metadata": {},
   "outputs": [
    {
     "data": {
      "text/html": [
       "<style>\n",
       ".list-inline {list-style: none; margin:0; padding: 0}\n",
       ".list-inline>li {display: inline-block}\n",
       ".list-inline>li:not(:last-child)::after {content: \"\\00b7\"; padding: 0 .5ex}\n",
       "</style>\n",
       "<ol class=list-inline><li>'tbl_df'</li><li>'tbl'</li><li>'data.frame'</li></ol>\n"
      ],
      "text/latex": [
       "\\begin{enumerate*}\n",
       "\\item 'tbl\\_df'\n",
       "\\item 'tbl'\n",
       "\\item 'data.frame'\n",
       "\\end{enumerate*}\n"
      ],
      "text/markdown": [
       "1. 'tbl_df'\n",
       "2. 'tbl'\n",
       "3. 'data.frame'\n",
       "\n",
       "\n"
      ],
      "text/plain": [
       "[1] \"tbl_df\"     \"tbl\"        \"data.frame\""
      ]
     },
     "metadata": {},
     "output_type": "display_data"
    }
   ],
   "source": [
    "as_tibble(grades) %>% class()"
   ]
  },
  {
   "cell_type": "markdown",
   "metadata": {},
   "source": [
    "## 4.11 The dot operator\n",
    "\n",
    "One of the advantages of using the pipe `%>%` is that we do not have to keep naming new objects as we manipulate the data frame. As a quick reminder, if we want to compute the median murder rate for states in the southern states, instead of typing:"
   ]
  },
  {
   "cell_type": "code",
   "execution_count": 61,
   "metadata": {},
   "outputs": [
    {
     "data": {
      "text/html": [
       "3.39806883024604"
      ],
      "text/latex": [
       "3.39806883024604"
      ],
      "text/markdown": [
       "3.39806883024604"
      ],
      "text/plain": [
       "[1] 3.398069"
      ]
     },
     "metadata": {},
     "output_type": "display_data"
    }
   ],
   "source": [
    "tab_1 <- filter(murders, region == \"South\")\n",
    "tab_2 <- mutate(tab_1, rate = total / population * 10^5)\n",
    "rates <- tab_2$rate\n",
    "median(rates)"
   ]
  },
  {
   "cell_type": "markdown",
   "metadata": {},
   "source": [
    "We can avoid defining any new intermediate objects by instead typing:"
   ]
  },
  {
   "cell_type": "code",
   "execution_count": 62,
   "metadata": {},
   "outputs": [
    {
     "data": {
      "text/html": [
       "3.39806883024604"
      ],
      "text/latex": [
       "3.39806883024604"
      ],
      "text/markdown": [
       "3.39806883024604"
      ],
      "text/plain": [
       "[1] 3.398069"
      ]
     },
     "metadata": {},
     "output_type": "display_data"
    }
   ],
   "source": [
    "filter(murders, region == \"South\") %>%\n",
    "    mutate(rate = total/population*10^5) %>%\n",
    "    summarize(median = median(rate)) %>%\n",
    "    pull(median)"
   ]
  },
  {
   "cell_type": "markdown",
   "metadata": {},
   "source": [
    "We can do this because each of these functions takes a data frame as the first argument. But what if we want to access a component of the data frame. For example, what if the `pull` function was not available and we wanted to access `tab_2$rate`? What data frame name would we use? The answer is the dot operator.\n",
    "\n",
    "For example to access the rate vector without the `pull` function we could use"
   ]
  },
  {
   "cell_type": "code",
   "execution_count": 64,
   "metadata": {},
   "outputs": [
    {
     "data": {
      "text/html": [
       "3.39806883024604"
      ],
      "text/latex": [
       "3.39806883024604"
      ],
      "text/markdown": [
       "3.39806883024604"
      ],
      "text/plain": [
       "[1] 3.398069"
      ]
     },
     "metadata": {},
     "output_type": "display_data"
    },
    {
     "data": {
      "text/html": [
       "'numeric'"
      ],
      "text/latex": [
       "'numeric'"
      ],
      "text/markdown": [
       "'numeric'"
      ],
      "text/plain": [
       "[1] \"numeric\""
      ]
     },
     "metadata": {},
     "output_type": "display_data"
    }
   ],
   "source": [
    "rates <- filter(murders, region == \"South\") %>%\n",
    "    mutate(rate = total/population*10^5) %>%\n",
    "    .$rate\n",
    "median(rates)\n",
    "class(rates)"
   ]
  },
  {
   "cell_type": "markdown",
   "metadata": {},
   "source": [
    "In next section, we will see other instances in which using the `.` is useful."
   ]
  },
  {
   "cell_type": "markdown",
   "metadata": {},
   "source": [
    "## 4.12 `do`\n",
    "\n",
    "The tidyverse functions know how to interpret grouped tibbles. Furthermore, to facilitate stringing commands through the pipe `%>%`, tidyverse functions consistently return data frames, since this assures that the output of a function is accepted as the input of another. But most R functions do not recognize grouped tibbles nor do they return data frames. The `quantile` function is an example we described in Section 4.7.1. The `do` function serves as a bridge between R functions such as `quantile` and the tidyverse. The `do` function understands grouped tibbles and always returns a data frame.\n",
    "\n",
    "In Section 4.7.1, we noted that if we attempt to use `quantile` to obtain the min, median and max in one call, we will receive an error: `Error: expecting result of length one, got : 2`. __Note: R version is updated and this error does not come out.__"
   ]
  },
  {
   "cell_type": "code",
   "execution_count": 65,
   "metadata": {},
   "outputs": [
    {
     "data": {
      "text/html": [
       "<table>\n",
       "<caption>A data.frame: 3 × 1</caption>\n",
       "<thead>\n",
       "\t<tr><th scope=col>range</th></tr>\n",
       "\t<tr><th scope=col>&lt;dbl&gt;</th></tr>\n",
       "</thead>\n",
       "<tbody>\n",
       "\t<tr><td>51.00000</td></tr>\n",
       "\t<tr><td>64.98031</td></tr>\n",
       "\t<tr><td>79.00000</td></tr>\n",
       "</tbody>\n",
       "</table>\n"
      ],
      "text/latex": [
       "A data.frame: 3 × 1\n",
       "\\begin{tabular}{l}\n",
       " range\\\\\n",
       " <dbl>\\\\\n",
       "\\hline\n",
       "\t 51.00000\\\\\n",
       "\t 64.98031\\\\\n",
       "\t 79.00000\\\\\n",
       "\\end{tabular}\n"
      ],
      "text/markdown": [
       "\n",
       "A data.frame: 3 × 1\n",
       "\n",
       "| range &lt;dbl&gt; |\n",
       "|---|\n",
       "| 51.00000 |\n",
       "| 64.98031 |\n",
       "| 79.00000 |\n",
       "\n"
      ],
      "text/plain": [
       "  range   \n",
       "1 51.00000\n",
       "2 64.98031\n",
       "3 79.00000"
      ]
     },
     "metadata": {},
     "output_type": "display_data"
    }
   ],
   "source": [
    "data(heights)\n",
    "heights %>%\n",
    "    filter(sex == \"Female\") %>%\n",
    "    summarize(range = quantile(height, c(0, 0.5, 1)))"
   ]
  },
  {
   "cell_type": "markdown",
   "metadata": {},
   "source": [
    "We can use the `do` function to fix this.\n",
    "\n",
    "First we have to write a function that fits into the tidyverse approach: that is, it receives a data frame and returns a data frame."
   ]
  },
  {
   "cell_type": "code",
   "execution_count": 66,
   "metadata": {},
   "outputs": [],
   "source": [
    "my_summary <- function(dat){\n",
    "    x <- quantile(dat$height, c(0, 0.5, 1))\n",
    "    tibble(min = x[1], median = x[2], max = x[3])\n",
    "}"
   ]
  },
  {
   "cell_type": "markdown",
   "metadata": {},
   "source": [
    "We can now apply the function to the heights dataset to obtain the summaries:"
   ]
  },
  {
   "cell_type": "code",
   "execution_count": 67,
   "metadata": {},
   "outputs": [
    {
     "data": {
      "text/html": [
       "<table>\n",
       "<caption>A tibble: 1 × 3</caption>\n",
       "<thead>\n",
       "\t<tr><th scope=col>min</th><th scope=col>median</th><th scope=col>max</th></tr>\n",
       "\t<tr><th scope=col>&lt;dbl&gt;</th><th scope=col>&lt;dbl&gt;</th><th scope=col>&lt;dbl&gt;</th></tr>\n",
       "</thead>\n",
       "<tbody>\n",
       "\t<tr><td>50</td><td>68.5</td><td>82.67717</td></tr>\n",
       "</tbody>\n",
       "</table>\n"
      ],
      "text/latex": [
       "A tibble: 1 × 3\n",
       "\\begin{tabular}{lll}\n",
       " min & median & max\\\\\n",
       " <dbl> & <dbl> & <dbl>\\\\\n",
       "\\hline\n",
       "\t 50 & 68.5 & 82.67717\\\\\n",
       "\\end{tabular}\n"
      ],
      "text/markdown": [
       "\n",
       "A tibble: 1 × 3\n",
       "\n",
       "| min &lt;dbl&gt; | median &lt;dbl&gt; | max &lt;dbl&gt; |\n",
       "|---|---|---|\n",
       "| 50 | 68.5 | 82.67717 |\n",
       "\n"
      ],
      "text/plain": [
       "  min median max     \n",
       "1 50  68.5   82.67717"
      ]
     },
     "metadata": {},
     "output_type": "display_data"
    }
   ],
   "source": [
    "heights %>%\n",
    "    group_by(sex) %>%\n",
    "    my_summary"
   ]
  },
  {
   "cell_type": "markdown",
   "metadata": {},
   "source": [
    "But this is not what we want. We want a summary for each sex and the code returned just one summary. This is because `my_summary` is not part of the tidyverse and does not know how to handled grouped tibbles. `do` makes this connection:"
   ]
  },
  {
   "cell_type": "code",
   "execution_count": 69,
   "metadata": {},
   "outputs": [
    {
     "data": {
      "text/html": [
       "<table>\n",
       "<caption>A grouped_df: 2 × 4</caption>\n",
       "<thead>\n",
       "\t<tr><th scope=col>sex</th><th scope=col>min</th><th scope=col>median</th><th scope=col>max</th></tr>\n",
       "\t<tr><th scope=col>&lt;fct&gt;</th><th scope=col>&lt;dbl&gt;</th><th scope=col>&lt;dbl&gt;</th><th scope=col>&lt;dbl&gt;</th></tr>\n",
       "</thead>\n",
       "<tbody>\n",
       "\t<tr><td>Female</td><td>51</td><td>64.98031</td><td>79.00000</td></tr>\n",
       "\t<tr><td>Male  </td><td>50</td><td>69.00000</td><td>82.67717</td></tr>\n",
       "</tbody>\n",
       "</table>\n"
      ],
      "text/latex": [
       "A grouped\\_df: 2 × 4\n",
       "\\begin{tabular}{llll}\n",
       " sex & min & median & max\\\\\n",
       " <fct> & <dbl> & <dbl> & <dbl>\\\\\n",
       "\\hline\n",
       "\t Female & 51 & 64.98031 & 79.00000\\\\\n",
       "\t Male   & 50 & 69.00000 & 82.67717\\\\\n",
       "\\end{tabular}\n"
      ],
      "text/markdown": [
       "\n",
       "A grouped_df: 2 × 4\n",
       "\n",
       "| sex &lt;fct&gt; | min &lt;dbl&gt; | median &lt;dbl&gt; | max &lt;dbl&gt; |\n",
       "|---|---|---|---|\n",
       "| Female | 51 | 64.98031 | 79.00000 |\n",
       "| Male   | 50 | 69.00000 | 82.67717 |\n",
       "\n"
      ],
      "text/plain": [
       "  sex    min median   max     \n",
       "1 Female 51  64.98031 79.00000\n",
       "2 Male   50  69.00000 82.67717"
      ]
     },
     "metadata": {},
     "output_type": "display_data"
    }
   ],
   "source": [
    "heights %>%\n",
    "    group_by(sex) %>%\n",
    "    do(my_summary(.))"
   ]
  },
  {
   "cell_type": "markdown",
   "metadata": {},
   "source": [
    "Note that here we need to use the dot operator. The tibble created by `group_by` is piped to `do`. Within the call to `do`, the name of this tibble is `.` and we want to send it to `my_summary`. If you do not use the dot, then `my_summary` has _no argument_ and returns an error telling us that `argument \"dat\"` is missing. You can see the error by typing:"
   ]
  },
  {
   "cell_type": "code",
   "execution_count": 71,
   "metadata": {},
   "outputs": [
    {
     "ename": "ERROR",
     "evalue": "Error in quantile(dat$height, c(0, 0.5, 1)): 기본값이 없는 인수 \"dat\"가 누락되어 있습니다\n",
     "output_type": "error",
     "traceback": [
      "Error in quantile(dat$height, c(0, 0.5, 1)): 기본값이 없는 인수 \"dat\"가 누락되어 있습니다\nTraceback:\n",
      "1. heights %>% group_by(sex) %>% do(my_summary())",
      "2. withVisible(eval(quote(`_fseq`(`_lhs`)), env, env))",
      "3. eval(quote(`_fseq`(`_lhs`)), env, env)",
      "4. eval(quote(`_fseq`(`_lhs`)), env, env)",
      "5. `_fseq`(`_lhs`)",
      "6. freduce(value, `_function_list`)",
      "7. withVisible(function_list[[k]](value))",
      "8. function_list[[k]](value)",
      "9. do(., my_summary())",
      "10. do.grouped_df(., my_summary())",
      "11. eval_tidy(args[[j]], mask)",
      "12. my_summary()",
      "13. quantile(dat$height, c(0, 0.5, 1))   # at line 2 of file <text>"
     ]
    }
   ],
   "source": [
    "heights %>%\n",
    "    group_by(sex) %>%\n",
    "    do(my_summary())"
   ]
  },
  {
   "cell_type": "markdown",
   "metadata": {},
   "source": [
    "If you do not use the parenthesis, then the function is not executed and instead `do` tries to return the function. This gives an error because `do` must always return a data frame. You can see the error by typing:"
   ]
  },
  {
   "cell_type": "code",
   "execution_count": 72,
   "metadata": {},
   "outputs": [
    {
     "ename": "ERROR",
     "evalue": "Error in eval(lhs, parent, parent): 객체 'height'를 찾을 수 없습니다\n",
     "output_type": "error",
     "traceback": [
      "Error in eval(lhs, parent, parent): 객체 'height'를 찾을 수 없습니다\nTraceback:\n",
      "1. height %>% group_by(sex) %>% do(my_summary)",
      "2. eval(lhs, parent, parent)",
      "3. eval(lhs, parent, parent)"
     ]
    }
   ],
   "source": [
    "height %>%\n",
    "    group_by(sex) %>%\n",
    "    do(my_summary)"
   ]
  },
  {
   "cell_type": "markdown",
   "metadata": {},
   "source": [
    "## 4.13 The purrr package\n",
    "\n",
    "In Section 3.5 we learned about the `sapply` function, which permitted us to apply the same function to each element of a vector. We constructed a function and used `sapply` to compute the sum of the first `n` integers for several values of `n` like this:"
   ]
  },
  {
   "cell_type": "code",
   "execution_count": 73,
   "metadata": {},
   "outputs": [],
   "source": [
    "compute_s_n <- function(n){\n",
    "    x <- 1:n\n",
    "    sum(x)\n",
    "}\n",
    "n <-1:25\n",
    "s_n <- sapply(n, compute_s_n)"
   ]
  },
  {
   "cell_type": "markdown",
   "metadata": {},
   "source": [
    "This type of operation, applying the same function or procedure to elements of an object, is quite common in data analysis. The __purrr__ package includes functions similar to `sapply` but that better interact with other tidyverse functions. The main advantage is that we can better control the output type of functions. In contrast, `sapply` can return several different object types; for example, we might expect a numeric result from a line of code, but `sapply` might convert our result to character under some circumstances. __purrr__ functions will never do this: they will return objects of a specified type or return an error if this is not possible.\n",
    "\n",
    "The first __purrr__ function we will learn is `map`, which works very similar to `sapply` but always, without exception, returns a list:"
   ]
  },
  {
   "cell_type": "code",
   "execution_count": 75,
   "metadata": {},
   "outputs": [
    {
     "data": {
      "text/html": [
       "'list'"
      ],
      "text/latex": [
       "'list'"
      ],
      "text/markdown": [
       "'list'"
      ],
      "text/plain": [
       "[1] \"list\""
      ]
     },
     "metadata": {},
     "output_type": "display_data"
    }
   ],
   "source": [
    "library(purrr)\n",
    "s_n <- map(n, compute_s_n)\n",
    "class(s_n)"
   ]
  },
  {
   "cell_type": "markdown",
   "metadata": {},
   "source": [
    "If we want a numeric vector, we can instead use `map_dbl` which always returns a vector of numeric values."
   ]
  },
  {
   "cell_type": "code",
   "execution_count": 77,
   "metadata": {},
   "outputs": [
    {
     "data": {
      "text/html": [
       "'numeric'"
      ],
      "text/latex": [
       "'numeric'"
      ],
      "text/markdown": [
       "'numeric'"
      ],
      "text/plain": [
       "[1] \"numeric\""
      ]
     },
     "metadata": {},
     "output_type": "display_data"
    }
   ],
   "source": [
    "s_n <- map_dbl(n, compute_s_n)\n",
    "class(s_n)"
   ]
  },
  {
   "cell_type": "markdown",
   "metadata": {},
   "source": [
    "This produces the same results as the `sapply` call shown above.\n",
    "\n",
    "A particularly useful __purrr__ function for interacting with the rest of the tidyverse is `map_df`, which always returns a tibble data frame. However, the function being called needs to return a vector or a list with names. For this reason, the following code would result in a `Argument 1 must have names` error:"
   ]
  },
  {
   "cell_type": "code",
   "execution_count": 78,
   "metadata": {},
   "outputs": [
    {
     "ename": "ERROR",
     "evalue": "Error: Argument 1 must have names.\n",
     "output_type": "error",
     "traceback": [
      "Error: Argument 1 must have names.\nTraceback:\n",
      "1. map_df(n, compute_s_n)",
      "2. dplyr::bind_rows(res, .id = .id)",
      "3. abort(glue(\"Argument {i} must have names.\"))",
      "4. signal_abort(cnd)"
     ]
    }
   ],
   "source": [
    "s_n <- map_df(n, compute_s_n)"
   ]
  },
  {
   "cell_type": "markdown",
   "metadata": {},
   "source": [
    "We need to change the function to make this work:"
   ]
  },
  {
   "cell_type": "code",
   "execution_count": 143,
   "metadata": {},
   "outputs": [],
   "source": [
    "compute_s_n <- function(n){\n",
    "    x <- 1:n\n",
    "    tibble(sum = sum(x))\n",
    "}\n",
    "s_n <- map_df(n, compute_s_n)"
   ]
  },
  {
   "cell_type": "markdown",
   "metadata": {},
   "source": [
    "The __purrr__ pakckage provides much more functionality not covered here. For more details you can consult this online resource."
   ]
  },
  {
   "cell_type": "markdown",
   "metadata": {},
   "source": [
    "## 4.14 Tidyverse conditionals\n",
    "\n",
    "A typical data analysis will often involve one or more conditional operations. In Section 3.1 we described the `ifelse` function, which we will use extensively in this book. In this section we present two __dplyr__ functions that provide further functionality for performing conditional operations."
   ]
  },
  {
   "cell_type": "markdown",
   "metadata": {},
   "source": [
    "### 4.14.1 `case_when`\n",
    "\n",
    "The `case_when` function is useful for vectorizing conditional statements. It is similar to `ifelse` but can output any number of values, as opposed to just `TRUE` or `FALSE`. Here is an example splitting numbers into negative, positive, and 0:"
   ]
  },
  {
   "cell_type": "code",
   "execution_count": 80,
   "metadata": {},
   "outputs": [
    {
     "data": {
      "text/html": [
       "<style>\n",
       ".list-inline {list-style: none; margin:0; padding: 0}\n",
       ".list-inline>li {display: inline-block}\n",
       ".list-inline>li:not(:last-child)::after {content: \"\\00b7\"; padding: 0 .5ex}\n",
       "</style>\n",
       "<ol class=list-inline><li>'Negative'</li><li>'Negative'</li><li>'Zero'</li><li>'Positive'</li><li>'Positive'</li></ol>\n"
      ],
      "text/latex": [
       "\\begin{enumerate*}\n",
       "\\item 'Negative'\n",
       "\\item 'Negative'\n",
       "\\item 'Zero'\n",
       "\\item 'Positive'\n",
       "\\item 'Positive'\n",
       "\\end{enumerate*}\n"
      ],
      "text/markdown": [
       "1. 'Negative'\n",
       "2. 'Negative'\n",
       "3. 'Zero'\n",
       "4. 'Positive'\n",
       "5. 'Positive'\n",
       "\n",
       "\n"
      ],
      "text/plain": [
       "[1] \"Negative\" \"Negative\" \"Zero\"     \"Positive\" \"Positive\""
      ]
     },
     "metadata": {},
     "output_type": "display_data"
    }
   ],
   "source": [
    "x <- c(-2, -1, 0, 1, 2)\n",
    "case_when(x < 0 ~ \"Negative\",\n",
    "          x > 0 ~ \"Positive\",\n",
    "          TRUE ~ \"Zero\") # Is the other case included here?"
   ]
  },
  {
   "cell_type": "markdown",
   "metadata": {},
   "source": [
    "A common use for this function is to define categorical variables based on existing variables. For example, suppose we want to compare the murder rates in four groups of states: _New England_, _West Coast_, _South_, and _other_. For each state, we need to ask if it is in New England, if it is not we ask if it is in the West Coast, if not we ask if it is in the South, and if not we assign _other_. Here is how we use `case_when` to do this:"
   ]
  },
  {
   "cell_type": "code",
   "execution_count": 81,
   "metadata": {},
   "outputs": [
    {
     "name": "stderr",
     "output_type": "stream",
     "text": [
      "`summarise()` ungrouping output (override with `.groups` argument)\n",
      "\n"
     ]
    },
    {
     "data": {
      "text/html": [
       "<table>\n",
       "<caption>A tibble: 4 × 2</caption>\n",
       "<thead>\n",
       "\t<tr><th scope=col>group</th><th scope=col>rate</th></tr>\n",
       "\t<tr><th scope=col>&lt;chr&gt;</th><th scope=col>&lt;dbl&gt;</th></tr>\n",
       "</thead>\n",
       "<tbody>\n",
       "\t<tr><td>New England</td><td>1.723796</td></tr>\n",
       "\t<tr><td>Other      </td><td>2.708144</td></tr>\n",
       "\t<tr><td>South      </td><td>3.626558</td></tr>\n",
       "\t<tr><td>West Coast </td><td>2.899001</td></tr>\n",
       "</tbody>\n",
       "</table>\n"
      ],
      "text/latex": [
       "A tibble: 4 × 2\n",
       "\\begin{tabular}{ll}\n",
       " group & rate\\\\\n",
       " <chr> & <dbl>\\\\\n",
       "\\hline\n",
       "\t New England & 1.723796\\\\\n",
       "\t Other       & 2.708144\\\\\n",
       "\t South       & 3.626558\\\\\n",
       "\t West Coast  & 2.899001\\\\\n",
       "\\end{tabular}\n"
      ],
      "text/markdown": [
       "\n",
       "A tibble: 4 × 2\n",
       "\n",
       "| group &lt;chr&gt; | rate &lt;dbl&gt; |\n",
       "|---|---|\n",
       "| New England | 1.723796 |\n",
       "| Other       | 2.708144 |\n",
       "| South       | 3.626558 |\n",
       "| West Coast  | 2.899001 |\n",
       "\n"
      ],
      "text/plain": [
       "  group       rate    \n",
       "1 New England 1.723796\n",
       "2 Other       2.708144\n",
       "3 South       3.626558\n",
       "4 West Coast  2.899001"
      ]
     },
     "metadata": {},
     "output_type": "display_data"
    }
   ],
   "source": [
    "murders %>%\n",
    "    mutate(group = case_when(\n",
    "        abb %in% c(\"ME\", \"NH\", \"VT\", \"MA\", \"RI\", \"CT\") ~ \"New England\",\n",
    "        abb %in% c(\"WA\", \"OR\", \"CA\") ~ \"West Coast\",\n",
    "        region == \"South\" ~ \"South\",\n",
    "        TRUE ~ \"Other\")) %>%\n",
    "    group_by(group) %>%\n",
    "    summarize(rate = sum(total) / sum(population)*10^5)"
   ]
  },
  {
   "cell_type": "markdown",
   "metadata": {},
   "source": [
    "### 4.14.2 `between`\n",
    "\n",
    "A common operation in data analysis is to determine if a value falls inside an interval. We can check this using conditionals. For example, to check if the elements of a vector x are between a and b we can type"
   ]
  },
  {
   "cell_type": "code",
   "execution_count": null,
   "metadata": {},
   "outputs": [],
   "source": [
    "x >= a & x <= b"
   ]
  },
  {
   "cell_type": "markdown",
   "metadata": {},
   "source": [
    "However, this can become cumbersome, especially within the tidyverse approach. The `between` function performs the same operation."
   ]
  },
  {
   "cell_type": "code",
   "execution_count": null,
   "metadata": {},
   "outputs": [],
   "source": [
    "between(x, a, b)"
   ]
  },
  {
   "cell_type": "markdown",
   "metadata": {},
   "source": [
    "## 4.15 Exercises\n",
    "\n",
    "1. Load the `murders` dataset. Which of the following is true?\n",
    "\n",
    " a. `murders` is in tidy format and is stored in a tibble.\n",
    "\n",
    " b. `murders` is in tidy format and is stored in a data frame.\n",
    "\n",
    " c. `murders` is not in tidy format and is stored in a tibble.\n",
    "\n",
    " d. `murders` is not in tidy format and is stored in a data frame.\n",
    " \n",
    "Answer: b"
   ]
  },
  {
   "cell_type": "code",
   "execution_count": 83,
   "metadata": {},
   "outputs": [
    {
     "name": "stdout",
     "output_type": "stream",
     "text": [
      "'data.frame':\t51 obs. of  6 variables:\n",
      " $ state     : chr  \"Alabama\" \"Alaska\" \"Arizona\" \"Arkansas\" ...\n",
      " $ abb       : chr  \"AL\" \"AK\" \"AZ\" \"AR\" ...\n",
      " $ region    : Factor w/ 4 levels \"Northeast\",\"South\",..: 2 4 4 2 4 4 1 2 2 2 ...\n",
      " $ population: num  4779736 710231 6392017 2915918 37253956 ...\n",
      " $ total     : num  135 19 232 93 1257 ...\n",
      " $ rate      : num  2.82 2.68 3.63 3.19 3.37 ...\n"
     ]
    }
   ],
   "source": [
    "str(murders)"
   ]
  },
  {
   "cell_type": "markdown",
   "metadata": {},
   "source": [
    "2. Use `as_tibble` to convert the `murders` data table into a tibble and save it in an object called `murders_tibble`."
   ]
  },
  {
   "cell_type": "code",
   "execution_count": 85,
   "metadata": {},
   "outputs": [
    {
     "name": "stdout",
     "output_type": "stream",
     "text": [
      "tibble [51 x 6] (S3: tbl_df/tbl/data.frame)\n",
      " $ state     : chr [1:51] \"Alabama\" \"Alaska\" \"Arizona\" \"Arkansas\" ...\n",
      " $ abb       : chr [1:51] \"AL\" \"AK\" \"AZ\" \"AR\" ...\n",
      " $ region    : Factor w/ 4 levels \"Northeast\",\"South\",..: 2 4 4 2 4 4 1 2 2 2 ...\n",
      " $ population: num [1:51] 4779736 710231 6392017 2915918 37253956 ...\n",
      " $ total     : num [1:51] 135 19 232 93 1257 ...\n",
      " $ rate      : num [1:51] 2.82 2.68 3.63 3.19 3.37 ...\n"
     ]
    }
   ],
   "source": [
    "murders_tibble <- as_tibble(murders)\n",
    "str(murders_tibble)"
   ]
  },
  {
   "cell_type": "markdown",
   "metadata": {},
   "source": [
    "3. Use the `group_by` function to convert `murders` into a tibble that is grouped by region."
   ]
  },
  {
   "cell_type": "code",
   "execution_count": 88,
   "metadata": {},
   "outputs": [
    {
     "data": {
      "text/html": [
       "<table>\n",
       "<caption>A grouped_df: 6 × 6</caption>\n",
       "<thead>\n",
       "\t<tr><th scope=col>state</th><th scope=col>abb</th><th scope=col>region</th><th scope=col>population</th><th scope=col>total</th><th scope=col>rate</th></tr>\n",
       "\t<tr><th scope=col>&lt;chr&gt;</th><th scope=col>&lt;chr&gt;</th><th scope=col>&lt;fct&gt;</th><th scope=col>&lt;dbl&gt;</th><th scope=col>&lt;dbl&gt;</th><th scope=col>&lt;dbl&gt;</th></tr>\n",
       "</thead>\n",
       "<tbody>\n",
       "\t<tr><td>Alabama   </td><td>AL</td><td>South</td><td> 4779736</td><td> 135</td><td>2.824424</td></tr>\n",
       "\t<tr><td>Alaska    </td><td>AK</td><td>West </td><td>  710231</td><td>  19</td><td>2.675186</td></tr>\n",
       "\t<tr><td>Arizona   </td><td>AZ</td><td>West </td><td> 6392017</td><td> 232</td><td>3.629527</td></tr>\n",
       "\t<tr><td>Arkansas  </td><td>AR</td><td>South</td><td> 2915918</td><td>  93</td><td>3.189390</td></tr>\n",
       "\t<tr><td>California</td><td>CA</td><td>West </td><td>37253956</td><td>1257</td><td>3.374138</td></tr>\n",
       "\t<tr><td>Colorado  </td><td>CO</td><td>West </td><td> 5029196</td><td>  65</td><td>1.292453</td></tr>\n",
       "</tbody>\n",
       "</table>\n"
      ],
      "text/latex": [
       "A grouped\\_df: 6 × 6\n",
       "\\begin{tabular}{llllll}\n",
       " state & abb & region & population & total & rate\\\\\n",
       " <chr> & <chr> & <fct> & <dbl> & <dbl> & <dbl>\\\\\n",
       "\\hline\n",
       "\t Alabama    & AL & South &  4779736 &  135 & 2.824424\\\\\n",
       "\t Alaska     & AK & West  &   710231 &   19 & 2.675186\\\\\n",
       "\t Arizona    & AZ & West  &  6392017 &  232 & 3.629527\\\\\n",
       "\t Arkansas   & AR & South &  2915918 &   93 & 3.189390\\\\\n",
       "\t California & CA & West  & 37253956 & 1257 & 3.374138\\\\\n",
       "\t Colorado   & CO & West  &  5029196 &   65 & 1.292453\\\\\n",
       "\\end{tabular}\n"
      ],
      "text/markdown": [
       "\n",
       "A grouped_df: 6 × 6\n",
       "\n",
       "| state &lt;chr&gt; | abb &lt;chr&gt; | region &lt;fct&gt; | population &lt;dbl&gt; | total &lt;dbl&gt; | rate &lt;dbl&gt; |\n",
       "|---|---|---|---|---|---|\n",
       "| Alabama    | AL | South |  4779736 |  135 | 2.824424 |\n",
       "| Alaska     | AK | West  |   710231 |   19 | 2.675186 |\n",
       "| Arizona    | AZ | West  |  6392017 |  232 | 3.629527 |\n",
       "| Arkansas   | AR | South |  2915918 |   93 | 3.189390 |\n",
       "| California | CA | West  | 37253956 | 1257 | 3.374138 |\n",
       "| Colorado   | CO | West  |  5029196 |   65 | 1.292453 |\n",
       "\n"
      ],
      "text/plain": [
       "  state      abb region population total rate    \n",
       "1 Alabama    AL  South   4779736    135  2.824424\n",
       "2 Alaska     AK  West     710231     19  2.675186\n",
       "3 Arizona    AZ  West    6392017    232  3.629527\n",
       "4 Arkansas   AR  South   2915918     93  3.189390\n",
       "5 California CA  West   37253956   1257  3.374138\n",
       "6 Colorado   CO  West    5029196     65  1.292453"
      ]
     },
     "metadata": {},
     "output_type": "display_data"
    }
   ],
   "source": [
    "murders %>%\n",
    "    group_by(region) %>%\n",
    "    head()"
   ]
  },
  {
   "cell_type": "markdown",
   "metadata": {},
   "source": [
    "4. Write tidyverse code that is equivalent to this code:"
   ]
  },
  {
   "cell_type": "code",
   "execution_count": 89,
   "metadata": {},
   "outputs": [
    {
     "data": {
      "text/html": [
       "3675209.43481647"
      ],
      "text/latex": [
       "3675209.43481647"
      ],
      "text/markdown": [
       "3675209.43481647"
      ],
      "text/plain": [
       "[1] 3675209"
      ]
     },
     "metadata": {},
     "output_type": "display_data"
    }
   ],
   "source": [
    "exp(mean(log(murders$population)))"
   ]
  },
  {
   "cell_type": "markdown",
   "metadata": {},
   "source": [
    "Write it using the pipe so that each function is called without arguments. Use the dot operator to access the population. Hint: The code should start with `murders %>%`."
   ]
  },
  {
   "cell_type": "code",
   "execution_count": 103,
   "metadata": {},
   "outputs": [
    {
     "data": {
      "text/html": [
       "3675209.43481647"
      ],
      "text/latex": [
       "3675209.43481647"
      ],
      "text/markdown": [
       "3675209.43481647"
      ],
      "text/plain": [
       "[1] 3675209"
      ]
     },
     "metadata": {},
     "output_type": "display_data"
    }
   ],
   "source": [
    "murders %>%\n",
    "    .$population %>%\n",
    "    log() %>%\n",
    "    mean() %>%\n",
    "    exp()"
   ]
  },
  {
   "cell_type": "markdown",
   "metadata": {},
   "source": [
    "5. Use the `map_df` to create a data frame with three columns named `n`, `s_n`, and `s_n_2`. The first column should contain the numbers 1 through 100. The second and third columns should each contain the sum of 1 through $n$ with $n$ the row number."
   ]
  },
  {
   "cell_type": "code",
   "execution_count": 144,
   "metadata": {},
   "outputs": [
    {
     "data": {
      "text/html": [
       "<table>\n",
       "<caption>A tibble: 6 × 3</caption>\n",
       "<thead>\n",
       "\t<tr><th scope=col>n</th><th scope=col>s_n</th><th scope=col>s_n_2</th></tr>\n",
       "\t<tr><th scope=col>&lt;chr&gt;</th><th scope=col>&lt;int&gt;</th><th scope=col>&lt;named list&gt;</th></tr>\n",
       "</thead>\n",
       "<tbody>\n",
       "\t<tr><td>1</td><td> 1</td><td>1</td></tr>\n",
       "\t<tr><td>2</td><td> 3</td><td>3</td></tr>\n",
       "\t<tr><td>3</td><td> 6</td><td>6</td></tr>\n",
       "\t<tr><td>4</td><td>10</td><td>10</td></tr>\n",
       "\t<tr><td>5</td><td>15</td><td>15</td></tr>\n",
       "\t<tr><td>6</td><td>21</td><td>21</td></tr>\n",
       "</tbody>\n",
       "</table>\n"
      ],
      "text/latex": [
       "A tibble: 6 × 3\n",
       "\\begin{tabular}{lll}\n",
       " n & s\\_n & s\\_n\\_2\\\\\n",
       " <chr> & <int> & <named list>\\\\\n",
       "\\hline\n",
       "\t 1 &  1 & 1\\\\\n",
       "\t 2 &  3 & 3\\\\\n",
       "\t 3 &  6 & 6\\\\\n",
       "\t 4 & 10 & 10\\\\\n",
       "\t 5 & 15 & 15\\\\\n",
       "\t 6 & 21 & 21\\\\\n",
       "\\end{tabular}\n"
      ],
      "text/markdown": [
       "\n",
       "A tibble: 6 × 3\n",
       "\n",
       "| n &lt;chr&gt; | s_n &lt;int&gt; | s_n_2 &lt;named list&gt; |\n",
       "|---|---|---|\n",
       "| 1 |  1 | 1 |\n",
       "| 2 |  3 | 3 |\n",
       "| 3 |  6 | 6 |\n",
       "| 4 | 10 | 10 |\n",
       "| 5 | 15 | 15 |\n",
       "| 6 | 21 | 21 |\n",
       "\n"
      ],
      "text/plain": [
       "  n s_n s_n_2\n",
       "1 1  1  1    \n",
       "2 2  3  3    \n",
       "3 3  6  6    \n",
       "4 4 10  10   \n",
       "5 5 15  15   \n",
       "6 6 21  21   "
      ]
     },
     "metadata": {},
     "output_type": "display_data"
    }
   ],
   "source": [
    "compute_s_n <- function(n){\n",
    "    x <- 1:n\n",
    "    tibble(s_n = sum(x))\n",
    "}\n",
    "\n",
    "a <- map_df(1:100, compute_s_n, .id = \"n\")\n",
    "\n",
    "b <- a %>% mutate(s_n_2 = sapply(.$n, compute_s_n))\n",
    "head(b)"
   ]
  }
 ],
 "metadata": {
  "kernelspec": {
   "display_name": "R",
   "language": "R",
   "name": "ir"
  },
  "language_info": {
   "codemirror_mode": "r",
   "file_extension": ".r",
   "mimetype": "text/x-r-source",
   "name": "R",
   "pygments_lexer": "r",
   "version": "4.0.2"
  }
 },
 "nbformat": 4,
 "nbformat_minor": 4
}
