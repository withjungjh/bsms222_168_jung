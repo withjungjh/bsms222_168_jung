{
 "cells": [
  {
   "cell_type": "markdown",
   "metadata": {},
   "source": [
    "# Chapter 4 The tidyverse\n",
    "\n",
    "Up to now we have been manipulating vectors by reordering and subsetting them through indexing. However, once we start more advanced analyses, the preferred unit for data storage is not the vector but the _data frame_. In this chapter we learn to work directly with data frames, which greatly facilitate the organization of information. We will be using data frames for the majority of this book. We will focus on a specific data format referred to as _tidy_ and on specific collection of packages that are particularly helpful for working with _tidy_ data referred to as the _tidyverse_.\n",
    "\n",
    "We can load all the tidyverse packages at once by installing and loading the __tidyverse__ package:"
   ]
  },
  {
   "cell_type": "code",
   "execution_count": 1,
   "metadata": {},
   "outputs": [
    {
     "name": "stderr",
     "output_type": "stream",
     "text": [
      "── \u001b[1mAttaching packages\u001b[22m ─────────────────────────────────────── tidyverse 1.3.0 ──\n",
      "\n",
      "\u001b[32m✔\u001b[39m \u001b[34mggplot2\u001b[39m 3.3.2     \u001b[32m✔\u001b[39m \u001b[34mpurrr  \u001b[39m 0.3.4\n",
      "\u001b[32m✔\u001b[39m \u001b[34mtibble \u001b[39m 3.0.3     \u001b[32m✔\u001b[39m \u001b[34mdplyr  \u001b[39m 1.0.2\n",
      "\u001b[32m✔\u001b[39m \u001b[34mtidyr  \u001b[39m 1.1.2     \u001b[32m✔\u001b[39m \u001b[34mstringr\u001b[39m 1.4.0\n",
      "\u001b[32m✔\u001b[39m \u001b[34mreadr  \u001b[39m 1.3.1     \u001b[32m✔\u001b[39m \u001b[34mforcats\u001b[39m 0.5.0\n",
      "\n",
      "── \u001b[1mConflicts\u001b[22m ────────────────────────────────────────── tidyverse_conflicts() ──\n",
      "\u001b[31m✖\u001b[39m \u001b[34mdplyr\u001b[39m::\u001b[32mfilter()\u001b[39m masks \u001b[34mstats\u001b[39m::filter()\n",
      "\u001b[31m✖\u001b[39m \u001b[34mdplyr\u001b[39m::\u001b[32mlag()\u001b[39m    masks \u001b[34mstats\u001b[39m::lag()\n",
      "\n"
     ]
    }
   ],
   "source": [
    "library(tidyverse)"
   ]
  },
  {
   "cell_type": "markdown",
   "metadata": {},
   "source": [
    "We will learn how to implement the tidyverse approach throughout the book, but before delving into the details, in this chapter we introduce some of the most widely used tidyverse functionality, starting with the __dplyr__ package for manipulating data frames and the __purrr__ package for working with functions. Note that the tidyverse also includes a graphing package, __ggplot2__, which we introduce later in Chapter 7 in the Data Visualization part of the book; the readr package discussed in Chapter 5; and many others. In this chapter, we first introduce the concept of _tidy_ data and then demonstrate how we use the tidyverse to work with data frames in this format."
   ]
  },
  {
   "cell_type": "markdown",
   "metadata": {},
   "source": [
    "## 4.1 Tidy data\n",
    "\n",
    "We say that a data table is in _tidy_ format if each row represents one observation and columns represent the different variables available for each of these observations. The `murders` dataset is an example of a tidy data frame."
   ]
  },
  {
   "cell_type": "code",
   "execution_count": 2,
   "metadata": {
    "_kg_hide-input": true
   },
   "outputs": [
    {
     "data": {
      "text/html": [
       "<table class=\"dataframe\">\n",
       "<caption>A data.frame: 6 × 5</caption>\n",
       "<thead>\n",
       "\t<tr><th></th><th scope=col>state</th><th scope=col>abb</th><th scope=col>region</th><th scope=col>population</th><th scope=col>total</th></tr>\n",
       "\t<tr><th></th><th scope=col>&lt;chr&gt;</th><th scope=col>&lt;chr&gt;</th><th scope=col>&lt;fct&gt;</th><th scope=col>&lt;dbl&gt;</th><th scope=col>&lt;dbl&gt;</th></tr>\n",
       "</thead>\n",
       "<tbody>\n",
       "\t<tr><th scope=row>1</th><td>Alabama   </td><td>AL</td><td>South</td><td> 4779736</td><td> 135</td></tr>\n",
       "\t<tr><th scope=row>2</th><td>Alaska    </td><td>AK</td><td>West </td><td>  710231</td><td>  19</td></tr>\n",
       "\t<tr><th scope=row>3</th><td>Arizona   </td><td>AZ</td><td>West </td><td> 6392017</td><td> 232</td></tr>\n",
       "\t<tr><th scope=row>4</th><td>Arkansas  </td><td>AR</td><td>South</td><td> 2915918</td><td>  93</td></tr>\n",
       "\t<tr><th scope=row>5</th><td>California</td><td>CA</td><td>West </td><td>37253956</td><td>1257</td></tr>\n",
       "\t<tr><th scope=row>6</th><td>Colorado  </td><td>CO</td><td>West </td><td> 5029196</td><td>  65</td></tr>\n",
       "</tbody>\n",
       "</table>\n"
      ],
      "text/latex": [
       "A data.frame: 6 × 5\n",
       "\\begin{tabular}{r|lllll}\n",
       "  & state & abb & region & population & total\\\\\n",
       "  & <chr> & <chr> & <fct> & <dbl> & <dbl>\\\\\n",
       "\\hline\n",
       "\t1 & Alabama    & AL & South &  4779736 &  135\\\\\n",
       "\t2 & Alaska     & AK & West  &   710231 &   19\\\\\n",
       "\t3 & Arizona    & AZ & West  &  6392017 &  232\\\\\n",
       "\t4 & Arkansas   & AR & South &  2915918 &   93\\\\\n",
       "\t5 & California & CA & West  & 37253956 & 1257\\\\\n",
       "\t6 & Colorado   & CO & West  &  5029196 &   65\\\\\n",
       "\\end{tabular}\n"
      ],
      "text/markdown": [
       "\n",
       "A data.frame: 6 × 5\n",
       "\n",
       "| <!--/--> | state &lt;chr&gt; | abb &lt;chr&gt; | region &lt;fct&gt; | population &lt;dbl&gt; | total &lt;dbl&gt; |\n",
       "|---|---|---|---|---|---|\n",
       "| 1 | Alabama    | AL | South |  4779736 |  135 |\n",
       "| 2 | Alaska     | AK | West  |   710231 |   19 |\n",
       "| 3 | Arizona    | AZ | West  |  6392017 |  232 |\n",
       "| 4 | Arkansas   | AR | South |  2915918 |   93 |\n",
       "| 5 | California | CA | West  | 37253956 | 1257 |\n",
       "| 6 | Colorado   | CO | West  |  5029196 |   65 |\n",
       "\n"
      ],
      "text/plain": [
       "  state      abb region population total\n",
       "1 Alabama    AL  South   4779736    135 \n",
       "2 Alaska     AK  West     710231     19 \n",
       "3 Arizona    AZ  West    6392017    232 \n",
       "4 Arkansas   AR  South   2915918     93 \n",
       "5 California CA  West   37253956   1257 \n",
       "6 Colorado   CO  West    5029196     65 "
      ]
     },
     "metadata": {},
     "output_type": "display_data"
    }
   ],
   "source": [
    "library(dslabs)\n",
    "data(murders)\n",
    "head(murders)"
   ]
  },
  {
   "cell_type": "markdown",
   "metadata": {},
   "source": [
    "Each row represent a state with each of the five columns providing a different variable related to these states: name, abbreviation, region, population, and total murders.\n",
    "\n",
    "To see how the same information can be provided in different formats, consider the following example:"
   ]
  },
  {
   "cell_type": "code",
   "execution_count": 3,
   "metadata": {},
   "outputs": [],
   "source": [
    "#>       country year fertility\n",
    "#> 1     Germany 1960      2.41\n",
    "#> 2 South Korea 1960      6.16\n",
    "#> 3     Germany 1961      2.44\n",
    "#> 4 South Korea 1961      5.99\n",
    "#> 5     Germany 1962      2.47\n",
    "#> 6 South Korea 1962      5.79"
   ]
  },
  {
   "cell_type": "markdown",
   "metadata": {},
   "source": [
    "This tidy dataset provides fertility rates for two countries across the years. This is a tidy dataset because each row presents one observation with the three variables being country, year, and fertility rate. However, this dataset originally came in another format and was reshaped for the __dslabs__ package. Originally, the data was in the following format:"
   ]
  },
  {
   "cell_type": "code",
   "execution_count": 4,
   "metadata": {},
   "outputs": [],
   "source": [
    "#>       country 1960 1961 1962\n",
    "#> 1     Germany 2.41 2.44 2.47\n",
    "#> 2 South Korea 6.16 5.99 5.79"
   ]
  },
  {
   "cell_type": "markdown",
   "metadata": {},
   "source": [
    "The same information is provided, but there are two important differences in the format: 1) each row includes several observations and 2) one of the variables, year, is stored in the header. For the tidyverse packages to be optimally used, data need to be reshaped into `tidy` format, which you will learn to do in the Data Wrangling part of the book. Until then, we will use example datasets that are already in tidy format.\n",
    "\n",
    "Although not immediately obvious, as you go through the book you will start to appreciate the advantages of working in a framework in which functions use tidy formats for both inputs and outputs. You will see how this permits the data analyst to focus on more important aspects of the analysis rather than the format of the data."
   ]
  },
  {
   "cell_type": "markdown",
   "metadata": {},
   "source": [
    "## 4.2 Exercises\n",
    "\n",
    "1. Examine the built-in dataset co2. Which of the following is true:\n",
    "\n",
    " a. `co2` is tidy data: it has one year for each row.\n",
    " \n",
    " b. `co2` is not tidy: we need at least one column with a character vector.\n",
    " \n",
    " c. `co2` is not tidy: it is a matrix instead of a data frame.\n",
    " \n",
    " d. `co2` is not tidy: to be tidy we would have to wrangle it to have three columns (year, month and value), then each co2 observation would have a row.\n"
   ]
  },
  {
   "cell_type": "code",
   "execution_count": 5,
   "metadata": {},
   "outputs": [
    {
     "data": {
      "text/html": [
       "<style>\n",
       ".list-inline {list-style: none; margin:0; padding: 0}\n",
       ".list-inline>li {display: inline-block}\n",
       ".list-inline>li:not(:last-child)::after {content: \"\\00b7\"; padding: 0 .5ex}\n",
       "</style>\n",
       "<ol class=list-inline><li>315.42</li><li>316.31</li><li>316.5</li><li>317.56</li><li>318.13</li><li>318</li></ol>\n"
      ],
      "text/latex": [
       "\\begin{enumerate*}\n",
       "\\item 315.42\n",
       "\\item 316.31\n",
       "\\item 316.5\n",
       "\\item 317.56\n",
       "\\item 318.13\n",
       "\\item 318\n",
       "\\end{enumerate*}\n"
      ],
      "text/markdown": [
       "1. 315.42\n",
       "2. 316.31\n",
       "3. 316.5\n",
       "4. 317.56\n",
       "5. 318.13\n",
       "6. 318\n",
       "\n",
       "\n"
      ],
      "text/plain": [
       "[1] 315.42 316.31 316.50 317.56 318.13 318.00"
      ]
     },
     "metadata": {},
     "output_type": "display_data"
    }
   ],
   "source": [
    "head(co2)"
   ]
  },
  {
   "cell_type": "markdown",
   "metadata": {},
   "source": [
    "Answer: d"
   ]
  },
  {
   "cell_type": "markdown",
   "metadata": {},
   "source": [
    "2. Examine the built-in dataset ChickWeight. Which of the following is true:\n",
    "\n",
    " a. `ChickWeight` is not tidy: each chick has more than one row.\n",
    "\n",
    " b. `ChickWeight` is tidy: each observation (a weight) is represented by one row. The chick from which this measurement came is one of the variables.\n",
    "\n",
    " c. `ChickWeight` is not tidy: we are missing the year column.\n",
    " \n",
    " d. `ChickWeight` is tidy: it is stored in a data frame.\n"
   ]
  },
  {
   "cell_type": "code",
   "execution_count": 6,
   "metadata": {},
   "outputs": [
    {
     "data": {
      "text/html": [
       "<table class=\"dataframe\">\n",
       "<caption>A nfnGroupedData: 6 × 4</caption>\n",
       "<thead>\n",
       "\t<tr><th></th><th scope=col>weight</th><th scope=col>Time</th><th scope=col>Chick</th><th scope=col>Diet</th></tr>\n",
       "\t<tr><th></th><th scope=col>&lt;dbl&gt;</th><th scope=col>&lt;dbl&gt;</th><th scope=col>&lt;ord&gt;</th><th scope=col>&lt;fct&gt;</th></tr>\n",
       "</thead>\n",
       "<tbody>\n",
       "\t<tr><th scope=row>1</th><td>42</td><td> 0</td><td>1</td><td>1</td></tr>\n",
       "\t<tr><th scope=row>2</th><td>51</td><td> 2</td><td>1</td><td>1</td></tr>\n",
       "\t<tr><th scope=row>3</th><td>59</td><td> 4</td><td>1</td><td>1</td></tr>\n",
       "\t<tr><th scope=row>4</th><td>64</td><td> 6</td><td>1</td><td>1</td></tr>\n",
       "\t<tr><th scope=row>5</th><td>76</td><td> 8</td><td>1</td><td>1</td></tr>\n",
       "\t<tr><th scope=row>6</th><td>93</td><td>10</td><td>1</td><td>1</td></tr>\n",
       "</tbody>\n",
       "</table>\n"
      ],
      "text/latex": [
       "A nfnGroupedData: 6 × 4\n",
       "\\begin{tabular}{r|llll}\n",
       "  & weight & Time & Chick & Diet\\\\\n",
       "  & <dbl> & <dbl> & <ord> & <fct>\\\\\n",
       "\\hline\n",
       "\t1 & 42 &  0 & 1 & 1\\\\\n",
       "\t2 & 51 &  2 & 1 & 1\\\\\n",
       "\t3 & 59 &  4 & 1 & 1\\\\\n",
       "\t4 & 64 &  6 & 1 & 1\\\\\n",
       "\t5 & 76 &  8 & 1 & 1\\\\\n",
       "\t6 & 93 & 10 & 1 & 1\\\\\n",
       "\\end{tabular}\n"
      ],
      "text/markdown": [
       "\n",
       "A nfnGroupedData: 6 × 4\n",
       "\n",
       "| <!--/--> | weight &lt;dbl&gt; | Time &lt;dbl&gt; | Chick &lt;ord&gt; | Diet &lt;fct&gt; |\n",
       "|---|---|---|---|---|\n",
       "| 1 | 42 |  0 | 1 | 1 |\n",
       "| 2 | 51 |  2 | 1 | 1 |\n",
       "| 3 | 59 |  4 | 1 | 1 |\n",
       "| 4 | 64 |  6 | 1 | 1 |\n",
       "| 5 | 76 |  8 | 1 | 1 |\n",
       "| 6 | 93 | 10 | 1 | 1 |\n",
       "\n"
      ],
      "text/plain": [
       "  weight Time Chick Diet\n",
       "1 42      0   1     1   \n",
       "2 51      2   1     1   \n",
       "3 59      4   1     1   \n",
       "4 64      6   1     1   \n",
       "5 76      8   1     1   \n",
       "6 93     10   1     1   "
      ]
     },
     "metadata": {},
     "output_type": "display_data"
    }
   ],
   "source": [
    "head(ChickWeight)"
   ]
  },
  {
   "cell_type": "markdown",
   "metadata": {},
   "source": [
    "Answer: b"
   ]
  },
  {
   "cell_type": "markdown",
   "metadata": {},
   "source": [
    "3. Examine the built-in dataset BOD. Which of the following is true:\n",
    "\n",
    " a. `BOD` is not tidy: it only has six rows.\n",
    " \n",
    " b. `BOD` is not tidy: the first column is just an index.\n",
    " \n",
    " c. `BOD` is tidy: each row is an observation with two values \n",
    "(time and demand)\n",
    "\n",
    " d. `BOD` is tidy: all small datasets are tidy by definition.\n"
   ]
  },
  {
   "cell_type": "code",
   "execution_count": 7,
   "metadata": {},
   "outputs": [
    {
     "data": {
      "text/html": [
       "<table class=\"dataframe\">\n",
       "<caption>A data.frame: 6 × 2</caption>\n",
       "<thead>\n",
       "\t<tr><th></th><th scope=col>Time</th><th scope=col>demand</th></tr>\n",
       "\t<tr><th></th><th scope=col>&lt;dbl&gt;</th><th scope=col>&lt;dbl&gt;</th></tr>\n",
       "</thead>\n",
       "<tbody>\n",
       "\t<tr><th scope=row>1</th><td>1</td><td> 8.3</td></tr>\n",
       "\t<tr><th scope=row>2</th><td>2</td><td>10.3</td></tr>\n",
       "\t<tr><th scope=row>3</th><td>3</td><td>19.0</td></tr>\n",
       "\t<tr><th scope=row>4</th><td>4</td><td>16.0</td></tr>\n",
       "\t<tr><th scope=row>5</th><td>5</td><td>15.6</td></tr>\n",
       "\t<tr><th scope=row>6</th><td>7</td><td>19.8</td></tr>\n",
       "</tbody>\n",
       "</table>\n"
      ],
      "text/latex": [
       "A data.frame: 6 × 2\n",
       "\\begin{tabular}{r|ll}\n",
       "  & Time & demand\\\\\n",
       "  & <dbl> & <dbl>\\\\\n",
       "\\hline\n",
       "\t1 & 1 &  8.3\\\\\n",
       "\t2 & 2 & 10.3\\\\\n",
       "\t3 & 3 & 19.0\\\\\n",
       "\t4 & 4 & 16.0\\\\\n",
       "\t5 & 5 & 15.6\\\\\n",
       "\t6 & 7 & 19.8\\\\\n",
       "\\end{tabular}\n"
      ],
      "text/markdown": [
       "\n",
       "A data.frame: 6 × 2\n",
       "\n",
       "| <!--/--> | Time &lt;dbl&gt; | demand &lt;dbl&gt; |\n",
       "|---|---|---|\n",
       "| 1 | 1 |  8.3 |\n",
       "| 2 | 2 | 10.3 |\n",
       "| 3 | 3 | 19.0 |\n",
       "| 4 | 4 | 16.0 |\n",
       "| 5 | 5 | 15.6 |\n",
       "| 6 | 7 | 19.8 |\n",
       "\n"
      ],
      "text/plain": [
       "  Time demand\n",
       "1 1     8.3  \n",
       "2 2    10.3  \n",
       "3 3    19.0  \n",
       "4 4    16.0  \n",
       "5 5    15.6  \n",
       "6 7    19.8  "
      ]
     },
     "metadata": {},
     "output_type": "display_data"
    }
   ],
   "source": [
    "head(BOD)"
   ]
  },
  {
   "cell_type": "markdown",
   "metadata": {},
   "source": [
    "Answer: c"
   ]
  },
  {
   "cell_type": "markdown",
   "metadata": {},
   "source": [
    "4. Which of the following built-in datasets is tidy (you can pick more than one):\n",
    "\n",
    " a. `BJsales`\n",
    "\n",
    " b. `EuStockMarkets`\n",
    "\n",
    " c. `DNase`\n",
    "\n",
    " d. `Formaldehyde`\n",
    "\n",
    " e. `Orange`\n",
    "\n",
    " f. `UCBAdmissions`"
   ]
  },
  {
   "cell_type": "code",
   "execution_count": 8,
   "metadata": {},
   "outputs": [
    {
     "data": {
      "text/html": [
       "<style>\n",
       ".list-inline {list-style: none; margin:0; padding: 0}\n",
       ".list-inline>li {display: inline-block}\n",
       ".list-inline>li:not(:last-child)::after {content: \"\\00b7\"; padding: 0 .5ex}\n",
       "</style>\n",
       "<ol class=list-inline><li>200.1</li><li>199.5</li><li>199.4</li><li>198.9</li><li>199</li><li>200.2</li></ol>\n"
      ],
      "text/latex": [
       "\\begin{enumerate*}\n",
       "\\item 200.1\n",
       "\\item 199.5\n",
       "\\item 199.4\n",
       "\\item 198.9\n",
       "\\item 199\n",
       "\\item 200.2\n",
       "\\end{enumerate*}\n"
      ],
      "text/markdown": [
       "1. 200.1\n",
       "2. 199.5\n",
       "3. 199.4\n",
       "4. 198.9\n",
       "5. 199\n",
       "6. 200.2\n",
       "\n",
       "\n"
      ],
      "text/plain": [
       "[1] 200.1 199.5 199.4 198.9 199.0 200.2"
      ]
     },
     "metadata": {},
     "output_type": "display_data"
    },
    {
     "data": {
      "text/html": [
       "<table class=\"dataframe\">\n",
       "<caption>A matrix: 6 × 4 of type dbl</caption>\n",
       "<thead>\n",
       "\t<tr><th scope=col>DAX</th><th scope=col>SMI</th><th scope=col>CAC</th><th scope=col>FTSE</th></tr>\n",
       "</thead>\n",
       "<tbody>\n",
       "\t<tr><td>1628.75</td><td>1678.1</td><td>1772.8</td><td>2443.6</td></tr>\n",
       "\t<tr><td>1613.63</td><td>1688.5</td><td>1750.5</td><td>2460.2</td></tr>\n",
       "\t<tr><td>1606.51</td><td>1678.6</td><td>1718.0</td><td>2448.2</td></tr>\n",
       "\t<tr><td>1621.04</td><td>1684.1</td><td>1708.1</td><td>2470.4</td></tr>\n",
       "\t<tr><td>1618.16</td><td>1686.6</td><td>1723.1</td><td>2484.7</td></tr>\n",
       "\t<tr><td>1610.61</td><td>1671.6</td><td>1714.3</td><td>2466.8</td></tr>\n",
       "</tbody>\n",
       "</table>\n"
      ],
      "text/latex": [
       "A matrix: 6 × 4 of type dbl\n",
       "\\begin{tabular}{llll}\n",
       " DAX & SMI & CAC & FTSE\\\\\n",
       "\\hline\n",
       "\t 1628.75 & 1678.1 & 1772.8 & 2443.6\\\\\n",
       "\t 1613.63 & 1688.5 & 1750.5 & 2460.2\\\\\n",
       "\t 1606.51 & 1678.6 & 1718.0 & 2448.2\\\\\n",
       "\t 1621.04 & 1684.1 & 1708.1 & 2470.4\\\\\n",
       "\t 1618.16 & 1686.6 & 1723.1 & 2484.7\\\\\n",
       "\t 1610.61 & 1671.6 & 1714.3 & 2466.8\\\\\n",
       "\\end{tabular}\n"
      ],
      "text/markdown": [
       "\n",
       "A matrix: 6 × 4 of type dbl\n",
       "\n",
       "| DAX | SMI | CAC | FTSE |\n",
       "|---|---|---|---|\n",
       "| 1628.75 | 1678.1 | 1772.8 | 2443.6 |\n",
       "| 1613.63 | 1688.5 | 1750.5 | 2460.2 |\n",
       "| 1606.51 | 1678.6 | 1718.0 | 2448.2 |\n",
       "| 1621.04 | 1684.1 | 1708.1 | 2470.4 |\n",
       "| 1618.16 | 1686.6 | 1723.1 | 2484.7 |\n",
       "| 1610.61 | 1671.6 | 1714.3 | 2466.8 |\n",
       "\n"
      ],
      "text/plain": [
       "     DAX     SMI    CAC    FTSE  \n",
       "[1,] 1628.75 1678.1 1772.8 2443.6\n",
       "[2,] 1613.63 1688.5 1750.5 2460.2\n",
       "[3,] 1606.51 1678.6 1718.0 2448.2\n",
       "[4,] 1621.04 1684.1 1708.1 2470.4\n",
       "[5,] 1618.16 1686.6 1723.1 2484.7\n",
       "[6,] 1610.61 1671.6 1714.3 2466.8"
      ]
     },
     "metadata": {},
     "output_type": "display_data"
    },
    {
     "data": {
      "text/html": [
       "<table class=\"dataframe\">\n",
       "<caption>A nfnGroupedData: 6 × 3</caption>\n",
       "<thead>\n",
       "\t<tr><th></th><th scope=col>Run</th><th scope=col>conc</th><th scope=col>density</th></tr>\n",
       "\t<tr><th></th><th scope=col>&lt;ord&gt;</th><th scope=col>&lt;dbl&gt;</th><th scope=col>&lt;dbl&gt;</th></tr>\n",
       "</thead>\n",
       "<tbody>\n",
       "\t<tr><th scope=row>1</th><td>1</td><td>0.04882812</td><td>0.017</td></tr>\n",
       "\t<tr><th scope=row>2</th><td>1</td><td>0.04882812</td><td>0.018</td></tr>\n",
       "\t<tr><th scope=row>3</th><td>1</td><td>0.19531250</td><td>0.121</td></tr>\n",
       "\t<tr><th scope=row>4</th><td>1</td><td>0.19531250</td><td>0.124</td></tr>\n",
       "\t<tr><th scope=row>5</th><td>1</td><td>0.39062500</td><td>0.206</td></tr>\n",
       "\t<tr><th scope=row>6</th><td>1</td><td>0.39062500</td><td>0.215</td></tr>\n",
       "</tbody>\n",
       "</table>\n"
      ],
      "text/latex": [
       "A nfnGroupedData: 6 × 3\n",
       "\\begin{tabular}{r|lll}\n",
       "  & Run & conc & density\\\\\n",
       "  & <ord> & <dbl> & <dbl>\\\\\n",
       "\\hline\n",
       "\t1 & 1 & 0.04882812 & 0.017\\\\\n",
       "\t2 & 1 & 0.04882812 & 0.018\\\\\n",
       "\t3 & 1 & 0.19531250 & 0.121\\\\\n",
       "\t4 & 1 & 0.19531250 & 0.124\\\\\n",
       "\t5 & 1 & 0.39062500 & 0.206\\\\\n",
       "\t6 & 1 & 0.39062500 & 0.215\\\\\n",
       "\\end{tabular}\n"
      ],
      "text/markdown": [
       "\n",
       "A nfnGroupedData: 6 × 3\n",
       "\n",
       "| <!--/--> | Run &lt;ord&gt; | conc &lt;dbl&gt; | density &lt;dbl&gt; |\n",
       "|---|---|---|---|\n",
       "| 1 | 1 | 0.04882812 | 0.017 |\n",
       "| 2 | 1 | 0.04882812 | 0.018 |\n",
       "| 3 | 1 | 0.19531250 | 0.121 |\n",
       "| 4 | 1 | 0.19531250 | 0.124 |\n",
       "| 5 | 1 | 0.39062500 | 0.206 |\n",
       "| 6 | 1 | 0.39062500 | 0.215 |\n",
       "\n"
      ],
      "text/plain": [
       "  Run conc       density\n",
       "1 1   0.04882812 0.017  \n",
       "2 1   0.04882812 0.018  \n",
       "3 1   0.19531250 0.121  \n",
       "4 1   0.19531250 0.124  \n",
       "5 1   0.39062500 0.206  \n",
       "6 1   0.39062500 0.215  "
      ]
     },
     "metadata": {},
     "output_type": "display_data"
    },
    {
     "data": {
      "text/html": [
       "<table class=\"dataframe\">\n",
       "<caption>A data.frame: 6 × 2</caption>\n",
       "<thead>\n",
       "\t<tr><th></th><th scope=col>carb</th><th scope=col>optden</th></tr>\n",
       "\t<tr><th></th><th scope=col>&lt;dbl&gt;</th><th scope=col>&lt;dbl&gt;</th></tr>\n",
       "</thead>\n",
       "<tbody>\n",
       "\t<tr><th scope=row>1</th><td>0.1</td><td>0.086</td></tr>\n",
       "\t<tr><th scope=row>2</th><td>0.3</td><td>0.269</td></tr>\n",
       "\t<tr><th scope=row>3</th><td>0.5</td><td>0.446</td></tr>\n",
       "\t<tr><th scope=row>4</th><td>0.6</td><td>0.538</td></tr>\n",
       "\t<tr><th scope=row>5</th><td>0.7</td><td>0.626</td></tr>\n",
       "\t<tr><th scope=row>6</th><td>0.9</td><td>0.782</td></tr>\n",
       "</tbody>\n",
       "</table>\n"
      ],
      "text/latex": [
       "A data.frame: 6 × 2\n",
       "\\begin{tabular}{r|ll}\n",
       "  & carb & optden\\\\\n",
       "  & <dbl> & <dbl>\\\\\n",
       "\\hline\n",
       "\t1 & 0.1 & 0.086\\\\\n",
       "\t2 & 0.3 & 0.269\\\\\n",
       "\t3 & 0.5 & 0.446\\\\\n",
       "\t4 & 0.6 & 0.538\\\\\n",
       "\t5 & 0.7 & 0.626\\\\\n",
       "\t6 & 0.9 & 0.782\\\\\n",
       "\\end{tabular}\n"
      ],
      "text/markdown": [
       "\n",
       "A data.frame: 6 × 2\n",
       "\n",
       "| <!--/--> | carb &lt;dbl&gt; | optden &lt;dbl&gt; |\n",
       "|---|---|---|\n",
       "| 1 | 0.1 | 0.086 |\n",
       "| 2 | 0.3 | 0.269 |\n",
       "| 3 | 0.5 | 0.446 |\n",
       "| 4 | 0.6 | 0.538 |\n",
       "| 5 | 0.7 | 0.626 |\n",
       "| 6 | 0.9 | 0.782 |\n",
       "\n"
      ],
      "text/plain": [
       "  carb optden\n",
       "1 0.1  0.086 \n",
       "2 0.3  0.269 \n",
       "3 0.5  0.446 \n",
       "4 0.6  0.538 \n",
       "5 0.7  0.626 \n",
       "6 0.9  0.782 "
      ]
     },
     "metadata": {},
     "output_type": "display_data"
    },
    {
     "data": {
      "text/html": [
       "<table class=\"dataframe\">\n",
       "<caption>A nfnGroupedData: 6 × 3</caption>\n",
       "<thead>\n",
       "\t<tr><th></th><th scope=col>Tree</th><th scope=col>age</th><th scope=col>circumference</th></tr>\n",
       "\t<tr><th></th><th scope=col>&lt;ord&gt;</th><th scope=col>&lt;dbl&gt;</th><th scope=col>&lt;dbl&gt;</th></tr>\n",
       "</thead>\n",
       "<tbody>\n",
       "\t<tr><th scope=row>1</th><td>1</td><td> 118</td><td> 30</td></tr>\n",
       "\t<tr><th scope=row>2</th><td>1</td><td> 484</td><td> 58</td></tr>\n",
       "\t<tr><th scope=row>3</th><td>1</td><td> 664</td><td> 87</td></tr>\n",
       "\t<tr><th scope=row>4</th><td>1</td><td>1004</td><td>115</td></tr>\n",
       "\t<tr><th scope=row>5</th><td>1</td><td>1231</td><td>120</td></tr>\n",
       "\t<tr><th scope=row>6</th><td>1</td><td>1372</td><td>142</td></tr>\n",
       "</tbody>\n",
       "</table>\n"
      ],
      "text/latex": [
       "A nfnGroupedData: 6 × 3\n",
       "\\begin{tabular}{r|lll}\n",
       "  & Tree & age & circumference\\\\\n",
       "  & <ord> & <dbl> & <dbl>\\\\\n",
       "\\hline\n",
       "\t1 & 1 &  118 &  30\\\\\n",
       "\t2 & 1 &  484 &  58\\\\\n",
       "\t3 & 1 &  664 &  87\\\\\n",
       "\t4 & 1 & 1004 & 115\\\\\n",
       "\t5 & 1 & 1231 & 120\\\\\n",
       "\t6 & 1 & 1372 & 142\\\\\n",
       "\\end{tabular}\n"
      ],
      "text/markdown": [
       "\n",
       "A nfnGroupedData: 6 × 3\n",
       "\n",
       "| <!--/--> | Tree &lt;ord&gt; | age &lt;dbl&gt; | circumference &lt;dbl&gt; |\n",
       "|---|---|---|---|\n",
       "| 1 | 1 |  118 |  30 |\n",
       "| 2 | 1 |  484 |  58 |\n",
       "| 3 | 1 |  664 |  87 |\n",
       "| 4 | 1 | 1004 | 115 |\n",
       "| 5 | 1 | 1231 | 120 |\n",
       "| 6 | 1 | 1372 | 142 |\n",
       "\n"
      ],
      "text/plain": [
       "  Tree age  circumference\n",
       "1 1     118  30          \n",
       "2 1     484  58          \n",
       "3 1     664  87          \n",
       "4 1    1004 115          \n",
       "5 1    1231 120          \n",
       "6 1    1372 142          "
      ]
     },
     "metadata": {},
     "output_type": "display_data"
    },
    {
     "data": {
      "text/html": [
       "<style>\n",
       ".list-inline {list-style: none; margin:0; padding: 0}\n",
       ".list-inline>li {display: inline-block}\n",
       ".list-inline>li:not(:last-child)::after {content: \"\\00b7\"; padding: 0 .5ex}\n",
       "</style>\n",
       "<ol class=list-inline><li>512</li><li>313</li><li>89</li><li>19</li><li>353</li><li>207</li></ol>\n"
      ],
      "text/latex": [
       "\\begin{enumerate*}\n",
       "\\item 512\n",
       "\\item 313\n",
       "\\item 89\n",
       "\\item 19\n",
       "\\item 353\n",
       "\\item 207\n",
       "\\end{enumerate*}\n"
      ],
      "text/markdown": [
       "1. 512\n",
       "2. 313\n",
       "3. 89\n",
       "4. 19\n",
       "5. 353\n",
       "6. 207\n",
       "\n",
       "\n"
      ],
      "text/plain": [
       "[1] 512 313  89  19 353 207"
      ]
     },
     "metadata": {},
     "output_type": "display_data"
    }
   ],
   "source": [
    "head(BJsales)\n",
    "head(EuStockMarkets)\n",
    "head(DNase)\n",
    "head(Formaldehyde)\n",
    "head(Orange)\n",
    "head(UCBAdmissions)\n"
   ]
  },
  {
   "cell_type": "markdown",
   "metadata": {},
   "source": [
    "* Answer: b, c, d, e"
   ]
  },
  {
   "cell_type": "markdown",
   "metadata": {},
   "source": [
    "## 4.3 Manipulating data frames\n",
    "\n",
    "The __dplyr__ package from the __tidyverse__ introduces functions that perform some of the most common operations when working with data frames and uses names for these functions that are relatively easy to remember. For instance, to change the data table by adding a new column, we use `mutate`. To filter the data table to a subset of rows, we use `filter`. Finally, to subset the data by selecting specific columns, we use `select`.\n"
   ]
  },
  {
   "cell_type": "markdown",
   "metadata": {},
   "source": [
    "### 4.3.1 Adding a column with `mutate`\n",
    "\n",
    "We want all the necessary information for our analysis to be included in the data table. So the first task is to add the murder rates to our murders data frame. The function `mutate` takes the data frame as a first argument and the name and values of the variable as a second argument using the convention `name = values`. So, to add murder rates, we use:"
   ]
  },
  {
   "cell_type": "code",
   "execution_count": 9,
   "metadata": {},
   "outputs": [],
   "source": [
    "library(dslabs)\n",
    "data(\"murders\")\n",
    "murders <- mutate(murders, rate = total / population * 100000)"
   ]
  },
  {
   "cell_type": "markdown",
   "metadata": {},
   "source": [
    "Notice that here we used `total` and `population` inside the function, which are objects that are __not__ defined in our workspace. But why don’t we get an error?\n",
    "\n",
    "This is one of __dplyr__’s main features. Functions in this package, such as `mutate`, know to look for variables in the data frame provided in the first argument. In the call to mutate above, `total` will have the values in `murders$total`. This approach makes the code much more readable.\n",
    "\n",
    "We can see that the new column is added:"
   ]
  },
  {
   "cell_type": "code",
   "execution_count": 10,
   "metadata": {},
   "outputs": [
    {
     "data": {
      "text/html": [
       "<table class=\"dataframe\">\n",
       "<caption>A data.frame: 6 × 6</caption>\n",
       "<thead>\n",
       "\t<tr><th></th><th scope=col>state</th><th scope=col>abb</th><th scope=col>region</th><th scope=col>population</th><th scope=col>total</th><th scope=col>rate</th></tr>\n",
       "\t<tr><th></th><th scope=col>&lt;chr&gt;</th><th scope=col>&lt;chr&gt;</th><th scope=col>&lt;fct&gt;</th><th scope=col>&lt;dbl&gt;</th><th scope=col>&lt;dbl&gt;</th><th scope=col>&lt;dbl&gt;</th></tr>\n",
       "</thead>\n",
       "<tbody>\n",
       "\t<tr><th scope=row>1</th><td>Alabama   </td><td>AL</td><td>South</td><td> 4779736</td><td> 135</td><td>2.824424</td></tr>\n",
       "\t<tr><th scope=row>2</th><td>Alaska    </td><td>AK</td><td>West </td><td>  710231</td><td>  19</td><td>2.675186</td></tr>\n",
       "\t<tr><th scope=row>3</th><td>Arizona   </td><td>AZ</td><td>West </td><td> 6392017</td><td> 232</td><td>3.629527</td></tr>\n",
       "\t<tr><th scope=row>4</th><td>Arkansas  </td><td>AR</td><td>South</td><td> 2915918</td><td>  93</td><td>3.189390</td></tr>\n",
       "\t<tr><th scope=row>5</th><td>California</td><td>CA</td><td>West </td><td>37253956</td><td>1257</td><td>3.374138</td></tr>\n",
       "\t<tr><th scope=row>6</th><td>Colorado  </td><td>CO</td><td>West </td><td> 5029196</td><td>  65</td><td>1.292453</td></tr>\n",
       "</tbody>\n",
       "</table>\n"
      ],
      "text/latex": [
       "A data.frame: 6 × 6\n",
       "\\begin{tabular}{r|llllll}\n",
       "  & state & abb & region & population & total & rate\\\\\n",
       "  & <chr> & <chr> & <fct> & <dbl> & <dbl> & <dbl>\\\\\n",
       "\\hline\n",
       "\t1 & Alabama    & AL & South &  4779736 &  135 & 2.824424\\\\\n",
       "\t2 & Alaska     & AK & West  &   710231 &   19 & 2.675186\\\\\n",
       "\t3 & Arizona    & AZ & West  &  6392017 &  232 & 3.629527\\\\\n",
       "\t4 & Arkansas   & AR & South &  2915918 &   93 & 3.189390\\\\\n",
       "\t5 & California & CA & West  & 37253956 & 1257 & 3.374138\\\\\n",
       "\t6 & Colorado   & CO & West  &  5029196 &   65 & 1.292453\\\\\n",
       "\\end{tabular}\n"
      ],
      "text/markdown": [
       "\n",
       "A data.frame: 6 × 6\n",
       "\n",
       "| <!--/--> | state &lt;chr&gt; | abb &lt;chr&gt; | region &lt;fct&gt; | population &lt;dbl&gt; | total &lt;dbl&gt; | rate &lt;dbl&gt; |\n",
       "|---|---|---|---|---|---|---|\n",
       "| 1 | Alabama    | AL | South |  4779736 |  135 | 2.824424 |\n",
       "| 2 | Alaska     | AK | West  |   710231 |   19 | 2.675186 |\n",
       "| 3 | Arizona    | AZ | West  |  6392017 |  232 | 3.629527 |\n",
       "| 4 | Arkansas   | AR | South |  2915918 |   93 | 3.189390 |\n",
       "| 5 | California | CA | West  | 37253956 | 1257 | 3.374138 |\n",
       "| 6 | Colorado   | CO | West  |  5029196 |   65 | 1.292453 |\n",
       "\n"
      ],
      "text/plain": [
       "  state      abb region population total rate    \n",
       "1 Alabama    AL  South   4779736    135  2.824424\n",
       "2 Alaska     AK  West     710231     19  2.675186\n",
       "3 Arizona    AZ  West    6392017    232  3.629527\n",
       "4 Arkansas   AR  South   2915918     93  3.189390\n",
       "5 California CA  West   37253956   1257  3.374138\n",
       "6 Colorado   CO  West    5029196     65  1.292453"
      ]
     },
     "metadata": {},
     "output_type": "display_data"
    }
   ],
   "source": [
    "head(murders)"
   ]
  },
  {
   "cell_type": "markdown",
   "metadata": {},
   "source": [
    "Although we have overwritten the original `murders` object, this does not change the object that loaded with `data(murders)`. If we load the murders data again, the original will overwrite our mutated version."
   ]
  },
  {
   "cell_type": "markdown",
   "metadata": {},
   "source": [
    "### 4.3.2 Subsetting with `filter`\n",
    "\n",
    "Now suppose that we want to filter the data table to only show the entries for which the murder rate is lower than 0.71. To do this we use the `filter` function, which takes the data table as the first argument and then the conditional statement as the second. Like `mutate`, we can use the unquoted variable names from `murders` inside the function and it will know we mean the columns and not objects in the workspace."
   ]
  },
  {
   "cell_type": "code",
   "execution_count": 11,
   "metadata": {},
   "outputs": [
    {
     "data": {
      "text/html": [
       "<table class=\"dataframe\">\n",
       "<caption>A data.frame: 5 × 6</caption>\n",
       "<thead>\n",
       "\t<tr><th scope=col>state</th><th scope=col>abb</th><th scope=col>region</th><th scope=col>population</th><th scope=col>total</th><th scope=col>rate</th></tr>\n",
       "\t<tr><th scope=col>&lt;chr&gt;</th><th scope=col>&lt;chr&gt;</th><th scope=col>&lt;fct&gt;</th><th scope=col>&lt;dbl&gt;</th><th scope=col>&lt;dbl&gt;</th><th scope=col>&lt;dbl&gt;</th></tr>\n",
       "</thead>\n",
       "<tbody>\n",
       "\t<tr><td>Hawaii       </td><td>HI</td><td>West         </td><td>1360301</td><td> 7</td><td>0.5145920</td></tr>\n",
       "\t<tr><td>Iowa         </td><td>IA</td><td>North Central</td><td>3046355</td><td>21</td><td>0.6893484</td></tr>\n",
       "\t<tr><td>New Hampshire</td><td>NH</td><td>Northeast    </td><td>1316470</td><td> 5</td><td>0.3798036</td></tr>\n",
       "\t<tr><td>North Dakota </td><td>ND</td><td>North Central</td><td> 672591</td><td> 4</td><td>0.5947151</td></tr>\n",
       "\t<tr><td>Vermont      </td><td>VT</td><td>Northeast    </td><td> 625741</td><td> 2</td><td>0.3196211</td></tr>\n",
       "</tbody>\n",
       "</table>\n"
      ],
      "text/latex": [
       "A data.frame: 5 × 6\n",
       "\\begin{tabular}{llllll}\n",
       " state & abb & region & population & total & rate\\\\\n",
       " <chr> & <chr> & <fct> & <dbl> & <dbl> & <dbl>\\\\\n",
       "\\hline\n",
       "\t Hawaii        & HI & West          & 1360301 &  7 & 0.5145920\\\\\n",
       "\t Iowa          & IA & North Central & 3046355 & 21 & 0.6893484\\\\\n",
       "\t New Hampshire & NH & Northeast     & 1316470 &  5 & 0.3798036\\\\\n",
       "\t North Dakota  & ND & North Central &  672591 &  4 & 0.5947151\\\\\n",
       "\t Vermont       & VT & Northeast     &  625741 &  2 & 0.3196211\\\\\n",
       "\\end{tabular}\n"
      ],
      "text/markdown": [
       "\n",
       "A data.frame: 5 × 6\n",
       "\n",
       "| state &lt;chr&gt; | abb &lt;chr&gt; | region &lt;fct&gt; | population &lt;dbl&gt; | total &lt;dbl&gt; | rate &lt;dbl&gt; |\n",
       "|---|---|---|---|---|---|\n",
       "| Hawaii        | HI | West          | 1360301 |  7 | 0.5145920 |\n",
       "| Iowa          | IA | North Central | 3046355 | 21 | 0.6893484 |\n",
       "| New Hampshire | NH | Northeast     | 1316470 |  5 | 0.3798036 |\n",
       "| North Dakota  | ND | North Central |  672591 |  4 | 0.5947151 |\n",
       "| Vermont       | VT | Northeast     |  625741 |  2 | 0.3196211 |\n",
       "\n"
      ],
      "text/plain": [
       "  state         abb region        population total rate     \n",
       "1 Hawaii        HI  West          1360301     7    0.5145920\n",
       "2 Iowa          IA  North Central 3046355    21    0.6893484\n",
       "3 New Hampshire NH  Northeast     1316470     5    0.3798036\n",
       "4 North Dakota  ND  North Central  672591     4    0.5947151\n",
       "5 Vermont       VT  Northeast      625741     2    0.3196211"
      ]
     },
     "metadata": {},
     "output_type": "display_data"
    }
   ],
   "source": [
    "filter(murders, rate <= 0.71)"
   ]
  },
  {
   "cell_type": "markdown",
   "metadata": {},
   "source": [
    "### 4.3.3 Selecting columns with `select`\n",
    "\n",
    "Although our data table only has six columns, some data tables include hundreds. If we want to view just a few, we can use the __dplyr__ `select` function. In the code below we select three columns, assign this to a new object and then filter the new object:"
   ]
  },
  {
   "cell_type": "code",
   "execution_count": 12,
   "metadata": {},
   "outputs": [
    {
     "data": {
      "text/html": [
       "<table class=\"dataframe\">\n",
       "<caption>A data.frame: 5 × 3</caption>\n",
       "<thead>\n",
       "\t<tr><th scope=col>state</th><th scope=col>region</th><th scope=col>rate</th></tr>\n",
       "\t<tr><th scope=col>&lt;chr&gt;</th><th scope=col>&lt;fct&gt;</th><th scope=col>&lt;dbl&gt;</th></tr>\n",
       "</thead>\n",
       "<tbody>\n",
       "\t<tr><td>Hawaii       </td><td>West         </td><td>0.5145920</td></tr>\n",
       "\t<tr><td>Iowa         </td><td>North Central</td><td>0.6893484</td></tr>\n",
       "\t<tr><td>New Hampshire</td><td>Northeast    </td><td>0.3798036</td></tr>\n",
       "\t<tr><td>North Dakota </td><td>North Central</td><td>0.5947151</td></tr>\n",
       "\t<tr><td>Vermont      </td><td>Northeast    </td><td>0.3196211</td></tr>\n",
       "</tbody>\n",
       "</table>\n"
      ],
      "text/latex": [
       "A data.frame: 5 × 3\n",
       "\\begin{tabular}{lll}\n",
       " state & region & rate\\\\\n",
       " <chr> & <fct> & <dbl>\\\\\n",
       "\\hline\n",
       "\t Hawaii        & West          & 0.5145920\\\\\n",
       "\t Iowa          & North Central & 0.6893484\\\\\n",
       "\t New Hampshire & Northeast     & 0.3798036\\\\\n",
       "\t North Dakota  & North Central & 0.5947151\\\\\n",
       "\t Vermont       & Northeast     & 0.3196211\\\\\n",
       "\\end{tabular}\n"
      ],
      "text/markdown": [
       "\n",
       "A data.frame: 5 × 3\n",
       "\n",
       "| state &lt;chr&gt; | region &lt;fct&gt; | rate &lt;dbl&gt; |\n",
       "|---|---|---|\n",
       "| Hawaii        | West          | 0.5145920 |\n",
       "| Iowa          | North Central | 0.6893484 |\n",
       "| New Hampshire | Northeast     | 0.3798036 |\n",
       "| North Dakota  | North Central | 0.5947151 |\n",
       "| Vermont       | Northeast     | 0.3196211 |\n",
       "\n"
      ],
      "text/plain": [
       "  state         region        rate     \n",
       "1 Hawaii        West          0.5145920\n",
       "2 Iowa          North Central 0.6893484\n",
       "3 New Hampshire Northeast     0.3798036\n",
       "4 North Dakota  North Central 0.5947151\n",
       "5 Vermont       Northeast     0.3196211"
      ]
     },
     "metadata": {},
     "output_type": "display_data"
    }
   ],
   "source": [
    "new_table <- select(murders, state, region, rate)\n",
    "filter(new_table, rate <= 0.71)"
   ]
  },
  {
   "cell_type": "markdown",
   "metadata": {},
   "source": [
    "In the call to `select`, the first argument `murders` is an object, but `state`, `region`, and `rate` are variable names."
   ]
  },
  {
   "cell_type": "markdown",
   "metadata": {},
   "source": [
    "## 4.4 Exercises"
   ]
  },
  {
   "cell_type": "markdown",
   "metadata": {},
   "source": [
    " 1. Load the dplyr package and the murders dataset."
   ]
  },
  {
   "cell_type": "code",
   "execution_count": 13,
   "metadata": {},
   "outputs": [],
   "source": [
    "library(dplyr)\n",
    "library(dslabs)\n",
    "data(murders)"
   ]
  },
  {
   "cell_type": "markdown",
   "metadata": {},
   "source": [
    "You can add columns using the __dplyr__ function `mutate`. This function is aware of the column names and inside the function you can call them unquoted:"
   ]
  },
  {
   "cell_type": "code",
   "execution_count": 14,
   "metadata": {},
   "outputs": [],
   "source": [
    "murders <- mutate(murders, population_in_million = population / 10^6)"
   ]
  },
  {
   "cell_type": "markdown",
   "metadata": {},
   "source": [
    "We can write `population` rather than `murders$population`. The function mutate knows we are grabbing columns from `murders`.\n",
    "\n",
    "Use the function `mutate` to add a murders column named rate with the per 100,000 murder rate as in the example code above. Make sure you redefine `murders` as done in the example code above ( murders <- [your code]) so we can keep using this variable."
   ]
  },
  {
   "cell_type": "code",
   "execution_count": 15,
   "metadata": {},
   "outputs": [
    {
     "data": {
      "text/html": [
       "<table class=\"dataframe\">\n",
       "<caption>A data.frame: 2 × 7</caption>\n",
       "<thead>\n",
       "\t<tr><th></th><th scope=col>state</th><th scope=col>abb</th><th scope=col>region</th><th scope=col>population</th><th scope=col>total</th><th scope=col>population_in_million</th><th scope=col>rate</th></tr>\n",
       "\t<tr><th></th><th scope=col>&lt;chr&gt;</th><th scope=col>&lt;chr&gt;</th><th scope=col>&lt;fct&gt;</th><th scope=col>&lt;dbl&gt;</th><th scope=col>&lt;dbl&gt;</th><th scope=col>&lt;dbl&gt;</th><th scope=col>&lt;dbl&gt;</th></tr>\n",
       "</thead>\n",
       "<tbody>\n",
       "\t<tr><th scope=row>1</th><td>Alabama</td><td>AL</td><td>South</td><td>4779736</td><td>135</td><td>4.779736</td><td>2.824424</td></tr>\n",
       "\t<tr><th scope=row>2</th><td>Alaska </td><td>AK</td><td>West </td><td> 710231</td><td> 19</td><td>0.710231</td><td>2.675186</td></tr>\n",
       "</tbody>\n",
       "</table>\n"
      ],
      "text/latex": [
       "A data.frame: 2 × 7\n",
       "\\begin{tabular}{r|lllllll}\n",
       "  & state & abb & region & population & total & population\\_in\\_million & rate\\\\\n",
       "  & <chr> & <chr> & <fct> & <dbl> & <dbl> & <dbl> & <dbl>\\\\\n",
       "\\hline\n",
       "\t1 & Alabama & AL & South & 4779736 & 135 & 4.779736 & 2.824424\\\\\n",
       "\t2 & Alaska  & AK & West  &  710231 &  19 & 0.710231 & 2.675186\\\\\n",
       "\\end{tabular}\n"
      ],
      "text/markdown": [
       "\n",
       "A data.frame: 2 × 7\n",
       "\n",
       "| <!--/--> | state &lt;chr&gt; | abb &lt;chr&gt; | region &lt;fct&gt; | population &lt;dbl&gt; | total &lt;dbl&gt; | population_in_million &lt;dbl&gt; | rate &lt;dbl&gt; |\n",
       "|---|---|---|---|---|---|---|---|\n",
       "| 1 | Alabama | AL | South | 4779736 | 135 | 4.779736 | 2.824424 |\n",
       "| 2 | Alaska  | AK | West  |  710231 |  19 | 0.710231 | 2.675186 |\n",
       "\n"
      ],
      "text/plain": [
       "  state   abb region population total population_in_million rate    \n",
       "1 Alabama AL  South  4779736    135   4.779736              2.824424\n",
       "2 Alaska  AK  West    710231     19   0.710231              2.675186"
      ]
     },
     "metadata": {},
     "output_type": "display_data"
    }
   ],
   "source": [
    "murders <- mutate(murders, rate = total / population * 100000)\n",
    "head(murders, 2)"
   ]
  },
  {
   "cell_type": "markdown",
   "metadata": {},
   "source": [
    "2. If `rank(x)` gives you the ranks of x from lowest to highest, `rank(-x)` gives you the ranks from highest to lowest. Use the function `mutate` to add a column rank containing the rank, from highest to lowest murder rate. Make sure you redefine `murders` so we can keep using this variable."
   ]
  },
  {
   "cell_type": "code",
   "execution_count": 16,
   "metadata": {},
   "outputs": [
    {
     "data": {
      "text/html": [
       "<table class=\"dataframe\">\n",
       "<caption>A data.frame: 6 × 8</caption>\n",
       "<thead>\n",
       "\t<tr><th></th><th scope=col>state</th><th scope=col>abb</th><th scope=col>region</th><th scope=col>population</th><th scope=col>total</th><th scope=col>population_in_million</th><th scope=col>rate</th><th scope=col>rank</th></tr>\n",
       "\t<tr><th></th><th scope=col>&lt;chr&gt;</th><th scope=col>&lt;chr&gt;</th><th scope=col>&lt;fct&gt;</th><th scope=col>&lt;dbl&gt;</th><th scope=col>&lt;dbl&gt;</th><th scope=col>&lt;dbl&gt;</th><th scope=col>&lt;dbl&gt;</th><th scope=col>&lt;dbl&gt;</th></tr>\n",
       "</thead>\n",
       "<tbody>\n",
       "\t<tr><th scope=row>1</th><td>Alabama   </td><td>AL</td><td>South</td><td> 4779736</td><td> 135</td><td> 4.779736</td><td>2.824424</td><td>23</td></tr>\n",
       "\t<tr><th scope=row>2</th><td>Alaska    </td><td>AK</td><td>West </td><td>  710231</td><td>  19</td><td> 0.710231</td><td>2.675186</td><td>27</td></tr>\n",
       "\t<tr><th scope=row>3</th><td>Arizona   </td><td>AZ</td><td>West </td><td> 6392017</td><td> 232</td><td> 6.392017</td><td>3.629527</td><td>10</td></tr>\n",
       "\t<tr><th scope=row>4</th><td>Arkansas  </td><td>AR</td><td>South</td><td> 2915918</td><td>  93</td><td> 2.915918</td><td>3.189390</td><td>17</td></tr>\n",
       "\t<tr><th scope=row>5</th><td>California</td><td>CA</td><td>West </td><td>37253956</td><td>1257</td><td>37.253956</td><td>3.374138</td><td>14</td></tr>\n",
       "\t<tr><th scope=row>6</th><td>Colorado  </td><td>CO</td><td>West </td><td> 5029196</td><td>  65</td><td> 5.029196</td><td>1.292453</td><td>38</td></tr>\n",
       "</tbody>\n",
       "</table>\n"
      ],
      "text/latex": [
       "A data.frame: 6 × 8\n",
       "\\begin{tabular}{r|llllllll}\n",
       "  & state & abb & region & population & total & population\\_in\\_million & rate & rank\\\\\n",
       "  & <chr> & <chr> & <fct> & <dbl> & <dbl> & <dbl> & <dbl> & <dbl>\\\\\n",
       "\\hline\n",
       "\t1 & Alabama    & AL & South &  4779736 &  135 &  4.779736 & 2.824424 & 23\\\\\n",
       "\t2 & Alaska     & AK & West  &   710231 &   19 &  0.710231 & 2.675186 & 27\\\\\n",
       "\t3 & Arizona    & AZ & West  &  6392017 &  232 &  6.392017 & 3.629527 & 10\\\\\n",
       "\t4 & Arkansas   & AR & South &  2915918 &   93 &  2.915918 & 3.189390 & 17\\\\\n",
       "\t5 & California & CA & West  & 37253956 & 1257 & 37.253956 & 3.374138 & 14\\\\\n",
       "\t6 & Colorado   & CO & West  &  5029196 &   65 &  5.029196 & 1.292453 & 38\\\\\n",
       "\\end{tabular}\n"
      ],
      "text/markdown": [
       "\n",
       "A data.frame: 6 × 8\n",
       "\n",
       "| <!--/--> | state &lt;chr&gt; | abb &lt;chr&gt; | region &lt;fct&gt; | population &lt;dbl&gt; | total &lt;dbl&gt; | population_in_million &lt;dbl&gt; | rate &lt;dbl&gt; | rank &lt;dbl&gt; |\n",
       "|---|---|---|---|---|---|---|---|---|\n",
       "| 1 | Alabama    | AL | South |  4779736 |  135 |  4.779736 | 2.824424 | 23 |\n",
       "| 2 | Alaska     | AK | West  |   710231 |   19 |  0.710231 | 2.675186 | 27 |\n",
       "| 3 | Arizona    | AZ | West  |  6392017 |  232 |  6.392017 | 3.629527 | 10 |\n",
       "| 4 | Arkansas   | AR | South |  2915918 |   93 |  2.915918 | 3.189390 | 17 |\n",
       "| 5 | California | CA | West  | 37253956 | 1257 | 37.253956 | 3.374138 | 14 |\n",
       "| 6 | Colorado   | CO | West  |  5029196 |   65 |  5.029196 | 1.292453 | 38 |\n",
       "\n"
      ],
      "text/plain": [
       "  state      abb region population total population_in_million rate     rank\n",
       "1 Alabama    AL  South   4779736    135   4.779736             2.824424 23  \n",
       "2 Alaska     AK  West     710231     19   0.710231             2.675186 27  \n",
       "3 Arizona    AZ  West    6392017    232   6.392017             3.629527 10  \n",
       "4 Arkansas   AR  South   2915918     93   2.915918             3.189390 17  \n",
       "5 California CA  West   37253956   1257  37.253956             3.374138 14  \n",
       "6 Colorado   CO  West    5029196     65   5.029196             1.292453 38  "
      ]
     },
     "metadata": {},
     "output_type": "display_data"
    }
   ],
   "source": [
    "murders <- mutate(murders, rank = rank(-rate))\n",
    "head(murders)"
   ]
  },
  {
   "cell_type": "markdown",
   "metadata": {},
   "source": [
    "3. With __dplyr__, we can use `select` to show only certain columns. For example, with this code we would only show the states and population sizes:"
   ]
  },
  {
   "cell_type": "code",
   "execution_count": 17,
   "metadata": {},
   "outputs": [
    {
     "data": {
      "text/html": [
       "<table class=\"dataframe\">\n",
       "<caption>A data.frame: 6 × 2</caption>\n",
       "<thead>\n",
       "\t<tr><th></th><th scope=col>state</th><th scope=col>population</th></tr>\n",
       "\t<tr><th></th><th scope=col>&lt;chr&gt;</th><th scope=col>&lt;dbl&gt;</th></tr>\n",
       "</thead>\n",
       "<tbody>\n",
       "\t<tr><th scope=row>1</th><td>Alabama   </td><td> 4779736</td></tr>\n",
       "\t<tr><th scope=row>2</th><td>Alaska    </td><td>  710231</td></tr>\n",
       "\t<tr><th scope=row>3</th><td>Arizona   </td><td> 6392017</td></tr>\n",
       "\t<tr><th scope=row>4</th><td>Arkansas  </td><td> 2915918</td></tr>\n",
       "\t<tr><th scope=row>5</th><td>California</td><td>37253956</td></tr>\n",
       "\t<tr><th scope=row>6</th><td>Colorado  </td><td> 5029196</td></tr>\n",
       "</tbody>\n",
       "</table>\n"
      ],
      "text/latex": [
       "A data.frame: 6 × 2\n",
       "\\begin{tabular}{r|ll}\n",
       "  & state & population\\\\\n",
       "  & <chr> & <dbl>\\\\\n",
       "\\hline\n",
       "\t1 & Alabama    &  4779736\\\\\n",
       "\t2 & Alaska     &   710231\\\\\n",
       "\t3 & Arizona    &  6392017\\\\\n",
       "\t4 & Arkansas   &  2915918\\\\\n",
       "\t5 & California & 37253956\\\\\n",
       "\t6 & Colorado   &  5029196\\\\\n",
       "\\end{tabular}\n"
      ],
      "text/markdown": [
       "\n",
       "A data.frame: 6 × 2\n",
       "\n",
       "| <!--/--> | state &lt;chr&gt; | population &lt;dbl&gt; |\n",
       "|---|---|---|\n",
       "| 1 | Alabama    |  4779736 |\n",
       "| 2 | Alaska     |   710231 |\n",
       "| 3 | Arizona    |  6392017 |\n",
       "| 4 | Arkansas   |  2915918 |\n",
       "| 5 | California | 37253956 |\n",
       "| 6 | Colorado   |  5029196 |\n",
       "\n"
      ],
      "text/plain": [
       "  state      population\n",
       "1 Alabama     4779736  \n",
       "2 Alaska       710231  \n",
       "3 Arizona     6392017  \n",
       "4 Arkansas    2915918  \n",
       "5 California 37253956  \n",
       "6 Colorado    5029196  "
      ]
     },
     "metadata": {},
     "output_type": "display_data"
    }
   ],
   "source": [
    "select(murders, state, population) %>% head()"
   ]
  },
  {
   "cell_type": "markdown",
   "metadata": {},
   "source": [
    "Use `select` to show the state names and abbreviations in `murders`. Do not redefine `murders`, just show the results."
   ]
  },
  {
   "cell_type": "code",
   "execution_count": 18,
   "metadata": {},
   "outputs": [
    {
     "data": {
      "text/html": [
       "<table class=\"dataframe\">\n",
       "<caption>A data.frame: 6 × 2</caption>\n",
       "<thead>\n",
       "\t<tr><th></th><th scope=col>state</th><th scope=col>abb</th></tr>\n",
       "\t<tr><th></th><th scope=col>&lt;chr&gt;</th><th scope=col>&lt;chr&gt;</th></tr>\n",
       "</thead>\n",
       "<tbody>\n",
       "\t<tr><th scope=row>1</th><td>Alabama   </td><td>AL</td></tr>\n",
       "\t<tr><th scope=row>2</th><td>Alaska    </td><td>AK</td></tr>\n",
       "\t<tr><th scope=row>3</th><td>Arizona   </td><td>AZ</td></tr>\n",
       "\t<tr><th scope=row>4</th><td>Arkansas  </td><td>AR</td></tr>\n",
       "\t<tr><th scope=row>5</th><td>California</td><td>CA</td></tr>\n",
       "\t<tr><th scope=row>6</th><td>Colorado  </td><td>CO</td></tr>\n",
       "</tbody>\n",
       "</table>\n"
      ],
      "text/latex": [
       "A data.frame: 6 × 2\n",
       "\\begin{tabular}{r|ll}\n",
       "  & state & abb\\\\\n",
       "  & <chr> & <chr>\\\\\n",
       "\\hline\n",
       "\t1 & Alabama    & AL\\\\\n",
       "\t2 & Alaska     & AK\\\\\n",
       "\t3 & Arizona    & AZ\\\\\n",
       "\t4 & Arkansas   & AR\\\\\n",
       "\t5 & California & CA\\\\\n",
       "\t6 & Colorado   & CO\\\\\n",
       "\\end{tabular}\n"
      ],
      "text/markdown": [
       "\n",
       "A data.frame: 6 × 2\n",
       "\n",
       "| <!--/--> | state &lt;chr&gt; | abb &lt;chr&gt; |\n",
       "|---|---|---|\n",
       "| 1 | Alabama    | AL |\n",
       "| 2 | Alaska     | AK |\n",
       "| 3 | Arizona    | AZ |\n",
       "| 4 | Arkansas   | AR |\n",
       "| 5 | California | CA |\n",
       "| 6 | Colorado   | CO |\n",
       "\n"
      ],
      "text/plain": [
       "  state      abb\n",
       "1 Alabama    AL \n",
       "2 Alaska     AK \n",
       "3 Arizona    AZ \n",
       "4 Arkansas   AR \n",
       "5 California CA \n",
       "6 Colorado   CO "
      ]
     },
     "metadata": {},
     "output_type": "display_data"
    }
   ],
   "source": [
    "select(murders, state, abb) %>% head()"
   ]
  },
  {
   "cell_type": "markdown",
   "metadata": {},
   "source": [
    "4. The dplyr function filter is used to choose specific rows of the data frame to keep. Unlike select which is for columns, filter is for rows. For example, you can show just the New York row like this:"
   ]
  },
  {
   "cell_type": "code",
   "execution_count": 19,
   "metadata": {},
   "outputs": [
    {
     "data": {
      "text/html": [
       "<table class=\"dataframe\">\n",
       "<caption>A data.frame: 1 × 8</caption>\n",
       "<thead>\n",
       "\t<tr><th scope=col>state</th><th scope=col>abb</th><th scope=col>region</th><th scope=col>population</th><th scope=col>total</th><th scope=col>population_in_million</th><th scope=col>rate</th><th scope=col>rank</th></tr>\n",
       "\t<tr><th scope=col>&lt;chr&gt;</th><th scope=col>&lt;chr&gt;</th><th scope=col>&lt;fct&gt;</th><th scope=col>&lt;dbl&gt;</th><th scope=col>&lt;dbl&gt;</th><th scope=col>&lt;dbl&gt;</th><th scope=col>&lt;dbl&gt;</th><th scope=col>&lt;dbl&gt;</th></tr>\n",
       "</thead>\n",
       "<tbody>\n",
       "\t<tr><td>New York</td><td>NY</td><td>Northeast</td><td>19378102</td><td>517</td><td>19.3781</td><td>2.66796</td><td>29</td></tr>\n",
       "</tbody>\n",
       "</table>\n"
      ],
      "text/latex": [
       "A data.frame: 1 × 8\n",
       "\\begin{tabular}{llllllll}\n",
       " state & abb & region & population & total & population\\_in\\_million & rate & rank\\\\\n",
       " <chr> & <chr> & <fct> & <dbl> & <dbl> & <dbl> & <dbl> & <dbl>\\\\\n",
       "\\hline\n",
       "\t New York & NY & Northeast & 19378102 & 517 & 19.3781 & 2.66796 & 29\\\\\n",
       "\\end{tabular}\n"
      ],
      "text/markdown": [
       "\n",
       "A data.frame: 1 × 8\n",
       "\n",
       "| state &lt;chr&gt; | abb &lt;chr&gt; | region &lt;fct&gt; | population &lt;dbl&gt; | total &lt;dbl&gt; | population_in_million &lt;dbl&gt; | rate &lt;dbl&gt; | rank &lt;dbl&gt; |\n",
       "|---|---|---|---|---|---|---|---|\n",
       "| New York | NY | Northeast | 19378102 | 517 | 19.3781 | 2.66796 | 29 |\n",
       "\n"
      ],
      "text/plain": [
       "  state    abb region    population total population_in_million rate    rank\n",
       "1 New York NY  Northeast 19378102   517   19.3781               2.66796 29  "
      ]
     },
     "metadata": {},
     "output_type": "display_data"
    }
   ],
   "source": [
    "filter(murders, state == \"New York\")"
   ]
  },
  {
   "cell_type": "markdown",
   "metadata": {},
   "source": [
    "You can use other logical vectors to filter rows.\n",
    "\n",
    "Use `filter` to show the top 5 states with the highest murder rates. After we add murder rate and rank, do not change the murders dataset, just show the result. Remember that you can filter based on the `rank` column."
   ]
  },
  {
   "cell_type": "code",
   "execution_count": 20,
   "metadata": {},
   "outputs": [
    {
     "data": {
      "text/html": [
       "<table class=\"dataframe\">\n",
       "<caption>A data.frame: 5 × 3</caption>\n",
       "<thead>\n",
       "\t<tr><th scope=col>state</th><th scope=col>rate</th><th scope=col>rank</th></tr>\n",
       "\t<tr><th scope=col>&lt;chr&gt;</th><th scope=col>&lt;dbl&gt;</th><th scope=col>&lt;dbl&gt;</th></tr>\n",
       "</thead>\n",
       "<tbody>\n",
       "\t<tr><td>District of Columbia</td><td>16.452753</td><td>1</td></tr>\n",
       "\t<tr><td>Louisiana           </td><td> 7.742581</td><td>2</td></tr>\n",
       "\t<tr><td>Maryland            </td><td> 5.074866</td><td>4</td></tr>\n",
       "\t<tr><td>Missouri            </td><td> 5.359892</td><td>3</td></tr>\n",
       "\t<tr><td>South Carolina      </td><td> 4.475323</td><td>5</td></tr>\n",
       "</tbody>\n",
       "</table>\n"
      ],
      "text/latex": [
       "A data.frame: 5 × 3\n",
       "\\begin{tabular}{lll}\n",
       " state & rate & rank\\\\\n",
       " <chr> & <dbl> & <dbl>\\\\\n",
       "\\hline\n",
       "\t District of Columbia & 16.452753 & 1\\\\\n",
       "\t Louisiana            &  7.742581 & 2\\\\\n",
       "\t Maryland             &  5.074866 & 4\\\\\n",
       "\t Missouri             &  5.359892 & 3\\\\\n",
       "\t South Carolina       &  4.475323 & 5\\\\\n",
       "\\end{tabular}\n"
      ],
      "text/markdown": [
       "\n",
       "A data.frame: 5 × 3\n",
       "\n",
       "| state &lt;chr&gt; | rate &lt;dbl&gt; | rank &lt;dbl&gt; |\n",
       "|---|---|---|\n",
       "| District of Columbia | 16.452753 | 1 |\n",
       "| Louisiana            |  7.742581 | 2 |\n",
       "| Maryland             |  5.074866 | 4 |\n",
       "| Missouri             |  5.359892 | 3 |\n",
       "| South Carolina       |  4.475323 | 5 |\n",
       "\n"
      ],
      "text/plain": [
       "  state                rate      rank\n",
       "1 District of Columbia 16.452753 1   \n",
       "2 Louisiana             7.742581 2   \n",
       "3 Maryland              5.074866 4   \n",
       "4 Missouri              5.359892 3   \n",
       "5 South Carolina        4.475323 5   "
      ]
     },
     "metadata": {},
     "output_type": "display_data"
    }
   ],
   "source": [
    "a <- select(murders, state, rate, rank)\n",
    "filter(a, rank <= 5)"
   ]
  },
  {
   "cell_type": "markdown",
   "metadata": {},
   "source": [
    "5. We can remove rows using the `!=` operator. For example, to remove Florida, we would do this:"
   ]
  },
  {
   "cell_type": "code",
   "execution_count": 21,
   "metadata": {},
   "outputs": [],
   "source": [
    "no_florida <- filter(murders, state != \"Florida\" )"
   ]
  },
  {
   "cell_type": "markdown",
   "metadata": {},
   "source": [
    "Create a new data frame called `no_south` that removes states from the South region. How many states are in this category? You can use the function nrow for this."
   ]
  },
  {
   "cell_type": "code",
   "execution_count": 22,
   "metadata": {},
   "outputs": [
    {
     "data": {
      "text/html": [
       "34"
      ],
      "text/latex": [
       "34"
      ],
      "text/markdown": [
       "34"
      ],
      "text/plain": [
       "[1] 34"
      ]
     },
     "metadata": {},
     "output_type": "display_data"
    }
   ],
   "source": [
    "no_south <- filter(murders, region != \"South\")\n",
    "nrow(no_south)"
   ]
  },
  {
   "cell_type": "markdown",
   "metadata": {},
   "source": [
    "6. We can also use `%in%` to filter with __dplyr__. You can therefore see the data from New York and Texas like this:"
   ]
  },
  {
   "cell_type": "code",
   "execution_count": 23,
   "metadata": {},
   "outputs": [
    {
     "data": {
      "text/html": [
       "<table class=\"dataframe\">\n",
       "<caption>A data.frame: 2 × 8</caption>\n",
       "<thead>\n",
       "\t<tr><th scope=col>state</th><th scope=col>abb</th><th scope=col>region</th><th scope=col>population</th><th scope=col>total</th><th scope=col>population_in_million</th><th scope=col>rate</th><th scope=col>rank</th></tr>\n",
       "\t<tr><th scope=col>&lt;chr&gt;</th><th scope=col>&lt;chr&gt;</th><th scope=col>&lt;fct&gt;</th><th scope=col>&lt;dbl&gt;</th><th scope=col>&lt;dbl&gt;</th><th scope=col>&lt;dbl&gt;</th><th scope=col>&lt;dbl&gt;</th><th scope=col>&lt;dbl&gt;</th></tr>\n",
       "</thead>\n",
       "<tbody>\n",
       "\t<tr><td>New York</td><td>NY</td><td>Northeast</td><td>19378102</td><td>517</td><td>19.37810</td><td>2.66796</td><td>29</td></tr>\n",
       "\t<tr><td>Texas   </td><td>TX</td><td>South    </td><td>25145561</td><td>805</td><td>25.14556</td><td>3.20136</td><td>16</td></tr>\n",
       "</tbody>\n",
       "</table>\n"
      ],
      "text/latex": [
       "A data.frame: 2 × 8\n",
       "\\begin{tabular}{llllllll}\n",
       " state & abb & region & population & total & population\\_in\\_million & rate & rank\\\\\n",
       " <chr> & <chr> & <fct> & <dbl> & <dbl> & <dbl> & <dbl> & <dbl>\\\\\n",
       "\\hline\n",
       "\t New York & NY & Northeast & 19378102 & 517 & 19.37810 & 2.66796 & 29\\\\\n",
       "\t Texas    & TX & South     & 25145561 & 805 & 25.14556 & 3.20136 & 16\\\\\n",
       "\\end{tabular}\n"
      ],
      "text/markdown": [
       "\n",
       "A data.frame: 2 × 8\n",
       "\n",
       "| state &lt;chr&gt; | abb &lt;chr&gt; | region &lt;fct&gt; | population &lt;dbl&gt; | total &lt;dbl&gt; | population_in_million &lt;dbl&gt; | rate &lt;dbl&gt; | rank &lt;dbl&gt; |\n",
       "|---|---|---|---|---|---|---|---|\n",
       "| New York | NY | Northeast | 19378102 | 517 | 19.37810 | 2.66796 | 29 |\n",
       "| Texas    | TX | South     | 25145561 | 805 | 25.14556 | 3.20136 | 16 |\n",
       "\n"
      ],
      "text/plain": [
       "  state    abb region    population total population_in_million rate    rank\n",
       "1 New York NY  Northeast 19378102   517   19.37810              2.66796 29  \n",
       "2 Texas    TX  South     25145561   805   25.14556              3.20136 16  "
      ]
     },
     "metadata": {},
     "output_type": "display_data"
    }
   ],
   "source": [
    "filter(murders, state %in% c(\"New York\", \"Texas\"))"
   ]
  },
  {
   "cell_type": "markdown",
   "metadata": {},
   "source": [
    "Create a new data frame called `murders_nw` with only the states from the Northeast and the West. How many states are in this category?"
   ]
  },
  {
   "cell_type": "code",
   "execution_count": 24,
   "metadata": {},
   "outputs": [
    {
     "data": {
      "text/html": [
       "22"
      ],
      "text/latex": [
       "22"
      ],
      "text/markdown": [
       "22"
      ],
      "text/plain": [
       "[1] 22"
      ]
     },
     "metadata": {},
     "output_type": "display_data"
    }
   ],
   "source": [
    "murders_nw <- filter(murders, region %in% c(\"Northeast\", \"West\"))\n",
    "nrow(murders_nw)"
   ]
  },
  {
   "cell_type": "markdown",
   "metadata": {},
   "source": [
    "7. Suppose you want to live in the Northeast or West and want the murder rate to be less than 1. We want to see the data for the states satisfying these options. Note that you can use logical operators with `filter`. Here is an example in which we filter to keep only small states in the Northeast region."
   ]
  },
  {
   "cell_type": "code",
   "execution_count": 25,
   "metadata": {},
   "outputs": [
    {
     "data": {
      "text/html": [
       "<table class=\"dataframe\">\n",
       "<caption>A data.frame: 0 × 8</caption>\n",
       "<thead>\n",
       "\t<tr><th scope=col>state</th><th scope=col>abb</th><th scope=col>region</th><th scope=col>population</th><th scope=col>total</th><th scope=col>population_in_million</th><th scope=col>rate</th><th scope=col>rank</th></tr>\n",
       "\t<tr><th scope=col>&lt;chr&gt;</th><th scope=col>&lt;chr&gt;</th><th scope=col>&lt;fct&gt;</th><th scope=col>&lt;dbl&gt;</th><th scope=col>&lt;dbl&gt;</th><th scope=col>&lt;dbl&gt;</th><th scope=col>&lt;dbl&gt;</th><th scope=col>&lt;dbl&gt;</th></tr>\n",
       "</thead>\n",
       "<tbody>\n",
       "</tbody>\n",
       "</table>\n"
      ],
      "text/latex": [
       "A data.frame: 0 × 8\n",
       "\\begin{tabular}{llllllll}\n",
       " state & abb & region & population & total & population\\_in\\_million & rate & rank\\\\\n",
       " <chr> & <chr> & <fct> & <dbl> & <dbl> & <dbl> & <dbl> & <dbl>\\\\\n",
       "\\hline\n",
       "\\end{tabular}\n"
      ],
      "text/markdown": [
       "\n",
       "A data.frame: 0 × 8\n",
       "\n",
       "| state &lt;chr&gt; | abb &lt;chr&gt; | region &lt;fct&gt; | population &lt;dbl&gt; | total &lt;dbl&gt; | population_in_million &lt;dbl&gt; | rate &lt;dbl&gt; | rank &lt;dbl&gt; |\n",
       "|---|---|---|---|---|---|---|---|\n",
       "\n"
      ],
      "text/plain": [
       "     state abb region population total population_in_million rate rank"
      ]
     },
     "metadata": {},
     "output_type": "display_data"
    }
   ],
   "source": [
    "filter(murders, population <5000000 & region == \"Nortrheast\")"
   ]
  },
  {
   "cell_type": "markdown",
   "metadata": {},
   "source": [
    "Make sure `murders` has been defined with `rate` and `rank` and still has all states. Create a table called `my_states` that contains rows for states satisfying both the conditions: it is in the Northeast or West and the murder rate is less than 1. Use `select` to show only the state name, the rate, and the rank."
   ]
  },
  {
   "cell_type": "code",
   "execution_count": 26,
   "metadata": {},
   "outputs": [
    {
     "data": {
      "text/html": [
       "<table class=\"dataframe\">\n",
       "<caption>A data.frame: 8 × 3</caption>\n",
       "<thead>\n",
       "\t<tr><th scope=col>state</th><th scope=col>rate</th><th scope=col>rank</th></tr>\n",
       "\t<tr><th scope=col>&lt;chr&gt;</th><th scope=col>&lt;dbl&gt;</th><th scope=col>&lt;dbl&gt;</th></tr>\n",
       "</thead>\n",
       "<tbody>\n",
       "\t<tr><td>Hawaii       </td><td>0.5145920</td><td>49</td></tr>\n",
       "\t<tr><td>Idaho        </td><td>0.7655102</td><td>46</td></tr>\n",
       "\t<tr><td>Maine        </td><td>0.8280881</td><td>44</td></tr>\n",
       "\t<tr><td>New Hampshire</td><td>0.3798036</td><td>50</td></tr>\n",
       "\t<tr><td>Oregon       </td><td>0.9396843</td><td>42</td></tr>\n",
       "\t<tr><td>Utah         </td><td>0.7959810</td><td>45</td></tr>\n",
       "\t<tr><td>Vermont      </td><td>0.3196211</td><td>51</td></tr>\n",
       "\t<tr><td>Wyoming      </td><td>0.8871131</td><td>43</td></tr>\n",
       "</tbody>\n",
       "</table>\n"
      ],
      "text/latex": [
       "A data.frame: 8 × 3\n",
       "\\begin{tabular}{lll}\n",
       " state & rate & rank\\\\\n",
       " <chr> & <dbl> & <dbl>\\\\\n",
       "\\hline\n",
       "\t Hawaii        & 0.5145920 & 49\\\\\n",
       "\t Idaho         & 0.7655102 & 46\\\\\n",
       "\t Maine         & 0.8280881 & 44\\\\\n",
       "\t New Hampshire & 0.3798036 & 50\\\\\n",
       "\t Oregon        & 0.9396843 & 42\\\\\n",
       "\t Utah          & 0.7959810 & 45\\\\\n",
       "\t Vermont       & 0.3196211 & 51\\\\\n",
       "\t Wyoming       & 0.8871131 & 43\\\\\n",
       "\\end{tabular}\n"
      ],
      "text/markdown": [
       "\n",
       "A data.frame: 8 × 3\n",
       "\n",
       "| state &lt;chr&gt; | rate &lt;dbl&gt; | rank &lt;dbl&gt; |\n",
       "|---|---|---|\n",
       "| Hawaii        | 0.5145920 | 49 |\n",
       "| Idaho         | 0.7655102 | 46 |\n",
       "| Maine         | 0.8280881 | 44 |\n",
       "| New Hampshire | 0.3798036 | 50 |\n",
       "| Oregon        | 0.9396843 | 42 |\n",
       "| Utah          | 0.7959810 | 45 |\n",
       "| Vermont       | 0.3196211 | 51 |\n",
       "| Wyoming       | 0.8871131 | 43 |\n",
       "\n"
      ],
      "text/plain": [
       "  state         rate      rank\n",
       "1 Hawaii        0.5145920 49  \n",
       "2 Idaho         0.7655102 46  \n",
       "3 Maine         0.8280881 44  \n",
       "4 New Hampshire 0.3798036 50  \n",
       "5 Oregon        0.9396843 42  \n",
       "6 Utah          0.7959810 45  \n",
       "7 Vermont       0.3196211 51  \n",
       "8 Wyoming       0.8871131 43  "
      ]
     },
     "metadata": {},
     "output_type": "display_data"
    }
   ],
   "source": [
    "my_state <- filter(murders, region %in% c(\"Northeast\", \"West\") & rate < 1)\n",
    "select(my_state, state, rate, rank)"
   ]
  },
  {
   "cell_type": "markdown",
   "metadata": {},
   "source": [
    "### 4.5 The pipe: `%>%`\n",
    "\n",
    "With __dplyr__ we cna perfomr a series of operations, for example `select` and then `filter`, by sending the result of one funciton to another using what is called the _pipe operator_. `%>%`. Some details are included below.\n",
    "\n",
    "We wrote code above to show three variables (state, region, rate) for states that have murder rates below 0.71. To do this, we defined the intermediate object `new_table`. In __dplyr__ we can write code that looks more like a description of what we want to do without intermediate objects:\n",
    "\n",
    "$$ origianl \\ data → select → filter$$\n",
    "\n",
    "For such an operation, we can use the pipe `%>%`. The code looks like this:"
   ]
  },
  {
   "cell_type": "code",
   "execution_count": 27,
   "metadata": {},
   "outputs": [
    {
     "data": {
      "text/html": [
       "<table class=\"dataframe\">\n",
       "<caption>A data.frame: 5 × 3</caption>\n",
       "<thead>\n",
       "\t<tr><th scope=col>state</th><th scope=col>region</th><th scope=col>rate</th></tr>\n",
       "\t<tr><th scope=col>&lt;chr&gt;</th><th scope=col>&lt;fct&gt;</th><th scope=col>&lt;dbl&gt;</th></tr>\n",
       "</thead>\n",
       "<tbody>\n",
       "\t<tr><td>Hawaii       </td><td>West         </td><td>0.5145920</td></tr>\n",
       "\t<tr><td>Iowa         </td><td>North Central</td><td>0.6893484</td></tr>\n",
       "\t<tr><td>New Hampshire</td><td>Northeast    </td><td>0.3798036</td></tr>\n",
       "\t<tr><td>North Dakota </td><td>North Central</td><td>0.5947151</td></tr>\n",
       "\t<tr><td>Vermont      </td><td>Northeast    </td><td>0.3196211</td></tr>\n",
       "</tbody>\n",
       "</table>\n"
      ],
      "text/latex": [
       "A data.frame: 5 × 3\n",
       "\\begin{tabular}{lll}\n",
       " state & region & rate\\\\\n",
       " <chr> & <fct> & <dbl>\\\\\n",
       "\\hline\n",
       "\t Hawaii        & West          & 0.5145920\\\\\n",
       "\t Iowa          & North Central & 0.6893484\\\\\n",
       "\t New Hampshire & Northeast     & 0.3798036\\\\\n",
       "\t North Dakota  & North Central & 0.5947151\\\\\n",
       "\t Vermont       & Northeast     & 0.3196211\\\\\n",
       "\\end{tabular}\n"
      ],
      "text/markdown": [
       "\n",
       "A data.frame: 5 × 3\n",
       "\n",
       "| state &lt;chr&gt; | region &lt;fct&gt; | rate &lt;dbl&gt; |\n",
       "|---|---|---|\n",
       "| Hawaii        | West          | 0.5145920 |\n",
       "| Iowa          | North Central | 0.6893484 |\n",
       "| New Hampshire | Northeast     | 0.3798036 |\n",
       "| North Dakota  | North Central | 0.5947151 |\n",
       "| Vermont       | Northeast     | 0.3196211 |\n",
       "\n"
      ],
      "text/plain": [
       "  state         region        rate     \n",
       "1 Hawaii        West          0.5145920\n",
       "2 Iowa          North Central 0.6893484\n",
       "3 New Hampshire Northeast     0.3798036\n",
       "4 North Dakota  North Central 0.5947151\n",
       "5 Vermont       Northeast     0.3196211"
      ]
     },
     "metadata": {},
     "output_type": "display_data"
    }
   ],
   "source": [
    "murders %>% select(state, region, rate) %>% filter(rate <= 0.71)"
   ]
  },
  {
   "cell_type": "markdown",
   "metadata": {},
   "source": [
    "This line of code is equivalent to the two lines of code above. What is going on here?\n",
    "\n",
    "In general, the pipe _sends_ the result of the left side of the pipe to be the first argument of the functino on the right side of the pipe. Here is a very simple example:"
   ]
  },
  {
   "cell_type": "code",
   "execution_count": 28,
   "metadata": {},
   "outputs": [
    {
     "data": {
      "text/html": [
       "4"
      ],
      "text/latex": [
       "4"
      ],
      "text/markdown": [
       "4"
      ],
      "text/plain": [
       "[1] 4"
      ]
     },
     "metadata": {},
     "output_type": "display_data"
    }
   ],
   "source": [
    "16 %>% sqrt()"
   ]
  },
  {
   "cell_type": "markdown",
   "metadata": {},
   "source": [
    "We can continue to pipe values along:"
   ]
  },
  {
   "cell_type": "code",
   "execution_count": 29,
   "metadata": {},
   "outputs": [
    {
     "data": {
      "text/html": [
       "2"
      ],
      "text/latex": [
       "2"
      ],
      "text/markdown": [
       "2"
      ],
      "text/plain": [
       "[1] 2"
      ]
     },
     "metadata": {},
     "output_type": "display_data"
    }
   ],
   "source": [
    "16 %>% sqrt() %>% log2()"
   ]
  },
  {
   "cell_type": "markdown",
   "metadata": {},
   "source": [
    "The above statement is equivalent to `log2(sqrt(16))`.\n",
    "\n",
    "Remember that the pipe send value to the first argument, so we can define other arguments as if the first argument is already defined:"
   ]
  },
  {
   "cell_type": "code",
   "execution_count": 30,
   "metadata": {},
   "outputs": [
    {
     "data": {
      "text/html": [
       "2"
      ],
      "text/latex": [
       "2"
      ],
      "text/markdown": [
       "2"
      ],
      "text/plain": [
       "[1] 2"
      ]
     },
     "metadata": {},
     "output_type": "display_data"
    }
   ],
   "source": [
    "16 %>% sqrt() %>% log(base = 2)"
   ]
  },
  {
   "cell_type": "markdown",
   "metadata": {},
   "source": [
    "Therefore, when we using the pipe with data frames and __dplyr__, we no longer to need to specify the required first argument sine the __dplyr__ functions we have described all take the data as the first argument. In the code we wrote:"
   ]
  },
  {
   "cell_type": "code",
   "execution_count": 31,
   "metadata": {},
   "outputs": [
    {
     "data": {
      "text/html": [
       "<table class=\"dataframe\">\n",
       "<caption>A data.frame: 5 × 3</caption>\n",
       "<thead>\n",
       "\t<tr><th scope=col>state</th><th scope=col>region</th><th scope=col>rate</th></tr>\n",
       "\t<tr><th scope=col>&lt;chr&gt;</th><th scope=col>&lt;fct&gt;</th><th scope=col>&lt;dbl&gt;</th></tr>\n",
       "</thead>\n",
       "<tbody>\n",
       "\t<tr><td>Hawaii       </td><td>West         </td><td>0.5145920</td></tr>\n",
       "\t<tr><td>Iowa         </td><td>North Central</td><td>0.6893484</td></tr>\n",
       "\t<tr><td>New Hampshire</td><td>Northeast    </td><td>0.3798036</td></tr>\n",
       "\t<tr><td>North Dakota </td><td>North Central</td><td>0.5947151</td></tr>\n",
       "\t<tr><td>Vermont      </td><td>Northeast    </td><td>0.3196211</td></tr>\n",
       "</tbody>\n",
       "</table>\n"
      ],
      "text/latex": [
       "A data.frame: 5 × 3\n",
       "\\begin{tabular}{lll}\n",
       " state & region & rate\\\\\n",
       " <chr> & <fct> & <dbl>\\\\\n",
       "\\hline\n",
       "\t Hawaii        & West          & 0.5145920\\\\\n",
       "\t Iowa          & North Central & 0.6893484\\\\\n",
       "\t New Hampshire & Northeast     & 0.3798036\\\\\n",
       "\t North Dakota  & North Central & 0.5947151\\\\\n",
       "\t Vermont       & Northeast     & 0.3196211\\\\\n",
       "\\end{tabular}\n"
      ],
      "text/markdown": [
       "\n",
       "A data.frame: 5 × 3\n",
       "\n",
       "| state &lt;chr&gt; | region &lt;fct&gt; | rate &lt;dbl&gt; |\n",
       "|---|---|---|\n",
       "| Hawaii        | West          | 0.5145920 |\n",
       "| Iowa          | North Central | 0.6893484 |\n",
       "| New Hampshire | Northeast     | 0.3798036 |\n",
       "| North Dakota  | North Central | 0.5947151 |\n",
       "| Vermont       | Northeast     | 0.3196211 |\n",
       "\n"
      ],
      "text/plain": [
       "  state         region        rate     \n",
       "1 Hawaii        West          0.5145920\n",
       "2 Iowa          North Central 0.6893484\n",
       "3 New Hampshire Northeast     0.3798036\n",
       "4 North Dakota  North Central 0.5947151\n",
       "5 Vermont       Northeast     0.3196211"
      ]
     },
     "metadata": {},
     "output_type": "display_data"
    }
   ],
   "source": [
    "murders %>% select(state, region, rate) %>% filter(rate <= 0.71)"
   ]
  },
  {
   "cell_type": "markdown",
   "metadata": {},
   "source": [
    "`murders` is the first argument of the `select` function, and the new data frame (formerly `new_table`) is the first argument of the `filter` function.\n",
    "\n",
    "Note that the pipe works well with functions where the first argument is the input data. Functions in __tidyverse__ packages like __dplyr__ have this format and can be used easily with the pipe."
   ]
  },
  {
   "cell_type": "markdown",
   "metadata": {},
   "source": [
    "## 4.6 Exercises\n",
    "\n",
    "\n",
    "1. The pipe `%>%` can be used to perform operations sequentially  without having to define intermediate objects. Start by redefining murder to include rate and rank."
   ]
  },
  {
   "cell_type": "code",
   "execution_count": 32,
   "metadata": {},
   "outputs": [],
   "source": [
    "data(murders)\n",
    "murders <- mutate(murders, rate = total / population * 100000, rank = rank(-rate))"
   ]
  },
  {
   "cell_type": "markdown",
   "metadata": {},
   "source": [
    "In the solution to the previous exercise, we did the following:"
   ]
  },
  {
   "cell_type": "code",
   "execution_count": 33,
   "metadata": {
    "collapsed": true
   },
   "outputs": [
    {
     "data": {
      "text/html": [
       "<table class=\"dataframe\">\n",
       "<caption>A data.frame: 8 × 3</caption>\n",
       "<thead>\n",
       "\t<tr><th scope=col>state</th><th scope=col>rate</th><th scope=col>rank</th></tr>\n",
       "\t<tr><th scope=col>&lt;chr&gt;</th><th scope=col>&lt;dbl&gt;</th><th scope=col>&lt;dbl&gt;</th></tr>\n",
       "</thead>\n",
       "<tbody>\n",
       "\t<tr><td>Hawaii       </td><td>0.5145920</td><td>49</td></tr>\n",
       "\t<tr><td>Idaho        </td><td>0.7655102</td><td>46</td></tr>\n",
       "\t<tr><td>Maine        </td><td>0.8280881</td><td>44</td></tr>\n",
       "\t<tr><td>New Hampshire</td><td>0.3798036</td><td>50</td></tr>\n",
       "\t<tr><td>Oregon       </td><td>0.9396843</td><td>42</td></tr>\n",
       "\t<tr><td>Utah         </td><td>0.7959810</td><td>45</td></tr>\n",
       "\t<tr><td>Vermont      </td><td>0.3196211</td><td>51</td></tr>\n",
       "\t<tr><td>Wyoming      </td><td>0.8871131</td><td>43</td></tr>\n",
       "</tbody>\n",
       "</table>\n"
      ],
      "text/latex": [
       "A data.frame: 8 × 3\n",
       "\\begin{tabular}{lll}\n",
       " state & rate & rank\\\\\n",
       " <chr> & <dbl> & <dbl>\\\\\n",
       "\\hline\n",
       "\t Hawaii        & 0.5145920 & 49\\\\\n",
       "\t Idaho         & 0.7655102 & 46\\\\\n",
       "\t Maine         & 0.8280881 & 44\\\\\n",
       "\t New Hampshire & 0.3798036 & 50\\\\\n",
       "\t Oregon        & 0.9396843 & 42\\\\\n",
       "\t Utah          & 0.7959810 & 45\\\\\n",
       "\t Vermont       & 0.3196211 & 51\\\\\n",
       "\t Wyoming       & 0.8871131 & 43\\\\\n",
       "\\end{tabular}\n"
      ],
      "text/markdown": [
       "\n",
       "A data.frame: 8 × 3\n",
       "\n",
       "| state &lt;chr&gt; | rate &lt;dbl&gt; | rank &lt;dbl&gt; |\n",
       "|---|---|---|\n",
       "| Hawaii        | 0.5145920 | 49 |\n",
       "| Idaho         | 0.7655102 | 46 |\n",
       "| Maine         | 0.8280881 | 44 |\n",
       "| New Hampshire | 0.3798036 | 50 |\n",
       "| Oregon        | 0.9396843 | 42 |\n",
       "| Utah          | 0.7959810 | 45 |\n",
       "| Vermont       | 0.3196211 | 51 |\n",
       "| Wyoming       | 0.8871131 | 43 |\n",
       "\n"
      ],
      "text/plain": [
       "  state         rate      rank\n",
       "1 Hawaii        0.5145920 49  \n",
       "2 Idaho         0.7655102 46  \n",
       "3 Maine         0.8280881 44  \n",
       "4 New Hampshire 0.3798036 50  \n",
       "5 Oregon        0.9396843 42  \n",
       "6 Utah          0.7959810 45  \n",
       "7 Vermont       0.3196211 51  \n",
       "8 Wyoming       0.8871131 43  "
      ]
     },
     "metadata": {},
     "output_type": "display_data"
    }
   ],
   "source": [
    "my_state <- filter(murders, region %in% c(\"Northeast\", \"West\") & rate < 1)\n",
    "select(my_state, state, rate, rank)"
   ]
  },
  {
   "cell_type": "markdown",
   "metadata": {},
   "source": [
    "The pipe `%>%` permits us to perform both operations sequentially without having to define an intermediate variable `my_state`. We therefore could have mutated and selected in the same line like this:"
   ]
  },
  {
   "cell_type": "code",
   "execution_count": 34,
   "metadata": {
    "collapsed": true
   },
   "outputs": [
    {
     "data": {
      "text/html": [
       "<table class=\"dataframe\">\n",
       "<caption>A data.frame: 51 × 3</caption>\n",
       "<thead>\n",
       "\t<tr><th scope=col>state</th><th scope=col>rate</th><th scope=col>rank</th></tr>\n",
       "\t<tr><th scope=col>&lt;chr&gt;</th><th scope=col>&lt;dbl&gt;</th><th scope=col>&lt;dbl&gt;</th></tr>\n",
       "</thead>\n",
       "<tbody>\n",
       "\t<tr><td>Alabama             </td><td> 2.8244238</td><td>23</td></tr>\n",
       "\t<tr><td>Alaska              </td><td> 2.6751860</td><td>27</td></tr>\n",
       "\t<tr><td>Arizona             </td><td> 3.6295273</td><td>10</td></tr>\n",
       "\t<tr><td>Arkansas            </td><td> 3.1893901</td><td>17</td></tr>\n",
       "\t<tr><td>California          </td><td> 3.3741383</td><td>14</td></tr>\n",
       "\t<tr><td>Colorado            </td><td> 1.2924531</td><td>38</td></tr>\n",
       "\t<tr><td>Connecticut         </td><td> 2.7139722</td><td>25</td></tr>\n",
       "\t<tr><td>Delaware            </td><td> 4.2319369</td><td> 6</td></tr>\n",
       "\t<tr><td>District of Columbia</td><td>16.4527532</td><td> 1</td></tr>\n",
       "\t<tr><td>Florida             </td><td> 3.3980688</td><td>13</td></tr>\n",
       "\t<tr><td>Georgia             </td><td> 3.7903226</td><td> 9</td></tr>\n",
       "\t<tr><td>Hawaii              </td><td> 0.5145920</td><td>49</td></tr>\n",
       "\t<tr><td>Idaho               </td><td> 0.7655102</td><td>46</td></tr>\n",
       "\t<tr><td>Illinois            </td><td> 2.8369608</td><td>22</td></tr>\n",
       "\t<tr><td>Indiana             </td><td> 2.1900730</td><td>31</td></tr>\n",
       "\t<tr><td>Iowa                </td><td> 0.6893484</td><td>47</td></tr>\n",
       "\t<tr><td>Kansas              </td><td> 2.2081106</td><td>30</td></tr>\n",
       "\t<tr><td>Kentucky            </td><td> 2.6732010</td><td>28</td></tr>\n",
       "\t<tr><td>Louisiana           </td><td> 7.7425810</td><td> 2</td></tr>\n",
       "\t<tr><td>Maine               </td><td> 0.8280881</td><td>44</td></tr>\n",
       "\t<tr><td>Maryland            </td><td> 5.0748655</td><td> 4</td></tr>\n",
       "\t<tr><td>Massachusetts       </td><td> 1.8021791</td><td>32</td></tr>\n",
       "\t<tr><td>Michigan            </td><td> 4.1786225</td><td> 7</td></tr>\n",
       "\t<tr><td>Minnesota           </td><td> 0.9992600</td><td>40</td></tr>\n",
       "\t<tr><td>Mississippi         </td><td> 4.0440846</td><td> 8</td></tr>\n",
       "\t<tr><td>Missouri            </td><td> 5.3598917</td><td> 3</td></tr>\n",
       "\t<tr><td>Montana             </td><td> 1.2128379</td><td>39</td></tr>\n",
       "\t<tr><td>Nebraska            </td><td> 1.7521372</td><td>33</td></tr>\n",
       "\t<tr><td>Nevada              </td><td> 3.1104763</td><td>19</td></tr>\n",
       "\t<tr><td>New Hampshire       </td><td> 0.3798036</td><td>50</td></tr>\n",
       "\t<tr><td>New Jersey          </td><td> 2.7980319</td><td>24</td></tr>\n",
       "\t<tr><td>New Mexico          </td><td> 3.2537239</td><td>15</td></tr>\n",
       "\t<tr><td>New York            </td><td> 2.6679599</td><td>29</td></tr>\n",
       "\t<tr><td>North Carolina      </td><td> 2.9993237</td><td>20</td></tr>\n",
       "\t<tr><td>North Dakota        </td><td> 0.5947151</td><td>48</td></tr>\n",
       "\t<tr><td>Ohio                </td><td> 2.6871225</td><td>26</td></tr>\n",
       "\t<tr><td>Oklahoma            </td><td> 2.9589340</td><td>21</td></tr>\n",
       "\t<tr><td>Oregon              </td><td> 0.9396843</td><td>42</td></tr>\n",
       "\t<tr><td>Pennsylvania        </td><td> 3.5977513</td><td>11</td></tr>\n",
       "\t<tr><td>Rhode Island        </td><td> 1.5200933</td><td>35</td></tr>\n",
       "\t<tr><td>South Carolina      </td><td> 4.4753235</td><td> 5</td></tr>\n",
       "\t<tr><td>South Dakota        </td><td> 0.9825837</td><td>41</td></tr>\n",
       "\t<tr><td>Tennessee           </td><td> 3.4509357</td><td>12</td></tr>\n",
       "\t<tr><td>Texas               </td><td> 3.2013603</td><td>16</td></tr>\n",
       "\t<tr><td>Utah                </td><td> 0.7959810</td><td>45</td></tr>\n",
       "\t<tr><td>Vermont             </td><td> 0.3196211</td><td>51</td></tr>\n",
       "\t<tr><td>Virginia            </td><td> 3.1246001</td><td>18</td></tr>\n",
       "\t<tr><td>Washington          </td><td> 1.3829942</td><td>37</td></tr>\n",
       "\t<tr><td>West Virginia       </td><td> 1.4571013</td><td>36</td></tr>\n",
       "\t<tr><td>Wisconsin           </td><td> 1.7056487</td><td>34</td></tr>\n",
       "\t<tr><td>Wyoming             </td><td> 0.8871131</td><td>43</td></tr>\n",
       "</tbody>\n",
       "</table>\n"
      ],
      "text/latex": [
       "A data.frame: 51 × 3\n",
       "\\begin{tabular}{lll}\n",
       " state & rate & rank\\\\\n",
       " <chr> & <dbl> & <dbl>\\\\\n",
       "\\hline\n",
       "\t Alabama              &  2.8244238 & 23\\\\\n",
       "\t Alaska               &  2.6751860 & 27\\\\\n",
       "\t Arizona              &  3.6295273 & 10\\\\\n",
       "\t Arkansas             &  3.1893901 & 17\\\\\n",
       "\t California           &  3.3741383 & 14\\\\\n",
       "\t Colorado             &  1.2924531 & 38\\\\\n",
       "\t Connecticut          &  2.7139722 & 25\\\\\n",
       "\t Delaware             &  4.2319369 &  6\\\\\n",
       "\t District of Columbia & 16.4527532 &  1\\\\\n",
       "\t Florida              &  3.3980688 & 13\\\\\n",
       "\t Georgia              &  3.7903226 &  9\\\\\n",
       "\t Hawaii               &  0.5145920 & 49\\\\\n",
       "\t Idaho                &  0.7655102 & 46\\\\\n",
       "\t Illinois             &  2.8369608 & 22\\\\\n",
       "\t Indiana              &  2.1900730 & 31\\\\\n",
       "\t Iowa                 &  0.6893484 & 47\\\\\n",
       "\t Kansas               &  2.2081106 & 30\\\\\n",
       "\t Kentucky             &  2.6732010 & 28\\\\\n",
       "\t Louisiana            &  7.7425810 &  2\\\\\n",
       "\t Maine                &  0.8280881 & 44\\\\\n",
       "\t Maryland             &  5.0748655 &  4\\\\\n",
       "\t Massachusetts        &  1.8021791 & 32\\\\\n",
       "\t Michigan             &  4.1786225 &  7\\\\\n",
       "\t Minnesota            &  0.9992600 & 40\\\\\n",
       "\t Mississippi          &  4.0440846 &  8\\\\\n",
       "\t Missouri             &  5.3598917 &  3\\\\\n",
       "\t Montana              &  1.2128379 & 39\\\\\n",
       "\t Nebraska             &  1.7521372 & 33\\\\\n",
       "\t Nevada               &  3.1104763 & 19\\\\\n",
       "\t New Hampshire        &  0.3798036 & 50\\\\\n",
       "\t New Jersey           &  2.7980319 & 24\\\\\n",
       "\t New Mexico           &  3.2537239 & 15\\\\\n",
       "\t New York             &  2.6679599 & 29\\\\\n",
       "\t North Carolina       &  2.9993237 & 20\\\\\n",
       "\t North Dakota         &  0.5947151 & 48\\\\\n",
       "\t Ohio                 &  2.6871225 & 26\\\\\n",
       "\t Oklahoma             &  2.9589340 & 21\\\\\n",
       "\t Oregon               &  0.9396843 & 42\\\\\n",
       "\t Pennsylvania         &  3.5977513 & 11\\\\\n",
       "\t Rhode Island         &  1.5200933 & 35\\\\\n",
       "\t South Carolina       &  4.4753235 &  5\\\\\n",
       "\t South Dakota         &  0.9825837 & 41\\\\\n",
       "\t Tennessee            &  3.4509357 & 12\\\\\n",
       "\t Texas                &  3.2013603 & 16\\\\\n",
       "\t Utah                 &  0.7959810 & 45\\\\\n",
       "\t Vermont              &  0.3196211 & 51\\\\\n",
       "\t Virginia             &  3.1246001 & 18\\\\\n",
       "\t Washington           &  1.3829942 & 37\\\\\n",
       "\t West Virginia        &  1.4571013 & 36\\\\\n",
       "\t Wisconsin            &  1.7056487 & 34\\\\\n",
       "\t Wyoming              &  0.8871131 & 43\\\\\n",
       "\\end{tabular}\n"
      ],
      "text/markdown": [
       "\n",
       "A data.frame: 51 × 3\n",
       "\n",
       "| state &lt;chr&gt; | rate &lt;dbl&gt; | rank &lt;dbl&gt; |\n",
       "|---|---|---|\n",
       "| Alabama              |  2.8244238 | 23 |\n",
       "| Alaska               |  2.6751860 | 27 |\n",
       "| Arizona              |  3.6295273 | 10 |\n",
       "| Arkansas             |  3.1893901 | 17 |\n",
       "| California           |  3.3741383 | 14 |\n",
       "| Colorado             |  1.2924531 | 38 |\n",
       "| Connecticut          |  2.7139722 | 25 |\n",
       "| Delaware             |  4.2319369 |  6 |\n",
       "| District of Columbia | 16.4527532 |  1 |\n",
       "| Florida              |  3.3980688 | 13 |\n",
       "| Georgia              |  3.7903226 |  9 |\n",
       "| Hawaii               |  0.5145920 | 49 |\n",
       "| Idaho                |  0.7655102 | 46 |\n",
       "| Illinois             |  2.8369608 | 22 |\n",
       "| Indiana              |  2.1900730 | 31 |\n",
       "| Iowa                 |  0.6893484 | 47 |\n",
       "| Kansas               |  2.2081106 | 30 |\n",
       "| Kentucky             |  2.6732010 | 28 |\n",
       "| Louisiana            |  7.7425810 |  2 |\n",
       "| Maine                |  0.8280881 | 44 |\n",
       "| Maryland             |  5.0748655 |  4 |\n",
       "| Massachusetts        |  1.8021791 | 32 |\n",
       "| Michigan             |  4.1786225 |  7 |\n",
       "| Minnesota            |  0.9992600 | 40 |\n",
       "| Mississippi          |  4.0440846 |  8 |\n",
       "| Missouri             |  5.3598917 |  3 |\n",
       "| Montana              |  1.2128379 | 39 |\n",
       "| Nebraska             |  1.7521372 | 33 |\n",
       "| Nevada               |  3.1104763 | 19 |\n",
       "| New Hampshire        |  0.3798036 | 50 |\n",
       "| New Jersey           |  2.7980319 | 24 |\n",
       "| New Mexico           |  3.2537239 | 15 |\n",
       "| New York             |  2.6679599 | 29 |\n",
       "| North Carolina       |  2.9993237 | 20 |\n",
       "| North Dakota         |  0.5947151 | 48 |\n",
       "| Ohio                 |  2.6871225 | 26 |\n",
       "| Oklahoma             |  2.9589340 | 21 |\n",
       "| Oregon               |  0.9396843 | 42 |\n",
       "| Pennsylvania         |  3.5977513 | 11 |\n",
       "| Rhode Island         |  1.5200933 | 35 |\n",
       "| South Carolina       |  4.4753235 |  5 |\n",
       "| South Dakota         |  0.9825837 | 41 |\n",
       "| Tennessee            |  3.4509357 | 12 |\n",
       "| Texas                |  3.2013603 | 16 |\n",
       "| Utah                 |  0.7959810 | 45 |\n",
       "| Vermont              |  0.3196211 | 51 |\n",
       "| Virginia             |  3.1246001 | 18 |\n",
       "| Washington           |  1.3829942 | 37 |\n",
       "| West Virginia        |  1.4571013 | 36 |\n",
       "| Wisconsin            |  1.7056487 | 34 |\n",
       "| Wyoming              |  0.8871131 | 43 |\n",
       "\n"
      ],
      "text/plain": [
       "   state                rate       rank\n",
       "1  Alabama               2.8244238 23  \n",
       "2  Alaska                2.6751860 27  \n",
       "3  Arizona               3.6295273 10  \n",
       "4  Arkansas              3.1893901 17  \n",
       "5  California            3.3741383 14  \n",
       "6  Colorado              1.2924531 38  \n",
       "7  Connecticut           2.7139722 25  \n",
       "8  Delaware              4.2319369  6  \n",
       "9  District of Columbia 16.4527532  1  \n",
       "10 Florida               3.3980688 13  \n",
       "11 Georgia               3.7903226  9  \n",
       "12 Hawaii                0.5145920 49  \n",
       "13 Idaho                 0.7655102 46  \n",
       "14 Illinois              2.8369608 22  \n",
       "15 Indiana               2.1900730 31  \n",
       "16 Iowa                  0.6893484 47  \n",
       "17 Kansas                2.2081106 30  \n",
       "18 Kentucky              2.6732010 28  \n",
       "19 Louisiana             7.7425810  2  \n",
       "20 Maine                 0.8280881 44  \n",
       "21 Maryland              5.0748655  4  \n",
       "22 Massachusetts         1.8021791 32  \n",
       "23 Michigan              4.1786225  7  \n",
       "24 Minnesota             0.9992600 40  \n",
       "25 Mississippi           4.0440846  8  \n",
       "26 Missouri              5.3598917  3  \n",
       "27 Montana               1.2128379 39  \n",
       "28 Nebraska              1.7521372 33  \n",
       "29 Nevada                3.1104763 19  \n",
       "30 New Hampshire         0.3798036 50  \n",
       "31 New Jersey            2.7980319 24  \n",
       "32 New Mexico            3.2537239 15  \n",
       "33 New York              2.6679599 29  \n",
       "34 North Carolina        2.9993237 20  \n",
       "35 North Dakota          0.5947151 48  \n",
       "36 Ohio                  2.6871225 26  \n",
       "37 Oklahoma              2.9589340 21  \n",
       "38 Oregon                0.9396843 42  \n",
       "39 Pennsylvania          3.5977513 11  \n",
       "40 Rhode Island          1.5200933 35  \n",
       "41 South Carolina        4.4753235  5  \n",
       "42 South Dakota          0.9825837 41  \n",
       "43 Tennessee             3.4509357 12  \n",
       "44 Texas                 3.2013603 16  \n",
       "45 Utah                  0.7959810 45  \n",
       "46 Vermont               0.3196211 51  \n",
       "47 Virginia              3.1246001 18  \n",
       "48 Washington            1.3829942 37  \n",
       "49 West Virginia         1.4571013 36  \n",
       "50 Wisconsin             1.7056487 34  \n",
       "51 Wyoming               0.8871131 43  "
      ]
     },
     "metadata": {},
     "output_type": "display_data"
    }
   ],
   "source": [
    "mutate(murders, rate = total /population * 100000, rank = rank(-rate)) %>% select(state, rate, rank)"
   ]
  },
  {
   "cell_type": "markdown",
   "metadata": {},
   "source": [
    "Notice that `select` no longer have a data frame as the first argument. The first argument is assumed to be the result of the operation conducted right before the `%>%`.\n",
    "\n",
    "Repeat the previous exercise, but now instead of creating a new object, show the result and only include the state, rate and rank columns.Use a pipe `%>%` to do this in just one line."
   ]
  },
  {
   "cell_type": "code",
   "execution_count": 36,
   "metadata": {},
   "outputs": [
    {
     "data": {
      "text/html": [
       "<table class=\"dataframe\">\n",
       "<caption>A data.frame: 22 × 3</caption>\n",
       "<thead>\n",
       "\t<tr><th scope=col>state</th><th scope=col>rate</th><th scope=col>rank</th></tr>\n",
       "\t<tr><th scope=col>&lt;chr&gt;</th><th scope=col>&lt;dbl&gt;</th><th scope=col>&lt;dbl&gt;</th></tr>\n",
       "</thead>\n",
       "<tbody>\n",
       "\t<tr><td>Alaska       </td><td>2.6751860</td><td>27</td></tr>\n",
       "\t<tr><td>Arizona      </td><td>3.6295273</td><td>10</td></tr>\n",
       "\t<tr><td>California   </td><td>3.3741383</td><td>14</td></tr>\n",
       "\t<tr><td>Colorado     </td><td>1.2924531</td><td>38</td></tr>\n",
       "\t<tr><td>Connecticut  </td><td>2.7139722</td><td>25</td></tr>\n",
       "\t<tr><td>Hawaii       </td><td>0.5145920</td><td>49</td></tr>\n",
       "\t<tr><td>Idaho        </td><td>0.7655102</td><td>46</td></tr>\n",
       "\t<tr><td>Maine        </td><td>0.8280881</td><td>44</td></tr>\n",
       "\t<tr><td>Massachusetts</td><td>1.8021791</td><td>32</td></tr>\n",
       "\t<tr><td>Montana      </td><td>1.2128379</td><td>39</td></tr>\n",
       "\t<tr><td>Nevada       </td><td>3.1104763</td><td>19</td></tr>\n",
       "\t<tr><td>New Hampshire</td><td>0.3798036</td><td>50</td></tr>\n",
       "\t<tr><td>New Jersey   </td><td>2.7980319</td><td>24</td></tr>\n",
       "\t<tr><td>New Mexico   </td><td>3.2537239</td><td>15</td></tr>\n",
       "\t<tr><td>New York     </td><td>2.6679599</td><td>29</td></tr>\n",
       "\t<tr><td>Oregon       </td><td>0.9396843</td><td>42</td></tr>\n",
       "\t<tr><td>Pennsylvania </td><td>3.5977513</td><td>11</td></tr>\n",
       "\t<tr><td>Rhode Island </td><td>1.5200933</td><td>35</td></tr>\n",
       "\t<tr><td>Utah         </td><td>0.7959810</td><td>45</td></tr>\n",
       "\t<tr><td>Vermont      </td><td>0.3196211</td><td>51</td></tr>\n",
       "\t<tr><td>Washington   </td><td>1.3829942</td><td>37</td></tr>\n",
       "\t<tr><td>Wyoming      </td><td>0.8871131</td><td>43</td></tr>\n",
       "</tbody>\n",
       "</table>\n"
      ],
      "text/latex": [
       "A data.frame: 22 × 3\n",
       "\\begin{tabular}{lll}\n",
       " state & rate & rank\\\\\n",
       " <chr> & <dbl> & <dbl>\\\\\n",
       "\\hline\n",
       "\t Alaska        & 2.6751860 & 27\\\\\n",
       "\t Arizona       & 3.6295273 & 10\\\\\n",
       "\t California    & 3.3741383 & 14\\\\\n",
       "\t Colorado      & 1.2924531 & 38\\\\\n",
       "\t Connecticut   & 2.7139722 & 25\\\\\n",
       "\t Hawaii        & 0.5145920 & 49\\\\\n",
       "\t Idaho         & 0.7655102 & 46\\\\\n",
       "\t Maine         & 0.8280881 & 44\\\\\n",
       "\t Massachusetts & 1.8021791 & 32\\\\\n",
       "\t Montana       & 1.2128379 & 39\\\\\n",
       "\t Nevada        & 3.1104763 & 19\\\\\n",
       "\t New Hampshire & 0.3798036 & 50\\\\\n",
       "\t New Jersey    & 2.7980319 & 24\\\\\n",
       "\t New Mexico    & 3.2537239 & 15\\\\\n",
       "\t New York      & 2.6679599 & 29\\\\\n",
       "\t Oregon        & 0.9396843 & 42\\\\\n",
       "\t Pennsylvania  & 3.5977513 & 11\\\\\n",
       "\t Rhode Island  & 1.5200933 & 35\\\\\n",
       "\t Utah          & 0.7959810 & 45\\\\\n",
       "\t Vermont       & 0.3196211 & 51\\\\\n",
       "\t Washington    & 1.3829942 & 37\\\\\n",
       "\t Wyoming       & 0.8871131 & 43\\\\\n",
       "\\end{tabular}\n"
      ],
      "text/markdown": [
       "\n",
       "A data.frame: 22 × 3\n",
       "\n",
       "| state &lt;chr&gt; | rate &lt;dbl&gt; | rank &lt;dbl&gt; |\n",
       "|---|---|---|\n",
       "| Alaska        | 2.6751860 | 27 |\n",
       "| Arizona       | 3.6295273 | 10 |\n",
       "| California    | 3.3741383 | 14 |\n",
       "| Colorado      | 1.2924531 | 38 |\n",
       "| Connecticut   | 2.7139722 | 25 |\n",
       "| Hawaii        | 0.5145920 | 49 |\n",
       "| Idaho         | 0.7655102 | 46 |\n",
       "| Maine         | 0.8280881 | 44 |\n",
       "| Massachusetts | 1.8021791 | 32 |\n",
       "| Montana       | 1.2128379 | 39 |\n",
       "| Nevada        | 3.1104763 | 19 |\n",
       "| New Hampshire | 0.3798036 | 50 |\n",
       "| New Jersey    | 2.7980319 | 24 |\n",
       "| New Mexico    | 3.2537239 | 15 |\n",
       "| New York      | 2.6679599 | 29 |\n",
       "| Oregon        | 0.9396843 | 42 |\n",
       "| Pennsylvania  | 3.5977513 | 11 |\n",
       "| Rhode Island  | 1.5200933 | 35 |\n",
       "| Utah          | 0.7959810 | 45 |\n",
       "| Vermont       | 0.3196211 | 51 |\n",
       "| Washington    | 1.3829942 | 37 |\n",
       "| Wyoming       | 0.8871131 | 43 |\n",
       "\n"
      ],
      "text/plain": [
       "   state         rate      rank\n",
       "1  Alaska        2.6751860 27  \n",
       "2  Arizona       3.6295273 10  \n",
       "3  California    3.3741383 14  \n",
       "4  Colorado      1.2924531 38  \n",
       "5  Connecticut   2.7139722 25  \n",
       "6  Hawaii        0.5145920 49  \n",
       "7  Idaho         0.7655102 46  \n",
       "8  Maine         0.8280881 44  \n",
       "9  Massachusetts 1.8021791 32  \n",
       "10 Montana       1.2128379 39  \n",
       "11 Nevada        3.1104763 19  \n",
       "12 New Hampshire 0.3798036 50  \n",
       "13 New Jersey    2.7980319 24  \n",
       "14 New Mexico    3.2537239 15  \n",
       "15 New York      2.6679599 29  \n",
       "16 Oregon        0.9396843 42  \n",
       "17 Pennsylvania  3.5977513 11  \n",
       "18 Rhode Island  1.5200933 35  \n",
       "19 Utah          0.7959810 45  \n",
       "20 Vermont       0.3196211 51  \n",
       "21 Washington    1.3829942 37  \n",
       "22 Wyoming       0.8871131 43  "
      ]
     },
     "metadata": {},
     "output_type": "display_data"
    }
   ],
   "source": [
    "data(murders)\n",
    "mutate(murders, rate = total / population *100000, rank = rank(-rate)) %>% filter(region %in% c(\"Northeast\", \"West\")) %>% select(state, rate, rank)"
   ]
  },
  {
   "cell_type": "markdown",
   "metadata": {},
   "source": [
    "2. Reset `murders` to the original table by using `data(murders)`. Use a pipe to create a new data frame called `my_states` that considers only states in the Northeast or West which have a murder rate lower than 1, and contains only the state, rate and rank columns. The pipe should also have four components separated by three %>%. The code should look something like this:"
   ]
  },
  {
   "cell_type": "code",
   "execution_count": null,
   "metadata": {},
   "outputs": [],
   "source": [
    "#my_states <- murders %>%\n",
    "#  mutate SOMETHING %>% \n",
    "#  filter SOMETHING %>% \n",
    "#  select SOMETHING"
   ]
  },
  {
   "cell_type": "code",
   "execution_count": 38,
   "metadata": {},
   "outputs": [],
   "source": [
    "data(murders)\n",
    "my_states <- murders %>%\n",
    "mutate(rate = total / population * 100000, rank = rank(-rate)) %>%\n",
    "filter(region %in% c(\"Northeast\", \"West\") & rate < 1) %>%\n",
    "select(state, rate, rank)\n",
    "my_states"
   ]
  }
 ],
 "metadata": {
  "kernelspec": {
   "display_name": "R",
   "language": "R",
   "name": "ir"
  },
  "language_info": {
   "codemirror_mode": "r",
   "file_extension": ".r",
   "mimetype": "text/x-r-source",
   "name": "R",
   "pygments_lexer": "r",
   "version": "4.0.2"
  }
 },
 "nbformat": 4,
 "nbformat_minor": 4
}
